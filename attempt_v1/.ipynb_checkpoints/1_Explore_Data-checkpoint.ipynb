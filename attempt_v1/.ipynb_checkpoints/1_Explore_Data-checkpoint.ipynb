{
 "cells": [
  {
   "cell_type": "code",
   "execution_count": 1,
   "metadata": {},
   "outputs": [
    {
     "name": "stderr",
     "output_type": "stream",
     "text": [
      "/home/hannahcraddock/anaconda3/envs/hannah_env/lib/python3.9/site-packages/nilearn/datasets/__init__.py:87: FutureWarning: Fetchers from the nilearn.datasets module will be updated in version 0.9 to return python strings instead of bytes and Pandas dataframes instead of Numpy arrays.\n",
      "  warn(\"Fetchers from the nilearn.datasets module will be \"\n"
     ]
    }
   ],
   "source": [
    "import numpy as np\n",
    "import pickle\n",
    "import pandas as pd\n",
    "import glob\n",
    "import os\n",
    "from nilearn.connectome import ConnectivityMeasure\n",
    "import matplotlib.pyplot as plt \n",
    "from nilearn import plotting\n",
    "\n",
    "import seaborn as sns"
   ]
  },
  {
   "cell_type": "code",
   "execution_count": 2,
   "metadata": {},
   "outputs": [],
   "source": [
    "def get_rsfmri_adj_matrix(root_pth):\n",
    "    '''Get resting state & return adjacency matrix '''\n",
    "    \n",
    "    #Connectivity\n",
    "    correlation_measure = ConnectivityMeasure(kind='correlation')\n",
    "    #Resting state fmri \n",
    "    rest_task = 'Rest'\n",
    "    corr_rs_fmri = []\n",
    "\n",
    "    #Resting state files \n",
    "    for f in glob.glob(os.path.join(root_pth, rest_task)+'/*.txt'):\n",
    "        subj = f.split('/')[-1].split('_')[0]\n",
    "        filename = os.path.join(root_pth, rest_task) +'/'+ subj +'_schaefer_400ROI_'+ rest_task.lower() +'.txt'\n",
    "        #print(filename)\n",
    "        ts_df = np.loadtxt(filename)\n",
    "        correlation_matrix = correlation_measure.fit_transform([ts_df])[0]\n",
    "        corr_rs_fmri.append(correlation_matrix)\n",
    "\n",
    "    adj_matrix = np.array(corr_rs_fmri).mean(axis=0) #Is it the first access - yes if size 644 x... \n",
    "\n",
    "    return adj_matrix"
   ]
  },
  {
   "cell_type": "code",
   "execution_count": 3,
   "metadata": {},
   "outputs": [],
   "source": [
    "def plot_corr_matrix(correlation_matrix):\n",
    "\n",
    "    fig, ax = plt.subplots()\n",
    "    #ax.plot([1,2,3,4,5])\n",
    "    #plt.figure(1)\n",
    "    x = np.linspace(0, 20, 100)\n",
    "    ax.plot(x, np.sin(x))\n",
    "    plt.show(block=False)\n",
    "\n",
    "    #hmap = sns.heatmap(correlation_matrix)"
   ]
  },
  {
   "cell_type": "code",
   "execution_count": 3,
   "metadata": {},
   "outputs": [],
   "source": [
    "def get_fmri_data(root_pth, task_type):\n",
    "    '''Get fmri data for a given task ''' \n",
    "    fmri_total = []\n",
    "    subj_list = []\n",
    "    for f in glob.glob(os.path.join(root_pth, task_type)+'/*.txt'):\n",
    "        subj = f.split('/')[-1].split('_')[0]\n",
    "        subj_list.append(subj)\n",
    "        filename = os.path.join(root_pth, task_type)+'/'+ subj +'_schaefer_400ROI_'+ task_type.lower()+'.txt'\n",
    "        #print(filename)\n",
    "        ts_df = np.loadtxt(filename)\n",
    "        fmri_total.append(ts_df)\n",
    "    \n",
    "    return fmri_total, subj_list"
   ]
  },
  {
   "cell_type": "markdown",
   "metadata": {},
   "source": [
    "#### Apply Function"
   ]
  },
  {
   "cell_type": "code",
   "execution_count": null,
   "metadata": {},
   "outputs": [
    {
     "ename": "Error",
     "evalue": "Pip module Unable to parse debugpy output, please log an issue with https://github.com/microsoft/vscode-jupyter is required for debugging cells. You will need to install it to debug cells.",
     "output_type": "error",
     "traceback": [
      "Error: Pip module Unable to parse debugpy output, please log an issue with https://github.com/microsoft/vscode-jupyter is required for debugging cells. You will need to install it to debug cells.",
      "at b.parseConnectInfo (/home/hannahcraddock/.vscode-server/extensions/ms-toolsai.jupyter-2020.12.414227025/out/client/extension.js:49:486311)",
      "at b.connectToLocal (/home/hannahcraddock/.vscode-server/extensions/ms-toolsai.jupyter-2020.12.414227025/out/client/extension.js:49:486838)",
      "at processTicksAndRejections (internal/process/task_queues.js:97:5)",
      "at async b.connect (/home/hannahcraddock/.vscode-server/extensions/ms-toolsai.jupyter-2020.12.414227025/out/client/extension.js:49:484715)",
      "at async b.startDebugSession (/home/hannahcraddock/.vscode-server/extensions/ms-toolsai.jupyter-2020.12.414227025/out/client/extension.js:49:483862)",
      "at async f.submitCode (/home/hannahcraddock/.vscode-server/extensions/ms-toolsai.jupyter-2020.12.414227025/out/client/extension.js:32:585464)",
      "at async f.handleRunByLine (/home/hannahcraddock/.vscode-server/extensions/ms-toolsai.jupyter-2020.12.414227025/out/client/extension.js:9:173871)"
     ]
    }
   ],
   "source": [
    "root_pth = '/camcan/schaefer_parc/'\n",
    "#Adjacency matrix \n",
    "adj_mat = get_rsfmri_adj_matrix(root_pth)"
   ]
  },
  {
   "cell_type": "markdown",
   "metadata": {},
   "source": [
    "#### fmri"
   ]
  },
  {
   "cell_type": "code",
   "execution_count": null,
   "metadata": {},
   "outputs": [],
   "source": [
    "root_pth = '/camcan/schaefer_parc/'\n",
    "fmri_movie, subj_list = get_fmri_data(root_pth, 'Movie')\n",
    "print(np.array(fmri_movie).shape) #(193, 400)"
   ]
  },
  {
   "cell_type": "code",
   "execution_count": null,
   "metadata": {},
   "outputs": [],
   "source": [
    "plot_corr_matrix(adj_mat)"
   ]
  }
 ],
 "metadata": {
  "kernelspec": {
   "display_name": "Python 3.9.1 64-bit ('hannah_env': conda)",
   "language": "python",
   "name": "python39164bithannahenvcondafb8771df3fc54791aabfa896654bae62"
  },
  "language_info": {
   "codemirror_mode": {
    "name": "ipython",
    "version": 3
   },
   "file_extension": ".py",
   "mimetype": "text/x-python",
   "name": "python",
   "nbconvert_exporter": "python",
   "pygments_lexer": "ipython3",
   "version": "3.9.1"
  }
 },
 "nbformat": 4,
 "nbformat_minor": 2
}
