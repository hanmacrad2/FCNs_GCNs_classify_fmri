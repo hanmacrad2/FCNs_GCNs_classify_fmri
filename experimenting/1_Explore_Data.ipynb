{
 "cells": [
  {
   "cell_type": "code",
   "execution_count": 66,
   "metadata": {},
   "outputs": [
    {
     "output_type": "stream",
     "name": "stderr",
     "text": [
      "/home/hannahcraddock/anaconda3/envs/hannah_env/lib/python3.9/site-packages/nilearn/datasets/__init__.py:87: FutureWarning: Fetchers from the nilearn.datasets module will be updated in version 0.9 to return python strings instead of bytes and Pandas dataframes instead of Numpy arrays.\n  warn(\"Fetchers from the nilearn.datasets module will be \"\n"
     ]
    }
   ],
   "source": [
    "import numpy as np\n",
    "import pickle\n",
    "import pandas as pd\n",
    "import glob\n",
    "import os\n",
    "from nilearn.connectome import ConnectivityMeasure\n",
    "import matplotlib.pyplot as plt \n",
    "from nilearn import plotting\n",
    "\n",
    "import seaborn as sns"
   ]
  },
  {
   "cell_type": "code",
   "execution_count": 64,
   "metadata": {},
   "outputs": [],
   "source": [
    "import pandas as pd"
   ]
  },
  {
   "cell_type": "code",
   "execution_count": 2,
   "metadata": {},
   "outputs": [],
   "source": [
    "def get_rsfmri_adj_matrix(root_pth):\n",
    "    '''Get resting state & return adjacency matrix '''\n",
    "    \n",
    "    #Connectivity\n",
    "    correlation_measure = ConnectivityMeasure(kind='correlation')\n",
    "    #Resting state fmri \n",
    "    rest_task = 'Rest'\n",
    "    corr_rs_fmri = []\n",
    "\n",
    "    #Resting state files \n",
    "    for f in glob.glob(os.path.join(root_pth, rest_task)+'/*.txt'):\n",
    "        subj = f.split('/')[-1].split('_')[0]\n",
    "        filename = os.path.join(root_pth, rest_task) +'/'+ subj +'_schaefer_400ROI_'+ rest_task.lower() +'.txt'\n",
    "        #print(filename)\n",
    "        ts_df = np.loadtxt(filename)\n",
    "        correlation_matrix = correlation_measure.fit_transform([ts_df])[0]\n",
    "        corr_rs_fmri.append(correlation_matrix)\n",
    "\n",
    "    adj_matrix = np.array(corr_rs_fmri).mean(axis=0) #Is it the first access - yes if size 644 x... \n",
    "\n",
    "    return adj_matrix"
   ]
  },
  {
   "cell_type": "code",
   "execution_count": 3,
   "metadata": {},
   "outputs": [],
   "source": [
    "def plot_corr_matrix(correlation_matrix):\n",
    "\n",
    "    fig, ax = plt.subplots()\n",
    "    #ax.plot([1,2,3,4,5])\n",
    "    #plt.figure(1)\n",
    "    x = np.linspace(0, 20, 100)\n",
    "    ax.plot(x, np.sin(x))\n",
    "    plt.show(block=False)\n",
    "\n",
    "    #hmap = sns.heatmap(correlation_matrix)"
   ]
  },
  {
   "cell_type": "code",
   "execution_count": 3,
   "metadata": {},
   "outputs": [],
   "source": [
    "def get_fmri_data(root_pth, task_type):\n",
    "    '''Get fmri data for a given task ''' \n",
    "    fmri_total = []\n",
    "    subj_list = []\n",
    "    for f in glob.glob(os.path.join(root_pth, task_type)+'/*.txt'):\n",
    "        subj = f.split('/')[-1].split('_')[0]\n",
    "        subj_list.append(subj)\n",
    "        filename = os.path.join(root_pth, task_type)+'/'+ subj +'_schaefer_400ROI_'+ task_type.lower()+'.txt'\n",
    "        #print(filename)\n",
    "        ts_df = np.loadtxt(filename)\n",
    "        fmri_total.append(ts_df)\n",
    "    \n",
    "    return fmri_total, subj_list"
   ]
  },
  {
   "cell_type": "markdown",
   "metadata": {},
   "source": [
    "#### Apply Function"
   ]
  },
  {
   "cell_type": "code",
   "execution_count": null,
   "metadata": {},
   "outputs": [
    {
     "ename": "Error",
     "evalue": "Pip module Unable to parse debugpy output, please log an issue with https://github.com/microsoft/vscode-jupyter is required for debugging cells. You will need to install it to debug cells.",
     "output_type": "error",
     "traceback": [
      "Error: Pip module Unable to parse debugpy output, please log an issue with https://github.com/microsoft/vscode-jupyter is required for debugging cells. You will need to install it to debug cells.",
      "at b.parseConnectInfo (/home/hannahcraddock/.vscode-server/extensions/ms-toolsai.jupyter-2020.12.414227025/out/client/extension.js:49:486311)",
      "at b.connectToLocal (/home/hannahcraddock/.vscode-server/extensions/ms-toolsai.jupyter-2020.12.414227025/out/client/extension.js:49:486838)",
      "at processTicksAndRejections (internal/process/task_queues.js:97:5)",
      "at async b.connect (/home/hannahcraddock/.vscode-server/extensions/ms-toolsai.jupyter-2020.12.414227025/out/client/extension.js:49:484715)",
      "at async b.startDebugSession (/home/hannahcraddock/.vscode-server/extensions/ms-toolsai.jupyter-2020.12.414227025/out/client/extension.js:49:483862)",
      "at async f.submitCode (/home/hannahcraddock/.vscode-server/extensions/ms-toolsai.jupyter-2020.12.414227025/out/client/extension.js:32:585464)",
      "at async f.handleRunByLine (/home/hannahcraddock/.vscode-server/extensions/ms-toolsai.jupyter-2020.12.414227025/out/client/extension.js:9:173871)"
     ]
    }
   ],
   "source": [
    "root_pth = '/camcan/schaefer_parc/'\n",
    "#Adjacency matrix \n",
    "adj_mat = get_rsfmri_adj_matrix(root_pth)"
   ]
  },
  {
   "cell_type": "markdown",
   "metadata": {},
   "source": [
    "#### fmri"
   ]
  },
  {
   "cell_type": "code",
   "execution_count": 5,
   "metadata": {},
   "outputs": [
    {
     "name": "stdout",
     "output_type": "stream",
     "text": [
      "(644, 193, 400)\n"
     ]
    }
   ],
   "source": [
    "root_pth = '/camcan/schaefer_parc/'\n",
    "fmri_movie, subj_list = get_fmri_data(root_pth, 'Movie')\n",
    "print(np.array(fmri_movie).shape) #(193, 400)"
   ]
  },
  {
   "cell_type": "code",
   "execution_count": 8,
   "metadata": {},
   "outputs": [
    {
     "data": {
      "text/plain": [
       "1136.735294"
      ]
     },
     "execution_count": 8,
     "metadata": {},
     "output_type": "execute_result"
    }
   ],
   "source": [
    "np.max(fmri_movie)"
   ]
  },
  {
   "cell_type": "code",
   "execution_count": 9,
   "metadata": {},
   "outputs": [
    {
     "data": {
      "text/plain": [
       "35.677419"
      ]
     },
     "execution_count": 9,
     "metadata": {},
     "output_type": "execute_result"
    }
   ],
   "source": [
    "np.min(fmri_movie)"
   ]
  },
  {
   "cell_type": "code",
   "execution_count": 10,
   "metadata": {},
   "outputs": [],
   "source": [
    "#Dictionary\n",
    "\n",
    "dictX = {'vis': {0: [1,11,1300], 1: [3,9,1400], 2: [2,12,1345]},\n",
    "          'dorsal': {0: [172,9,1], 1: [120,14,1], 2: [100,12,1]}}"
   ]
  },
  {
   "cell_type": "code",
   "execution_count": 88,
   "metadata": {},
   "outputs": [
    {
     "output_type": "execute_result",
     "data": {
      "text/plain": [
       "{'vis': {0: [1, 11, 1300], 1: [3, 9, 1400], 2: [2, 12, 1345]},\n",
       " 'dorsal': {0: [172, 9, 1], 1: [120, 14, 1], 2: [100, 12, 1]}}"
      ]
     },
     "metadata": {},
     "execution_count": 88
    }
   ],
   "source": [
    "dictX"
   ]
  },
  {
   "cell_type": "code",
   "execution_count": 89,
   "metadata": {},
   "outputs": [
    {
     "output_type": "execute_result",
     "data": {
      "text/plain": [
       "[{0: [1, 11, 1300], 1: [3, 9, 1400], 2: [2, 12, 1345]},\n",
       " {0: [172, 9, 1], 1: [120, 14, 1], 2: [100, 12, 1]}]"
      ]
     },
     "metadata": {},
     "execution_count": 89
    }
   ],
   "source": [
    "liX = list(iter(dictX.values()))\n",
    "liX"
   ]
  },
  {
   "source": [
    "dictX.keys()"
   ],
   "cell_type": "markdown",
   "metadata": {}
  },
  {
   "cell_type": "code",
   "execution_count": null,
   "metadata": {},
   "outputs": [],
   "source": [
    "def get_stats_dict ():\n",
    "\n",
    "    dict_results = {}\n",
    "    d_temp = {}\n",
    "    df_results = pd.DataFrame()\n",
    "    list_net = []; list_buckets = []; list_mean = []; list_std = []\n",
    "    for net in dictX.keys():\n",
    "        print(net)\n",
    "        l = list(iter(dictX[net].values()))\n",
    "        dict_results[net] = 0\n",
    "        for i in range(len(l[0])):\n",
    "            print(i)\n",
    "            list_net.append(net)\n",
    "            list_buckets.append(i)\n",
    "            row_list = [row[i] for row in l] #get values column-wise\n",
    "            print(row_list)\n",
    "            list_mean.append(np.mean(np.array(row_list)))\n",
    "            list_std.append(np.std(np.array(row_list)))\n",
    "    #Dataframe\n",
    "    df_results['network'] = list_net\n",
    "    df_results['time_bucket'] = list_buckets\n",
    "    df_results['mean_pcent_fcn'] = list_mean\n",
    "    df_results['std_pcent_fcn'] = list_std"
   ]
  },
  {
   "cell_type": "code",
   "execution_count": 69,
   "metadata": {},
   "outputs": [
    {
     "output_type": "stream",
     "name": "stdout",
     "text": [
      "vis\n0\n[1, 3, 2]\n1\n[11, 9, 12]\n2\n[1300, 1400, 1345]\ndorsal\n0\n[172, 120, 100]\n1\n[9, 14, 12]\n2\n[1, 1, 1]\n"
     ]
    }
   ],
   "source": [
    "dict_results = {}\n",
    "d_temp = {}\n",
    "df_results = pd.DataFrame()\n",
    "list_net = []; list_buckets = []; list_mean = []; list_std = []\n",
    "for net in dictX.keys():\n",
    "    print(net)\n",
    "    l = list(iter(dictX[net].values()))\n",
    "    dict_results[net] = 0\n",
    "    for i in range(len(l[0])):\n",
    "        print(i)\n",
    "        list_net.append(net)\n",
    "        list_buckets.append(i)\n",
    "        row_list = [row[i] for row in l] #get values column-wise\n",
    "        print(row_list)\n",
    "        list_mean.append(np.mean(np.array(row_list)))\n",
    "        list_std.append(np.std(np.array(row_list)))\n",
    "#Dataframe\n",
    "df_results['network'] = list_net\n",
    "df_results['time_bucket'] = list_buckets\n",
    "df_results['mean_pcent_fcn'] = list_mean\n",
    "df_results['std_pcent_fcn'] = list_std"
   ]
  },
  {
   "cell_type": "code",
   "execution_count": 68,
   "metadata": {},
   "outputs": [
    {
     "output_type": "execute_result",
     "data": {
      "text/plain": [
       "  network  time_bucket  mean_pcent_fcn  std_pcent_fcn\n",
       "0     vis            0        2.000000       0.816497\n",
       "1     vis            1       10.666667       1.247219\n",
       "2     vis            2     1348.333333      40.892814\n",
       "3  dorsal            0      130.666667      30.346151\n",
       "4  dorsal            1       11.666667       2.054805\n",
       "5  dorsal            2        1.000000       0.000000"
      ],
      "text/html": "<div>\n<style scoped>\n    .dataframe tbody tr th:only-of-type {\n        vertical-align: middle;\n    }\n\n    .dataframe tbody tr th {\n        vertical-align: top;\n    }\n\n    .dataframe thead th {\n        text-align: right;\n    }\n</style>\n<table border=\"1\" class=\"dataframe\">\n  <thead>\n    <tr style=\"text-align: right;\">\n      <th></th>\n      <th>network</th>\n      <th>time_bucket</th>\n      <th>mean_pcent_fcn</th>\n      <th>std_pcent_fcn</th>\n    </tr>\n  </thead>\n  <tbody>\n    <tr>\n      <th>0</th>\n      <td>vis</td>\n      <td>0</td>\n      <td>2.000000</td>\n      <td>0.816497</td>\n    </tr>\n    <tr>\n      <th>1</th>\n      <td>vis</td>\n      <td>1</td>\n      <td>10.666667</td>\n      <td>1.247219</td>\n    </tr>\n    <tr>\n      <th>2</th>\n      <td>vis</td>\n      <td>2</td>\n      <td>1348.333333</td>\n      <td>40.892814</td>\n    </tr>\n    <tr>\n      <th>3</th>\n      <td>dorsal</td>\n      <td>0</td>\n      <td>130.666667</td>\n      <td>30.346151</td>\n    </tr>\n    <tr>\n      <th>4</th>\n      <td>dorsal</td>\n      <td>1</td>\n      <td>11.666667</td>\n      <td>2.054805</td>\n    </tr>\n    <tr>\n      <th>5</th>\n      <td>dorsal</td>\n      <td>2</td>\n      <td>1.000000</td>\n      <td>0.000000</td>\n    </tr>\n  </tbody>\n</table>\n</div>"
     },
     "metadata": {},
     "execution_count": 68
    }
   ],
   "source": [
    "df_results"
   ]
  },
  {
   "cell_type": "code",
   "execution_count": null,
   "metadata": {},
   "outputs": [],
   "source": [
    "#### Check results"
   ]
  },
  {
   "cell_type": "code",
   "execution_count": 84,
   "metadata": {},
   "outputs": [],
   "source": [
    "def get_network_pcent(dict_netw_results, n_repeat):\n",
    "    list_net = ['vis', 'dor', 'motor']\n",
    "    for networkX in list_net:\n",
    "        print(f'Network = {networkX}')\n",
    "        \n",
    "        #Append percentage correct for each network\n",
    "        dict_netw_results[networkX] = {n_repeat: 100*np.array([1,2,3,4])}\n",
    "\n",
    "        return dict_netw_results"
   ]
  },
  {
   "cell_type": "code",
   "execution_count": 86,
   "metadata": {},
   "outputs": [
    {
     "output_type": "stream",
     "name": "stdout",
     "text": [
      "2\nNetwork = vis\n3\nNetwork = vis\n4\nNetwork = vis\n5\nNetwork = vis\n6\nNetwork = vis\n7\nNetwork = vis\n8\nNetwork = vis\n9\nNetwork = vis\n"
     ]
    }
   ],
   "source": [
    "dict_netw_results = {}\n",
    "list_net = []; list_buckets = []; list_mean = [];\n",
    "for i in np.arange(2, 10):\n",
    "    #list_net.append()\n",
    "    list_buckets.append(i)\n",
    "    print(i)\n",
    "    dict_netw_results = get_network_pcent(dict_netw_results, i)"
   ]
  },
  {
   "cell_type": "code",
   "execution_count": null,
   "metadata": {},
   "outputs": [],
   "source": [
    "dict_netw_results = {}\n",
    "list_net = []; list_buckets = []; list_mean = [];\n",
    "list_net = ['vis', 'dor', 'motor']\n",
    "dict_netw_results = {key: {} for key in list_net}\n",
    "\n",
    "#dict_netw_results.keys = list_net\n",
    "#dict_netw_results.fromkeys(list_net, None)\n",
    "print(dict_netw_results)\n",
    "for i in np.arange(1, 10):\n",
    "    #list_net.append()\n",
    "    list_buckets.append(i)\n",
    "    print(i)\n",
    "    #dict_netw_results = get_network_pcent(dict_netw_results, i)\n",
    "    for networkX in list_net:\n",
    "        print(f'Network = {networkX}')\n",
    "        \n",
    "        #Append percentage correct for each network\n",
    "        dict_netw_results[networkX][i] = 100*np.array([1,2,3,4])\n"
   ]
  },
  {
   "cell_type": "code",
   "execution_count": null,
   "metadata": {},
   "outputs": [],
   "source": [
    "dict_netw_results = {key: {} for key in self.list_networks}\n",
    "\n",
    "#Repeat to get std\n",
    "for i in np.arange(1, self.n_model_repeats):\n",
    "    print('Iteration num: {}'.format(i))\n",
    "    #Repeat for each network\n",
    "    for networkX in self.list_networks:\n",
    "        print(f'Network = {networkX}')\n",
    "        fmri_networkX, n_regions = self.get_network_fmri(networkX)  # fmri or self.fmri??\n",
    "        best_acc, best_prop = self.run_model(\n",
    "            fmri_networkX, n_regions)\n",
    "        dict_netw_results[networkX][i] = 100*(best_prop/self.num_test_sub)\n",
    "    \n",
    "    df_stats_results = get_stats_network_results(dict_netw_results)"
   ]
  },
  {
   "cell_type": "code",
   "execution_count": 96,
   "metadata": {},
   "outputs": [
    {
     "output_type": "execute_result",
     "data": {
      "text/plain": [
       "{'vis': {2: array([100, 200, 300, 400]),\n",
       "  3: array([100, 200, 300, 400]),\n",
       "  4: array([100, 200, 300, 400]),\n",
       "  5: array([100, 200, 300, 400]),\n",
       "  6: array([100, 200, 300, 400]),\n",
       "  7: array([100, 200, 300, 400]),\n",
       "  8: array([100, 200, 300, 400]),\n",
       "  9: array([100, 200, 300, 400])},\n",
       " 'dor': {2: array([100, 200, 300, 400]),\n",
       "  3: array([100, 200, 300, 400]),\n",
       "  4: array([100, 200, 300, 400]),\n",
       "  5: array([100, 200, 300, 400]),\n",
       "  6: array([100, 200, 300, 400]),\n",
       "  7: array([100, 200, 300, 400]),\n",
       "  8: array([100, 200, 300, 400]),\n",
       "  9: array([100, 200, 300, 400])},\n",
       " 'motor': {2: array([100, 200, 300, 400]),\n",
       "  3: array([100, 200, 300, 400]),\n",
       "  4: array([100, 200, 300, 400]),\n",
       "  5: array([100, 200, 300, 400]),\n",
       "  6: array([100, 200, 300, 400]),\n",
       "  7: array([100, 200, 300, 400]),\n",
       "  8: array([100, 200, 300, 400]),\n",
       "  9: array([100, 200, 300, 400])}}"
      ]
     },
     "metadata": {},
     "execution_count": 96
    }
   ],
   "source": [
    "dict_netw_results"
   ]
  },
  {
   "cell_type": "code",
   "execution_count": 102,
   "metadata": {},
   "outputs": [],
   "source": [
    "\n",
    "def get_stats_network_results(dict_netw_results):\n",
    "    df_results = pd.DataFrame()\n",
    "    list_net = []; list_buckets = []; list_mean = []; list_std = []\n",
    "    for net in dict_netw_results.keys():\n",
    "        #print(net)\n",
    "        l = list(iter(dict_netw_results[net].values()))\n",
    "        for i in range(len(l[0])):\n",
    "            #print(i)\n",
    "            list_net.append(net)\n",
    "            list_buckets.append(i)\n",
    "            row_list = [row[i] for row in l] #get values column-wise\n",
    "            #print(row_list)\n",
    "            list_mean.append(np.mean(np.array(row_list)))\n",
    "            list_std.append(np.std(np.array(row_list)))\n",
    "    #Dataframe\n",
    "    df_results['network'] = list_net\n",
    "    df_results['time_bucket'] = list_buckets\n",
    "    df_results['mean_pcent_fcn'] = list_mean\n",
    "    df_results['std_pcent_fcn'] = list_std\n",
    "\n",
    "    return df_results"
   ]
  },
  {
   "cell_type": "code",
   "execution_count": 103,
   "metadata": {},
   "outputs": [
    {
     "output_type": "execute_result",
     "data": {
      "text/plain": [
       "   network  time_bucket  mean_pcent_fcn  std_pcent_fcn\n",
       "0      vis            0           100.0            0.0\n",
       "1      vis            1           200.0            0.0\n",
       "2      vis            2           300.0            0.0\n",
       "3      vis            3           400.0            0.0\n",
       "4      dor            0           100.0            0.0\n",
       "5      dor            1           200.0            0.0\n",
       "6      dor            2           300.0            0.0\n",
       "7      dor            3           400.0            0.0\n",
       "8    motor            0           100.0            0.0\n",
       "9    motor            1           200.0            0.0\n",
       "10   motor            2           300.0            0.0\n",
       "11   motor            3           400.0            0.0"
      ],
      "text/html": "<div>\n<style scoped>\n    .dataframe tbody tr th:only-of-type {\n        vertical-align: middle;\n    }\n\n    .dataframe tbody tr th {\n        vertical-align: top;\n    }\n\n    .dataframe thead th {\n        text-align: right;\n    }\n</style>\n<table border=\"1\" class=\"dataframe\">\n  <thead>\n    <tr style=\"text-align: right;\">\n      <th></th>\n      <th>network</th>\n      <th>time_bucket</th>\n      <th>mean_pcent_fcn</th>\n      <th>std_pcent_fcn</th>\n    </tr>\n  </thead>\n  <tbody>\n    <tr>\n      <th>0</th>\n      <td>vis</td>\n      <td>0</td>\n      <td>100.0</td>\n      <td>0.0</td>\n    </tr>\n    <tr>\n      <th>1</th>\n      <td>vis</td>\n      <td>1</td>\n      <td>200.0</td>\n      <td>0.0</td>\n    </tr>\n    <tr>\n      <th>2</th>\n      <td>vis</td>\n      <td>2</td>\n      <td>300.0</td>\n      <td>0.0</td>\n    </tr>\n    <tr>\n      <th>3</th>\n      <td>vis</td>\n      <td>3</td>\n      <td>400.0</td>\n      <td>0.0</td>\n    </tr>\n    <tr>\n      <th>4</th>\n      <td>dor</td>\n      <td>0</td>\n      <td>100.0</td>\n      <td>0.0</td>\n    </tr>\n    <tr>\n      <th>5</th>\n      <td>dor</td>\n      <td>1</td>\n      <td>200.0</td>\n      <td>0.0</td>\n    </tr>\n    <tr>\n      <th>6</th>\n      <td>dor</td>\n      <td>2</td>\n      <td>300.0</td>\n      <td>0.0</td>\n    </tr>\n    <tr>\n      <th>7</th>\n      <td>dor</td>\n      <td>3</td>\n      <td>400.0</td>\n      <td>0.0</td>\n    </tr>\n    <tr>\n      <th>8</th>\n      <td>motor</td>\n      <td>0</td>\n      <td>100.0</td>\n      <td>0.0</td>\n    </tr>\n    <tr>\n      <th>9</th>\n      <td>motor</td>\n      <td>1</td>\n      <td>200.0</td>\n      <td>0.0</td>\n    </tr>\n    <tr>\n      <th>10</th>\n      <td>motor</td>\n      <td>2</td>\n      <td>300.0</td>\n      <td>0.0</td>\n    </tr>\n    <tr>\n      <th>11</th>\n      <td>motor</td>\n      <td>3</td>\n      <td>400.0</td>\n      <td>0.0</td>\n    </tr>\n  </tbody>\n</table>\n</div>"
     },
     "metadata": {},
     "execution_count": 103
    }
   ],
   "source": [
    "df_results = get_stats_network_results(dict_netw_results)\n",
    "df_results"
   ]
  },
  {
   "cell_type": "code",
   "execution_count": 99,
   "metadata": {},
   "outputs": [
    {
     "output_type": "execute_result",
     "data": {
      "text/plain": [
       "   network  time_bucket  mean_pcent_fcn  std_pcent_fcn\n",
       "0      vis            0           100.0            0.0\n",
       "1      vis            1           200.0            0.0\n",
       "2      vis            2           300.0            0.0\n",
       "3      vis            3           400.0            0.0\n",
       "4      dor            0           100.0            0.0\n",
       "5      dor            1           200.0            0.0\n",
       "6      dor            2           300.0            0.0\n",
       "7      dor            3           400.0            0.0\n",
       "8    motor            0           100.0            0.0\n",
       "9    motor            1           200.0            0.0\n",
       "10   motor            2           300.0            0.0\n",
       "11   motor            3           400.0            0.0"
      ],
      "text/html": "<div>\n<style scoped>\n    .dataframe tbody tr th:only-of-type {\n        vertical-align: middle;\n    }\n\n    .dataframe tbody tr th {\n        vertical-align: top;\n    }\n\n    .dataframe thead th {\n        text-align: right;\n    }\n</style>\n<table border=\"1\" class=\"dataframe\">\n  <thead>\n    <tr style=\"text-align: right;\">\n      <th></th>\n      <th>network</th>\n      <th>time_bucket</th>\n      <th>mean_pcent_fcn</th>\n      <th>std_pcent_fcn</th>\n    </tr>\n  </thead>\n  <tbody>\n    <tr>\n      <th>0</th>\n      <td>vis</td>\n      <td>0</td>\n      <td>100.0</td>\n      <td>0.0</td>\n    </tr>\n    <tr>\n      <th>1</th>\n      <td>vis</td>\n      <td>1</td>\n      <td>200.0</td>\n      <td>0.0</td>\n    </tr>\n    <tr>\n      <th>2</th>\n      <td>vis</td>\n      <td>2</td>\n      <td>300.0</td>\n      <td>0.0</td>\n    </tr>\n    <tr>\n      <th>3</th>\n      <td>vis</td>\n      <td>3</td>\n      <td>400.0</td>\n      <td>0.0</td>\n    </tr>\n    <tr>\n      <th>4</th>\n      <td>dor</td>\n      <td>0</td>\n      <td>100.0</td>\n      <td>0.0</td>\n    </tr>\n    <tr>\n      <th>5</th>\n      <td>dor</td>\n      <td>1</td>\n      <td>200.0</td>\n      <td>0.0</td>\n    </tr>\n    <tr>\n      <th>6</th>\n      <td>dor</td>\n      <td>2</td>\n      <td>300.0</td>\n      <td>0.0</td>\n    </tr>\n    <tr>\n      <th>7</th>\n      <td>dor</td>\n      <td>3</td>\n      <td>400.0</td>\n      <td>0.0</td>\n    </tr>\n    <tr>\n      <th>8</th>\n      <td>motor</td>\n      <td>0</td>\n      <td>100.0</td>\n      <td>0.0</td>\n    </tr>\n    <tr>\n      <th>9</th>\n      <td>motor</td>\n      <td>1</td>\n      <td>200.0</td>\n      <td>0.0</td>\n    </tr>\n    <tr>\n      <th>10</th>\n      <td>motor</td>\n      <td>2</td>\n      <td>300.0</td>\n      <td>0.0</td>\n    </tr>\n    <tr>\n      <th>11</th>\n      <td>motor</td>\n      <td>3</td>\n      <td>400.0</td>\n      <td>0.0</td>\n    </tr>\n  </tbody>\n</table>\n</div>"
     },
     "metadata": {},
     "execution_count": 99
    }
   ],
   "source": [
    "df_results"
   ]
  },
  {
   "cell_type": "code",
   "execution_count": null,
   "metadata": {},
   "outputs": [],
   "source": []
  },
  {
   "cell_type": "code",
   "execution_count": null,
   "metadata": {},
   "outputs": [],
   "source": []
  },
  {
   "cell_type": "code",
   "execution_count": 62,
   "metadata": {},
   "outputs": [
    {
     "output_type": "stream",
     "name": "stdout",
     "text": [
      "vis\n3\n0\n[1, 3, 2]\n"
     ]
    },
    {
     "output_type": "error",
     "ename": "AttributeError",
     "evalue": "'int' object has no attribute 'update'",
     "traceback": [
      "\u001b[0;31m---------------------------------------------------------------------------\u001b[0m",
      "\u001b[0;31mAttributeError\u001b[0m                            Traceback (most recent call last)",
      "\u001b[0;32m<ipython-input-62-19edf319ae76>\u001b[0m in \u001b[0;36m<module>\u001b[0;34m\u001b[0m\n\u001b[1;32m     13\u001b[0m         \u001b[0;31m#dict2[net] = {i: sum(row_list)/len(row_list)} #{i:sum(row_list)/len(row_list)}\u001b[0m\u001b[0;34m\u001b[0m\u001b[0;34m\u001b[0m\u001b[0;34m\u001b[0m\u001b[0m\n\u001b[1;32m     14\u001b[0m         \u001b[0md_temp\u001b[0m\u001b[0;34m[\u001b[0m\u001b[0mnet\u001b[0m\u001b[0;34m]\u001b[0m \u001b[0;34m=\u001b[0m \u001b[0;34m{\u001b[0m\u001b[0mi\u001b[0m\u001b[0;34m:\u001b[0m \u001b[0msum\u001b[0m\u001b[0;34m(\u001b[0m\u001b[0mrow_list\u001b[0m\u001b[0;34m)\u001b[0m\u001b[0;34m/\u001b[0m\u001b[0mlen\u001b[0m\u001b[0;34m(\u001b[0m\u001b[0mrow_list\u001b[0m\u001b[0;34m)\u001b[0m\u001b[0;34m}\u001b[0m\u001b[0;34m\u001b[0m\u001b[0;34m\u001b[0m\u001b[0m\n\u001b[0;32m---> 15\u001b[0;31m         \u001b[0mdict_results\u001b[0m\u001b[0;34m[\u001b[0m\u001b[0mnet\u001b[0m\u001b[0;34m]\u001b[0m\u001b[0;34m.\u001b[0m\u001b[0mupdate\u001b[0m\u001b[0;34m(\u001b[0m\u001b[0md_temp\u001b[0m\u001b[0;34m[\u001b[0m\u001b[0mnet\u001b[0m\u001b[0;34m]\u001b[0m\u001b[0;34m)\u001b[0m\u001b[0;34m\u001b[0m\u001b[0;34m\u001b[0m\u001b[0m\n\u001b[0m\u001b[1;32m     16\u001b[0m         \u001b[0;31m#d[i] = sum(row_list)/len(row_list) #calculate avg\u001b[0m\u001b[0;34m\u001b[0m\u001b[0;34m\u001b[0m\u001b[0;34m\u001b[0m\u001b[0m\n\u001b[1;32m     17\u001b[0m \u001b[0;34m\u001b[0m\u001b[0m\n",
      "\u001b[0;31mAttributeError\u001b[0m: 'int' object has no attribute 'update'"
     ]
    }
   ],
   "source": [
    "dict_results = {}\n",
    "d_temp = {}\n",
    "for net in dictX.keys():\n",
    "    print(net)\n",
    "    l = list(iter(dictX[net].values()))\n",
    "    print(len(l[0]))\n",
    "    #print(l)\n",
    "    dict_results[net] = 0\n",
    "    for i in range(len(l[0])):\n",
    "        print(i)\n",
    "        row_list = [row[i] for row in l] #get values column-wise\n",
    "        print(row_list)\n",
    "        #dict2[net] = {i: sum(row_list)/len(row_list)} #{i:sum(row_list)/len(row_list)}\n",
    "        d_temp[net] = {i: sum(row_list)/len(row_list)}\n",
    "        dict_results[net].update(d_temp[net])\n",
    "        #d[i] = sum(row_list)/len(row_list) #calculate avg\n",
    "     "
   ]
  },
  {
   "cell_type": "code",
   "execution_count": 59,
   "metadata": {},
   "outputs": [
    {
     "output_type": "execute_result",
     "data": {
      "text/plain": [
       "{'vis': {2: 1348.3333333333333}, 'dorsal': {2: 1.0}}"
      ]
     },
     "metadata": {},
     "execution_count": 59
    }
   ],
   "source": [
    "dict_results"
   ]
  },
  {
   "cell_type": "code",
   "execution_count": null,
   "metadata": {},
   "outputs": [],
   "source": [
    "#The difference;\n",
    "[[20, 50, 70, 90, 100], [10, 3, 0, 99, 57], [90, 1000, 2, 3.4, 5]]"
   ]
  },
  {
   "cell_type": "code",
   "execution_count": null,
   "metadata": {},
   "outputs": [],
   "source": []
  },
  {
   "cell_type": "code",
   "execution_count": 21,
   "metadata": {},
   "outputs": [
    {
     "output_type": "stream",
     "name": "stdout",
     "text": [
      "3\n0\n"
     ]
    },
    {
     "output_type": "error",
     "ename": "TypeError",
     "evalue": "unsupported operand type(s) for +: 'int' and 'list'",
     "traceback": [
      "\u001b[0;31m---------------------------------------------------------------------------\u001b[0m",
      "\u001b[0;31mTypeError\u001b[0m                                 Traceback (most recent call last)",
      "\u001b[0;32m<ipython-input-21-5f72cb8ee898>\u001b[0m in \u001b[0;36m<module>\u001b[0;34m\u001b[0m\n\u001b[1;32m      6\u001b[0m     \u001b[0mprint\u001b[0m\u001b[0;34m(\u001b[0m\u001b[0mi\u001b[0m\u001b[0;34m)\u001b[0m\u001b[0;34m\u001b[0m\u001b[0;34m\u001b[0m\u001b[0m\n\u001b[1;32m      7\u001b[0m     \u001b[0mrow_list\u001b[0m \u001b[0;34m=\u001b[0m \u001b[0;34m[\u001b[0m\u001b[0mrow\u001b[0m\u001b[0;34m[\u001b[0m\u001b[0mi\u001b[0m\u001b[0;34m]\u001b[0m \u001b[0;32mfor\u001b[0m \u001b[0mrow\u001b[0m \u001b[0;32min\u001b[0m \u001b[0ml\u001b[0m\u001b[0;34m]\u001b[0m                     \u001b[0;31m#get values column-wise\u001b[0m\u001b[0;34m\u001b[0m\u001b[0;34m\u001b[0m\u001b[0m\n\u001b[0;32m----> 8\u001b[0;31m     \u001b[0mprint\u001b[0m\u001b[0;34m(\u001b[0m\u001b[0msum\u001b[0m\u001b[0;34m(\u001b[0m\u001b[0mrow_list\u001b[0m\u001b[0;34m)\u001b[0m\u001b[0;34m)\u001b[0m\u001b[0;34m\u001b[0m\u001b[0;34m\u001b[0m\u001b[0m\n\u001b[0m\u001b[1;32m      9\u001b[0m     \u001b[0md\u001b[0m\u001b[0;34m[\u001b[0m\u001b[0mi\u001b[0m\u001b[0;34m]\u001b[0m \u001b[0;34m=\u001b[0m \u001b[0msum\u001b[0m\u001b[0;34m(\u001b[0m\u001b[0mrow_list\u001b[0m\u001b[0;34m)\u001b[0m\u001b[0;34m/\u001b[0m\u001b[0mlen\u001b[0m\u001b[0;34m(\u001b[0m\u001b[0mrow_list\u001b[0m\u001b[0;34m)\u001b[0m               \u001b[0;31m#calculate avg\u001b[0m\u001b[0;34m\u001b[0m\u001b[0;34m\u001b[0m\u001b[0m\n",
      "\u001b[0;31mTypeError\u001b[0m: unsupported operand type(s) for +: 'int' and 'list'"
     ]
    }
   ],
   "source": [
    "l = list(iter(dictX.values()))                      #convert values to list\n",
    "\n",
    "d={} \n",
    "#print(len(l[0]))                                                                 #final ditionary\n",
    "for i in range(len(l[0])):\n",
    "    print(i)\n",
    "    row_list = [row[i] for row in l]                     #get values column-wise\n",
    "    print(sum(row_list))\n",
    "    d[i] = sum(row_list)/len(row_list)               #calculate avg\n"
   ]
  },
  {
   "cell_type": "code",
   "execution_count": null,
   "metadata": {},
   "outputs": [],
   "source": [
    "for key, group in df.groupby('quality'):\n",
    "    group.plot('insert', 'mean', yerr='std', label=key, ax=ax) "
   ]
  }
 ],
 "metadata": {
  "kernelspec": {
   "name": "python391jvsc74a57bd012c5805d0870d75f0ace4618ed800fd5fde2d1ac7fe386b82c9e3caebc76ff58",
   "display_name": "Python 3.9.1 64-bit ('hannah_env': conda)"
  },
  "language_info": {
   "codemirror_mode": {
    "name": "ipython",
    "version": 3
   },
   "file_extension": ".py",
   "mimetype": "text/x-python",
   "name": "python",
   "nbconvert_exporter": "python",
   "pygments_lexer": "ipython3",
   "version": "3.9.1"
  },
  "metadata": {
   "interpreter": {
    "hash": "12c5805d0870d75f0ace4618ed800fd5fde2d1ac7fe386b82c9e3caebc76ff58"
   }
  }
 },
 "nbformat": 4,
 "nbformat_minor": 2
}