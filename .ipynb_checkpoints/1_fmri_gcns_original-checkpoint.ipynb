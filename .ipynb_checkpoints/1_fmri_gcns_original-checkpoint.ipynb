{
 "cells": [
  {
   "cell_type": "markdown",
   "metadata": {},
   "source": [
    "## Overview: fmri movie data (camcan study) + application of gcns \n",
    "- Gcns used to classify blocks of fmri data in the movie across subjects"
   ]
  },
  {
   "cell_type": "markdown",
   "metadata": {},
   "source": [
    "#### Glossary\n",
    "- TR: Repetition time - time it takes to scan all 32 slices.\n",
    "- fmri data: 193 Timepoints (193 x 2.47 = 476 secs = 7.9 mins) x 400 ROIs "
   ]
  },
  {
   "cell_type": "code",
   "execution_count": 1,
   "metadata": {},
   "outputs": [],
   "source": [
    "%load_ext autoreload\n",
    "%autoreload"
   ]
  },
  {
   "cell_type": "code",
   "execution_count": 21,
   "metadata": {},
   "outputs": [],
   "source": [
    "%reload_ext autoreload"
   ]
  },
  {
   "cell_type": "code",
   "execution_count": 23,
   "metadata": {},
   "outputs": [],
   "source": [
    "import sys\n",
    "reload(sys)"
   ]
  },
  {
   "cell_type": "code",
   "execution_count": 1,
   "metadata": {},
   "outputs": [],
   "source": [
    "import os\n",
    "import sys\n",
    "import math\n",
    "import time\n",
    "import datetime\n",
    "\n",
    "import numpy as np\n",
    "import pandas as pd\n",
    "import scipy.io\n",
    "\n",
    "import nibabel as nib\n",
    "from scipy import sparse\n",
    "from scipy.stats import spearmanr\n",
    "from sklearn import preprocessing, metrics,manifold\n",
    "from sklearn.model_selection import cross_val_score, train_test_split,ShuffleSplit\n",
    "import itertools\n",
    "\n",
    "\n",
    "import torch\n",
    "import torch.nn as nn\n",
    "import torch.nn.functional as F\n",
    "import torch.optim as optim\n",
    "from torch.utils.data import DataLoader\n",
    "\n",
    "#from torch_scatter import scatter_add\n",
    "##from torch_geometric.utils import add_self_loops\n",
    "##from utils import add_self_loops\n",
    "\n",
    "from util_funcs import *\n",
    "from model import *\n",
    "\n",
    "import matplotlib.pyplot as plt\n",
    "%matplotlib inline\n",
    "import warnings\n",
    "warnings.filterwarnings(action='once')\n",
    "\n",
    "#imports\n",
    "#pip install torch-scatter -f https://pytorch-geometric.com/whl/torch-1.7.0+cu102.html"
   ]
  },
  {
   "cell_type": "code",
   "execution_count": null,
   "metadata": {},
   "outputs": [],
   "source": []
  },
  {
   "cell_type": "markdown",
   "metadata": {},
   "source": [
    "### Functions"
   ]
  },
  {
   "cell_type": "code",
   "execution_count": null,
   "metadata": {},
   "outputs": [],
   "source": []
  },
  {
   "cell_type": "markdown",
   "metadata": {},
   "source": [
    "### 1. Data - fmri data"
   ]
  },
  {
   "cell_type": "code",
   "execution_count": 12,
   "metadata": {},
   "outputs": [
    {
     "name": "stderr",
     "output_type": "stream",
     "text": [
      "/home/hannahcraddock/anaconda3/envs/hannah_env/lib/python3.9/site-packages/nilearn/signal.py:68: DeprecationWarning: `np.float` is a deprecated alias for the builtin `float`. To silence this warning, use `float` by itself. Doing this will not modify any behavior and is safe. If you specifically wanted the numpy scalar type, use `np.float64` here.\n",
      "Deprecated in NumPy 1.20; for more details and guidance: https://numpy.org/devdocs/release/1.20.0-notes.html#deprecations\n",
      "  std[std < np.finfo(np.float).eps] = 1.  # avoid numerical problems\n",
      "/home/hannahcraddock/anaconda3/envs/hannah_env/lib/python3.9/site-packages/nilearn/signal.py:68: DeprecationWarning: `np.float` is a deprecated alias for the builtin `float`. To silence this warning, use `float` by itself. Doing this will not modify any behavior and is safe. If you specifically wanted the numpy scalar type, use `np.float64` here.\n",
      "Deprecated in NumPy 1.20; for more details and guidance: https://numpy.org/devdocs/release/1.20.0-notes.html#deprecations\n",
      "  std[std < np.finfo(np.float).eps] = 1.  # avoid numerical problems\n",
      "/home/hannahcraddock/anaconda3/envs/hannah_env/lib/python3.9/site-packages/nilearn/signal.py:68: DeprecationWarning: `np.float` is a deprecated alias for the builtin `float`. To silence this warning, use `float` by itself. Doing this will not modify any behavior and is safe. If you specifically wanted the numpy scalar type, use `np.float64` here.\n",
      "Deprecated in NumPy 1.20; for more details and guidance: https://numpy.org/devdocs/release/1.20.0-notes.html#deprecations\n",
      "  std[std < np.finfo(np.float).eps] = 1.  # avoid numerical problems\n",
      "/home/hannahcraddock/anaconda3/envs/hannah_env/lib/python3.9/site-packages/nilearn/signal.py:68: DeprecationWarning: `np.float` is a deprecated alias for the builtin `float`. To silence this warning, use `float` by itself. Doing this will not modify any behavior and is safe. If you specifically wanted the numpy scalar type, use `np.float64` here.\n",
      "Deprecated in NumPy 1.20; for more details and guidance: https://numpy.org/devdocs/release/1.20.0-notes.html#deprecations\n",
      "  std[std < np.finfo(np.float).eps] = 1.  # avoid numerical problems\n",
      "/home/hannahcraddock/anaconda3/envs/hannah_env/lib/python3.9/site-packages/nilearn/signal.py:68: DeprecationWarning: `np.float` is a deprecated alias for the builtin `float`. To silence this warning, use `float` by itself. Doing this will not modify any behavior and is safe. If you specifically wanted the numpy scalar type, use `np.float64` here.\n",
      "Deprecated in NumPy 1.20; for more details and guidance: https://numpy.org/devdocs/release/1.20.0-notes.html#deprecations\n",
      "  std[std < np.finfo(np.float).eps] = 1.  # avoid numerical problems\n",
      "/home/hannahcraddock/anaconda3/envs/hannah_env/lib/python3.9/site-packages/nilearn/signal.py:68: DeprecationWarning: `np.float` is a deprecated alias for the builtin `float`. To silence this warning, use `float` by itself. Doing this will not modify any behavior and is safe. If you specifically wanted the numpy scalar type, use `np.float64` here.\n",
      "Deprecated in NumPy 1.20; for more details and guidance: https://numpy.org/devdocs/release/1.20.0-notes.html#deprecations\n",
      "  std[std < np.finfo(np.float).eps] = 1.  # avoid numerical problems\n",
      "/home/hannahcraddock/anaconda3/envs/hannah_env/lib/python3.9/site-packages/nilearn/signal.py:68: DeprecationWarning: `np.float` is a deprecated alias for the builtin `float`. To silence this warning, use `float` by itself. Doing this will not modify any behavior and is safe. If you specifically wanted the numpy scalar type, use `np.float64` here.\n",
      "Deprecated in NumPy 1.20; for more details and guidance: https://numpy.org/devdocs/release/1.20.0-notes.html#deprecations\n",
      "  std[std < np.finfo(np.float).eps] = 1.  # avoid numerical problems\n",
      "/home/hannahcraddock/anaconda3/envs/hannah_env/lib/python3.9/site-packages/nilearn/signal.py:68: DeprecationWarning: `np.float` is a deprecated alias for the builtin `float`. To silence this warning, use `float` by itself. Doing this will not modify any behavior and is safe. If you specifically wanted the numpy scalar type, use `np.float64` here.\n",
      "Deprecated in NumPy 1.20; for more details and guidance: https://numpy.org/devdocs/release/1.20.0-notes.html#deprecations\n",
      "  std[std < np.finfo(np.float).eps] = 1.  # avoid numerical problems\n",
      "/home/hannahcraddock/anaconda3/envs/hannah_env/lib/python3.9/site-packages/nilearn/signal.py:68: DeprecationWarning: `np.float` is a deprecated alias for the builtin `float`. To silence this warning, use `float` by itself. Doing this will not modify any behavior and is safe. If you specifically wanted the numpy scalar type, use `np.float64` here.\n",
      "Deprecated in NumPy 1.20; for more details and guidance: https://numpy.org/devdocs/release/1.20.0-notes.html#deprecations\n",
      "  std[std < np.finfo(np.float).eps] = 1.  # avoid numerical problems\n",
      "/home/hannahcraddock/anaconda3/envs/hannah_env/lib/python3.9/site-packages/nilearn/signal.py:68: DeprecationWarning: `np.float` is a deprecated alias for the builtin `float`. To silence this warning, use `float` by itself. Doing this will not modify any behavior and is safe. If you specifically wanted the numpy scalar type, use `np.float64` here.\n",
      "Deprecated in NumPy 1.20; for more details and guidance: https://numpy.org/devdocs/release/1.20.0-notes.html#deprecations\n",
      "  std[std < np.finfo(np.float).eps] = 1.  # avoid numerical problems\n",
      "/home/hannahcraddock/anaconda3/envs/hannah_env/lib/python3.9/site-packages/nilearn/signal.py:68: DeprecationWarning: `np.float` is a deprecated alias for the builtin `float`. To silence this warning, use `float` by itself. Doing this will not modify any behavior and is safe. If you specifically wanted the numpy scalar type, use `np.float64` here.\n",
      "Deprecated in NumPy 1.20; for more details and guidance: https://numpy.org/devdocs/release/1.20.0-notes.html#deprecations\n",
      "  std[std < np.finfo(np.float).eps] = 1.  # avoid numerical problems\n",
      "/home/hannahcraddock/anaconda3/envs/hannah_env/lib/python3.9/site-packages/nilearn/signal.py:68: DeprecationWarning: `np.float` is a deprecated alias for the builtin `float`. To silence this warning, use `float` by itself. Doing this will not modify any behavior and is safe. If you specifically wanted the numpy scalar type, use `np.float64` here.\n",
      "Deprecated in NumPy 1.20; for more details and guidance: https://numpy.org/devdocs/release/1.20.0-notes.html#deprecations\n",
      "  std[std < np.finfo(np.float).eps] = 1.  # avoid numerical problems\n",
      "/home/hannahcraddock/anaconda3/envs/hannah_env/lib/python3.9/site-packages/nilearn/signal.py:68: DeprecationWarning: `np.float` is a deprecated alias for the builtin `float`. To silence this warning, use `float` by itself. Doing this will not modify any behavior and is safe. If you specifically wanted the numpy scalar type, use `np.float64` here.\n",
      "Deprecated in NumPy 1.20; for more details and guidance: https://numpy.org/devdocs/release/1.20.0-notes.html#deprecations\n",
      "  std[std < np.finfo(np.float).eps] = 1.  # avoid numerical problems\n",
      "/home/hannahcraddock/anaconda3/envs/hannah_env/lib/python3.9/site-packages/nilearn/signal.py:68: DeprecationWarning: `np.float` is a deprecated alias for the builtin `float`. To silence this warning, use `float` by itself. Doing this will not modify any behavior and is safe. If you specifically wanted the numpy scalar type, use `np.float64` here.\n",
      "Deprecated in NumPy 1.20; for more details and guidance: https://numpy.org/devdocs/release/1.20.0-notes.html#deprecations\n",
      "  std[std < np.finfo(np.float).eps] = 1.  # avoid numerical problems\n",
      "/home/hannahcraddock/anaconda3/envs/hannah_env/lib/python3.9/site-packages/nilearn/signal.py:68: DeprecationWarning: `np.float` is a deprecated alias for the builtin `float`. To silence this warning, use `float` by itself. Doing this will not modify any behavior and is safe. If you specifically wanted the numpy scalar type, use `np.float64` here.\n",
      "Deprecated in NumPy 1.20; for more details and guidance: https://numpy.org/devdocs/release/1.20.0-notes.html#deprecations\n",
      "  std[std < np.finfo(np.float).eps] = 1.  # avoid numerical problems\n",
      "/home/hannahcraddock/anaconda3/envs/hannah_env/lib/python3.9/site-packages/nilearn/signal.py:68: DeprecationWarning: `np.float` is a deprecated alias for the builtin `float`. To silence this warning, use `float` by itself. Doing this will not modify any behavior and is safe. If you specifically wanted the numpy scalar type, use `np.float64` here.\n",
      "Deprecated in NumPy 1.20; for more details and guidance: https://numpy.org/devdocs/release/1.20.0-notes.html#deprecations\n",
      "  std[std < np.finfo(np.float).eps] = 1.  # avoid numerical problems\n"
     ]
    },
    {
     "name": "stderr",
     "output_type": "stream",
     "text": [
      "/home/hannahcraddock/anaconda3/envs/hannah_env/lib/python3.9/site-packages/nilearn/signal.py:68: DeprecationWarning: `np.float` is a deprecated alias for the builtin `float`. To silence this warning, use `float` by itself. Doing this will not modify any behavior and is safe. If you specifically wanted the numpy scalar type, use `np.float64` here.\n",
      "Deprecated in NumPy 1.20; for more details and guidance: https://numpy.org/devdocs/release/1.20.0-notes.html#deprecations\n",
      "  std[std < np.finfo(np.float).eps] = 1.  # avoid numerical problems\n",
      "/home/hannahcraddock/anaconda3/envs/hannah_env/lib/python3.9/site-packages/nilearn/signal.py:68: DeprecationWarning: `np.float` is a deprecated alias for the builtin `float`. To silence this warning, use `float` by itself. Doing this will not modify any behavior and is safe. If you specifically wanted the numpy scalar type, use `np.float64` here.\n",
      "Deprecated in NumPy 1.20; for more details and guidance: https://numpy.org/devdocs/release/1.20.0-notes.html#deprecations\n",
      "  std[std < np.finfo(np.float).eps] = 1.  # avoid numerical problems\n",
      "/home/hannahcraddock/anaconda3/envs/hannah_env/lib/python3.9/site-packages/nilearn/signal.py:68: DeprecationWarning: `np.float` is a deprecated alias for the builtin `float`. To silence this warning, use `float` by itself. Doing this will not modify any behavior and is safe. If you specifically wanted the numpy scalar type, use `np.float64` here.\n",
      "Deprecated in NumPy 1.20; for more details and guidance: https://numpy.org/devdocs/release/1.20.0-notes.html#deprecations\n",
      "  std[std < np.finfo(np.float).eps] = 1.  # avoid numerical problems\n",
      "/home/hannahcraddock/anaconda3/envs/hannah_env/lib/python3.9/site-packages/nilearn/signal.py:68: DeprecationWarning: `np.float` is a deprecated alias for the builtin `float`. To silence this warning, use `float` by itself. Doing this will not modify any behavior and is safe. If you specifically wanted the numpy scalar type, use `np.float64` here.\n",
      "Deprecated in NumPy 1.20; for more details and guidance: https://numpy.org/devdocs/release/1.20.0-notes.html#deprecations\n",
      "  std[std < np.finfo(np.float).eps] = 1.  # avoid numerical problems\n",
      "/home/hannahcraddock/anaconda3/envs/hannah_env/lib/python3.9/site-packages/nilearn/signal.py:68: DeprecationWarning: `np.float` is a deprecated alias for the builtin `float`. To silence this warning, use `float` by itself. Doing this will not modify any behavior and is safe. If you specifically wanted the numpy scalar type, use `np.float64` here.\n",
      "Deprecated in NumPy 1.20; for more details and guidance: https://numpy.org/devdocs/release/1.20.0-notes.html#deprecations\n",
      "  std[std < np.finfo(np.float).eps] = 1.  # avoid numerical problems\n",
      "/home/hannahcraddock/anaconda3/envs/hannah_env/lib/python3.9/site-packages/nilearn/signal.py:68: DeprecationWarning: `np.float` is a deprecated alias for the builtin `float`. To silence this warning, use `float` by itself. Doing this will not modify any behavior and is safe. If you specifically wanted the numpy scalar type, use `np.float64` here.\n",
      "Deprecated in NumPy 1.20; for more details and guidance: https://numpy.org/devdocs/release/1.20.0-notes.html#deprecations\n",
      "  std[std < np.finfo(np.float).eps] = 1.  # avoid numerical problems\n",
      "/home/hannahcraddock/anaconda3/envs/hannah_env/lib/python3.9/site-packages/nilearn/signal.py:68: DeprecationWarning: `np.float` is a deprecated alias for the builtin `float`. To silence this warning, use `float` by itself. Doing this will not modify any behavior and is safe. If you specifically wanted the numpy scalar type, use `np.float64` here.\n",
      "Deprecated in NumPy 1.20; for more details and guidance: https://numpy.org/devdocs/release/1.20.0-notes.html#deprecations\n",
      "  std[std < np.finfo(np.float).eps] = 1.  # avoid numerical problems\n",
      "/home/hannahcraddock/anaconda3/envs/hannah_env/lib/python3.9/site-packages/nilearn/signal.py:68: DeprecationWarning: `np.float` is a deprecated alias for the builtin `float`. To silence this warning, use `float` by itself. Doing this will not modify any behavior and is safe. If you specifically wanted the numpy scalar type, use `np.float64` here.\n",
      "Deprecated in NumPy 1.20; for more details and guidance: https://numpy.org/devdocs/release/1.20.0-notes.html#deprecations\n",
      "  std[std < np.finfo(np.float).eps] = 1.  # avoid numerical problems\n",
      "/home/hannahcraddock/anaconda3/envs/hannah_env/lib/python3.9/site-packages/nilearn/signal.py:68: DeprecationWarning: `np.float` is a deprecated alias for the builtin `float`. To silence this warning, use `float` by itself. Doing this will not modify any behavior and is safe. If you specifically wanted the numpy scalar type, use `np.float64` here.\n",
      "Deprecated in NumPy 1.20; for more details and guidance: https://numpy.org/devdocs/release/1.20.0-notes.html#deprecations\n",
      "  std[std < np.finfo(np.float).eps] = 1.  # avoid numerical problems\n",
      "/home/hannahcraddock/anaconda3/envs/hannah_env/lib/python3.9/site-packages/nilearn/signal.py:68: DeprecationWarning: `np.float` is a deprecated alias for the builtin `float`. To silence this warning, use `float` by itself. Doing this will not modify any behavior and is safe. If you specifically wanted the numpy scalar type, use `np.float64` here.\n",
      "Deprecated in NumPy 1.20; for more details and guidance: https://numpy.org/devdocs/release/1.20.0-notes.html#deprecations\n",
      "  std[std < np.finfo(np.float).eps] = 1.  # avoid numerical problems\n",
      "/home/hannahcraddock/anaconda3/envs/hannah_env/lib/python3.9/site-packages/nilearn/signal.py:68: DeprecationWarning: `np.float` is a deprecated alias for the builtin `float`. To silence this warning, use `float` by itself. Doing this will not modify any behavior and is safe. If you specifically wanted the numpy scalar type, use `np.float64` here.\n",
      "Deprecated in NumPy 1.20; for more details and guidance: https://numpy.org/devdocs/release/1.20.0-notes.html#deprecations\n",
      "  std[std < np.finfo(np.float).eps] = 1.  # avoid numerical problems\n",
      "/home/hannahcraddock/anaconda3/envs/hannah_env/lib/python3.9/site-packages/nilearn/signal.py:68: DeprecationWarning: `np.float` is a deprecated alias for the builtin `float`. To silence this warning, use `float` by itself. Doing this will not modify any behavior and is safe. If you specifically wanted the numpy scalar type, use `np.float64` here.\n",
      "Deprecated in NumPy 1.20; for more details and guidance: https://numpy.org/devdocs/release/1.20.0-notes.html#deprecations\n",
      "  std[std < np.finfo(np.float).eps] = 1.  # avoid numerical problems\n",
      "/home/hannahcraddock/anaconda3/envs/hannah_env/lib/python3.9/site-packages/nilearn/signal.py:68: DeprecationWarning: `np.float` is a deprecated alias for the builtin `float`. To silence this warning, use `float` by itself. Doing this will not modify any behavior and is safe. If you specifically wanted the numpy scalar type, use `np.float64` here.\n",
      "Deprecated in NumPy 1.20; for more details and guidance: https://numpy.org/devdocs/release/1.20.0-notes.html#deprecations\n",
      "  std[std < np.finfo(np.float).eps] = 1.  # avoid numerical problems\n",
      "/home/hannahcraddock/anaconda3/envs/hannah_env/lib/python3.9/site-packages/nilearn/signal.py:68: DeprecationWarning: `np.float` is a deprecated alias for the builtin `float`. To silence this warning, use `float` by itself. Doing this will not modify any behavior and is safe. If you specifically wanted the numpy scalar type, use `np.float64` here.\n",
      "Deprecated in NumPy 1.20; for more details and guidance: https://numpy.org/devdocs/release/1.20.0-notes.html#deprecations\n",
      "  std[std < np.finfo(np.float).eps] = 1.  # avoid numerical problems\n",
      "/home/hannahcraddock/anaconda3/envs/hannah_env/lib/python3.9/site-packages/nilearn/signal.py:68: DeprecationWarning: `np.float` is a deprecated alias for the builtin `float`. To silence this warning, use `float` by itself. Doing this will not modify any behavior and is safe. If you specifically wanted the numpy scalar type, use `np.float64` here.\n",
      "Deprecated in NumPy 1.20; for more details and guidance: https://numpy.org/devdocs/release/1.20.0-notes.html#deprecations\n",
      "  std[std < np.finfo(np.float).eps] = 1.  # avoid numerical problems\n",
      "/home/hannahcraddock/anaconda3/envs/hannah_env/lib/python3.9/site-packages/nilearn/signal.py:68: DeprecationWarning: `np.float` is a deprecated alias for the builtin `float`. To silence this warning, use `float` by itself. Doing this will not modify any behavior and is safe. If you specifically wanted the numpy scalar type, use `np.float64` here.\n",
      "Deprecated in NumPy 1.20; for more details and guidance: https://numpy.org/devdocs/release/1.20.0-notes.html#deprecations\n",
      "  std[std < np.finfo(np.float).eps] = 1.  # avoid numerical problems\n"
     ]
    },
    {
     "name": "stderr",
     "output_type": "stream",
     "text": [
      "/home/hannahcraddock/anaconda3/envs/hannah_env/lib/python3.9/site-packages/nilearn/signal.py:68: DeprecationWarning: `np.float` is a deprecated alias for the builtin `float`. To silence this warning, use `float` by itself. Doing this will not modify any behavior and is safe. If you specifically wanted the numpy scalar type, use `np.float64` here.\n",
      "Deprecated in NumPy 1.20; for more details and guidance: https://numpy.org/devdocs/release/1.20.0-notes.html#deprecations\n",
      "  std[std < np.finfo(np.float).eps] = 1.  # avoid numerical problems\n",
      "/home/hannahcraddock/anaconda3/envs/hannah_env/lib/python3.9/site-packages/nilearn/signal.py:68: DeprecationWarning: `np.float` is a deprecated alias for the builtin `float`. To silence this warning, use `float` by itself. Doing this will not modify any behavior and is safe. If you specifically wanted the numpy scalar type, use `np.float64` here.\n",
      "Deprecated in NumPy 1.20; for more details and guidance: https://numpy.org/devdocs/release/1.20.0-notes.html#deprecations\n",
      "  std[std < np.finfo(np.float).eps] = 1.  # avoid numerical problems\n",
      "/home/hannahcraddock/anaconda3/envs/hannah_env/lib/python3.9/site-packages/nilearn/signal.py:68: DeprecationWarning: `np.float` is a deprecated alias for the builtin `float`. To silence this warning, use `float` by itself. Doing this will not modify any behavior and is safe. If you specifically wanted the numpy scalar type, use `np.float64` here.\n",
      "Deprecated in NumPy 1.20; for more details and guidance: https://numpy.org/devdocs/release/1.20.0-notes.html#deprecations\n",
      "  std[std < np.finfo(np.float).eps] = 1.  # avoid numerical problems\n",
      "/home/hannahcraddock/anaconda3/envs/hannah_env/lib/python3.9/site-packages/nilearn/signal.py:68: DeprecationWarning: `np.float` is a deprecated alias for the builtin `float`. To silence this warning, use `float` by itself. Doing this will not modify any behavior and is safe. If you specifically wanted the numpy scalar type, use `np.float64` here.\n",
      "Deprecated in NumPy 1.20; for more details and guidance: https://numpy.org/devdocs/release/1.20.0-notes.html#deprecations\n",
      "  std[std < np.finfo(np.float).eps] = 1.  # avoid numerical problems\n",
      "/home/hannahcraddock/anaconda3/envs/hannah_env/lib/python3.9/site-packages/nilearn/signal.py:68: DeprecationWarning: `np.float` is a deprecated alias for the builtin `float`. To silence this warning, use `float` by itself. Doing this will not modify any behavior and is safe. If you specifically wanted the numpy scalar type, use `np.float64` here.\n",
      "Deprecated in NumPy 1.20; for more details and guidance: https://numpy.org/devdocs/release/1.20.0-notes.html#deprecations\n",
      "  std[std < np.finfo(np.float).eps] = 1.  # avoid numerical problems\n",
      "/home/hannahcraddock/anaconda3/envs/hannah_env/lib/python3.9/site-packages/nilearn/signal.py:68: DeprecationWarning: `np.float` is a deprecated alias for the builtin `float`. To silence this warning, use `float` by itself. Doing this will not modify any behavior and is safe. If you specifically wanted the numpy scalar type, use `np.float64` here.\n",
      "Deprecated in NumPy 1.20; for more details and guidance: https://numpy.org/devdocs/release/1.20.0-notes.html#deprecations\n",
      "  std[std < np.finfo(np.float).eps] = 1.  # avoid numerical problems\n",
      "/home/hannahcraddock/anaconda3/envs/hannah_env/lib/python3.9/site-packages/nilearn/signal.py:68: DeprecationWarning: `np.float` is a deprecated alias for the builtin `float`. To silence this warning, use `float` by itself. Doing this will not modify any behavior and is safe. If you specifically wanted the numpy scalar type, use `np.float64` here.\n",
      "Deprecated in NumPy 1.20; for more details and guidance: https://numpy.org/devdocs/release/1.20.0-notes.html#deprecations\n",
      "  std[std < np.finfo(np.float).eps] = 1.  # avoid numerical problems\n",
      "/home/hannahcraddock/anaconda3/envs/hannah_env/lib/python3.9/site-packages/nilearn/signal.py:68: DeprecationWarning: `np.float` is a deprecated alias for the builtin `float`. To silence this warning, use `float` by itself. Doing this will not modify any behavior and is safe. If you specifically wanted the numpy scalar type, use `np.float64` here.\n",
      "Deprecated in NumPy 1.20; for more details and guidance: https://numpy.org/devdocs/release/1.20.0-notes.html#deprecations\n",
      "  std[std < np.finfo(np.float).eps] = 1.  # avoid numerical problems\n",
      "/home/hannahcraddock/anaconda3/envs/hannah_env/lib/python3.9/site-packages/nilearn/signal.py:68: DeprecationWarning: `np.float` is a deprecated alias for the builtin `float`. To silence this warning, use `float` by itself. Doing this will not modify any behavior and is safe. If you specifically wanted the numpy scalar type, use `np.float64` here.\n",
      "Deprecated in NumPy 1.20; for more details and guidance: https://numpy.org/devdocs/release/1.20.0-notes.html#deprecations\n",
      "  std[std < np.finfo(np.float).eps] = 1.  # avoid numerical problems\n",
      "/home/hannahcraddock/anaconda3/envs/hannah_env/lib/python3.9/site-packages/nilearn/signal.py:68: DeprecationWarning: `np.float` is a deprecated alias for the builtin `float`. To silence this warning, use `float` by itself. Doing this will not modify any behavior and is safe. If you specifically wanted the numpy scalar type, use `np.float64` here.\n",
      "Deprecated in NumPy 1.20; for more details and guidance: https://numpy.org/devdocs/release/1.20.0-notes.html#deprecations\n",
      "  std[std < np.finfo(np.float).eps] = 1.  # avoid numerical problems\n",
      "/home/hannahcraddock/anaconda3/envs/hannah_env/lib/python3.9/site-packages/nilearn/signal.py:68: DeprecationWarning: `np.float` is a deprecated alias for the builtin `float`. To silence this warning, use `float` by itself. Doing this will not modify any behavior and is safe. If you specifically wanted the numpy scalar type, use `np.float64` here.\n",
      "Deprecated in NumPy 1.20; for more details and guidance: https://numpy.org/devdocs/release/1.20.0-notes.html#deprecations\n",
      "  std[std < np.finfo(np.float).eps] = 1.  # avoid numerical problems\n",
      "/home/hannahcraddock/anaconda3/envs/hannah_env/lib/python3.9/site-packages/nilearn/signal.py:68: DeprecationWarning: `np.float` is a deprecated alias for the builtin `float`. To silence this warning, use `float` by itself. Doing this will not modify any behavior and is safe. If you specifically wanted the numpy scalar type, use `np.float64` here.\n",
      "Deprecated in NumPy 1.20; for more details and guidance: https://numpy.org/devdocs/release/1.20.0-notes.html#deprecations\n",
      "  std[std < np.finfo(np.float).eps] = 1.  # avoid numerical problems\n",
      "/home/hannahcraddock/anaconda3/envs/hannah_env/lib/python3.9/site-packages/nilearn/signal.py:68: DeprecationWarning: `np.float` is a deprecated alias for the builtin `float`. To silence this warning, use `float` by itself. Doing this will not modify any behavior and is safe. If you specifically wanted the numpy scalar type, use `np.float64` here.\n",
      "Deprecated in NumPy 1.20; for more details and guidance: https://numpy.org/devdocs/release/1.20.0-notes.html#deprecations\n",
      "  std[std < np.finfo(np.float).eps] = 1.  # avoid numerical problems\n",
      "/home/hannahcraddock/anaconda3/envs/hannah_env/lib/python3.9/site-packages/nilearn/signal.py:68: DeprecationWarning: `np.float` is a deprecated alias for the builtin `float`. To silence this warning, use `float` by itself. Doing this will not modify any behavior and is safe. If you specifically wanted the numpy scalar type, use `np.float64` here.\n",
      "Deprecated in NumPy 1.20; for more details and guidance: https://numpy.org/devdocs/release/1.20.0-notes.html#deprecations\n",
      "  std[std < np.finfo(np.float).eps] = 1.  # avoid numerical problems\n",
      "/home/hannahcraddock/anaconda3/envs/hannah_env/lib/python3.9/site-packages/nilearn/signal.py:68: DeprecationWarning: `np.float` is a deprecated alias for the builtin `float`. To silence this warning, use `float` by itself. Doing this will not modify any behavior and is safe. If you specifically wanted the numpy scalar type, use `np.float64` here.\n",
      "Deprecated in NumPy 1.20; for more details and guidance: https://numpy.org/devdocs/release/1.20.0-notes.html#deprecations\n",
      "  std[std < np.finfo(np.float).eps] = 1.  # avoid numerical problems\n",
      "/home/hannahcraddock/anaconda3/envs/hannah_env/lib/python3.9/site-packages/nilearn/signal.py:68: DeprecationWarning: `np.float` is a deprecated alias for the builtin `float`. To silence this warning, use `float` by itself. Doing this will not modify any behavior and is safe. If you specifically wanted the numpy scalar type, use `np.float64` here.\n",
      "Deprecated in NumPy 1.20; for more details and guidance: https://numpy.org/devdocs/release/1.20.0-notes.html#deprecations\n",
      "  std[std < np.finfo(np.float).eps] = 1.  # avoid numerical problems\n"
     ]
    },
    {
     "name": "stderr",
     "output_type": "stream",
     "text": [
      "/home/hannahcraddock/anaconda3/envs/hannah_env/lib/python3.9/site-packages/nilearn/signal.py:68: DeprecationWarning: `np.float` is a deprecated alias for the builtin `float`. To silence this warning, use `float` by itself. Doing this will not modify any behavior and is safe. If you specifically wanted the numpy scalar type, use `np.float64` here.\n",
      "Deprecated in NumPy 1.20; for more details and guidance: https://numpy.org/devdocs/release/1.20.0-notes.html#deprecations\n",
      "  std[std < np.finfo(np.float).eps] = 1.  # avoid numerical problems\n",
      "/home/hannahcraddock/anaconda3/envs/hannah_env/lib/python3.9/site-packages/nilearn/signal.py:68: DeprecationWarning: `np.float` is a deprecated alias for the builtin `float`. To silence this warning, use `float` by itself. Doing this will not modify any behavior and is safe. If you specifically wanted the numpy scalar type, use `np.float64` here.\n",
      "Deprecated in NumPy 1.20; for more details and guidance: https://numpy.org/devdocs/release/1.20.0-notes.html#deprecations\n",
      "  std[std < np.finfo(np.float).eps] = 1.  # avoid numerical problems\n",
      "/home/hannahcraddock/anaconda3/envs/hannah_env/lib/python3.9/site-packages/nilearn/signal.py:68: DeprecationWarning: `np.float` is a deprecated alias for the builtin `float`. To silence this warning, use `float` by itself. Doing this will not modify any behavior and is safe. If you specifically wanted the numpy scalar type, use `np.float64` here.\n",
      "Deprecated in NumPy 1.20; for more details and guidance: https://numpy.org/devdocs/release/1.20.0-notes.html#deprecations\n",
      "  std[std < np.finfo(np.float).eps] = 1.  # avoid numerical problems\n",
      "/home/hannahcraddock/anaconda3/envs/hannah_env/lib/python3.9/site-packages/nilearn/signal.py:68: DeprecationWarning: `np.float` is a deprecated alias for the builtin `float`. To silence this warning, use `float` by itself. Doing this will not modify any behavior and is safe. If you specifically wanted the numpy scalar type, use `np.float64` here.\n",
      "Deprecated in NumPy 1.20; for more details and guidance: https://numpy.org/devdocs/release/1.20.0-notes.html#deprecations\n",
      "  std[std < np.finfo(np.float).eps] = 1.  # avoid numerical problems\n",
      "/home/hannahcraddock/anaconda3/envs/hannah_env/lib/python3.9/site-packages/nilearn/signal.py:68: DeprecationWarning: `np.float` is a deprecated alias for the builtin `float`. To silence this warning, use `float` by itself. Doing this will not modify any behavior and is safe. If you specifically wanted the numpy scalar type, use `np.float64` here.\n",
      "Deprecated in NumPy 1.20; for more details and guidance: https://numpy.org/devdocs/release/1.20.0-notes.html#deprecations\n",
      "  std[std < np.finfo(np.float).eps] = 1.  # avoid numerical problems\n",
      "/home/hannahcraddock/anaconda3/envs/hannah_env/lib/python3.9/site-packages/nilearn/signal.py:68: DeprecationWarning: `np.float` is a deprecated alias for the builtin `float`. To silence this warning, use `float` by itself. Doing this will not modify any behavior and is safe. If you specifically wanted the numpy scalar type, use `np.float64` here.\n",
      "Deprecated in NumPy 1.20; for more details and guidance: https://numpy.org/devdocs/release/1.20.0-notes.html#deprecations\n",
      "  std[std < np.finfo(np.float).eps] = 1.  # avoid numerical problems\n",
      "/home/hannahcraddock/anaconda3/envs/hannah_env/lib/python3.9/site-packages/nilearn/signal.py:68: DeprecationWarning: `np.float` is a deprecated alias for the builtin `float`. To silence this warning, use `float` by itself. Doing this will not modify any behavior and is safe. If you specifically wanted the numpy scalar type, use `np.float64` here.\n",
      "Deprecated in NumPy 1.20; for more details and guidance: https://numpy.org/devdocs/release/1.20.0-notes.html#deprecations\n",
      "  std[std < np.finfo(np.float).eps] = 1.  # avoid numerical problems\n",
      "/home/hannahcraddock/anaconda3/envs/hannah_env/lib/python3.9/site-packages/nilearn/signal.py:68: DeprecationWarning: `np.float` is a deprecated alias for the builtin `float`. To silence this warning, use `float` by itself. Doing this will not modify any behavior and is safe. If you specifically wanted the numpy scalar type, use `np.float64` here.\n",
      "Deprecated in NumPy 1.20; for more details and guidance: https://numpy.org/devdocs/release/1.20.0-notes.html#deprecations\n",
      "  std[std < np.finfo(np.float).eps] = 1.  # avoid numerical problems\n",
      "/home/hannahcraddock/anaconda3/envs/hannah_env/lib/python3.9/site-packages/nilearn/signal.py:68: DeprecationWarning: `np.float` is a deprecated alias for the builtin `float`. To silence this warning, use `float` by itself. Doing this will not modify any behavior and is safe. If you specifically wanted the numpy scalar type, use `np.float64` here.\n",
      "Deprecated in NumPy 1.20; for more details and guidance: https://numpy.org/devdocs/release/1.20.0-notes.html#deprecations\n",
      "  std[std < np.finfo(np.float).eps] = 1.  # avoid numerical problems\n",
      "/home/hannahcraddock/anaconda3/envs/hannah_env/lib/python3.9/site-packages/nilearn/signal.py:68: DeprecationWarning: `np.float` is a deprecated alias for the builtin `float`. To silence this warning, use `float` by itself. Doing this will not modify any behavior and is safe. If you specifically wanted the numpy scalar type, use `np.float64` here.\n",
      "Deprecated in NumPy 1.20; for more details and guidance: https://numpy.org/devdocs/release/1.20.0-notes.html#deprecations\n",
      "  std[std < np.finfo(np.float).eps] = 1.  # avoid numerical problems\n",
      "/home/hannahcraddock/anaconda3/envs/hannah_env/lib/python3.9/site-packages/nilearn/signal.py:68: DeprecationWarning: `np.float` is a deprecated alias for the builtin `float`. To silence this warning, use `float` by itself. Doing this will not modify any behavior and is safe. If you specifically wanted the numpy scalar type, use `np.float64` here.\n",
      "Deprecated in NumPy 1.20; for more details and guidance: https://numpy.org/devdocs/release/1.20.0-notes.html#deprecations\n",
      "  std[std < np.finfo(np.float).eps] = 1.  # avoid numerical problems\n",
      "/home/hannahcraddock/anaconda3/envs/hannah_env/lib/python3.9/site-packages/nilearn/signal.py:68: DeprecationWarning: `np.float` is a deprecated alias for the builtin `float`. To silence this warning, use `float` by itself. Doing this will not modify any behavior and is safe. If you specifically wanted the numpy scalar type, use `np.float64` here.\n",
      "Deprecated in NumPy 1.20; for more details and guidance: https://numpy.org/devdocs/release/1.20.0-notes.html#deprecations\n",
      "  std[std < np.finfo(np.float).eps] = 1.  # avoid numerical problems\n",
      "/home/hannahcraddock/anaconda3/envs/hannah_env/lib/python3.9/site-packages/nilearn/signal.py:68: DeprecationWarning: `np.float` is a deprecated alias for the builtin `float`. To silence this warning, use `float` by itself. Doing this will not modify any behavior and is safe. If you specifically wanted the numpy scalar type, use `np.float64` here.\n",
      "Deprecated in NumPy 1.20; for more details and guidance: https://numpy.org/devdocs/release/1.20.0-notes.html#deprecations\n",
      "  std[std < np.finfo(np.float).eps] = 1.  # avoid numerical problems\n",
      "/home/hannahcraddock/anaconda3/envs/hannah_env/lib/python3.9/site-packages/nilearn/signal.py:68: DeprecationWarning: `np.float` is a deprecated alias for the builtin `float`. To silence this warning, use `float` by itself. Doing this will not modify any behavior and is safe. If you specifically wanted the numpy scalar type, use `np.float64` here.\n",
      "Deprecated in NumPy 1.20; for more details and guidance: https://numpy.org/devdocs/release/1.20.0-notes.html#deprecations\n",
      "  std[std < np.finfo(np.float).eps] = 1.  # avoid numerical problems\n",
      "/home/hannahcraddock/anaconda3/envs/hannah_env/lib/python3.9/site-packages/nilearn/signal.py:68: DeprecationWarning: `np.float` is a deprecated alias for the builtin `float`. To silence this warning, use `float` by itself. Doing this will not modify any behavior and is safe. If you specifically wanted the numpy scalar type, use `np.float64` here.\n",
      "Deprecated in NumPy 1.20; for more details and guidance: https://numpy.org/devdocs/release/1.20.0-notes.html#deprecations\n",
      "  std[std < np.finfo(np.float).eps] = 1.  # avoid numerical problems\n",
      "/home/hannahcraddock/anaconda3/envs/hannah_env/lib/python3.9/site-packages/nilearn/signal.py:68: DeprecationWarning: `np.float` is a deprecated alias for the builtin `float`. To silence this warning, use `float` by itself. Doing this will not modify any behavior and is safe. If you specifically wanted the numpy scalar type, use `np.float64` here.\n",
      "Deprecated in NumPy 1.20; for more details and guidance: https://numpy.org/devdocs/release/1.20.0-notes.html#deprecations\n",
      "  std[std < np.finfo(np.float).eps] = 1.  # avoid numerical problems\n"
     ]
    },
    {
     "name": "stderr",
     "output_type": "stream",
     "text": [
      "/home/hannahcraddock/anaconda3/envs/hannah_env/lib/python3.9/site-packages/nilearn/signal.py:68: DeprecationWarning: `np.float` is a deprecated alias for the builtin `float`. To silence this warning, use `float` by itself. Doing this will not modify any behavior and is safe. If you specifically wanted the numpy scalar type, use `np.float64` here.\n",
      "Deprecated in NumPy 1.20; for more details and guidance: https://numpy.org/devdocs/release/1.20.0-notes.html#deprecations\n",
      "  std[std < np.finfo(np.float).eps] = 1.  # avoid numerical problems\n",
      "/home/hannahcraddock/anaconda3/envs/hannah_env/lib/python3.9/site-packages/nilearn/signal.py:68: DeprecationWarning: `np.float` is a deprecated alias for the builtin `float`. To silence this warning, use `float` by itself. Doing this will not modify any behavior and is safe. If you specifically wanted the numpy scalar type, use `np.float64` here.\n",
      "Deprecated in NumPy 1.20; for more details and guidance: https://numpy.org/devdocs/release/1.20.0-notes.html#deprecations\n",
      "  std[std < np.finfo(np.float).eps] = 1.  # avoid numerical problems\n",
      "/home/hannahcraddock/anaconda3/envs/hannah_env/lib/python3.9/site-packages/nilearn/signal.py:68: DeprecationWarning: `np.float` is a deprecated alias for the builtin `float`. To silence this warning, use `float` by itself. Doing this will not modify any behavior and is safe. If you specifically wanted the numpy scalar type, use `np.float64` here.\n",
      "Deprecated in NumPy 1.20; for more details and guidance: https://numpy.org/devdocs/release/1.20.0-notes.html#deprecations\n",
      "  std[std < np.finfo(np.float).eps] = 1.  # avoid numerical problems\n",
      "/home/hannahcraddock/anaconda3/envs/hannah_env/lib/python3.9/site-packages/nilearn/signal.py:68: DeprecationWarning: `np.float` is a deprecated alias for the builtin `float`. To silence this warning, use `float` by itself. Doing this will not modify any behavior and is safe. If you specifically wanted the numpy scalar type, use `np.float64` here.\n",
      "Deprecated in NumPy 1.20; for more details and guidance: https://numpy.org/devdocs/release/1.20.0-notes.html#deprecations\n",
      "  std[std < np.finfo(np.float).eps] = 1.  # avoid numerical problems\n",
      "/home/hannahcraddock/anaconda3/envs/hannah_env/lib/python3.9/site-packages/nilearn/signal.py:68: DeprecationWarning: `np.float` is a deprecated alias for the builtin `float`. To silence this warning, use `float` by itself. Doing this will not modify any behavior and is safe. If you specifically wanted the numpy scalar type, use `np.float64` here.\n",
      "Deprecated in NumPy 1.20; for more details and guidance: https://numpy.org/devdocs/release/1.20.0-notes.html#deprecations\n",
      "  std[std < np.finfo(np.float).eps] = 1.  # avoid numerical problems\n",
      "/home/hannahcraddock/anaconda3/envs/hannah_env/lib/python3.9/site-packages/nilearn/signal.py:68: DeprecationWarning: `np.float` is a deprecated alias for the builtin `float`. To silence this warning, use `float` by itself. Doing this will not modify any behavior and is safe. If you specifically wanted the numpy scalar type, use `np.float64` here.\n",
      "Deprecated in NumPy 1.20; for more details and guidance: https://numpy.org/devdocs/release/1.20.0-notes.html#deprecations\n",
      "  std[std < np.finfo(np.float).eps] = 1.  # avoid numerical problems\n",
      "/home/hannahcraddock/anaconda3/envs/hannah_env/lib/python3.9/site-packages/nilearn/signal.py:68: DeprecationWarning: `np.float` is a deprecated alias for the builtin `float`. To silence this warning, use `float` by itself. Doing this will not modify any behavior and is safe. If you specifically wanted the numpy scalar type, use `np.float64` here.\n",
      "Deprecated in NumPy 1.20; for more details and guidance: https://numpy.org/devdocs/release/1.20.0-notes.html#deprecations\n",
      "  std[std < np.finfo(np.float).eps] = 1.  # avoid numerical problems\n",
      "/home/hannahcraddock/anaconda3/envs/hannah_env/lib/python3.9/site-packages/nilearn/signal.py:68: DeprecationWarning: `np.float` is a deprecated alias for the builtin `float`. To silence this warning, use `float` by itself. Doing this will not modify any behavior and is safe. If you specifically wanted the numpy scalar type, use `np.float64` here.\n",
      "Deprecated in NumPy 1.20; for more details and guidance: https://numpy.org/devdocs/release/1.20.0-notes.html#deprecations\n",
      "  std[std < np.finfo(np.float).eps] = 1.  # avoid numerical problems\n",
      "/home/hannahcraddock/anaconda3/envs/hannah_env/lib/python3.9/site-packages/nilearn/signal.py:68: DeprecationWarning: `np.float` is a deprecated alias for the builtin `float`. To silence this warning, use `float` by itself. Doing this will not modify any behavior and is safe. If you specifically wanted the numpy scalar type, use `np.float64` here.\n",
      "Deprecated in NumPy 1.20; for more details and guidance: https://numpy.org/devdocs/release/1.20.0-notes.html#deprecations\n",
      "  std[std < np.finfo(np.float).eps] = 1.  # avoid numerical problems\n",
      "/home/hannahcraddock/anaconda3/envs/hannah_env/lib/python3.9/site-packages/nilearn/signal.py:68: DeprecationWarning: `np.float` is a deprecated alias for the builtin `float`. To silence this warning, use `float` by itself. Doing this will not modify any behavior and is safe. If you specifically wanted the numpy scalar type, use `np.float64` here.\n",
      "Deprecated in NumPy 1.20; for more details and guidance: https://numpy.org/devdocs/release/1.20.0-notes.html#deprecations\n",
      "  std[std < np.finfo(np.float).eps] = 1.  # avoid numerical problems\n",
      "/home/hannahcraddock/anaconda3/envs/hannah_env/lib/python3.9/site-packages/nilearn/signal.py:68: DeprecationWarning: `np.float` is a deprecated alias for the builtin `float`. To silence this warning, use `float` by itself. Doing this will not modify any behavior and is safe. If you specifically wanted the numpy scalar type, use `np.float64` here.\n",
      "Deprecated in NumPy 1.20; for more details and guidance: https://numpy.org/devdocs/release/1.20.0-notes.html#deprecations\n",
      "  std[std < np.finfo(np.float).eps] = 1.  # avoid numerical problems\n",
      "/home/hannahcraddock/anaconda3/envs/hannah_env/lib/python3.9/site-packages/nilearn/signal.py:68: DeprecationWarning: `np.float` is a deprecated alias for the builtin `float`. To silence this warning, use `float` by itself. Doing this will not modify any behavior and is safe. If you specifically wanted the numpy scalar type, use `np.float64` here.\n",
      "Deprecated in NumPy 1.20; for more details and guidance: https://numpy.org/devdocs/release/1.20.0-notes.html#deprecations\n",
      "  std[std < np.finfo(np.float).eps] = 1.  # avoid numerical problems\n",
      "/home/hannahcraddock/anaconda3/envs/hannah_env/lib/python3.9/site-packages/nilearn/signal.py:68: DeprecationWarning: `np.float` is a deprecated alias for the builtin `float`. To silence this warning, use `float` by itself. Doing this will not modify any behavior and is safe. If you specifically wanted the numpy scalar type, use `np.float64` here.\n",
      "Deprecated in NumPy 1.20; for more details and guidance: https://numpy.org/devdocs/release/1.20.0-notes.html#deprecations\n",
      "  std[std < np.finfo(np.float).eps] = 1.  # avoid numerical problems\n",
      "/home/hannahcraddock/anaconda3/envs/hannah_env/lib/python3.9/site-packages/nilearn/signal.py:68: DeprecationWarning: `np.float` is a deprecated alias for the builtin `float`. To silence this warning, use `float` by itself. Doing this will not modify any behavior and is safe. If you specifically wanted the numpy scalar type, use `np.float64` here.\n",
      "Deprecated in NumPy 1.20; for more details and guidance: https://numpy.org/devdocs/release/1.20.0-notes.html#deprecations\n",
      "  std[std < np.finfo(np.float).eps] = 1.  # avoid numerical problems\n",
      "/home/hannahcraddock/anaconda3/envs/hannah_env/lib/python3.9/site-packages/nilearn/signal.py:68: DeprecationWarning: `np.float` is a deprecated alias for the builtin `float`. To silence this warning, use `float` by itself. Doing this will not modify any behavior and is safe. If you specifically wanted the numpy scalar type, use `np.float64` here.\n",
      "Deprecated in NumPy 1.20; for more details and guidance: https://numpy.org/devdocs/release/1.20.0-notes.html#deprecations\n",
      "  std[std < np.finfo(np.float).eps] = 1.  # avoid numerical problems\n",
      "/home/hannahcraddock/anaconda3/envs/hannah_env/lib/python3.9/site-packages/nilearn/signal.py:68: DeprecationWarning: `np.float` is a deprecated alias for the builtin `float`. To silence this warning, use `float` by itself. Doing this will not modify any behavior and is safe. If you specifically wanted the numpy scalar type, use `np.float64` here.\n",
      "Deprecated in NumPy 1.20; for more details and guidance: https://numpy.org/devdocs/release/1.20.0-notes.html#deprecations\n",
      "  std[std < np.finfo(np.float).eps] = 1.  # avoid numerical problems\n"
     ]
    },
    {
     "name": "stderr",
     "output_type": "stream",
     "text": [
      "/home/hannahcraddock/anaconda3/envs/hannah_env/lib/python3.9/site-packages/nilearn/signal.py:68: DeprecationWarning: `np.float` is a deprecated alias for the builtin `float`. To silence this warning, use `float` by itself. Doing this will not modify any behavior and is safe. If you specifically wanted the numpy scalar type, use `np.float64` here.\n",
      "Deprecated in NumPy 1.20; for more details and guidance: https://numpy.org/devdocs/release/1.20.0-notes.html#deprecations\n",
      "  std[std < np.finfo(np.float).eps] = 1.  # avoid numerical problems\n",
      "/home/hannahcraddock/anaconda3/envs/hannah_env/lib/python3.9/site-packages/nilearn/signal.py:68: DeprecationWarning: `np.float` is a deprecated alias for the builtin `float`. To silence this warning, use `float` by itself. Doing this will not modify any behavior and is safe. If you specifically wanted the numpy scalar type, use `np.float64` here.\n",
      "Deprecated in NumPy 1.20; for more details and guidance: https://numpy.org/devdocs/release/1.20.0-notes.html#deprecations\n",
      "  std[std < np.finfo(np.float).eps] = 1.  # avoid numerical problems\n",
      "/home/hannahcraddock/anaconda3/envs/hannah_env/lib/python3.9/site-packages/nilearn/signal.py:68: DeprecationWarning: `np.float` is a deprecated alias for the builtin `float`. To silence this warning, use `float` by itself. Doing this will not modify any behavior and is safe. If you specifically wanted the numpy scalar type, use `np.float64` here.\n",
      "Deprecated in NumPy 1.20; for more details and guidance: https://numpy.org/devdocs/release/1.20.0-notes.html#deprecations\n",
      "  std[std < np.finfo(np.float).eps] = 1.  # avoid numerical problems\n",
      "/home/hannahcraddock/anaconda3/envs/hannah_env/lib/python3.9/site-packages/nilearn/signal.py:68: DeprecationWarning: `np.float` is a deprecated alias for the builtin `float`. To silence this warning, use `float` by itself. Doing this will not modify any behavior and is safe. If you specifically wanted the numpy scalar type, use `np.float64` here.\n",
      "Deprecated in NumPy 1.20; for more details and guidance: https://numpy.org/devdocs/release/1.20.0-notes.html#deprecations\n",
      "  std[std < np.finfo(np.float).eps] = 1.  # avoid numerical problems\n",
      "/home/hannahcraddock/anaconda3/envs/hannah_env/lib/python3.9/site-packages/nilearn/signal.py:68: DeprecationWarning: `np.float` is a deprecated alias for the builtin `float`. To silence this warning, use `float` by itself. Doing this will not modify any behavior and is safe. If you specifically wanted the numpy scalar type, use `np.float64` here.\n",
      "Deprecated in NumPy 1.20; for more details and guidance: https://numpy.org/devdocs/release/1.20.0-notes.html#deprecations\n",
      "  std[std < np.finfo(np.float).eps] = 1.  # avoid numerical problems\n",
      "/home/hannahcraddock/anaconda3/envs/hannah_env/lib/python3.9/site-packages/nilearn/signal.py:68: DeprecationWarning: `np.float` is a deprecated alias for the builtin `float`. To silence this warning, use `float` by itself. Doing this will not modify any behavior and is safe. If you specifically wanted the numpy scalar type, use `np.float64` here.\n",
      "Deprecated in NumPy 1.20; for more details and guidance: https://numpy.org/devdocs/release/1.20.0-notes.html#deprecations\n",
      "  std[std < np.finfo(np.float).eps] = 1.  # avoid numerical problems\n",
      "/home/hannahcraddock/anaconda3/envs/hannah_env/lib/python3.9/site-packages/nilearn/signal.py:68: DeprecationWarning: `np.float` is a deprecated alias for the builtin `float`. To silence this warning, use `float` by itself. Doing this will not modify any behavior and is safe. If you specifically wanted the numpy scalar type, use `np.float64` here.\n",
      "Deprecated in NumPy 1.20; for more details and guidance: https://numpy.org/devdocs/release/1.20.0-notes.html#deprecations\n",
      "  std[std < np.finfo(np.float).eps] = 1.  # avoid numerical problems\n",
      "/home/hannahcraddock/anaconda3/envs/hannah_env/lib/python3.9/site-packages/nilearn/signal.py:68: DeprecationWarning: `np.float` is a deprecated alias for the builtin `float`. To silence this warning, use `float` by itself. Doing this will not modify any behavior and is safe. If you specifically wanted the numpy scalar type, use `np.float64` here.\n",
      "Deprecated in NumPy 1.20; for more details and guidance: https://numpy.org/devdocs/release/1.20.0-notes.html#deprecations\n",
      "  std[std < np.finfo(np.float).eps] = 1.  # avoid numerical problems\n",
      "/home/hannahcraddock/anaconda3/envs/hannah_env/lib/python3.9/site-packages/nilearn/signal.py:68: DeprecationWarning: `np.float` is a deprecated alias for the builtin `float`. To silence this warning, use `float` by itself. Doing this will not modify any behavior and is safe. If you specifically wanted the numpy scalar type, use `np.float64` here.\n",
      "Deprecated in NumPy 1.20; for more details and guidance: https://numpy.org/devdocs/release/1.20.0-notes.html#deprecations\n",
      "  std[std < np.finfo(np.float).eps] = 1.  # avoid numerical problems\n",
      "/home/hannahcraddock/anaconda3/envs/hannah_env/lib/python3.9/site-packages/nilearn/signal.py:68: DeprecationWarning: `np.float` is a deprecated alias for the builtin `float`. To silence this warning, use `float` by itself. Doing this will not modify any behavior and is safe. If you specifically wanted the numpy scalar type, use `np.float64` here.\n",
      "Deprecated in NumPy 1.20; for more details and guidance: https://numpy.org/devdocs/release/1.20.0-notes.html#deprecations\n",
      "  std[std < np.finfo(np.float).eps] = 1.  # avoid numerical problems\n",
      "/home/hannahcraddock/anaconda3/envs/hannah_env/lib/python3.9/site-packages/nilearn/signal.py:68: DeprecationWarning: `np.float` is a deprecated alias for the builtin `float`. To silence this warning, use `float` by itself. Doing this will not modify any behavior and is safe. If you specifically wanted the numpy scalar type, use `np.float64` here.\n",
      "Deprecated in NumPy 1.20; for more details and guidance: https://numpy.org/devdocs/release/1.20.0-notes.html#deprecations\n",
      "  std[std < np.finfo(np.float).eps] = 1.  # avoid numerical problems\n",
      "/home/hannahcraddock/anaconda3/envs/hannah_env/lib/python3.9/site-packages/nilearn/signal.py:68: DeprecationWarning: `np.float` is a deprecated alias for the builtin `float`. To silence this warning, use `float` by itself. Doing this will not modify any behavior and is safe. If you specifically wanted the numpy scalar type, use `np.float64` here.\n",
      "Deprecated in NumPy 1.20; for more details and guidance: https://numpy.org/devdocs/release/1.20.0-notes.html#deprecations\n",
      "  std[std < np.finfo(np.float).eps] = 1.  # avoid numerical problems\n",
      "/home/hannahcraddock/anaconda3/envs/hannah_env/lib/python3.9/site-packages/nilearn/signal.py:68: DeprecationWarning: `np.float` is a deprecated alias for the builtin `float`. To silence this warning, use `float` by itself. Doing this will not modify any behavior and is safe. If you specifically wanted the numpy scalar type, use `np.float64` here.\n",
      "Deprecated in NumPy 1.20; for more details and guidance: https://numpy.org/devdocs/release/1.20.0-notes.html#deprecations\n",
      "  std[std < np.finfo(np.float).eps] = 1.  # avoid numerical problems\n",
      "/home/hannahcraddock/anaconda3/envs/hannah_env/lib/python3.9/site-packages/nilearn/signal.py:68: DeprecationWarning: `np.float` is a deprecated alias for the builtin `float`. To silence this warning, use `float` by itself. Doing this will not modify any behavior and is safe. If you specifically wanted the numpy scalar type, use `np.float64` here.\n",
      "Deprecated in NumPy 1.20; for more details and guidance: https://numpy.org/devdocs/release/1.20.0-notes.html#deprecations\n",
      "  std[std < np.finfo(np.float).eps] = 1.  # avoid numerical problems\n",
      "/home/hannahcraddock/anaconda3/envs/hannah_env/lib/python3.9/site-packages/nilearn/signal.py:68: DeprecationWarning: `np.float` is a deprecated alias for the builtin `float`. To silence this warning, use `float` by itself. Doing this will not modify any behavior and is safe. If you specifically wanted the numpy scalar type, use `np.float64` here.\n",
      "Deprecated in NumPy 1.20; for more details and guidance: https://numpy.org/devdocs/release/1.20.0-notes.html#deprecations\n",
      "  std[std < np.finfo(np.float).eps] = 1.  # avoid numerical problems\n",
      "/home/hannahcraddock/anaconda3/envs/hannah_env/lib/python3.9/site-packages/nilearn/signal.py:68: DeprecationWarning: `np.float` is a deprecated alias for the builtin `float`. To silence this warning, use `float` by itself. Doing this will not modify any behavior and is safe. If you specifically wanted the numpy scalar type, use `np.float64` here.\n",
      "Deprecated in NumPy 1.20; for more details and guidance: https://numpy.org/devdocs/release/1.20.0-notes.html#deprecations\n",
      "  std[std < np.finfo(np.float).eps] = 1.  # avoid numerical problems\n"
     ]
    },
    {
     "name": "stderr",
     "output_type": "stream",
     "text": [
      "/home/hannahcraddock/anaconda3/envs/hannah_env/lib/python3.9/site-packages/nilearn/signal.py:68: DeprecationWarning: `np.float` is a deprecated alias for the builtin `float`. To silence this warning, use `float` by itself. Doing this will not modify any behavior and is safe. If you specifically wanted the numpy scalar type, use `np.float64` here.\n",
      "Deprecated in NumPy 1.20; for more details and guidance: https://numpy.org/devdocs/release/1.20.0-notes.html#deprecations\n",
      "  std[std < np.finfo(np.float).eps] = 1.  # avoid numerical problems\n",
      "/home/hannahcraddock/anaconda3/envs/hannah_env/lib/python3.9/site-packages/nilearn/signal.py:68: DeprecationWarning: `np.float` is a deprecated alias for the builtin `float`. To silence this warning, use `float` by itself. Doing this will not modify any behavior and is safe. If you specifically wanted the numpy scalar type, use `np.float64` here.\n",
      "Deprecated in NumPy 1.20; for more details and guidance: https://numpy.org/devdocs/release/1.20.0-notes.html#deprecations\n",
      "  std[std < np.finfo(np.float).eps] = 1.  # avoid numerical problems\n",
      "/home/hannahcraddock/anaconda3/envs/hannah_env/lib/python3.9/site-packages/nilearn/signal.py:68: DeprecationWarning: `np.float` is a deprecated alias for the builtin `float`. To silence this warning, use `float` by itself. Doing this will not modify any behavior and is safe. If you specifically wanted the numpy scalar type, use `np.float64` here.\n",
      "Deprecated in NumPy 1.20; for more details and guidance: https://numpy.org/devdocs/release/1.20.0-notes.html#deprecations\n",
      "  std[std < np.finfo(np.float).eps] = 1.  # avoid numerical problems\n",
      "/home/hannahcraddock/anaconda3/envs/hannah_env/lib/python3.9/site-packages/nilearn/signal.py:68: DeprecationWarning: `np.float` is a deprecated alias for the builtin `float`. To silence this warning, use `float` by itself. Doing this will not modify any behavior and is safe. If you specifically wanted the numpy scalar type, use `np.float64` here.\n",
      "Deprecated in NumPy 1.20; for more details and guidance: https://numpy.org/devdocs/release/1.20.0-notes.html#deprecations\n",
      "  std[std < np.finfo(np.float).eps] = 1.  # avoid numerical problems\n",
      "/home/hannahcraddock/anaconda3/envs/hannah_env/lib/python3.9/site-packages/nilearn/signal.py:68: DeprecationWarning: `np.float` is a deprecated alias for the builtin `float`. To silence this warning, use `float` by itself. Doing this will not modify any behavior and is safe. If you specifically wanted the numpy scalar type, use `np.float64` here.\n",
      "Deprecated in NumPy 1.20; for more details and guidance: https://numpy.org/devdocs/release/1.20.0-notes.html#deprecations\n",
      "  std[std < np.finfo(np.float).eps] = 1.  # avoid numerical problems\n",
      "/home/hannahcraddock/anaconda3/envs/hannah_env/lib/python3.9/site-packages/nilearn/signal.py:68: DeprecationWarning: `np.float` is a deprecated alias for the builtin `float`. To silence this warning, use `float` by itself. Doing this will not modify any behavior and is safe. If you specifically wanted the numpy scalar type, use `np.float64` here.\n",
      "Deprecated in NumPy 1.20; for more details and guidance: https://numpy.org/devdocs/release/1.20.0-notes.html#deprecations\n",
      "  std[std < np.finfo(np.float).eps] = 1.  # avoid numerical problems\n",
      "/home/hannahcraddock/anaconda3/envs/hannah_env/lib/python3.9/site-packages/nilearn/signal.py:68: DeprecationWarning: `np.float` is a deprecated alias for the builtin `float`. To silence this warning, use `float` by itself. Doing this will not modify any behavior and is safe. If you specifically wanted the numpy scalar type, use `np.float64` here.\n",
      "Deprecated in NumPy 1.20; for more details and guidance: https://numpy.org/devdocs/release/1.20.0-notes.html#deprecations\n",
      "  std[std < np.finfo(np.float).eps] = 1.  # avoid numerical problems\n",
      "/home/hannahcraddock/anaconda3/envs/hannah_env/lib/python3.9/site-packages/nilearn/signal.py:68: DeprecationWarning: `np.float` is a deprecated alias for the builtin `float`. To silence this warning, use `float` by itself. Doing this will not modify any behavior and is safe. If you specifically wanted the numpy scalar type, use `np.float64` here.\n",
      "Deprecated in NumPy 1.20; for more details and guidance: https://numpy.org/devdocs/release/1.20.0-notes.html#deprecations\n",
      "  std[std < np.finfo(np.float).eps] = 1.  # avoid numerical problems\n",
      "/home/hannahcraddock/anaconda3/envs/hannah_env/lib/python3.9/site-packages/nilearn/signal.py:68: DeprecationWarning: `np.float` is a deprecated alias for the builtin `float`. To silence this warning, use `float` by itself. Doing this will not modify any behavior and is safe. If you specifically wanted the numpy scalar type, use `np.float64` here.\n",
      "Deprecated in NumPy 1.20; for more details and guidance: https://numpy.org/devdocs/release/1.20.0-notes.html#deprecations\n",
      "  std[std < np.finfo(np.float).eps] = 1.  # avoid numerical problems\n",
      "/home/hannahcraddock/anaconda3/envs/hannah_env/lib/python3.9/site-packages/nilearn/signal.py:68: DeprecationWarning: `np.float` is a deprecated alias for the builtin `float`. To silence this warning, use `float` by itself. Doing this will not modify any behavior and is safe. If you specifically wanted the numpy scalar type, use `np.float64` here.\n",
      "Deprecated in NumPy 1.20; for more details and guidance: https://numpy.org/devdocs/release/1.20.0-notes.html#deprecations\n",
      "  std[std < np.finfo(np.float).eps] = 1.  # avoid numerical problems\n",
      "/home/hannahcraddock/anaconda3/envs/hannah_env/lib/python3.9/site-packages/nilearn/signal.py:68: DeprecationWarning: `np.float` is a deprecated alias for the builtin `float`. To silence this warning, use `float` by itself. Doing this will not modify any behavior and is safe. If you specifically wanted the numpy scalar type, use `np.float64` here.\n",
      "Deprecated in NumPy 1.20; for more details and guidance: https://numpy.org/devdocs/release/1.20.0-notes.html#deprecations\n",
      "  std[std < np.finfo(np.float).eps] = 1.  # avoid numerical problems\n",
      "/home/hannahcraddock/anaconda3/envs/hannah_env/lib/python3.9/site-packages/nilearn/signal.py:68: DeprecationWarning: `np.float` is a deprecated alias for the builtin `float`. To silence this warning, use `float` by itself. Doing this will not modify any behavior and is safe. If you specifically wanted the numpy scalar type, use `np.float64` here.\n",
      "Deprecated in NumPy 1.20; for more details and guidance: https://numpy.org/devdocs/release/1.20.0-notes.html#deprecations\n",
      "  std[std < np.finfo(np.float).eps] = 1.  # avoid numerical problems\n",
      "/home/hannahcraddock/anaconda3/envs/hannah_env/lib/python3.9/site-packages/nilearn/signal.py:68: DeprecationWarning: `np.float` is a deprecated alias for the builtin `float`. To silence this warning, use `float` by itself. Doing this will not modify any behavior and is safe. If you specifically wanted the numpy scalar type, use `np.float64` here.\n",
      "Deprecated in NumPy 1.20; for more details and guidance: https://numpy.org/devdocs/release/1.20.0-notes.html#deprecations\n",
      "  std[std < np.finfo(np.float).eps] = 1.  # avoid numerical problems\n",
      "/home/hannahcraddock/anaconda3/envs/hannah_env/lib/python3.9/site-packages/nilearn/signal.py:68: DeprecationWarning: `np.float` is a deprecated alias for the builtin `float`. To silence this warning, use `float` by itself. Doing this will not modify any behavior and is safe. If you specifically wanted the numpy scalar type, use `np.float64` here.\n",
      "Deprecated in NumPy 1.20; for more details and guidance: https://numpy.org/devdocs/release/1.20.0-notes.html#deprecations\n",
      "  std[std < np.finfo(np.float).eps] = 1.  # avoid numerical problems\n",
      "/home/hannahcraddock/anaconda3/envs/hannah_env/lib/python3.9/site-packages/nilearn/signal.py:68: DeprecationWarning: `np.float` is a deprecated alias for the builtin `float`. To silence this warning, use `float` by itself. Doing this will not modify any behavior and is safe. If you specifically wanted the numpy scalar type, use `np.float64` here.\n",
      "Deprecated in NumPy 1.20; for more details and guidance: https://numpy.org/devdocs/release/1.20.0-notes.html#deprecations\n",
      "  std[std < np.finfo(np.float).eps] = 1.  # avoid numerical problems\n",
      "/home/hannahcraddock/anaconda3/envs/hannah_env/lib/python3.9/site-packages/nilearn/signal.py:68: DeprecationWarning: `np.float` is a deprecated alias for the builtin `float`. To silence this warning, use `float` by itself. Doing this will not modify any behavior and is safe. If you specifically wanted the numpy scalar type, use `np.float64` here.\n",
      "Deprecated in NumPy 1.20; for more details and guidance: https://numpy.org/devdocs/release/1.20.0-notes.html#deprecations\n",
      "  std[std < np.finfo(np.float).eps] = 1.  # avoid numerical problems\n",
      "/home/hannahcraddock/anaconda3/envs/hannah_env/lib/python3.9/site-packages/nilearn/signal.py:68: DeprecationWarning: `np.float` is a deprecated alias for the builtin `float`. To silence this warning, use `float` by itself. Doing this will not modify any behavior and is safe. If you specifically wanted the numpy scalar type, use `np.float64` here.\n",
      "Deprecated in NumPy 1.20; for more details and guidance: https://numpy.org/devdocs/release/1.20.0-notes.html#deprecations\n",
      "  std[std < np.finfo(np.float).eps] = 1.  # avoid numerical problems\n"
     ]
    },
    {
     "name": "stderr",
     "output_type": "stream",
     "text": [
      "/home/hannahcraddock/anaconda3/envs/hannah_env/lib/python3.9/site-packages/nilearn/signal.py:68: DeprecationWarning: `np.float` is a deprecated alias for the builtin `float`. To silence this warning, use `float` by itself. Doing this will not modify any behavior and is safe. If you specifically wanted the numpy scalar type, use `np.float64` here.\n",
      "Deprecated in NumPy 1.20; for more details and guidance: https://numpy.org/devdocs/release/1.20.0-notes.html#deprecations\n",
      "  std[std < np.finfo(np.float).eps] = 1.  # avoid numerical problems\n",
      "/home/hannahcraddock/anaconda3/envs/hannah_env/lib/python3.9/site-packages/nilearn/signal.py:68: DeprecationWarning: `np.float` is a deprecated alias for the builtin `float`. To silence this warning, use `float` by itself. Doing this will not modify any behavior and is safe. If you specifically wanted the numpy scalar type, use `np.float64` here.\n",
      "Deprecated in NumPy 1.20; for more details and guidance: https://numpy.org/devdocs/release/1.20.0-notes.html#deprecations\n",
      "  std[std < np.finfo(np.float).eps] = 1.  # avoid numerical problems\n",
      "/home/hannahcraddock/anaconda3/envs/hannah_env/lib/python3.9/site-packages/nilearn/signal.py:68: DeprecationWarning: `np.float` is a deprecated alias for the builtin `float`. To silence this warning, use `float` by itself. Doing this will not modify any behavior and is safe. If you specifically wanted the numpy scalar type, use `np.float64` here.\n",
      "Deprecated in NumPy 1.20; for more details and guidance: https://numpy.org/devdocs/release/1.20.0-notes.html#deprecations\n",
      "  std[std < np.finfo(np.float).eps] = 1.  # avoid numerical problems\n",
      "/home/hannahcraddock/anaconda3/envs/hannah_env/lib/python3.9/site-packages/nilearn/signal.py:68: DeprecationWarning: `np.float` is a deprecated alias for the builtin `float`. To silence this warning, use `float` by itself. Doing this will not modify any behavior and is safe. If you specifically wanted the numpy scalar type, use `np.float64` here.\n",
      "Deprecated in NumPy 1.20; for more details and guidance: https://numpy.org/devdocs/release/1.20.0-notes.html#deprecations\n",
      "  std[std < np.finfo(np.float).eps] = 1.  # avoid numerical problems\n",
      "/home/hannahcraddock/anaconda3/envs/hannah_env/lib/python3.9/site-packages/nilearn/signal.py:68: DeprecationWarning: `np.float` is a deprecated alias for the builtin `float`. To silence this warning, use `float` by itself. Doing this will not modify any behavior and is safe. If you specifically wanted the numpy scalar type, use `np.float64` here.\n",
      "Deprecated in NumPy 1.20; for more details and guidance: https://numpy.org/devdocs/release/1.20.0-notes.html#deprecations\n",
      "  std[std < np.finfo(np.float).eps] = 1.  # avoid numerical problems\n",
      "/home/hannahcraddock/anaconda3/envs/hannah_env/lib/python3.9/site-packages/nilearn/signal.py:68: DeprecationWarning: `np.float` is a deprecated alias for the builtin `float`. To silence this warning, use `float` by itself. Doing this will not modify any behavior and is safe. If you specifically wanted the numpy scalar type, use `np.float64` here.\n",
      "Deprecated in NumPy 1.20; for more details and guidance: https://numpy.org/devdocs/release/1.20.0-notes.html#deprecations\n",
      "  std[std < np.finfo(np.float).eps] = 1.  # avoid numerical problems\n",
      "/home/hannahcraddock/anaconda3/envs/hannah_env/lib/python3.9/site-packages/nilearn/signal.py:68: DeprecationWarning: `np.float` is a deprecated alias for the builtin `float`. To silence this warning, use `float` by itself. Doing this will not modify any behavior and is safe. If you specifically wanted the numpy scalar type, use `np.float64` here.\n",
      "Deprecated in NumPy 1.20; for more details and guidance: https://numpy.org/devdocs/release/1.20.0-notes.html#deprecations\n",
      "  std[std < np.finfo(np.float).eps] = 1.  # avoid numerical problems\n",
      "/home/hannahcraddock/anaconda3/envs/hannah_env/lib/python3.9/site-packages/nilearn/signal.py:68: DeprecationWarning: `np.float` is a deprecated alias for the builtin `float`. To silence this warning, use `float` by itself. Doing this will not modify any behavior and is safe. If you specifically wanted the numpy scalar type, use `np.float64` here.\n",
      "Deprecated in NumPy 1.20; for more details and guidance: https://numpy.org/devdocs/release/1.20.0-notes.html#deprecations\n",
      "  std[std < np.finfo(np.float).eps] = 1.  # avoid numerical problems\n",
      "/home/hannahcraddock/anaconda3/envs/hannah_env/lib/python3.9/site-packages/nilearn/signal.py:68: DeprecationWarning: `np.float` is a deprecated alias for the builtin `float`. To silence this warning, use `float` by itself. Doing this will not modify any behavior and is safe. If you specifically wanted the numpy scalar type, use `np.float64` here.\n",
      "Deprecated in NumPy 1.20; for more details and guidance: https://numpy.org/devdocs/release/1.20.0-notes.html#deprecations\n",
      "  std[std < np.finfo(np.float).eps] = 1.  # avoid numerical problems\n",
      "/home/hannahcraddock/anaconda3/envs/hannah_env/lib/python3.9/site-packages/nilearn/signal.py:68: DeprecationWarning: `np.float` is a deprecated alias for the builtin `float`. To silence this warning, use `float` by itself. Doing this will not modify any behavior and is safe. If you specifically wanted the numpy scalar type, use `np.float64` here.\n",
      "Deprecated in NumPy 1.20; for more details and guidance: https://numpy.org/devdocs/release/1.20.0-notes.html#deprecations\n",
      "  std[std < np.finfo(np.float).eps] = 1.  # avoid numerical problems\n",
      "/home/hannahcraddock/anaconda3/envs/hannah_env/lib/python3.9/site-packages/nilearn/signal.py:68: DeprecationWarning: `np.float` is a deprecated alias for the builtin `float`. To silence this warning, use `float` by itself. Doing this will not modify any behavior and is safe. If you specifically wanted the numpy scalar type, use `np.float64` here.\n",
      "Deprecated in NumPy 1.20; for more details and guidance: https://numpy.org/devdocs/release/1.20.0-notes.html#deprecations\n",
      "  std[std < np.finfo(np.float).eps] = 1.  # avoid numerical problems\n",
      "/home/hannahcraddock/anaconda3/envs/hannah_env/lib/python3.9/site-packages/nilearn/signal.py:68: DeprecationWarning: `np.float` is a deprecated alias for the builtin `float`. To silence this warning, use `float` by itself. Doing this will not modify any behavior and is safe. If you specifically wanted the numpy scalar type, use `np.float64` here.\n",
      "Deprecated in NumPy 1.20; for more details and guidance: https://numpy.org/devdocs/release/1.20.0-notes.html#deprecations\n",
      "  std[std < np.finfo(np.float).eps] = 1.  # avoid numerical problems\n",
      "/home/hannahcraddock/anaconda3/envs/hannah_env/lib/python3.9/site-packages/nilearn/signal.py:68: DeprecationWarning: `np.float` is a deprecated alias for the builtin `float`. To silence this warning, use `float` by itself. Doing this will not modify any behavior and is safe. If you specifically wanted the numpy scalar type, use `np.float64` here.\n",
      "Deprecated in NumPy 1.20; for more details and guidance: https://numpy.org/devdocs/release/1.20.0-notes.html#deprecations\n",
      "  std[std < np.finfo(np.float).eps] = 1.  # avoid numerical problems\n",
      "/home/hannahcraddock/anaconda3/envs/hannah_env/lib/python3.9/site-packages/nilearn/signal.py:68: DeprecationWarning: `np.float` is a deprecated alias for the builtin `float`. To silence this warning, use `float` by itself. Doing this will not modify any behavior and is safe. If you specifically wanted the numpy scalar type, use `np.float64` here.\n",
      "Deprecated in NumPy 1.20; for more details and guidance: https://numpy.org/devdocs/release/1.20.0-notes.html#deprecations\n",
      "  std[std < np.finfo(np.float).eps] = 1.  # avoid numerical problems\n",
      "/home/hannahcraddock/anaconda3/envs/hannah_env/lib/python3.9/site-packages/nilearn/signal.py:68: DeprecationWarning: `np.float` is a deprecated alias for the builtin `float`. To silence this warning, use `float` by itself. Doing this will not modify any behavior and is safe. If you specifically wanted the numpy scalar type, use `np.float64` here.\n",
      "Deprecated in NumPy 1.20; for more details and guidance: https://numpy.org/devdocs/release/1.20.0-notes.html#deprecations\n",
      "  std[std < np.finfo(np.float).eps] = 1.  # avoid numerical problems\n",
      "/home/hannahcraddock/anaconda3/envs/hannah_env/lib/python3.9/site-packages/nilearn/signal.py:68: DeprecationWarning: `np.float` is a deprecated alias for the builtin `float`. To silence this warning, use `float` by itself. Doing this will not modify any behavior and is safe. If you specifically wanted the numpy scalar type, use `np.float64` here.\n",
      "Deprecated in NumPy 1.20; for more details and guidance: https://numpy.org/devdocs/release/1.20.0-notes.html#deprecations\n",
      "  std[std < np.finfo(np.float).eps] = 1.  # avoid numerical problems\n"
     ]
    },
    {
     "name": "stderr",
     "output_type": "stream",
     "text": [
      "/home/hannahcraddock/anaconda3/envs/hannah_env/lib/python3.9/site-packages/nilearn/signal.py:68: DeprecationWarning: `np.float` is a deprecated alias for the builtin `float`. To silence this warning, use `float` by itself. Doing this will not modify any behavior and is safe. If you specifically wanted the numpy scalar type, use `np.float64` here.\n",
      "Deprecated in NumPy 1.20; for more details and guidance: https://numpy.org/devdocs/release/1.20.0-notes.html#deprecations\n",
      "  std[std < np.finfo(np.float).eps] = 1.  # avoid numerical problems\n",
      "/home/hannahcraddock/anaconda3/envs/hannah_env/lib/python3.9/site-packages/nilearn/signal.py:68: DeprecationWarning: `np.float` is a deprecated alias for the builtin `float`. To silence this warning, use `float` by itself. Doing this will not modify any behavior and is safe. If you specifically wanted the numpy scalar type, use `np.float64` here.\n",
      "Deprecated in NumPy 1.20; for more details and guidance: https://numpy.org/devdocs/release/1.20.0-notes.html#deprecations\n",
      "  std[std < np.finfo(np.float).eps] = 1.  # avoid numerical problems\n",
      "/home/hannahcraddock/anaconda3/envs/hannah_env/lib/python3.9/site-packages/nilearn/signal.py:68: DeprecationWarning: `np.float` is a deprecated alias for the builtin `float`. To silence this warning, use `float` by itself. Doing this will not modify any behavior and is safe. If you specifically wanted the numpy scalar type, use `np.float64` here.\n",
      "Deprecated in NumPy 1.20; for more details and guidance: https://numpy.org/devdocs/release/1.20.0-notes.html#deprecations\n",
      "  std[std < np.finfo(np.float).eps] = 1.  # avoid numerical problems\n",
      "/home/hannahcraddock/anaconda3/envs/hannah_env/lib/python3.9/site-packages/nilearn/signal.py:68: DeprecationWarning: `np.float` is a deprecated alias for the builtin `float`. To silence this warning, use `float` by itself. Doing this will not modify any behavior and is safe. If you specifically wanted the numpy scalar type, use `np.float64` here.\n",
      "Deprecated in NumPy 1.20; for more details and guidance: https://numpy.org/devdocs/release/1.20.0-notes.html#deprecations\n",
      "  std[std < np.finfo(np.float).eps] = 1.  # avoid numerical problems\n",
      "/home/hannahcraddock/anaconda3/envs/hannah_env/lib/python3.9/site-packages/nilearn/signal.py:68: DeprecationWarning: `np.float` is a deprecated alias for the builtin `float`. To silence this warning, use `float` by itself. Doing this will not modify any behavior and is safe. If you specifically wanted the numpy scalar type, use `np.float64` here.\n",
      "Deprecated in NumPy 1.20; for more details and guidance: https://numpy.org/devdocs/release/1.20.0-notes.html#deprecations\n",
      "  std[std < np.finfo(np.float).eps] = 1.  # avoid numerical problems\n",
      "/home/hannahcraddock/anaconda3/envs/hannah_env/lib/python3.9/site-packages/nilearn/signal.py:68: DeprecationWarning: `np.float` is a deprecated alias for the builtin `float`. To silence this warning, use `float` by itself. Doing this will not modify any behavior and is safe. If you specifically wanted the numpy scalar type, use `np.float64` here.\n",
      "Deprecated in NumPy 1.20; for more details and guidance: https://numpy.org/devdocs/release/1.20.0-notes.html#deprecations\n",
      "  std[std < np.finfo(np.float).eps] = 1.  # avoid numerical problems\n",
      "/home/hannahcraddock/anaconda3/envs/hannah_env/lib/python3.9/site-packages/nilearn/signal.py:68: DeprecationWarning: `np.float` is a deprecated alias for the builtin `float`. To silence this warning, use `float` by itself. Doing this will not modify any behavior and is safe. If you specifically wanted the numpy scalar type, use `np.float64` here.\n",
      "Deprecated in NumPy 1.20; for more details and guidance: https://numpy.org/devdocs/release/1.20.0-notes.html#deprecations\n",
      "  std[std < np.finfo(np.float).eps] = 1.  # avoid numerical problems\n",
      "/home/hannahcraddock/anaconda3/envs/hannah_env/lib/python3.9/site-packages/nilearn/signal.py:68: DeprecationWarning: `np.float` is a deprecated alias for the builtin `float`. To silence this warning, use `float` by itself. Doing this will not modify any behavior and is safe. If you specifically wanted the numpy scalar type, use `np.float64` here.\n",
      "Deprecated in NumPy 1.20; for more details and guidance: https://numpy.org/devdocs/release/1.20.0-notes.html#deprecations\n",
      "  std[std < np.finfo(np.float).eps] = 1.  # avoid numerical problems\n",
      "/home/hannahcraddock/anaconda3/envs/hannah_env/lib/python3.9/site-packages/nilearn/signal.py:68: DeprecationWarning: `np.float` is a deprecated alias for the builtin `float`. To silence this warning, use `float` by itself. Doing this will not modify any behavior and is safe. If you specifically wanted the numpy scalar type, use `np.float64` here.\n",
      "Deprecated in NumPy 1.20; for more details and guidance: https://numpy.org/devdocs/release/1.20.0-notes.html#deprecations\n",
      "  std[std < np.finfo(np.float).eps] = 1.  # avoid numerical problems\n",
      "/home/hannahcraddock/anaconda3/envs/hannah_env/lib/python3.9/site-packages/nilearn/signal.py:68: DeprecationWarning: `np.float` is a deprecated alias for the builtin `float`. To silence this warning, use `float` by itself. Doing this will not modify any behavior and is safe. If you specifically wanted the numpy scalar type, use `np.float64` here.\n",
      "Deprecated in NumPy 1.20; for more details and guidance: https://numpy.org/devdocs/release/1.20.0-notes.html#deprecations\n",
      "  std[std < np.finfo(np.float).eps] = 1.  # avoid numerical problems\n",
      "/home/hannahcraddock/anaconda3/envs/hannah_env/lib/python3.9/site-packages/nilearn/signal.py:68: DeprecationWarning: `np.float` is a deprecated alias for the builtin `float`. To silence this warning, use `float` by itself. Doing this will not modify any behavior and is safe. If you specifically wanted the numpy scalar type, use `np.float64` here.\n",
      "Deprecated in NumPy 1.20; for more details and guidance: https://numpy.org/devdocs/release/1.20.0-notes.html#deprecations\n",
      "  std[std < np.finfo(np.float).eps] = 1.  # avoid numerical problems\n",
      "/home/hannahcraddock/anaconda3/envs/hannah_env/lib/python3.9/site-packages/nilearn/signal.py:68: DeprecationWarning: `np.float` is a deprecated alias for the builtin `float`. To silence this warning, use `float` by itself. Doing this will not modify any behavior and is safe. If you specifically wanted the numpy scalar type, use `np.float64` here.\n",
      "Deprecated in NumPy 1.20; for more details and guidance: https://numpy.org/devdocs/release/1.20.0-notes.html#deprecations\n",
      "  std[std < np.finfo(np.float).eps] = 1.  # avoid numerical problems\n",
      "/home/hannahcraddock/anaconda3/envs/hannah_env/lib/python3.9/site-packages/nilearn/signal.py:68: DeprecationWarning: `np.float` is a deprecated alias for the builtin `float`. To silence this warning, use `float` by itself. Doing this will not modify any behavior and is safe. If you specifically wanted the numpy scalar type, use `np.float64` here.\n",
      "Deprecated in NumPy 1.20; for more details and guidance: https://numpy.org/devdocs/release/1.20.0-notes.html#deprecations\n",
      "  std[std < np.finfo(np.float).eps] = 1.  # avoid numerical problems\n",
      "/home/hannahcraddock/anaconda3/envs/hannah_env/lib/python3.9/site-packages/nilearn/signal.py:68: DeprecationWarning: `np.float` is a deprecated alias for the builtin `float`. To silence this warning, use `float` by itself. Doing this will not modify any behavior and is safe. If you specifically wanted the numpy scalar type, use `np.float64` here.\n",
      "Deprecated in NumPy 1.20; for more details and guidance: https://numpy.org/devdocs/release/1.20.0-notes.html#deprecations\n",
      "  std[std < np.finfo(np.float).eps] = 1.  # avoid numerical problems\n",
      "/home/hannahcraddock/anaconda3/envs/hannah_env/lib/python3.9/site-packages/nilearn/signal.py:68: DeprecationWarning: `np.float` is a deprecated alias for the builtin `float`. To silence this warning, use `float` by itself. Doing this will not modify any behavior and is safe. If you specifically wanted the numpy scalar type, use `np.float64` here.\n",
      "Deprecated in NumPy 1.20; for more details and guidance: https://numpy.org/devdocs/release/1.20.0-notes.html#deprecations\n",
      "  std[std < np.finfo(np.float).eps] = 1.  # avoid numerical problems\n",
      "/home/hannahcraddock/anaconda3/envs/hannah_env/lib/python3.9/site-packages/nilearn/signal.py:68: DeprecationWarning: `np.float` is a deprecated alias for the builtin `float`. To silence this warning, use `float` by itself. Doing this will not modify any behavior and is safe. If you specifically wanted the numpy scalar type, use `np.float64` here.\n",
      "Deprecated in NumPy 1.20; for more details and guidance: https://numpy.org/devdocs/release/1.20.0-notes.html#deprecations\n",
      "  std[std < np.finfo(np.float).eps] = 1.  # avoid numerical problems\n"
     ]
    },
    {
     "name": "stderr",
     "output_type": "stream",
     "text": [
      "/home/hannahcraddock/anaconda3/envs/hannah_env/lib/python3.9/site-packages/nilearn/signal.py:68: DeprecationWarning: `np.float` is a deprecated alias for the builtin `float`. To silence this warning, use `float` by itself. Doing this will not modify any behavior and is safe. If you specifically wanted the numpy scalar type, use `np.float64` here.\n",
      "Deprecated in NumPy 1.20; for more details and guidance: https://numpy.org/devdocs/release/1.20.0-notes.html#deprecations\n",
      "  std[std < np.finfo(np.float).eps] = 1.  # avoid numerical problems\n",
      "/home/hannahcraddock/anaconda3/envs/hannah_env/lib/python3.9/site-packages/nilearn/signal.py:68: DeprecationWarning: `np.float` is a deprecated alias for the builtin `float`. To silence this warning, use `float` by itself. Doing this will not modify any behavior and is safe. If you specifically wanted the numpy scalar type, use `np.float64` here.\n",
      "Deprecated in NumPy 1.20; for more details and guidance: https://numpy.org/devdocs/release/1.20.0-notes.html#deprecations\n",
      "  std[std < np.finfo(np.float).eps] = 1.  # avoid numerical problems\n",
      "/home/hannahcraddock/anaconda3/envs/hannah_env/lib/python3.9/site-packages/nilearn/signal.py:68: DeprecationWarning: `np.float` is a deprecated alias for the builtin `float`. To silence this warning, use `float` by itself. Doing this will not modify any behavior and is safe. If you specifically wanted the numpy scalar type, use `np.float64` here.\n",
      "Deprecated in NumPy 1.20; for more details and guidance: https://numpy.org/devdocs/release/1.20.0-notes.html#deprecations\n",
      "  std[std < np.finfo(np.float).eps] = 1.  # avoid numerical problems\n",
      "/home/hannahcraddock/anaconda3/envs/hannah_env/lib/python3.9/site-packages/nilearn/signal.py:68: DeprecationWarning: `np.float` is a deprecated alias for the builtin `float`. To silence this warning, use `float` by itself. Doing this will not modify any behavior and is safe. If you specifically wanted the numpy scalar type, use `np.float64` here.\n",
      "Deprecated in NumPy 1.20; for more details and guidance: https://numpy.org/devdocs/release/1.20.0-notes.html#deprecations\n",
      "  std[std < np.finfo(np.float).eps] = 1.  # avoid numerical problems\n",
      "/home/hannahcraddock/anaconda3/envs/hannah_env/lib/python3.9/site-packages/nilearn/signal.py:68: DeprecationWarning: `np.float` is a deprecated alias for the builtin `float`. To silence this warning, use `float` by itself. Doing this will not modify any behavior and is safe. If you specifically wanted the numpy scalar type, use `np.float64` here.\n",
      "Deprecated in NumPy 1.20; for more details and guidance: https://numpy.org/devdocs/release/1.20.0-notes.html#deprecations\n",
      "  std[std < np.finfo(np.float).eps] = 1.  # avoid numerical problems\n",
      "/home/hannahcraddock/anaconda3/envs/hannah_env/lib/python3.9/site-packages/nilearn/signal.py:68: DeprecationWarning: `np.float` is a deprecated alias for the builtin `float`. To silence this warning, use `float` by itself. Doing this will not modify any behavior and is safe. If you specifically wanted the numpy scalar type, use `np.float64` here.\n",
      "Deprecated in NumPy 1.20; for more details and guidance: https://numpy.org/devdocs/release/1.20.0-notes.html#deprecations\n",
      "  std[std < np.finfo(np.float).eps] = 1.  # avoid numerical problems\n",
      "/home/hannahcraddock/anaconda3/envs/hannah_env/lib/python3.9/site-packages/nilearn/signal.py:68: DeprecationWarning: `np.float` is a deprecated alias for the builtin `float`. To silence this warning, use `float` by itself. Doing this will not modify any behavior and is safe. If you specifically wanted the numpy scalar type, use `np.float64` here.\n",
      "Deprecated in NumPy 1.20; for more details and guidance: https://numpy.org/devdocs/release/1.20.0-notes.html#deprecations\n",
      "  std[std < np.finfo(np.float).eps] = 1.  # avoid numerical problems\n",
      "/home/hannahcraddock/anaconda3/envs/hannah_env/lib/python3.9/site-packages/nilearn/signal.py:68: DeprecationWarning: `np.float` is a deprecated alias for the builtin `float`. To silence this warning, use `float` by itself. Doing this will not modify any behavior and is safe. If you specifically wanted the numpy scalar type, use `np.float64` here.\n",
      "Deprecated in NumPy 1.20; for more details and guidance: https://numpy.org/devdocs/release/1.20.0-notes.html#deprecations\n",
      "  std[std < np.finfo(np.float).eps] = 1.  # avoid numerical problems\n",
      "/home/hannahcraddock/anaconda3/envs/hannah_env/lib/python3.9/site-packages/nilearn/signal.py:68: DeprecationWarning: `np.float` is a deprecated alias for the builtin `float`. To silence this warning, use `float` by itself. Doing this will not modify any behavior and is safe. If you specifically wanted the numpy scalar type, use `np.float64` here.\n",
      "Deprecated in NumPy 1.20; for more details and guidance: https://numpy.org/devdocs/release/1.20.0-notes.html#deprecations\n",
      "  std[std < np.finfo(np.float).eps] = 1.  # avoid numerical problems\n",
      "/home/hannahcraddock/anaconda3/envs/hannah_env/lib/python3.9/site-packages/nilearn/signal.py:68: DeprecationWarning: `np.float` is a deprecated alias for the builtin `float`. To silence this warning, use `float` by itself. Doing this will not modify any behavior and is safe. If you specifically wanted the numpy scalar type, use `np.float64` here.\n",
      "Deprecated in NumPy 1.20; for more details and guidance: https://numpy.org/devdocs/release/1.20.0-notes.html#deprecations\n",
      "  std[std < np.finfo(np.float).eps] = 1.  # avoid numerical problems\n",
      "/home/hannahcraddock/anaconda3/envs/hannah_env/lib/python3.9/site-packages/nilearn/signal.py:68: DeprecationWarning: `np.float` is a deprecated alias for the builtin `float`. To silence this warning, use `float` by itself. Doing this will not modify any behavior and is safe. If you specifically wanted the numpy scalar type, use `np.float64` here.\n",
      "Deprecated in NumPy 1.20; for more details and guidance: https://numpy.org/devdocs/release/1.20.0-notes.html#deprecations\n",
      "  std[std < np.finfo(np.float).eps] = 1.  # avoid numerical problems\n",
      "/home/hannahcraddock/anaconda3/envs/hannah_env/lib/python3.9/site-packages/nilearn/signal.py:68: DeprecationWarning: `np.float` is a deprecated alias for the builtin `float`. To silence this warning, use `float` by itself. Doing this will not modify any behavior and is safe. If you specifically wanted the numpy scalar type, use `np.float64` here.\n",
      "Deprecated in NumPy 1.20; for more details and guidance: https://numpy.org/devdocs/release/1.20.0-notes.html#deprecations\n",
      "  std[std < np.finfo(np.float).eps] = 1.  # avoid numerical problems\n",
      "/home/hannahcraddock/anaconda3/envs/hannah_env/lib/python3.9/site-packages/nilearn/signal.py:68: DeprecationWarning: `np.float` is a deprecated alias for the builtin `float`. To silence this warning, use `float` by itself. Doing this will not modify any behavior and is safe. If you specifically wanted the numpy scalar type, use `np.float64` here.\n",
      "Deprecated in NumPy 1.20; for more details and guidance: https://numpy.org/devdocs/release/1.20.0-notes.html#deprecations\n",
      "  std[std < np.finfo(np.float).eps] = 1.  # avoid numerical problems\n",
      "/home/hannahcraddock/anaconda3/envs/hannah_env/lib/python3.9/site-packages/nilearn/signal.py:68: DeprecationWarning: `np.float` is a deprecated alias for the builtin `float`. To silence this warning, use `float` by itself. Doing this will not modify any behavior and is safe. If you specifically wanted the numpy scalar type, use `np.float64` here.\n",
      "Deprecated in NumPy 1.20; for more details and guidance: https://numpy.org/devdocs/release/1.20.0-notes.html#deprecations\n",
      "  std[std < np.finfo(np.float).eps] = 1.  # avoid numerical problems\n",
      "/home/hannahcraddock/anaconda3/envs/hannah_env/lib/python3.9/site-packages/nilearn/signal.py:68: DeprecationWarning: `np.float` is a deprecated alias for the builtin `float`. To silence this warning, use `float` by itself. Doing this will not modify any behavior and is safe. If you specifically wanted the numpy scalar type, use `np.float64` here.\n",
      "Deprecated in NumPy 1.20; for more details and guidance: https://numpy.org/devdocs/release/1.20.0-notes.html#deprecations\n",
      "  std[std < np.finfo(np.float).eps] = 1.  # avoid numerical problems\n",
      "/home/hannahcraddock/anaconda3/envs/hannah_env/lib/python3.9/site-packages/nilearn/signal.py:68: DeprecationWarning: `np.float` is a deprecated alias for the builtin `float`. To silence this warning, use `float` by itself. Doing this will not modify any behavior and is safe. If you specifically wanted the numpy scalar type, use `np.float64` here.\n",
      "Deprecated in NumPy 1.20; for more details and guidance: https://numpy.org/devdocs/release/1.20.0-notes.html#deprecations\n",
      "  std[std < np.finfo(np.float).eps] = 1.  # avoid numerical problems\n"
     ]
    },
    {
     "name": "stderr",
     "output_type": "stream",
     "text": [
      "/home/hannahcraddock/anaconda3/envs/hannah_env/lib/python3.9/site-packages/nilearn/signal.py:68: DeprecationWarning: `np.float` is a deprecated alias for the builtin `float`. To silence this warning, use `float` by itself. Doing this will not modify any behavior and is safe. If you specifically wanted the numpy scalar type, use `np.float64` here.\n",
      "Deprecated in NumPy 1.20; for more details and guidance: https://numpy.org/devdocs/release/1.20.0-notes.html#deprecations\n",
      "  std[std < np.finfo(np.float).eps] = 1.  # avoid numerical problems\n",
      "/home/hannahcraddock/anaconda3/envs/hannah_env/lib/python3.9/site-packages/nilearn/signal.py:68: DeprecationWarning: `np.float` is a deprecated alias for the builtin `float`. To silence this warning, use `float` by itself. Doing this will not modify any behavior and is safe. If you specifically wanted the numpy scalar type, use `np.float64` here.\n",
      "Deprecated in NumPy 1.20; for more details and guidance: https://numpy.org/devdocs/release/1.20.0-notes.html#deprecations\n",
      "  std[std < np.finfo(np.float).eps] = 1.  # avoid numerical problems\n",
      "/home/hannahcraddock/anaconda3/envs/hannah_env/lib/python3.9/site-packages/nilearn/signal.py:68: DeprecationWarning: `np.float` is a deprecated alias for the builtin `float`. To silence this warning, use `float` by itself. Doing this will not modify any behavior and is safe. If you specifically wanted the numpy scalar type, use `np.float64` here.\n",
      "Deprecated in NumPy 1.20; for more details and guidance: https://numpy.org/devdocs/release/1.20.0-notes.html#deprecations\n",
      "  std[std < np.finfo(np.float).eps] = 1.  # avoid numerical problems\n",
      "/home/hannahcraddock/anaconda3/envs/hannah_env/lib/python3.9/site-packages/nilearn/signal.py:68: DeprecationWarning: `np.float` is a deprecated alias for the builtin `float`. To silence this warning, use `float` by itself. Doing this will not modify any behavior and is safe. If you specifically wanted the numpy scalar type, use `np.float64` here.\n",
      "Deprecated in NumPy 1.20; for more details and guidance: https://numpy.org/devdocs/release/1.20.0-notes.html#deprecations\n",
      "  std[std < np.finfo(np.float).eps] = 1.  # avoid numerical problems\n",
      "/home/hannahcraddock/anaconda3/envs/hannah_env/lib/python3.9/site-packages/nilearn/signal.py:68: DeprecationWarning: `np.float` is a deprecated alias for the builtin `float`. To silence this warning, use `float` by itself. Doing this will not modify any behavior and is safe. If you specifically wanted the numpy scalar type, use `np.float64` here.\n",
      "Deprecated in NumPy 1.20; for more details and guidance: https://numpy.org/devdocs/release/1.20.0-notes.html#deprecations\n",
      "  std[std < np.finfo(np.float).eps] = 1.  # avoid numerical problems\n",
      "/home/hannahcraddock/anaconda3/envs/hannah_env/lib/python3.9/site-packages/nilearn/signal.py:68: DeprecationWarning: `np.float` is a deprecated alias for the builtin `float`. To silence this warning, use `float` by itself. Doing this will not modify any behavior and is safe. If you specifically wanted the numpy scalar type, use `np.float64` here.\n",
      "Deprecated in NumPy 1.20; for more details and guidance: https://numpy.org/devdocs/release/1.20.0-notes.html#deprecations\n",
      "  std[std < np.finfo(np.float).eps] = 1.  # avoid numerical problems\n",
      "/home/hannahcraddock/anaconda3/envs/hannah_env/lib/python3.9/site-packages/nilearn/signal.py:68: DeprecationWarning: `np.float` is a deprecated alias for the builtin `float`. To silence this warning, use `float` by itself. Doing this will not modify any behavior and is safe. If you specifically wanted the numpy scalar type, use `np.float64` here.\n",
      "Deprecated in NumPy 1.20; for more details and guidance: https://numpy.org/devdocs/release/1.20.0-notes.html#deprecations\n",
      "  std[std < np.finfo(np.float).eps] = 1.  # avoid numerical problems\n",
      "/home/hannahcraddock/anaconda3/envs/hannah_env/lib/python3.9/site-packages/nilearn/signal.py:68: DeprecationWarning: `np.float` is a deprecated alias for the builtin `float`. To silence this warning, use `float` by itself. Doing this will not modify any behavior and is safe. If you specifically wanted the numpy scalar type, use `np.float64` here.\n",
      "Deprecated in NumPy 1.20; for more details and guidance: https://numpy.org/devdocs/release/1.20.0-notes.html#deprecations\n",
      "  std[std < np.finfo(np.float).eps] = 1.  # avoid numerical problems\n",
      "/home/hannahcraddock/anaconda3/envs/hannah_env/lib/python3.9/site-packages/nilearn/signal.py:68: DeprecationWarning: `np.float` is a deprecated alias for the builtin `float`. To silence this warning, use `float` by itself. Doing this will not modify any behavior and is safe. If you specifically wanted the numpy scalar type, use `np.float64` here.\n",
      "Deprecated in NumPy 1.20; for more details and guidance: https://numpy.org/devdocs/release/1.20.0-notes.html#deprecations\n",
      "  std[std < np.finfo(np.float).eps] = 1.  # avoid numerical problems\n",
      "/home/hannahcraddock/anaconda3/envs/hannah_env/lib/python3.9/site-packages/nilearn/signal.py:68: DeprecationWarning: `np.float` is a deprecated alias for the builtin `float`. To silence this warning, use `float` by itself. Doing this will not modify any behavior and is safe. If you specifically wanted the numpy scalar type, use `np.float64` here.\n",
      "Deprecated in NumPy 1.20; for more details and guidance: https://numpy.org/devdocs/release/1.20.0-notes.html#deprecations\n",
      "  std[std < np.finfo(np.float).eps] = 1.  # avoid numerical problems\n",
      "/home/hannahcraddock/anaconda3/envs/hannah_env/lib/python3.9/site-packages/nilearn/signal.py:68: DeprecationWarning: `np.float` is a deprecated alias for the builtin `float`. To silence this warning, use `float` by itself. Doing this will not modify any behavior and is safe. If you specifically wanted the numpy scalar type, use `np.float64` here.\n",
      "Deprecated in NumPy 1.20; for more details and guidance: https://numpy.org/devdocs/release/1.20.0-notes.html#deprecations\n",
      "  std[std < np.finfo(np.float).eps] = 1.  # avoid numerical problems\n",
      "/home/hannahcraddock/anaconda3/envs/hannah_env/lib/python3.9/site-packages/nilearn/signal.py:68: DeprecationWarning: `np.float` is a deprecated alias for the builtin `float`. To silence this warning, use `float` by itself. Doing this will not modify any behavior and is safe. If you specifically wanted the numpy scalar type, use `np.float64` here.\n",
      "Deprecated in NumPy 1.20; for more details and guidance: https://numpy.org/devdocs/release/1.20.0-notes.html#deprecations\n",
      "  std[std < np.finfo(np.float).eps] = 1.  # avoid numerical problems\n",
      "/home/hannahcraddock/anaconda3/envs/hannah_env/lib/python3.9/site-packages/nilearn/signal.py:68: DeprecationWarning: `np.float` is a deprecated alias for the builtin `float`. To silence this warning, use `float` by itself. Doing this will not modify any behavior and is safe. If you specifically wanted the numpy scalar type, use `np.float64` here.\n",
      "Deprecated in NumPy 1.20; for more details and guidance: https://numpy.org/devdocs/release/1.20.0-notes.html#deprecations\n",
      "  std[std < np.finfo(np.float).eps] = 1.  # avoid numerical problems\n",
      "/home/hannahcraddock/anaconda3/envs/hannah_env/lib/python3.9/site-packages/nilearn/signal.py:68: DeprecationWarning: `np.float` is a deprecated alias for the builtin `float`. To silence this warning, use `float` by itself. Doing this will not modify any behavior and is safe. If you specifically wanted the numpy scalar type, use `np.float64` here.\n",
      "Deprecated in NumPy 1.20; for more details and guidance: https://numpy.org/devdocs/release/1.20.0-notes.html#deprecations\n",
      "  std[std < np.finfo(np.float).eps] = 1.  # avoid numerical problems\n",
      "/home/hannahcraddock/anaconda3/envs/hannah_env/lib/python3.9/site-packages/nilearn/signal.py:68: DeprecationWarning: `np.float` is a deprecated alias for the builtin `float`. To silence this warning, use `float` by itself. Doing this will not modify any behavior and is safe. If you specifically wanted the numpy scalar type, use `np.float64` here.\n",
      "Deprecated in NumPy 1.20; for more details and guidance: https://numpy.org/devdocs/release/1.20.0-notes.html#deprecations\n",
      "  std[std < np.finfo(np.float).eps] = 1.  # avoid numerical problems\n",
      "/home/hannahcraddock/anaconda3/envs/hannah_env/lib/python3.9/site-packages/nilearn/signal.py:68: DeprecationWarning: `np.float` is a deprecated alias for the builtin `float`. To silence this warning, use `float` by itself. Doing this will not modify any behavior and is safe. If you specifically wanted the numpy scalar type, use `np.float64` here.\n",
      "Deprecated in NumPy 1.20; for more details and guidance: https://numpy.org/devdocs/release/1.20.0-notes.html#deprecations\n",
      "  std[std < np.finfo(np.float).eps] = 1.  # avoid numerical problems\n"
     ]
    },
    {
     "name": "stderr",
     "output_type": "stream",
     "text": [
      "/home/hannahcraddock/anaconda3/envs/hannah_env/lib/python3.9/site-packages/nilearn/signal.py:68: DeprecationWarning: `np.float` is a deprecated alias for the builtin `float`. To silence this warning, use `float` by itself. Doing this will not modify any behavior and is safe. If you specifically wanted the numpy scalar type, use `np.float64` here.\n",
      "Deprecated in NumPy 1.20; for more details and guidance: https://numpy.org/devdocs/release/1.20.0-notes.html#deprecations\n",
      "  std[std < np.finfo(np.float).eps] = 1.  # avoid numerical problems\n",
      "/home/hannahcraddock/anaconda3/envs/hannah_env/lib/python3.9/site-packages/nilearn/signal.py:68: DeprecationWarning: `np.float` is a deprecated alias for the builtin `float`. To silence this warning, use `float` by itself. Doing this will not modify any behavior and is safe. If you specifically wanted the numpy scalar type, use `np.float64` here.\n",
      "Deprecated in NumPy 1.20; for more details and guidance: https://numpy.org/devdocs/release/1.20.0-notes.html#deprecations\n",
      "  std[std < np.finfo(np.float).eps] = 1.  # avoid numerical problems\n",
      "/home/hannahcraddock/anaconda3/envs/hannah_env/lib/python3.9/site-packages/nilearn/signal.py:68: DeprecationWarning: `np.float` is a deprecated alias for the builtin `float`. To silence this warning, use `float` by itself. Doing this will not modify any behavior and is safe. If you specifically wanted the numpy scalar type, use `np.float64` here.\n",
      "Deprecated in NumPy 1.20; for more details and guidance: https://numpy.org/devdocs/release/1.20.0-notes.html#deprecations\n",
      "  std[std < np.finfo(np.float).eps] = 1.  # avoid numerical problems\n",
      "/home/hannahcraddock/anaconda3/envs/hannah_env/lib/python3.9/site-packages/nilearn/signal.py:68: DeprecationWarning: `np.float` is a deprecated alias for the builtin `float`. To silence this warning, use `float` by itself. Doing this will not modify any behavior and is safe. If you specifically wanted the numpy scalar type, use `np.float64` here.\n",
      "Deprecated in NumPy 1.20; for more details and guidance: https://numpy.org/devdocs/release/1.20.0-notes.html#deprecations\n",
      "  std[std < np.finfo(np.float).eps] = 1.  # avoid numerical problems\n",
      "/home/hannahcraddock/anaconda3/envs/hannah_env/lib/python3.9/site-packages/nilearn/signal.py:68: DeprecationWarning: `np.float` is a deprecated alias for the builtin `float`. To silence this warning, use `float` by itself. Doing this will not modify any behavior and is safe. If you specifically wanted the numpy scalar type, use `np.float64` here.\n",
      "Deprecated in NumPy 1.20; for more details and guidance: https://numpy.org/devdocs/release/1.20.0-notes.html#deprecations\n",
      "  std[std < np.finfo(np.float).eps] = 1.  # avoid numerical problems\n",
      "/home/hannahcraddock/anaconda3/envs/hannah_env/lib/python3.9/site-packages/nilearn/signal.py:68: DeprecationWarning: `np.float` is a deprecated alias for the builtin `float`. To silence this warning, use `float` by itself. Doing this will not modify any behavior and is safe. If you specifically wanted the numpy scalar type, use `np.float64` here.\n",
      "Deprecated in NumPy 1.20; for more details and guidance: https://numpy.org/devdocs/release/1.20.0-notes.html#deprecations\n",
      "  std[std < np.finfo(np.float).eps] = 1.  # avoid numerical problems\n",
      "/home/hannahcraddock/anaconda3/envs/hannah_env/lib/python3.9/site-packages/nilearn/signal.py:68: DeprecationWarning: `np.float` is a deprecated alias for the builtin `float`. To silence this warning, use `float` by itself. Doing this will not modify any behavior and is safe. If you specifically wanted the numpy scalar type, use `np.float64` here.\n",
      "Deprecated in NumPy 1.20; for more details and guidance: https://numpy.org/devdocs/release/1.20.0-notes.html#deprecations\n",
      "  std[std < np.finfo(np.float).eps] = 1.  # avoid numerical problems\n",
      "/home/hannahcraddock/anaconda3/envs/hannah_env/lib/python3.9/site-packages/nilearn/signal.py:68: DeprecationWarning: `np.float` is a deprecated alias for the builtin `float`. To silence this warning, use `float` by itself. Doing this will not modify any behavior and is safe. If you specifically wanted the numpy scalar type, use `np.float64` here.\n",
      "Deprecated in NumPy 1.20; for more details and guidance: https://numpy.org/devdocs/release/1.20.0-notes.html#deprecations\n",
      "  std[std < np.finfo(np.float).eps] = 1.  # avoid numerical problems\n",
      "/home/hannahcraddock/anaconda3/envs/hannah_env/lib/python3.9/site-packages/nilearn/signal.py:68: DeprecationWarning: `np.float` is a deprecated alias for the builtin `float`. To silence this warning, use `float` by itself. Doing this will not modify any behavior and is safe. If you specifically wanted the numpy scalar type, use `np.float64` here.\n",
      "Deprecated in NumPy 1.20; for more details and guidance: https://numpy.org/devdocs/release/1.20.0-notes.html#deprecations\n",
      "  std[std < np.finfo(np.float).eps] = 1.  # avoid numerical problems\n",
      "/home/hannahcraddock/anaconda3/envs/hannah_env/lib/python3.9/site-packages/nilearn/signal.py:68: DeprecationWarning: `np.float` is a deprecated alias for the builtin `float`. To silence this warning, use `float` by itself. Doing this will not modify any behavior and is safe. If you specifically wanted the numpy scalar type, use `np.float64` here.\n",
      "Deprecated in NumPy 1.20; for more details and guidance: https://numpy.org/devdocs/release/1.20.0-notes.html#deprecations\n",
      "  std[std < np.finfo(np.float).eps] = 1.  # avoid numerical problems\n",
      "/home/hannahcraddock/anaconda3/envs/hannah_env/lib/python3.9/site-packages/nilearn/signal.py:68: DeprecationWarning: `np.float` is a deprecated alias for the builtin `float`. To silence this warning, use `float` by itself. Doing this will not modify any behavior and is safe. If you specifically wanted the numpy scalar type, use `np.float64` here.\n",
      "Deprecated in NumPy 1.20; for more details and guidance: https://numpy.org/devdocs/release/1.20.0-notes.html#deprecations\n",
      "  std[std < np.finfo(np.float).eps] = 1.  # avoid numerical problems\n",
      "/home/hannahcraddock/anaconda3/envs/hannah_env/lib/python3.9/site-packages/nilearn/signal.py:68: DeprecationWarning: `np.float` is a deprecated alias for the builtin `float`. To silence this warning, use `float` by itself. Doing this will not modify any behavior and is safe. If you specifically wanted the numpy scalar type, use `np.float64` here.\n",
      "Deprecated in NumPy 1.20; for more details and guidance: https://numpy.org/devdocs/release/1.20.0-notes.html#deprecations\n",
      "  std[std < np.finfo(np.float).eps] = 1.  # avoid numerical problems\n",
      "/home/hannahcraddock/anaconda3/envs/hannah_env/lib/python3.9/site-packages/nilearn/signal.py:68: DeprecationWarning: `np.float` is a deprecated alias for the builtin `float`. To silence this warning, use `float` by itself. Doing this will not modify any behavior and is safe. If you specifically wanted the numpy scalar type, use `np.float64` here.\n",
      "Deprecated in NumPy 1.20; for more details and guidance: https://numpy.org/devdocs/release/1.20.0-notes.html#deprecations\n",
      "  std[std < np.finfo(np.float).eps] = 1.  # avoid numerical problems\n",
      "/home/hannahcraddock/anaconda3/envs/hannah_env/lib/python3.9/site-packages/nilearn/signal.py:68: DeprecationWarning: `np.float` is a deprecated alias for the builtin `float`. To silence this warning, use `float` by itself. Doing this will not modify any behavior and is safe. If you specifically wanted the numpy scalar type, use `np.float64` here.\n",
      "Deprecated in NumPy 1.20; for more details and guidance: https://numpy.org/devdocs/release/1.20.0-notes.html#deprecations\n",
      "  std[std < np.finfo(np.float).eps] = 1.  # avoid numerical problems\n",
      "/home/hannahcraddock/anaconda3/envs/hannah_env/lib/python3.9/site-packages/nilearn/signal.py:68: DeprecationWarning: `np.float` is a deprecated alias for the builtin `float`. To silence this warning, use `float` by itself. Doing this will not modify any behavior and is safe. If you specifically wanted the numpy scalar type, use `np.float64` here.\n",
      "Deprecated in NumPy 1.20; for more details and guidance: https://numpy.org/devdocs/release/1.20.0-notes.html#deprecations\n",
      "  std[std < np.finfo(np.float).eps] = 1.  # avoid numerical problems\n",
      "/home/hannahcraddock/anaconda3/envs/hannah_env/lib/python3.9/site-packages/nilearn/signal.py:68: DeprecationWarning: `np.float` is a deprecated alias for the builtin `float`. To silence this warning, use `float` by itself. Doing this will not modify any behavior and is safe. If you specifically wanted the numpy scalar type, use `np.float64` here.\n",
      "Deprecated in NumPy 1.20; for more details and guidance: https://numpy.org/devdocs/release/1.20.0-notes.html#deprecations\n",
      "  std[std < np.finfo(np.float).eps] = 1.  # avoid numerical problems\n"
     ]
    },
    {
     "name": "stderr",
     "output_type": "stream",
     "text": [
      "/home/hannahcraddock/anaconda3/envs/hannah_env/lib/python3.9/site-packages/nilearn/signal.py:68: DeprecationWarning: `np.float` is a deprecated alias for the builtin `float`. To silence this warning, use `float` by itself. Doing this will not modify any behavior and is safe. If you specifically wanted the numpy scalar type, use `np.float64` here.\n",
      "Deprecated in NumPy 1.20; for more details and guidance: https://numpy.org/devdocs/release/1.20.0-notes.html#deprecations\n",
      "  std[std < np.finfo(np.float).eps] = 1.  # avoid numerical problems\n",
      "/home/hannahcraddock/anaconda3/envs/hannah_env/lib/python3.9/site-packages/nilearn/signal.py:68: DeprecationWarning: `np.float` is a deprecated alias for the builtin `float`. To silence this warning, use `float` by itself. Doing this will not modify any behavior and is safe. If you specifically wanted the numpy scalar type, use `np.float64` here.\n",
      "Deprecated in NumPy 1.20; for more details and guidance: https://numpy.org/devdocs/release/1.20.0-notes.html#deprecations\n",
      "  std[std < np.finfo(np.float).eps] = 1.  # avoid numerical problems\n",
      "/home/hannahcraddock/anaconda3/envs/hannah_env/lib/python3.9/site-packages/nilearn/signal.py:68: DeprecationWarning: `np.float` is a deprecated alias for the builtin `float`. To silence this warning, use `float` by itself. Doing this will not modify any behavior and is safe. If you specifically wanted the numpy scalar type, use `np.float64` here.\n",
      "Deprecated in NumPy 1.20; for more details and guidance: https://numpy.org/devdocs/release/1.20.0-notes.html#deprecations\n",
      "  std[std < np.finfo(np.float).eps] = 1.  # avoid numerical problems\n",
      "/home/hannahcraddock/anaconda3/envs/hannah_env/lib/python3.9/site-packages/nilearn/signal.py:68: DeprecationWarning: `np.float` is a deprecated alias for the builtin `float`. To silence this warning, use `float` by itself. Doing this will not modify any behavior and is safe. If you specifically wanted the numpy scalar type, use `np.float64` here.\n",
      "Deprecated in NumPy 1.20; for more details and guidance: https://numpy.org/devdocs/release/1.20.0-notes.html#deprecations\n",
      "  std[std < np.finfo(np.float).eps] = 1.  # avoid numerical problems\n",
      "/home/hannahcraddock/anaconda3/envs/hannah_env/lib/python3.9/site-packages/nilearn/signal.py:68: DeprecationWarning: `np.float` is a deprecated alias for the builtin `float`. To silence this warning, use `float` by itself. Doing this will not modify any behavior and is safe. If you specifically wanted the numpy scalar type, use `np.float64` here.\n",
      "Deprecated in NumPy 1.20; for more details and guidance: https://numpy.org/devdocs/release/1.20.0-notes.html#deprecations\n",
      "  std[std < np.finfo(np.float).eps] = 1.  # avoid numerical problems\n",
      "/home/hannahcraddock/anaconda3/envs/hannah_env/lib/python3.9/site-packages/nilearn/signal.py:68: DeprecationWarning: `np.float` is a deprecated alias for the builtin `float`. To silence this warning, use `float` by itself. Doing this will not modify any behavior and is safe. If you specifically wanted the numpy scalar type, use `np.float64` here.\n",
      "Deprecated in NumPy 1.20; for more details and guidance: https://numpy.org/devdocs/release/1.20.0-notes.html#deprecations\n",
      "  std[std < np.finfo(np.float).eps] = 1.  # avoid numerical problems\n",
      "/home/hannahcraddock/anaconda3/envs/hannah_env/lib/python3.9/site-packages/nilearn/signal.py:68: DeprecationWarning: `np.float` is a deprecated alias for the builtin `float`. To silence this warning, use `float` by itself. Doing this will not modify any behavior and is safe. If you specifically wanted the numpy scalar type, use `np.float64` here.\n",
      "Deprecated in NumPy 1.20; for more details and guidance: https://numpy.org/devdocs/release/1.20.0-notes.html#deprecations\n",
      "  std[std < np.finfo(np.float).eps] = 1.  # avoid numerical problems\n",
      "/home/hannahcraddock/anaconda3/envs/hannah_env/lib/python3.9/site-packages/nilearn/signal.py:68: DeprecationWarning: `np.float` is a deprecated alias for the builtin `float`. To silence this warning, use `float` by itself. Doing this will not modify any behavior and is safe. If you specifically wanted the numpy scalar type, use `np.float64` here.\n",
      "Deprecated in NumPy 1.20; for more details and guidance: https://numpy.org/devdocs/release/1.20.0-notes.html#deprecations\n",
      "  std[std < np.finfo(np.float).eps] = 1.  # avoid numerical problems\n",
      "/home/hannahcraddock/anaconda3/envs/hannah_env/lib/python3.9/site-packages/nilearn/signal.py:68: DeprecationWarning: `np.float` is a deprecated alias for the builtin `float`. To silence this warning, use `float` by itself. Doing this will not modify any behavior and is safe. If you specifically wanted the numpy scalar type, use `np.float64` here.\n",
      "Deprecated in NumPy 1.20; for more details and guidance: https://numpy.org/devdocs/release/1.20.0-notes.html#deprecations\n",
      "  std[std < np.finfo(np.float).eps] = 1.  # avoid numerical problems\n",
      "/home/hannahcraddock/anaconda3/envs/hannah_env/lib/python3.9/site-packages/nilearn/signal.py:68: DeprecationWarning: `np.float` is a deprecated alias for the builtin `float`. To silence this warning, use `float` by itself. Doing this will not modify any behavior and is safe. If you specifically wanted the numpy scalar type, use `np.float64` here.\n",
      "Deprecated in NumPy 1.20; for more details and guidance: https://numpy.org/devdocs/release/1.20.0-notes.html#deprecations\n",
      "  std[std < np.finfo(np.float).eps] = 1.  # avoid numerical problems\n",
      "/home/hannahcraddock/anaconda3/envs/hannah_env/lib/python3.9/site-packages/nilearn/signal.py:68: DeprecationWarning: `np.float` is a deprecated alias for the builtin `float`. To silence this warning, use `float` by itself. Doing this will not modify any behavior and is safe. If you specifically wanted the numpy scalar type, use `np.float64` here.\n",
      "Deprecated in NumPy 1.20; for more details and guidance: https://numpy.org/devdocs/release/1.20.0-notes.html#deprecations\n",
      "  std[std < np.finfo(np.float).eps] = 1.  # avoid numerical problems\n",
      "/home/hannahcraddock/anaconda3/envs/hannah_env/lib/python3.9/site-packages/nilearn/signal.py:68: DeprecationWarning: `np.float` is a deprecated alias for the builtin `float`. To silence this warning, use `float` by itself. Doing this will not modify any behavior and is safe. If you specifically wanted the numpy scalar type, use `np.float64` here.\n",
      "Deprecated in NumPy 1.20; for more details and guidance: https://numpy.org/devdocs/release/1.20.0-notes.html#deprecations\n",
      "  std[std < np.finfo(np.float).eps] = 1.  # avoid numerical problems\n",
      "/home/hannahcraddock/anaconda3/envs/hannah_env/lib/python3.9/site-packages/nilearn/signal.py:68: DeprecationWarning: `np.float` is a deprecated alias for the builtin `float`. To silence this warning, use `float` by itself. Doing this will not modify any behavior and is safe. If you specifically wanted the numpy scalar type, use `np.float64` here.\n",
      "Deprecated in NumPy 1.20; for more details and guidance: https://numpy.org/devdocs/release/1.20.0-notes.html#deprecations\n",
      "  std[std < np.finfo(np.float).eps] = 1.  # avoid numerical problems\n",
      "/home/hannahcraddock/anaconda3/envs/hannah_env/lib/python3.9/site-packages/nilearn/signal.py:68: DeprecationWarning: `np.float` is a deprecated alias for the builtin `float`. To silence this warning, use `float` by itself. Doing this will not modify any behavior and is safe. If you specifically wanted the numpy scalar type, use `np.float64` here.\n",
      "Deprecated in NumPy 1.20; for more details and guidance: https://numpy.org/devdocs/release/1.20.0-notes.html#deprecations\n",
      "  std[std < np.finfo(np.float).eps] = 1.  # avoid numerical problems\n",
      "/home/hannahcraddock/anaconda3/envs/hannah_env/lib/python3.9/site-packages/nilearn/signal.py:68: DeprecationWarning: `np.float` is a deprecated alias for the builtin `float`. To silence this warning, use `float` by itself. Doing this will not modify any behavior and is safe. If you specifically wanted the numpy scalar type, use `np.float64` here.\n",
      "Deprecated in NumPy 1.20; for more details and guidance: https://numpy.org/devdocs/release/1.20.0-notes.html#deprecations\n",
      "  std[std < np.finfo(np.float).eps] = 1.  # avoid numerical problems\n",
      "/home/hannahcraddock/anaconda3/envs/hannah_env/lib/python3.9/site-packages/nilearn/signal.py:68: DeprecationWarning: `np.float` is a deprecated alias for the builtin `float`. To silence this warning, use `float` by itself. Doing this will not modify any behavior and is safe. If you specifically wanted the numpy scalar type, use `np.float64` here.\n",
      "Deprecated in NumPy 1.20; for more details and guidance: https://numpy.org/devdocs/release/1.20.0-notes.html#deprecations\n",
      "  std[std < np.finfo(np.float).eps] = 1.  # avoid numerical problems\n"
     ]
    },
    {
     "name": "stderr",
     "output_type": "stream",
     "text": [
      "/home/hannahcraddock/anaconda3/envs/hannah_env/lib/python3.9/site-packages/nilearn/signal.py:68: DeprecationWarning: `np.float` is a deprecated alias for the builtin `float`. To silence this warning, use `float` by itself. Doing this will not modify any behavior and is safe. If you specifically wanted the numpy scalar type, use `np.float64` here.\n",
      "Deprecated in NumPy 1.20; for more details and guidance: https://numpy.org/devdocs/release/1.20.0-notes.html#deprecations\n",
      "  std[std < np.finfo(np.float).eps] = 1.  # avoid numerical problems\n",
      "/home/hannahcraddock/anaconda3/envs/hannah_env/lib/python3.9/site-packages/nilearn/signal.py:68: DeprecationWarning: `np.float` is a deprecated alias for the builtin `float`. To silence this warning, use `float` by itself. Doing this will not modify any behavior and is safe. If you specifically wanted the numpy scalar type, use `np.float64` here.\n",
      "Deprecated in NumPy 1.20; for more details and guidance: https://numpy.org/devdocs/release/1.20.0-notes.html#deprecations\n",
      "  std[std < np.finfo(np.float).eps] = 1.  # avoid numerical problems\n",
      "/home/hannahcraddock/anaconda3/envs/hannah_env/lib/python3.9/site-packages/nilearn/signal.py:68: DeprecationWarning: `np.float` is a deprecated alias for the builtin `float`. To silence this warning, use `float` by itself. Doing this will not modify any behavior and is safe. If you specifically wanted the numpy scalar type, use `np.float64` here.\n",
      "Deprecated in NumPy 1.20; for more details and guidance: https://numpy.org/devdocs/release/1.20.0-notes.html#deprecations\n",
      "  std[std < np.finfo(np.float).eps] = 1.  # avoid numerical problems\n",
      "/home/hannahcraddock/anaconda3/envs/hannah_env/lib/python3.9/site-packages/nilearn/signal.py:68: DeprecationWarning: `np.float` is a deprecated alias for the builtin `float`. To silence this warning, use `float` by itself. Doing this will not modify any behavior and is safe. If you specifically wanted the numpy scalar type, use `np.float64` here.\n",
      "Deprecated in NumPy 1.20; for more details and guidance: https://numpy.org/devdocs/release/1.20.0-notes.html#deprecations\n",
      "  std[std < np.finfo(np.float).eps] = 1.  # avoid numerical problems\n",
      "/home/hannahcraddock/anaconda3/envs/hannah_env/lib/python3.9/site-packages/nilearn/signal.py:68: DeprecationWarning: `np.float` is a deprecated alias for the builtin `float`. To silence this warning, use `float` by itself. Doing this will not modify any behavior and is safe. If you specifically wanted the numpy scalar type, use `np.float64` here.\n",
      "Deprecated in NumPy 1.20; for more details and guidance: https://numpy.org/devdocs/release/1.20.0-notes.html#deprecations\n",
      "  std[std < np.finfo(np.float).eps] = 1.  # avoid numerical problems\n",
      "/home/hannahcraddock/anaconda3/envs/hannah_env/lib/python3.9/site-packages/nilearn/signal.py:68: DeprecationWarning: `np.float` is a deprecated alias for the builtin `float`. To silence this warning, use `float` by itself. Doing this will not modify any behavior and is safe. If you specifically wanted the numpy scalar type, use `np.float64` here.\n",
      "Deprecated in NumPy 1.20; for more details and guidance: https://numpy.org/devdocs/release/1.20.0-notes.html#deprecations\n",
      "  std[std < np.finfo(np.float).eps] = 1.  # avoid numerical problems\n",
      "/home/hannahcraddock/anaconda3/envs/hannah_env/lib/python3.9/site-packages/nilearn/signal.py:68: DeprecationWarning: `np.float` is a deprecated alias for the builtin `float`. To silence this warning, use `float` by itself. Doing this will not modify any behavior and is safe. If you specifically wanted the numpy scalar type, use `np.float64` here.\n",
      "Deprecated in NumPy 1.20; for more details and guidance: https://numpy.org/devdocs/release/1.20.0-notes.html#deprecations\n",
      "  std[std < np.finfo(np.float).eps] = 1.  # avoid numerical problems\n",
      "/home/hannahcraddock/anaconda3/envs/hannah_env/lib/python3.9/site-packages/nilearn/signal.py:68: DeprecationWarning: `np.float` is a deprecated alias for the builtin `float`. To silence this warning, use `float` by itself. Doing this will not modify any behavior and is safe. If you specifically wanted the numpy scalar type, use `np.float64` here.\n",
      "Deprecated in NumPy 1.20; for more details and guidance: https://numpy.org/devdocs/release/1.20.0-notes.html#deprecations\n",
      "  std[std < np.finfo(np.float).eps] = 1.  # avoid numerical problems\n",
      "/home/hannahcraddock/anaconda3/envs/hannah_env/lib/python3.9/site-packages/nilearn/signal.py:68: DeprecationWarning: `np.float` is a deprecated alias for the builtin `float`. To silence this warning, use `float` by itself. Doing this will not modify any behavior and is safe. If you specifically wanted the numpy scalar type, use `np.float64` here.\n",
      "Deprecated in NumPy 1.20; for more details and guidance: https://numpy.org/devdocs/release/1.20.0-notes.html#deprecations\n",
      "  std[std < np.finfo(np.float).eps] = 1.  # avoid numerical problems\n",
      "/home/hannahcraddock/anaconda3/envs/hannah_env/lib/python3.9/site-packages/nilearn/signal.py:68: DeprecationWarning: `np.float` is a deprecated alias for the builtin `float`. To silence this warning, use `float` by itself. Doing this will not modify any behavior and is safe. If you specifically wanted the numpy scalar type, use `np.float64` here.\n",
      "Deprecated in NumPy 1.20; for more details and guidance: https://numpy.org/devdocs/release/1.20.0-notes.html#deprecations\n",
      "  std[std < np.finfo(np.float).eps] = 1.  # avoid numerical problems\n",
      "/home/hannahcraddock/anaconda3/envs/hannah_env/lib/python3.9/site-packages/nilearn/signal.py:68: DeprecationWarning: `np.float` is a deprecated alias for the builtin `float`. To silence this warning, use `float` by itself. Doing this will not modify any behavior and is safe. If you specifically wanted the numpy scalar type, use `np.float64` here.\n",
      "Deprecated in NumPy 1.20; for more details and guidance: https://numpy.org/devdocs/release/1.20.0-notes.html#deprecations\n",
      "  std[std < np.finfo(np.float).eps] = 1.  # avoid numerical problems\n",
      "/home/hannahcraddock/anaconda3/envs/hannah_env/lib/python3.9/site-packages/nilearn/signal.py:68: DeprecationWarning: `np.float` is a deprecated alias for the builtin `float`. To silence this warning, use `float` by itself. Doing this will not modify any behavior and is safe. If you specifically wanted the numpy scalar type, use `np.float64` here.\n",
      "Deprecated in NumPy 1.20; for more details and guidance: https://numpy.org/devdocs/release/1.20.0-notes.html#deprecations\n",
      "  std[std < np.finfo(np.float).eps] = 1.  # avoid numerical problems\n",
      "/home/hannahcraddock/anaconda3/envs/hannah_env/lib/python3.9/site-packages/nilearn/signal.py:68: DeprecationWarning: `np.float` is a deprecated alias for the builtin `float`. To silence this warning, use `float` by itself. Doing this will not modify any behavior and is safe. If you specifically wanted the numpy scalar type, use `np.float64` here.\n",
      "Deprecated in NumPy 1.20; for more details and guidance: https://numpy.org/devdocs/release/1.20.0-notes.html#deprecations\n",
      "  std[std < np.finfo(np.float).eps] = 1.  # avoid numerical problems\n",
      "/home/hannahcraddock/anaconda3/envs/hannah_env/lib/python3.9/site-packages/nilearn/signal.py:68: DeprecationWarning: `np.float` is a deprecated alias for the builtin `float`. To silence this warning, use `float` by itself. Doing this will not modify any behavior and is safe. If you specifically wanted the numpy scalar type, use `np.float64` here.\n",
      "Deprecated in NumPy 1.20; for more details and guidance: https://numpy.org/devdocs/release/1.20.0-notes.html#deprecations\n",
      "  std[std < np.finfo(np.float).eps] = 1.  # avoid numerical problems\n",
      "/home/hannahcraddock/anaconda3/envs/hannah_env/lib/python3.9/site-packages/nilearn/signal.py:68: DeprecationWarning: `np.float` is a deprecated alias for the builtin `float`. To silence this warning, use `float` by itself. Doing this will not modify any behavior and is safe. If you specifically wanted the numpy scalar type, use `np.float64` here.\n",
      "Deprecated in NumPy 1.20; for more details and guidance: https://numpy.org/devdocs/release/1.20.0-notes.html#deprecations\n",
      "  std[std < np.finfo(np.float).eps] = 1.  # avoid numerical problems\n",
      "/home/hannahcraddock/anaconda3/envs/hannah_env/lib/python3.9/site-packages/nilearn/signal.py:68: DeprecationWarning: `np.float` is a deprecated alias for the builtin `float`. To silence this warning, use `float` by itself. Doing this will not modify any behavior and is safe. If you specifically wanted the numpy scalar type, use `np.float64` here.\n",
      "Deprecated in NumPy 1.20; for more details and guidance: https://numpy.org/devdocs/release/1.20.0-notes.html#deprecations\n",
      "  std[std < np.finfo(np.float).eps] = 1.  # avoid numerical problems\n"
     ]
    },
    {
     "name": "stderr",
     "output_type": "stream",
     "text": [
      "/home/hannahcraddock/anaconda3/envs/hannah_env/lib/python3.9/site-packages/nilearn/signal.py:68: DeprecationWarning: `np.float` is a deprecated alias for the builtin `float`. To silence this warning, use `float` by itself. Doing this will not modify any behavior and is safe. If you specifically wanted the numpy scalar type, use `np.float64` here.\n",
      "Deprecated in NumPy 1.20; for more details and guidance: https://numpy.org/devdocs/release/1.20.0-notes.html#deprecations\n",
      "  std[std < np.finfo(np.float).eps] = 1.  # avoid numerical problems\n",
      "/home/hannahcraddock/anaconda3/envs/hannah_env/lib/python3.9/site-packages/nilearn/signal.py:68: DeprecationWarning: `np.float` is a deprecated alias for the builtin `float`. To silence this warning, use `float` by itself. Doing this will not modify any behavior and is safe. If you specifically wanted the numpy scalar type, use `np.float64` here.\n",
      "Deprecated in NumPy 1.20; for more details and guidance: https://numpy.org/devdocs/release/1.20.0-notes.html#deprecations\n",
      "  std[std < np.finfo(np.float).eps] = 1.  # avoid numerical problems\n",
      "/home/hannahcraddock/anaconda3/envs/hannah_env/lib/python3.9/site-packages/nilearn/signal.py:68: DeprecationWarning: `np.float` is a deprecated alias for the builtin `float`. To silence this warning, use `float` by itself. Doing this will not modify any behavior and is safe. If you specifically wanted the numpy scalar type, use `np.float64` here.\n",
      "Deprecated in NumPy 1.20; for more details and guidance: https://numpy.org/devdocs/release/1.20.0-notes.html#deprecations\n",
      "  std[std < np.finfo(np.float).eps] = 1.  # avoid numerical problems\n",
      "/home/hannahcraddock/anaconda3/envs/hannah_env/lib/python3.9/site-packages/nilearn/signal.py:68: DeprecationWarning: `np.float` is a deprecated alias for the builtin `float`. To silence this warning, use `float` by itself. Doing this will not modify any behavior and is safe. If you specifically wanted the numpy scalar type, use `np.float64` here.\n",
      "Deprecated in NumPy 1.20; for more details and guidance: https://numpy.org/devdocs/release/1.20.0-notes.html#deprecations\n",
      "  std[std < np.finfo(np.float).eps] = 1.  # avoid numerical problems\n",
      "/home/hannahcraddock/anaconda3/envs/hannah_env/lib/python3.9/site-packages/nilearn/signal.py:68: DeprecationWarning: `np.float` is a deprecated alias for the builtin `float`. To silence this warning, use `float` by itself. Doing this will not modify any behavior and is safe. If you specifically wanted the numpy scalar type, use `np.float64` here.\n",
      "Deprecated in NumPy 1.20; for more details and guidance: https://numpy.org/devdocs/release/1.20.0-notes.html#deprecations\n",
      "  std[std < np.finfo(np.float).eps] = 1.  # avoid numerical problems\n",
      "/home/hannahcraddock/anaconda3/envs/hannah_env/lib/python3.9/site-packages/nilearn/signal.py:68: DeprecationWarning: `np.float` is a deprecated alias for the builtin `float`. To silence this warning, use `float` by itself. Doing this will not modify any behavior and is safe. If you specifically wanted the numpy scalar type, use `np.float64` here.\n",
      "Deprecated in NumPy 1.20; for more details and guidance: https://numpy.org/devdocs/release/1.20.0-notes.html#deprecations\n",
      "  std[std < np.finfo(np.float).eps] = 1.  # avoid numerical problems\n",
      "/home/hannahcraddock/anaconda3/envs/hannah_env/lib/python3.9/site-packages/nilearn/signal.py:68: DeprecationWarning: `np.float` is a deprecated alias for the builtin `float`. To silence this warning, use `float` by itself. Doing this will not modify any behavior and is safe. If you specifically wanted the numpy scalar type, use `np.float64` here.\n",
      "Deprecated in NumPy 1.20; for more details and guidance: https://numpy.org/devdocs/release/1.20.0-notes.html#deprecations\n",
      "  std[std < np.finfo(np.float).eps] = 1.  # avoid numerical problems\n",
      "/home/hannahcraddock/anaconda3/envs/hannah_env/lib/python3.9/site-packages/nilearn/signal.py:68: DeprecationWarning: `np.float` is a deprecated alias for the builtin `float`. To silence this warning, use `float` by itself. Doing this will not modify any behavior and is safe. If you specifically wanted the numpy scalar type, use `np.float64` here.\n",
      "Deprecated in NumPy 1.20; for more details and guidance: https://numpy.org/devdocs/release/1.20.0-notes.html#deprecations\n",
      "  std[std < np.finfo(np.float).eps] = 1.  # avoid numerical problems\n",
      "/home/hannahcraddock/anaconda3/envs/hannah_env/lib/python3.9/site-packages/nilearn/signal.py:68: DeprecationWarning: `np.float` is a deprecated alias for the builtin `float`. To silence this warning, use `float` by itself. Doing this will not modify any behavior and is safe. If you specifically wanted the numpy scalar type, use `np.float64` here.\n",
      "Deprecated in NumPy 1.20; for more details and guidance: https://numpy.org/devdocs/release/1.20.0-notes.html#deprecations\n",
      "  std[std < np.finfo(np.float).eps] = 1.  # avoid numerical problems\n",
      "/home/hannahcraddock/anaconda3/envs/hannah_env/lib/python3.9/site-packages/nilearn/signal.py:68: DeprecationWarning: `np.float` is a deprecated alias for the builtin `float`. To silence this warning, use `float` by itself. Doing this will not modify any behavior and is safe. If you specifically wanted the numpy scalar type, use `np.float64` here.\n",
      "Deprecated in NumPy 1.20; for more details and guidance: https://numpy.org/devdocs/release/1.20.0-notes.html#deprecations\n",
      "  std[std < np.finfo(np.float).eps] = 1.  # avoid numerical problems\n",
      "/home/hannahcraddock/anaconda3/envs/hannah_env/lib/python3.9/site-packages/nilearn/signal.py:68: DeprecationWarning: `np.float` is a deprecated alias for the builtin `float`. To silence this warning, use `float` by itself. Doing this will not modify any behavior and is safe. If you specifically wanted the numpy scalar type, use `np.float64` here.\n",
      "Deprecated in NumPy 1.20; for more details and guidance: https://numpy.org/devdocs/release/1.20.0-notes.html#deprecations\n",
      "  std[std < np.finfo(np.float).eps] = 1.  # avoid numerical problems\n",
      "/home/hannahcraddock/anaconda3/envs/hannah_env/lib/python3.9/site-packages/nilearn/signal.py:68: DeprecationWarning: `np.float` is a deprecated alias for the builtin `float`. To silence this warning, use `float` by itself. Doing this will not modify any behavior and is safe. If you specifically wanted the numpy scalar type, use `np.float64` here.\n",
      "Deprecated in NumPy 1.20; for more details and guidance: https://numpy.org/devdocs/release/1.20.0-notes.html#deprecations\n",
      "  std[std < np.finfo(np.float).eps] = 1.  # avoid numerical problems\n",
      "/home/hannahcraddock/anaconda3/envs/hannah_env/lib/python3.9/site-packages/nilearn/signal.py:68: DeprecationWarning: `np.float` is a deprecated alias for the builtin `float`. To silence this warning, use `float` by itself. Doing this will not modify any behavior and is safe. If you specifically wanted the numpy scalar type, use `np.float64` here.\n",
      "Deprecated in NumPy 1.20; for more details and guidance: https://numpy.org/devdocs/release/1.20.0-notes.html#deprecations\n",
      "  std[std < np.finfo(np.float).eps] = 1.  # avoid numerical problems\n",
      "/home/hannahcraddock/anaconda3/envs/hannah_env/lib/python3.9/site-packages/nilearn/signal.py:68: DeprecationWarning: `np.float` is a deprecated alias for the builtin `float`. To silence this warning, use `float` by itself. Doing this will not modify any behavior and is safe. If you specifically wanted the numpy scalar type, use `np.float64` here.\n",
      "Deprecated in NumPy 1.20; for more details and guidance: https://numpy.org/devdocs/release/1.20.0-notes.html#deprecations\n",
      "  std[std < np.finfo(np.float).eps] = 1.  # avoid numerical problems\n",
      "/home/hannahcraddock/anaconda3/envs/hannah_env/lib/python3.9/site-packages/nilearn/signal.py:68: DeprecationWarning: `np.float` is a deprecated alias for the builtin `float`. To silence this warning, use `float` by itself. Doing this will not modify any behavior and is safe. If you specifically wanted the numpy scalar type, use `np.float64` here.\n",
      "Deprecated in NumPy 1.20; for more details and guidance: https://numpy.org/devdocs/release/1.20.0-notes.html#deprecations\n",
      "  std[std < np.finfo(np.float).eps] = 1.  # avoid numerical problems\n",
      "/home/hannahcraddock/anaconda3/envs/hannah_env/lib/python3.9/site-packages/nilearn/signal.py:68: DeprecationWarning: `np.float` is a deprecated alias for the builtin `float`. To silence this warning, use `float` by itself. Doing this will not modify any behavior and is safe. If you specifically wanted the numpy scalar type, use `np.float64` here.\n",
      "Deprecated in NumPy 1.20; for more details and guidance: https://numpy.org/devdocs/release/1.20.0-notes.html#deprecations\n",
      "  std[std < np.finfo(np.float).eps] = 1.  # avoid numerical problems\n"
     ]
    },
    {
     "name": "stderr",
     "output_type": "stream",
     "text": [
      "/home/hannahcraddock/anaconda3/envs/hannah_env/lib/python3.9/site-packages/nilearn/signal.py:68: DeprecationWarning: `np.float` is a deprecated alias for the builtin `float`. To silence this warning, use `float` by itself. Doing this will not modify any behavior and is safe. If you specifically wanted the numpy scalar type, use `np.float64` here.\n",
      "Deprecated in NumPy 1.20; for more details and guidance: https://numpy.org/devdocs/release/1.20.0-notes.html#deprecations\n",
      "  std[std < np.finfo(np.float).eps] = 1.  # avoid numerical problems\n",
      "/home/hannahcraddock/anaconda3/envs/hannah_env/lib/python3.9/site-packages/nilearn/signal.py:68: DeprecationWarning: `np.float` is a deprecated alias for the builtin `float`. To silence this warning, use `float` by itself. Doing this will not modify any behavior and is safe. If you specifically wanted the numpy scalar type, use `np.float64` here.\n",
      "Deprecated in NumPy 1.20; for more details and guidance: https://numpy.org/devdocs/release/1.20.0-notes.html#deprecations\n",
      "  std[std < np.finfo(np.float).eps] = 1.  # avoid numerical problems\n",
      "/home/hannahcraddock/anaconda3/envs/hannah_env/lib/python3.9/site-packages/nilearn/signal.py:68: DeprecationWarning: `np.float` is a deprecated alias for the builtin `float`. To silence this warning, use `float` by itself. Doing this will not modify any behavior and is safe. If you specifically wanted the numpy scalar type, use `np.float64` here.\n",
      "Deprecated in NumPy 1.20; for more details and guidance: https://numpy.org/devdocs/release/1.20.0-notes.html#deprecations\n",
      "  std[std < np.finfo(np.float).eps] = 1.  # avoid numerical problems\n",
      "/home/hannahcraddock/anaconda3/envs/hannah_env/lib/python3.9/site-packages/nilearn/signal.py:68: DeprecationWarning: `np.float` is a deprecated alias for the builtin `float`. To silence this warning, use `float` by itself. Doing this will not modify any behavior and is safe. If you specifically wanted the numpy scalar type, use `np.float64` here.\n",
      "Deprecated in NumPy 1.20; for more details and guidance: https://numpy.org/devdocs/release/1.20.0-notes.html#deprecations\n",
      "  std[std < np.finfo(np.float).eps] = 1.  # avoid numerical problems\n",
      "/home/hannahcraddock/anaconda3/envs/hannah_env/lib/python3.9/site-packages/nilearn/signal.py:68: DeprecationWarning: `np.float` is a deprecated alias for the builtin `float`. To silence this warning, use `float` by itself. Doing this will not modify any behavior and is safe. If you specifically wanted the numpy scalar type, use `np.float64` here.\n",
      "Deprecated in NumPy 1.20; for more details and guidance: https://numpy.org/devdocs/release/1.20.0-notes.html#deprecations\n",
      "  std[std < np.finfo(np.float).eps] = 1.  # avoid numerical problems\n",
      "/home/hannahcraddock/anaconda3/envs/hannah_env/lib/python3.9/site-packages/nilearn/signal.py:68: DeprecationWarning: `np.float` is a deprecated alias for the builtin `float`. To silence this warning, use `float` by itself. Doing this will not modify any behavior and is safe. If you specifically wanted the numpy scalar type, use `np.float64` here.\n",
      "Deprecated in NumPy 1.20; for more details and guidance: https://numpy.org/devdocs/release/1.20.0-notes.html#deprecations\n",
      "  std[std < np.finfo(np.float).eps] = 1.  # avoid numerical problems\n",
      "/home/hannahcraddock/anaconda3/envs/hannah_env/lib/python3.9/site-packages/nilearn/signal.py:68: DeprecationWarning: `np.float` is a deprecated alias for the builtin `float`. To silence this warning, use `float` by itself. Doing this will not modify any behavior and is safe. If you specifically wanted the numpy scalar type, use `np.float64` here.\n",
      "Deprecated in NumPy 1.20; for more details and guidance: https://numpy.org/devdocs/release/1.20.0-notes.html#deprecations\n",
      "  std[std < np.finfo(np.float).eps] = 1.  # avoid numerical problems\n",
      "/home/hannahcraddock/anaconda3/envs/hannah_env/lib/python3.9/site-packages/nilearn/signal.py:68: DeprecationWarning: `np.float` is a deprecated alias for the builtin `float`. To silence this warning, use `float` by itself. Doing this will not modify any behavior and is safe. If you specifically wanted the numpy scalar type, use `np.float64` here.\n",
      "Deprecated in NumPy 1.20; for more details and guidance: https://numpy.org/devdocs/release/1.20.0-notes.html#deprecations\n",
      "  std[std < np.finfo(np.float).eps] = 1.  # avoid numerical problems\n",
      "/home/hannahcraddock/anaconda3/envs/hannah_env/lib/python3.9/site-packages/nilearn/signal.py:68: DeprecationWarning: `np.float` is a deprecated alias for the builtin `float`. To silence this warning, use `float` by itself. Doing this will not modify any behavior and is safe. If you specifically wanted the numpy scalar type, use `np.float64` here.\n",
      "Deprecated in NumPy 1.20; for more details and guidance: https://numpy.org/devdocs/release/1.20.0-notes.html#deprecations\n",
      "  std[std < np.finfo(np.float).eps] = 1.  # avoid numerical problems\n",
      "/home/hannahcraddock/anaconda3/envs/hannah_env/lib/python3.9/site-packages/nilearn/signal.py:68: DeprecationWarning: `np.float` is a deprecated alias for the builtin `float`. To silence this warning, use `float` by itself. Doing this will not modify any behavior and is safe. If you specifically wanted the numpy scalar type, use `np.float64` here.\n",
      "Deprecated in NumPy 1.20; for more details and guidance: https://numpy.org/devdocs/release/1.20.0-notes.html#deprecations\n",
      "  std[std < np.finfo(np.float).eps] = 1.  # avoid numerical problems\n",
      "/home/hannahcraddock/anaconda3/envs/hannah_env/lib/python3.9/site-packages/nilearn/signal.py:68: DeprecationWarning: `np.float` is a deprecated alias for the builtin `float`. To silence this warning, use `float` by itself. Doing this will not modify any behavior and is safe. If you specifically wanted the numpy scalar type, use `np.float64` here.\n",
      "Deprecated in NumPy 1.20; for more details and guidance: https://numpy.org/devdocs/release/1.20.0-notes.html#deprecations\n",
      "  std[std < np.finfo(np.float).eps] = 1.  # avoid numerical problems\n",
      "/home/hannahcraddock/anaconda3/envs/hannah_env/lib/python3.9/site-packages/nilearn/signal.py:68: DeprecationWarning: `np.float` is a deprecated alias for the builtin `float`. To silence this warning, use `float` by itself. Doing this will not modify any behavior and is safe. If you specifically wanted the numpy scalar type, use `np.float64` here.\n",
      "Deprecated in NumPy 1.20; for more details and guidance: https://numpy.org/devdocs/release/1.20.0-notes.html#deprecations\n",
      "  std[std < np.finfo(np.float).eps] = 1.  # avoid numerical problems\n",
      "/home/hannahcraddock/anaconda3/envs/hannah_env/lib/python3.9/site-packages/nilearn/signal.py:68: DeprecationWarning: `np.float` is a deprecated alias for the builtin `float`. To silence this warning, use `float` by itself. Doing this will not modify any behavior and is safe. If you specifically wanted the numpy scalar type, use `np.float64` here.\n",
      "Deprecated in NumPy 1.20; for more details and guidance: https://numpy.org/devdocs/release/1.20.0-notes.html#deprecations\n",
      "  std[std < np.finfo(np.float).eps] = 1.  # avoid numerical problems\n",
      "/home/hannahcraddock/anaconda3/envs/hannah_env/lib/python3.9/site-packages/nilearn/signal.py:68: DeprecationWarning: `np.float` is a deprecated alias for the builtin `float`. To silence this warning, use `float` by itself. Doing this will not modify any behavior and is safe. If you specifically wanted the numpy scalar type, use `np.float64` here.\n",
      "Deprecated in NumPy 1.20; for more details and guidance: https://numpy.org/devdocs/release/1.20.0-notes.html#deprecations\n",
      "  std[std < np.finfo(np.float).eps] = 1.  # avoid numerical problems\n",
      "/home/hannahcraddock/anaconda3/envs/hannah_env/lib/python3.9/site-packages/nilearn/signal.py:68: DeprecationWarning: `np.float` is a deprecated alias for the builtin `float`. To silence this warning, use `float` by itself. Doing this will not modify any behavior and is safe. If you specifically wanted the numpy scalar type, use `np.float64` here.\n",
      "Deprecated in NumPy 1.20; for more details and guidance: https://numpy.org/devdocs/release/1.20.0-notes.html#deprecations\n",
      "  std[std < np.finfo(np.float).eps] = 1.  # avoid numerical problems\n",
      "/home/hannahcraddock/anaconda3/envs/hannah_env/lib/python3.9/site-packages/nilearn/signal.py:68: DeprecationWarning: `np.float` is a deprecated alias for the builtin `float`. To silence this warning, use `float` by itself. Doing this will not modify any behavior and is safe. If you specifically wanted the numpy scalar type, use `np.float64` here.\n",
      "Deprecated in NumPy 1.20; for more details and guidance: https://numpy.org/devdocs/release/1.20.0-notes.html#deprecations\n",
      "  std[std < np.finfo(np.float).eps] = 1.  # avoid numerical problems\n"
     ]
    },
    {
     "name": "stderr",
     "output_type": "stream",
     "text": [
      "/home/hannahcraddock/anaconda3/envs/hannah_env/lib/python3.9/site-packages/nilearn/signal.py:68: DeprecationWarning: `np.float` is a deprecated alias for the builtin `float`. To silence this warning, use `float` by itself. Doing this will not modify any behavior and is safe. If you specifically wanted the numpy scalar type, use `np.float64` here.\n",
      "Deprecated in NumPy 1.20; for more details and guidance: https://numpy.org/devdocs/release/1.20.0-notes.html#deprecations\n",
      "  std[std < np.finfo(np.float).eps] = 1.  # avoid numerical problems\n",
      "/home/hannahcraddock/anaconda3/envs/hannah_env/lib/python3.9/site-packages/nilearn/signal.py:68: DeprecationWarning: `np.float` is a deprecated alias for the builtin `float`. To silence this warning, use `float` by itself. Doing this will not modify any behavior and is safe. If you specifically wanted the numpy scalar type, use `np.float64` here.\n",
      "Deprecated in NumPy 1.20; for more details and guidance: https://numpy.org/devdocs/release/1.20.0-notes.html#deprecations\n",
      "  std[std < np.finfo(np.float).eps] = 1.  # avoid numerical problems\n",
      "/home/hannahcraddock/anaconda3/envs/hannah_env/lib/python3.9/site-packages/nilearn/signal.py:68: DeprecationWarning: `np.float` is a deprecated alias for the builtin `float`. To silence this warning, use `float` by itself. Doing this will not modify any behavior and is safe. If you specifically wanted the numpy scalar type, use `np.float64` here.\n",
      "Deprecated in NumPy 1.20; for more details and guidance: https://numpy.org/devdocs/release/1.20.0-notes.html#deprecations\n",
      "  std[std < np.finfo(np.float).eps] = 1.  # avoid numerical problems\n",
      "/home/hannahcraddock/anaconda3/envs/hannah_env/lib/python3.9/site-packages/nilearn/signal.py:68: DeprecationWarning: `np.float` is a deprecated alias for the builtin `float`. To silence this warning, use `float` by itself. Doing this will not modify any behavior and is safe. If you specifically wanted the numpy scalar type, use `np.float64` here.\n",
      "Deprecated in NumPy 1.20; for more details and guidance: https://numpy.org/devdocs/release/1.20.0-notes.html#deprecations\n",
      "  std[std < np.finfo(np.float).eps] = 1.  # avoid numerical problems\n",
      "/home/hannahcraddock/anaconda3/envs/hannah_env/lib/python3.9/site-packages/nilearn/signal.py:68: DeprecationWarning: `np.float` is a deprecated alias for the builtin `float`. To silence this warning, use `float` by itself. Doing this will not modify any behavior and is safe. If you specifically wanted the numpy scalar type, use `np.float64` here.\n",
      "Deprecated in NumPy 1.20; for more details and guidance: https://numpy.org/devdocs/release/1.20.0-notes.html#deprecations\n",
      "  std[std < np.finfo(np.float).eps] = 1.  # avoid numerical problems\n",
      "/home/hannahcraddock/anaconda3/envs/hannah_env/lib/python3.9/site-packages/nilearn/signal.py:68: DeprecationWarning: `np.float` is a deprecated alias for the builtin `float`. To silence this warning, use `float` by itself. Doing this will not modify any behavior and is safe. If you specifically wanted the numpy scalar type, use `np.float64` here.\n",
      "Deprecated in NumPy 1.20; for more details and guidance: https://numpy.org/devdocs/release/1.20.0-notes.html#deprecations\n",
      "  std[std < np.finfo(np.float).eps] = 1.  # avoid numerical problems\n",
      "/home/hannahcraddock/anaconda3/envs/hannah_env/lib/python3.9/site-packages/nilearn/signal.py:68: DeprecationWarning: `np.float` is a deprecated alias for the builtin `float`. To silence this warning, use `float` by itself. Doing this will not modify any behavior and is safe. If you specifically wanted the numpy scalar type, use `np.float64` here.\n",
      "Deprecated in NumPy 1.20; for more details and guidance: https://numpy.org/devdocs/release/1.20.0-notes.html#deprecations\n",
      "  std[std < np.finfo(np.float).eps] = 1.  # avoid numerical problems\n",
      "/home/hannahcraddock/anaconda3/envs/hannah_env/lib/python3.9/site-packages/nilearn/signal.py:68: DeprecationWarning: `np.float` is a deprecated alias for the builtin `float`. To silence this warning, use `float` by itself. Doing this will not modify any behavior and is safe. If you specifically wanted the numpy scalar type, use `np.float64` here.\n",
      "Deprecated in NumPy 1.20; for more details and guidance: https://numpy.org/devdocs/release/1.20.0-notes.html#deprecations\n",
      "  std[std < np.finfo(np.float).eps] = 1.  # avoid numerical problems\n",
      "/home/hannahcraddock/anaconda3/envs/hannah_env/lib/python3.9/site-packages/nilearn/signal.py:68: DeprecationWarning: `np.float` is a deprecated alias for the builtin `float`. To silence this warning, use `float` by itself. Doing this will not modify any behavior and is safe. If you specifically wanted the numpy scalar type, use `np.float64` here.\n",
      "Deprecated in NumPy 1.20; for more details and guidance: https://numpy.org/devdocs/release/1.20.0-notes.html#deprecations\n",
      "  std[std < np.finfo(np.float).eps] = 1.  # avoid numerical problems\n",
      "/home/hannahcraddock/anaconda3/envs/hannah_env/lib/python3.9/site-packages/nilearn/signal.py:68: DeprecationWarning: `np.float` is a deprecated alias for the builtin `float`. To silence this warning, use `float` by itself. Doing this will not modify any behavior and is safe. If you specifically wanted the numpy scalar type, use `np.float64` here.\n",
      "Deprecated in NumPy 1.20; for more details and guidance: https://numpy.org/devdocs/release/1.20.0-notes.html#deprecations\n",
      "  std[std < np.finfo(np.float).eps] = 1.  # avoid numerical problems\n",
      "/home/hannahcraddock/anaconda3/envs/hannah_env/lib/python3.9/site-packages/nilearn/signal.py:68: DeprecationWarning: `np.float` is a deprecated alias for the builtin `float`. To silence this warning, use `float` by itself. Doing this will not modify any behavior and is safe. If you specifically wanted the numpy scalar type, use `np.float64` here.\n",
      "Deprecated in NumPy 1.20; for more details and guidance: https://numpy.org/devdocs/release/1.20.0-notes.html#deprecations\n",
      "  std[std < np.finfo(np.float).eps] = 1.  # avoid numerical problems\n",
      "/home/hannahcraddock/anaconda3/envs/hannah_env/lib/python3.9/site-packages/nilearn/signal.py:68: DeprecationWarning: `np.float` is a deprecated alias for the builtin `float`. To silence this warning, use `float` by itself. Doing this will not modify any behavior and is safe. If you specifically wanted the numpy scalar type, use `np.float64` here.\n",
      "Deprecated in NumPy 1.20; for more details and guidance: https://numpy.org/devdocs/release/1.20.0-notes.html#deprecations\n",
      "  std[std < np.finfo(np.float).eps] = 1.  # avoid numerical problems\n",
      "/home/hannahcraddock/anaconda3/envs/hannah_env/lib/python3.9/site-packages/nilearn/signal.py:68: DeprecationWarning: `np.float` is a deprecated alias for the builtin `float`. To silence this warning, use `float` by itself. Doing this will not modify any behavior and is safe. If you specifically wanted the numpy scalar type, use `np.float64` here.\n",
      "Deprecated in NumPy 1.20; for more details and guidance: https://numpy.org/devdocs/release/1.20.0-notes.html#deprecations\n",
      "  std[std < np.finfo(np.float).eps] = 1.  # avoid numerical problems\n",
      "/home/hannahcraddock/anaconda3/envs/hannah_env/lib/python3.9/site-packages/nilearn/signal.py:68: DeprecationWarning: `np.float` is a deprecated alias for the builtin `float`. To silence this warning, use `float` by itself. Doing this will not modify any behavior and is safe. If you specifically wanted the numpy scalar type, use `np.float64` here.\n",
      "Deprecated in NumPy 1.20; for more details and guidance: https://numpy.org/devdocs/release/1.20.0-notes.html#deprecations\n",
      "  std[std < np.finfo(np.float).eps] = 1.  # avoid numerical problems\n",
      "/home/hannahcraddock/anaconda3/envs/hannah_env/lib/python3.9/site-packages/nilearn/signal.py:68: DeprecationWarning: `np.float` is a deprecated alias for the builtin `float`. To silence this warning, use `float` by itself. Doing this will not modify any behavior and is safe. If you specifically wanted the numpy scalar type, use `np.float64` here.\n",
      "Deprecated in NumPy 1.20; for more details and guidance: https://numpy.org/devdocs/release/1.20.0-notes.html#deprecations\n",
      "  std[std < np.finfo(np.float).eps] = 1.  # avoid numerical problems\n",
      "/home/hannahcraddock/anaconda3/envs/hannah_env/lib/python3.9/site-packages/nilearn/signal.py:68: DeprecationWarning: `np.float` is a deprecated alias for the builtin `float`. To silence this warning, use `float` by itself. Doing this will not modify any behavior and is safe. If you specifically wanted the numpy scalar type, use `np.float64` here.\n",
      "Deprecated in NumPy 1.20; for more details and guidance: https://numpy.org/devdocs/release/1.20.0-notes.html#deprecations\n",
      "  std[std < np.finfo(np.float).eps] = 1.  # avoid numerical problems\n"
     ]
    },
    {
     "name": "stderr",
     "output_type": "stream",
     "text": [
      "/home/hannahcraddock/anaconda3/envs/hannah_env/lib/python3.9/site-packages/nilearn/signal.py:68: DeprecationWarning: `np.float` is a deprecated alias for the builtin `float`. To silence this warning, use `float` by itself. Doing this will not modify any behavior and is safe. If you specifically wanted the numpy scalar type, use `np.float64` here.\n",
      "Deprecated in NumPy 1.20; for more details and guidance: https://numpy.org/devdocs/release/1.20.0-notes.html#deprecations\n",
      "  std[std < np.finfo(np.float).eps] = 1.  # avoid numerical problems\n",
      "/home/hannahcraddock/anaconda3/envs/hannah_env/lib/python3.9/site-packages/nilearn/signal.py:68: DeprecationWarning: `np.float` is a deprecated alias for the builtin `float`. To silence this warning, use `float` by itself. Doing this will not modify any behavior and is safe. If you specifically wanted the numpy scalar type, use `np.float64` here.\n",
      "Deprecated in NumPy 1.20; for more details and guidance: https://numpy.org/devdocs/release/1.20.0-notes.html#deprecations\n",
      "  std[std < np.finfo(np.float).eps] = 1.  # avoid numerical problems\n",
      "/home/hannahcraddock/anaconda3/envs/hannah_env/lib/python3.9/site-packages/nilearn/signal.py:68: DeprecationWarning: `np.float` is a deprecated alias for the builtin `float`. To silence this warning, use `float` by itself. Doing this will not modify any behavior and is safe. If you specifically wanted the numpy scalar type, use `np.float64` here.\n",
      "Deprecated in NumPy 1.20; for more details and guidance: https://numpy.org/devdocs/release/1.20.0-notes.html#deprecations\n",
      "  std[std < np.finfo(np.float).eps] = 1.  # avoid numerical problems\n",
      "/home/hannahcraddock/anaconda3/envs/hannah_env/lib/python3.9/site-packages/nilearn/signal.py:68: DeprecationWarning: `np.float` is a deprecated alias for the builtin `float`. To silence this warning, use `float` by itself. Doing this will not modify any behavior and is safe. If you specifically wanted the numpy scalar type, use `np.float64` here.\n",
      "Deprecated in NumPy 1.20; for more details and guidance: https://numpy.org/devdocs/release/1.20.0-notes.html#deprecations\n",
      "  std[std < np.finfo(np.float).eps] = 1.  # avoid numerical problems\n",
      "/home/hannahcraddock/anaconda3/envs/hannah_env/lib/python3.9/site-packages/nilearn/signal.py:68: DeprecationWarning: `np.float` is a deprecated alias for the builtin `float`. To silence this warning, use `float` by itself. Doing this will not modify any behavior and is safe. If you specifically wanted the numpy scalar type, use `np.float64` here.\n",
      "Deprecated in NumPy 1.20; for more details and guidance: https://numpy.org/devdocs/release/1.20.0-notes.html#deprecations\n",
      "  std[std < np.finfo(np.float).eps] = 1.  # avoid numerical problems\n",
      "/home/hannahcraddock/anaconda3/envs/hannah_env/lib/python3.9/site-packages/nilearn/signal.py:68: DeprecationWarning: `np.float` is a deprecated alias for the builtin `float`. To silence this warning, use `float` by itself. Doing this will not modify any behavior and is safe. If you specifically wanted the numpy scalar type, use `np.float64` here.\n",
      "Deprecated in NumPy 1.20; for more details and guidance: https://numpy.org/devdocs/release/1.20.0-notes.html#deprecations\n",
      "  std[std < np.finfo(np.float).eps] = 1.  # avoid numerical problems\n",
      "/home/hannahcraddock/anaconda3/envs/hannah_env/lib/python3.9/site-packages/nilearn/signal.py:68: DeprecationWarning: `np.float` is a deprecated alias for the builtin `float`. To silence this warning, use `float` by itself. Doing this will not modify any behavior and is safe. If you specifically wanted the numpy scalar type, use `np.float64` here.\n",
      "Deprecated in NumPy 1.20; for more details and guidance: https://numpy.org/devdocs/release/1.20.0-notes.html#deprecations\n",
      "  std[std < np.finfo(np.float).eps] = 1.  # avoid numerical problems\n",
      "/home/hannahcraddock/anaconda3/envs/hannah_env/lib/python3.9/site-packages/nilearn/signal.py:68: DeprecationWarning: `np.float` is a deprecated alias for the builtin `float`. To silence this warning, use `float` by itself. Doing this will not modify any behavior and is safe. If you specifically wanted the numpy scalar type, use `np.float64` here.\n",
      "Deprecated in NumPy 1.20; for more details and guidance: https://numpy.org/devdocs/release/1.20.0-notes.html#deprecations\n",
      "  std[std < np.finfo(np.float).eps] = 1.  # avoid numerical problems\n",
      "/home/hannahcraddock/anaconda3/envs/hannah_env/lib/python3.9/site-packages/nilearn/signal.py:68: DeprecationWarning: `np.float` is a deprecated alias for the builtin `float`. To silence this warning, use `float` by itself. Doing this will not modify any behavior and is safe. If you specifically wanted the numpy scalar type, use `np.float64` here.\n",
      "Deprecated in NumPy 1.20; for more details and guidance: https://numpy.org/devdocs/release/1.20.0-notes.html#deprecations\n",
      "  std[std < np.finfo(np.float).eps] = 1.  # avoid numerical problems\n",
      "/home/hannahcraddock/anaconda3/envs/hannah_env/lib/python3.9/site-packages/nilearn/signal.py:68: DeprecationWarning: `np.float` is a deprecated alias for the builtin `float`. To silence this warning, use `float` by itself. Doing this will not modify any behavior and is safe. If you specifically wanted the numpy scalar type, use `np.float64` here.\n",
      "Deprecated in NumPy 1.20; for more details and guidance: https://numpy.org/devdocs/release/1.20.0-notes.html#deprecations\n",
      "  std[std < np.finfo(np.float).eps] = 1.  # avoid numerical problems\n",
      "/home/hannahcraddock/anaconda3/envs/hannah_env/lib/python3.9/site-packages/nilearn/signal.py:68: DeprecationWarning: `np.float` is a deprecated alias for the builtin `float`. To silence this warning, use `float` by itself. Doing this will not modify any behavior and is safe. If you specifically wanted the numpy scalar type, use `np.float64` here.\n",
      "Deprecated in NumPy 1.20; for more details and guidance: https://numpy.org/devdocs/release/1.20.0-notes.html#deprecations\n",
      "  std[std < np.finfo(np.float).eps] = 1.  # avoid numerical problems\n",
      "/home/hannahcraddock/anaconda3/envs/hannah_env/lib/python3.9/site-packages/nilearn/signal.py:68: DeprecationWarning: `np.float` is a deprecated alias for the builtin `float`. To silence this warning, use `float` by itself. Doing this will not modify any behavior and is safe. If you specifically wanted the numpy scalar type, use `np.float64` here.\n",
      "Deprecated in NumPy 1.20; for more details and guidance: https://numpy.org/devdocs/release/1.20.0-notes.html#deprecations\n",
      "  std[std < np.finfo(np.float).eps] = 1.  # avoid numerical problems\n",
      "/home/hannahcraddock/anaconda3/envs/hannah_env/lib/python3.9/site-packages/nilearn/signal.py:68: DeprecationWarning: `np.float` is a deprecated alias for the builtin `float`. To silence this warning, use `float` by itself. Doing this will not modify any behavior and is safe. If you specifically wanted the numpy scalar type, use `np.float64` here.\n",
      "Deprecated in NumPy 1.20; for more details and guidance: https://numpy.org/devdocs/release/1.20.0-notes.html#deprecations\n",
      "  std[std < np.finfo(np.float).eps] = 1.  # avoid numerical problems\n",
      "/home/hannahcraddock/anaconda3/envs/hannah_env/lib/python3.9/site-packages/nilearn/signal.py:68: DeprecationWarning: `np.float` is a deprecated alias for the builtin `float`. To silence this warning, use `float` by itself. Doing this will not modify any behavior and is safe. If you specifically wanted the numpy scalar type, use `np.float64` here.\n",
      "Deprecated in NumPy 1.20; for more details and guidance: https://numpy.org/devdocs/release/1.20.0-notes.html#deprecations\n",
      "  std[std < np.finfo(np.float).eps] = 1.  # avoid numerical problems\n",
      "/home/hannahcraddock/anaconda3/envs/hannah_env/lib/python3.9/site-packages/nilearn/signal.py:68: DeprecationWarning: `np.float` is a deprecated alias for the builtin `float`. To silence this warning, use `float` by itself. Doing this will not modify any behavior and is safe. If you specifically wanted the numpy scalar type, use `np.float64` here.\n",
      "Deprecated in NumPy 1.20; for more details and guidance: https://numpy.org/devdocs/release/1.20.0-notes.html#deprecations\n",
      "  std[std < np.finfo(np.float).eps] = 1.  # avoid numerical problems\n",
      "/home/hannahcraddock/anaconda3/envs/hannah_env/lib/python3.9/site-packages/nilearn/signal.py:68: DeprecationWarning: `np.float` is a deprecated alias for the builtin `float`. To silence this warning, use `float` by itself. Doing this will not modify any behavior and is safe. If you specifically wanted the numpy scalar type, use `np.float64` here.\n",
      "Deprecated in NumPy 1.20; for more details and guidance: https://numpy.org/devdocs/release/1.20.0-notes.html#deprecations\n",
      "  std[std < np.finfo(np.float).eps] = 1.  # avoid numerical problems\n"
     ]
    },
    {
     "name": "stderr",
     "output_type": "stream",
     "text": [
      "/home/hannahcraddock/anaconda3/envs/hannah_env/lib/python3.9/site-packages/nilearn/signal.py:68: DeprecationWarning: `np.float` is a deprecated alias for the builtin `float`. To silence this warning, use `float` by itself. Doing this will not modify any behavior and is safe. If you specifically wanted the numpy scalar type, use `np.float64` here.\n",
      "Deprecated in NumPy 1.20; for more details and guidance: https://numpy.org/devdocs/release/1.20.0-notes.html#deprecations\n",
      "  std[std < np.finfo(np.float).eps] = 1.  # avoid numerical problems\n",
      "/home/hannahcraddock/anaconda3/envs/hannah_env/lib/python3.9/site-packages/nilearn/signal.py:68: DeprecationWarning: `np.float` is a deprecated alias for the builtin `float`. To silence this warning, use `float` by itself. Doing this will not modify any behavior and is safe. If you specifically wanted the numpy scalar type, use `np.float64` here.\n",
      "Deprecated in NumPy 1.20; for more details and guidance: https://numpy.org/devdocs/release/1.20.0-notes.html#deprecations\n",
      "  std[std < np.finfo(np.float).eps] = 1.  # avoid numerical problems\n",
      "/home/hannahcraddock/anaconda3/envs/hannah_env/lib/python3.9/site-packages/nilearn/signal.py:68: DeprecationWarning: `np.float` is a deprecated alias for the builtin `float`. To silence this warning, use `float` by itself. Doing this will not modify any behavior and is safe. If you specifically wanted the numpy scalar type, use `np.float64` here.\n",
      "Deprecated in NumPy 1.20; for more details and guidance: https://numpy.org/devdocs/release/1.20.0-notes.html#deprecations\n",
      "  std[std < np.finfo(np.float).eps] = 1.  # avoid numerical problems\n",
      "/home/hannahcraddock/anaconda3/envs/hannah_env/lib/python3.9/site-packages/nilearn/signal.py:68: DeprecationWarning: `np.float` is a deprecated alias for the builtin `float`. To silence this warning, use `float` by itself. Doing this will not modify any behavior and is safe. If you specifically wanted the numpy scalar type, use `np.float64` here.\n",
      "Deprecated in NumPy 1.20; for more details and guidance: https://numpy.org/devdocs/release/1.20.0-notes.html#deprecations\n",
      "  std[std < np.finfo(np.float).eps] = 1.  # avoid numerical problems\n",
      "/home/hannahcraddock/anaconda3/envs/hannah_env/lib/python3.9/site-packages/nilearn/signal.py:68: DeprecationWarning: `np.float` is a deprecated alias for the builtin `float`. To silence this warning, use `float` by itself. Doing this will not modify any behavior and is safe. If you specifically wanted the numpy scalar type, use `np.float64` here.\n",
      "Deprecated in NumPy 1.20; for more details and guidance: https://numpy.org/devdocs/release/1.20.0-notes.html#deprecations\n",
      "  std[std < np.finfo(np.float).eps] = 1.  # avoid numerical problems\n",
      "/home/hannahcraddock/anaconda3/envs/hannah_env/lib/python3.9/site-packages/nilearn/signal.py:68: DeprecationWarning: `np.float` is a deprecated alias for the builtin `float`. To silence this warning, use `float` by itself. Doing this will not modify any behavior and is safe. If you specifically wanted the numpy scalar type, use `np.float64` here.\n",
      "Deprecated in NumPy 1.20; for more details and guidance: https://numpy.org/devdocs/release/1.20.0-notes.html#deprecations\n",
      "  std[std < np.finfo(np.float).eps] = 1.  # avoid numerical problems\n",
      "/home/hannahcraddock/anaconda3/envs/hannah_env/lib/python3.9/site-packages/nilearn/signal.py:68: DeprecationWarning: `np.float` is a deprecated alias for the builtin `float`. To silence this warning, use `float` by itself. Doing this will not modify any behavior and is safe. If you specifically wanted the numpy scalar type, use `np.float64` here.\n",
      "Deprecated in NumPy 1.20; for more details and guidance: https://numpy.org/devdocs/release/1.20.0-notes.html#deprecations\n",
      "  std[std < np.finfo(np.float).eps] = 1.  # avoid numerical problems\n",
      "/home/hannahcraddock/anaconda3/envs/hannah_env/lib/python3.9/site-packages/nilearn/signal.py:68: DeprecationWarning: `np.float` is a deprecated alias for the builtin `float`. To silence this warning, use `float` by itself. Doing this will not modify any behavior and is safe. If you specifically wanted the numpy scalar type, use `np.float64` here.\n",
      "Deprecated in NumPy 1.20; for more details and guidance: https://numpy.org/devdocs/release/1.20.0-notes.html#deprecations\n",
      "  std[std < np.finfo(np.float).eps] = 1.  # avoid numerical problems\n",
      "/home/hannahcraddock/anaconda3/envs/hannah_env/lib/python3.9/site-packages/nilearn/signal.py:68: DeprecationWarning: `np.float` is a deprecated alias for the builtin `float`. To silence this warning, use `float` by itself. Doing this will not modify any behavior and is safe. If you specifically wanted the numpy scalar type, use `np.float64` here.\n",
      "Deprecated in NumPy 1.20; for more details and guidance: https://numpy.org/devdocs/release/1.20.0-notes.html#deprecations\n",
      "  std[std < np.finfo(np.float).eps] = 1.  # avoid numerical problems\n",
      "/home/hannahcraddock/anaconda3/envs/hannah_env/lib/python3.9/site-packages/nilearn/signal.py:68: DeprecationWarning: `np.float` is a deprecated alias for the builtin `float`. To silence this warning, use `float` by itself. Doing this will not modify any behavior and is safe. If you specifically wanted the numpy scalar type, use `np.float64` here.\n",
      "Deprecated in NumPy 1.20; for more details and guidance: https://numpy.org/devdocs/release/1.20.0-notes.html#deprecations\n",
      "  std[std < np.finfo(np.float).eps] = 1.  # avoid numerical problems\n",
      "/home/hannahcraddock/anaconda3/envs/hannah_env/lib/python3.9/site-packages/nilearn/signal.py:68: DeprecationWarning: `np.float` is a deprecated alias for the builtin `float`. To silence this warning, use `float` by itself. Doing this will not modify any behavior and is safe. If you specifically wanted the numpy scalar type, use `np.float64` here.\n",
      "Deprecated in NumPy 1.20; for more details and guidance: https://numpy.org/devdocs/release/1.20.0-notes.html#deprecations\n",
      "  std[std < np.finfo(np.float).eps] = 1.  # avoid numerical problems\n",
      "/home/hannahcraddock/anaconda3/envs/hannah_env/lib/python3.9/site-packages/nilearn/signal.py:68: DeprecationWarning: `np.float` is a deprecated alias for the builtin `float`. To silence this warning, use `float` by itself. Doing this will not modify any behavior and is safe. If you specifically wanted the numpy scalar type, use `np.float64` here.\n",
      "Deprecated in NumPy 1.20; for more details and guidance: https://numpy.org/devdocs/release/1.20.0-notes.html#deprecations\n",
      "  std[std < np.finfo(np.float).eps] = 1.  # avoid numerical problems\n",
      "/home/hannahcraddock/anaconda3/envs/hannah_env/lib/python3.9/site-packages/nilearn/signal.py:68: DeprecationWarning: `np.float` is a deprecated alias for the builtin `float`. To silence this warning, use `float` by itself. Doing this will not modify any behavior and is safe. If you specifically wanted the numpy scalar type, use `np.float64` here.\n",
      "Deprecated in NumPy 1.20; for more details and guidance: https://numpy.org/devdocs/release/1.20.0-notes.html#deprecations\n",
      "  std[std < np.finfo(np.float).eps] = 1.  # avoid numerical problems\n",
      "/home/hannahcraddock/anaconda3/envs/hannah_env/lib/python3.9/site-packages/nilearn/signal.py:68: DeprecationWarning: `np.float` is a deprecated alias for the builtin `float`. To silence this warning, use `float` by itself. Doing this will not modify any behavior and is safe. If you specifically wanted the numpy scalar type, use `np.float64` here.\n",
      "Deprecated in NumPy 1.20; for more details and guidance: https://numpy.org/devdocs/release/1.20.0-notes.html#deprecations\n",
      "  std[std < np.finfo(np.float).eps] = 1.  # avoid numerical problems\n",
      "/home/hannahcraddock/anaconda3/envs/hannah_env/lib/python3.9/site-packages/nilearn/signal.py:68: DeprecationWarning: `np.float` is a deprecated alias for the builtin `float`. To silence this warning, use `float` by itself. Doing this will not modify any behavior and is safe. If you specifically wanted the numpy scalar type, use `np.float64` here.\n",
      "Deprecated in NumPy 1.20; for more details and guidance: https://numpy.org/devdocs/release/1.20.0-notes.html#deprecations\n",
      "  std[std < np.finfo(np.float).eps] = 1.  # avoid numerical problems\n",
      "/home/hannahcraddock/anaconda3/envs/hannah_env/lib/python3.9/site-packages/nilearn/signal.py:68: DeprecationWarning: `np.float` is a deprecated alias for the builtin `float`. To silence this warning, use `float` by itself. Doing this will not modify any behavior and is safe. If you specifically wanted the numpy scalar type, use `np.float64` here.\n",
      "Deprecated in NumPy 1.20; for more details and guidance: https://numpy.org/devdocs/release/1.20.0-notes.html#deprecations\n",
      "  std[std < np.finfo(np.float).eps] = 1.  # avoid numerical problems\n"
     ]
    },
    {
     "name": "stderr",
     "output_type": "stream",
     "text": [
      "/home/hannahcraddock/anaconda3/envs/hannah_env/lib/python3.9/site-packages/nilearn/signal.py:68: DeprecationWarning: `np.float` is a deprecated alias for the builtin `float`. To silence this warning, use `float` by itself. Doing this will not modify any behavior and is safe. If you specifically wanted the numpy scalar type, use `np.float64` here.\n",
      "Deprecated in NumPy 1.20; for more details and guidance: https://numpy.org/devdocs/release/1.20.0-notes.html#deprecations\n",
      "  std[std < np.finfo(np.float).eps] = 1.  # avoid numerical problems\n",
      "/home/hannahcraddock/anaconda3/envs/hannah_env/lib/python3.9/site-packages/nilearn/signal.py:68: DeprecationWarning: `np.float` is a deprecated alias for the builtin `float`. To silence this warning, use `float` by itself. Doing this will not modify any behavior and is safe. If you specifically wanted the numpy scalar type, use `np.float64` here.\n",
      "Deprecated in NumPy 1.20; for more details and guidance: https://numpy.org/devdocs/release/1.20.0-notes.html#deprecations\n",
      "  std[std < np.finfo(np.float).eps] = 1.  # avoid numerical problems\n",
      "/home/hannahcraddock/anaconda3/envs/hannah_env/lib/python3.9/site-packages/nilearn/signal.py:68: DeprecationWarning: `np.float` is a deprecated alias for the builtin `float`. To silence this warning, use `float` by itself. Doing this will not modify any behavior and is safe. If you specifically wanted the numpy scalar type, use `np.float64` here.\n",
      "Deprecated in NumPy 1.20; for more details and guidance: https://numpy.org/devdocs/release/1.20.0-notes.html#deprecations\n",
      "  std[std < np.finfo(np.float).eps] = 1.  # avoid numerical problems\n",
      "/home/hannahcraddock/anaconda3/envs/hannah_env/lib/python3.9/site-packages/nilearn/signal.py:68: DeprecationWarning: `np.float` is a deprecated alias for the builtin `float`. To silence this warning, use `float` by itself. Doing this will not modify any behavior and is safe. If you specifically wanted the numpy scalar type, use `np.float64` here.\n",
      "Deprecated in NumPy 1.20; for more details and guidance: https://numpy.org/devdocs/release/1.20.0-notes.html#deprecations\n",
      "  std[std < np.finfo(np.float).eps] = 1.  # avoid numerical problems\n",
      "/home/hannahcraddock/anaconda3/envs/hannah_env/lib/python3.9/site-packages/nilearn/signal.py:68: DeprecationWarning: `np.float` is a deprecated alias for the builtin `float`. To silence this warning, use `float` by itself. Doing this will not modify any behavior and is safe. If you specifically wanted the numpy scalar type, use `np.float64` here.\n",
      "Deprecated in NumPy 1.20; for more details and guidance: https://numpy.org/devdocs/release/1.20.0-notes.html#deprecations\n",
      "  std[std < np.finfo(np.float).eps] = 1.  # avoid numerical problems\n",
      "/home/hannahcraddock/anaconda3/envs/hannah_env/lib/python3.9/site-packages/nilearn/signal.py:68: DeprecationWarning: `np.float` is a deprecated alias for the builtin `float`. To silence this warning, use `float` by itself. Doing this will not modify any behavior and is safe. If you specifically wanted the numpy scalar type, use `np.float64` here.\n",
      "Deprecated in NumPy 1.20; for more details and guidance: https://numpy.org/devdocs/release/1.20.0-notes.html#deprecations\n",
      "  std[std < np.finfo(np.float).eps] = 1.  # avoid numerical problems\n",
      "/home/hannahcraddock/anaconda3/envs/hannah_env/lib/python3.9/site-packages/nilearn/signal.py:68: DeprecationWarning: `np.float` is a deprecated alias for the builtin `float`. To silence this warning, use `float` by itself. Doing this will not modify any behavior and is safe. If you specifically wanted the numpy scalar type, use `np.float64` here.\n",
      "Deprecated in NumPy 1.20; for more details and guidance: https://numpy.org/devdocs/release/1.20.0-notes.html#deprecations\n",
      "  std[std < np.finfo(np.float).eps] = 1.  # avoid numerical problems\n",
      "/home/hannahcraddock/anaconda3/envs/hannah_env/lib/python3.9/site-packages/nilearn/signal.py:68: DeprecationWarning: `np.float` is a deprecated alias for the builtin `float`. To silence this warning, use `float` by itself. Doing this will not modify any behavior and is safe. If you specifically wanted the numpy scalar type, use `np.float64` here.\n",
      "Deprecated in NumPy 1.20; for more details and guidance: https://numpy.org/devdocs/release/1.20.0-notes.html#deprecations\n",
      "  std[std < np.finfo(np.float).eps] = 1.  # avoid numerical problems\n",
      "/home/hannahcraddock/anaconda3/envs/hannah_env/lib/python3.9/site-packages/nilearn/signal.py:68: DeprecationWarning: `np.float` is a deprecated alias for the builtin `float`. To silence this warning, use `float` by itself. Doing this will not modify any behavior and is safe. If you specifically wanted the numpy scalar type, use `np.float64` here.\n",
      "Deprecated in NumPy 1.20; for more details and guidance: https://numpy.org/devdocs/release/1.20.0-notes.html#deprecations\n",
      "  std[std < np.finfo(np.float).eps] = 1.  # avoid numerical problems\n",
      "/home/hannahcraddock/anaconda3/envs/hannah_env/lib/python3.9/site-packages/nilearn/signal.py:68: DeprecationWarning: `np.float` is a deprecated alias for the builtin `float`. To silence this warning, use `float` by itself. Doing this will not modify any behavior and is safe. If you specifically wanted the numpy scalar type, use `np.float64` here.\n",
      "Deprecated in NumPy 1.20; for more details and guidance: https://numpy.org/devdocs/release/1.20.0-notes.html#deprecations\n",
      "  std[std < np.finfo(np.float).eps] = 1.  # avoid numerical problems\n",
      "/home/hannahcraddock/anaconda3/envs/hannah_env/lib/python3.9/site-packages/nilearn/signal.py:68: DeprecationWarning: `np.float` is a deprecated alias for the builtin `float`. To silence this warning, use `float` by itself. Doing this will not modify any behavior and is safe. If you specifically wanted the numpy scalar type, use `np.float64` here.\n",
      "Deprecated in NumPy 1.20; for more details and guidance: https://numpy.org/devdocs/release/1.20.0-notes.html#deprecations\n",
      "  std[std < np.finfo(np.float).eps] = 1.  # avoid numerical problems\n",
      "/home/hannahcraddock/anaconda3/envs/hannah_env/lib/python3.9/site-packages/nilearn/signal.py:68: DeprecationWarning: `np.float` is a deprecated alias for the builtin `float`. To silence this warning, use `float` by itself. Doing this will not modify any behavior and is safe. If you specifically wanted the numpy scalar type, use `np.float64` here.\n",
      "Deprecated in NumPy 1.20; for more details and guidance: https://numpy.org/devdocs/release/1.20.0-notes.html#deprecations\n",
      "  std[std < np.finfo(np.float).eps] = 1.  # avoid numerical problems\n",
      "/home/hannahcraddock/anaconda3/envs/hannah_env/lib/python3.9/site-packages/nilearn/signal.py:68: DeprecationWarning: `np.float` is a deprecated alias for the builtin `float`. To silence this warning, use `float` by itself. Doing this will not modify any behavior and is safe. If you specifically wanted the numpy scalar type, use `np.float64` here.\n",
      "Deprecated in NumPy 1.20; for more details and guidance: https://numpy.org/devdocs/release/1.20.0-notes.html#deprecations\n",
      "  std[std < np.finfo(np.float).eps] = 1.  # avoid numerical problems\n",
      "/home/hannahcraddock/anaconda3/envs/hannah_env/lib/python3.9/site-packages/nilearn/signal.py:68: DeprecationWarning: `np.float` is a deprecated alias for the builtin `float`. To silence this warning, use `float` by itself. Doing this will not modify any behavior and is safe. If you specifically wanted the numpy scalar type, use `np.float64` here.\n",
      "Deprecated in NumPy 1.20; for more details and guidance: https://numpy.org/devdocs/release/1.20.0-notes.html#deprecations\n",
      "  std[std < np.finfo(np.float).eps] = 1.  # avoid numerical problems\n",
      "/home/hannahcraddock/anaconda3/envs/hannah_env/lib/python3.9/site-packages/nilearn/signal.py:68: DeprecationWarning: `np.float` is a deprecated alias for the builtin `float`. To silence this warning, use `float` by itself. Doing this will not modify any behavior and is safe. If you specifically wanted the numpy scalar type, use `np.float64` here.\n",
      "Deprecated in NumPy 1.20; for more details and guidance: https://numpy.org/devdocs/release/1.20.0-notes.html#deprecations\n",
      "  std[std < np.finfo(np.float).eps] = 1.  # avoid numerical problems\n",
      "/home/hannahcraddock/anaconda3/envs/hannah_env/lib/python3.9/site-packages/nilearn/signal.py:68: DeprecationWarning: `np.float` is a deprecated alias for the builtin `float`. To silence this warning, use `float` by itself. Doing this will not modify any behavior and is safe. If you specifically wanted the numpy scalar type, use `np.float64` here.\n",
      "Deprecated in NumPy 1.20; for more details and guidance: https://numpy.org/devdocs/release/1.20.0-notes.html#deprecations\n",
      "  std[std < np.finfo(np.float).eps] = 1.  # avoid numerical problems\n"
     ]
    },
    {
     "name": "stderr",
     "output_type": "stream",
     "text": [
      "/home/hannahcraddock/anaconda3/envs/hannah_env/lib/python3.9/site-packages/nilearn/signal.py:68: DeprecationWarning: `np.float` is a deprecated alias for the builtin `float`. To silence this warning, use `float` by itself. Doing this will not modify any behavior and is safe. If you specifically wanted the numpy scalar type, use `np.float64` here.\n",
      "Deprecated in NumPy 1.20; for more details and guidance: https://numpy.org/devdocs/release/1.20.0-notes.html#deprecations\n",
      "  std[std < np.finfo(np.float).eps] = 1.  # avoid numerical problems\n",
      "/home/hannahcraddock/anaconda3/envs/hannah_env/lib/python3.9/site-packages/nilearn/signal.py:68: DeprecationWarning: `np.float` is a deprecated alias for the builtin `float`. To silence this warning, use `float` by itself. Doing this will not modify any behavior and is safe. If you specifically wanted the numpy scalar type, use `np.float64` here.\n",
      "Deprecated in NumPy 1.20; for more details and guidance: https://numpy.org/devdocs/release/1.20.0-notes.html#deprecations\n",
      "  std[std < np.finfo(np.float).eps] = 1.  # avoid numerical problems\n",
      "/home/hannahcraddock/anaconda3/envs/hannah_env/lib/python3.9/site-packages/nilearn/signal.py:68: DeprecationWarning: `np.float` is a deprecated alias for the builtin `float`. To silence this warning, use `float` by itself. Doing this will not modify any behavior and is safe. If you specifically wanted the numpy scalar type, use `np.float64` here.\n",
      "Deprecated in NumPy 1.20; for more details and guidance: https://numpy.org/devdocs/release/1.20.0-notes.html#deprecations\n",
      "  std[std < np.finfo(np.float).eps] = 1.  # avoid numerical problems\n",
      "/home/hannahcraddock/anaconda3/envs/hannah_env/lib/python3.9/site-packages/nilearn/signal.py:68: DeprecationWarning: `np.float` is a deprecated alias for the builtin `float`. To silence this warning, use `float` by itself. Doing this will not modify any behavior and is safe. If you specifically wanted the numpy scalar type, use `np.float64` here.\n",
      "Deprecated in NumPy 1.20; for more details and guidance: https://numpy.org/devdocs/release/1.20.0-notes.html#deprecations\n",
      "  std[std < np.finfo(np.float).eps] = 1.  # avoid numerical problems\n",
      "/home/hannahcraddock/anaconda3/envs/hannah_env/lib/python3.9/site-packages/nilearn/signal.py:68: DeprecationWarning: `np.float` is a deprecated alias for the builtin `float`. To silence this warning, use `float` by itself. Doing this will not modify any behavior and is safe. If you specifically wanted the numpy scalar type, use `np.float64` here.\n",
      "Deprecated in NumPy 1.20; for more details and guidance: https://numpy.org/devdocs/release/1.20.0-notes.html#deprecations\n",
      "  std[std < np.finfo(np.float).eps] = 1.  # avoid numerical problems\n",
      "/home/hannahcraddock/anaconda3/envs/hannah_env/lib/python3.9/site-packages/nilearn/signal.py:68: DeprecationWarning: `np.float` is a deprecated alias for the builtin `float`. To silence this warning, use `float` by itself. Doing this will not modify any behavior and is safe. If you specifically wanted the numpy scalar type, use `np.float64` here.\n",
      "Deprecated in NumPy 1.20; for more details and guidance: https://numpy.org/devdocs/release/1.20.0-notes.html#deprecations\n",
      "  std[std < np.finfo(np.float).eps] = 1.  # avoid numerical problems\n",
      "/home/hannahcraddock/anaconda3/envs/hannah_env/lib/python3.9/site-packages/nilearn/signal.py:68: DeprecationWarning: `np.float` is a deprecated alias for the builtin `float`. To silence this warning, use `float` by itself. Doing this will not modify any behavior and is safe. If you specifically wanted the numpy scalar type, use `np.float64` here.\n",
      "Deprecated in NumPy 1.20; for more details and guidance: https://numpy.org/devdocs/release/1.20.0-notes.html#deprecations\n",
      "  std[std < np.finfo(np.float).eps] = 1.  # avoid numerical problems\n",
      "/home/hannahcraddock/anaconda3/envs/hannah_env/lib/python3.9/site-packages/nilearn/signal.py:68: DeprecationWarning: `np.float` is a deprecated alias for the builtin `float`. To silence this warning, use `float` by itself. Doing this will not modify any behavior and is safe. If you specifically wanted the numpy scalar type, use `np.float64` here.\n",
      "Deprecated in NumPy 1.20; for more details and guidance: https://numpy.org/devdocs/release/1.20.0-notes.html#deprecations\n",
      "  std[std < np.finfo(np.float).eps] = 1.  # avoid numerical problems\n",
      "/home/hannahcraddock/anaconda3/envs/hannah_env/lib/python3.9/site-packages/nilearn/signal.py:68: DeprecationWarning: `np.float` is a deprecated alias for the builtin `float`. To silence this warning, use `float` by itself. Doing this will not modify any behavior and is safe. If you specifically wanted the numpy scalar type, use `np.float64` here.\n",
      "Deprecated in NumPy 1.20; for more details and guidance: https://numpy.org/devdocs/release/1.20.0-notes.html#deprecations\n",
      "  std[std < np.finfo(np.float).eps] = 1.  # avoid numerical problems\n",
      "/home/hannahcraddock/anaconda3/envs/hannah_env/lib/python3.9/site-packages/nilearn/signal.py:68: DeprecationWarning: `np.float` is a deprecated alias for the builtin `float`. To silence this warning, use `float` by itself. Doing this will not modify any behavior and is safe. If you specifically wanted the numpy scalar type, use `np.float64` here.\n",
      "Deprecated in NumPy 1.20; for more details and guidance: https://numpy.org/devdocs/release/1.20.0-notes.html#deprecations\n",
      "  std[std < np.finfo(np.float).eps] = 1.  # avoid numerical problems\n",
      "/home/hannahcraddock/anaconda3/envs/hannah_env/lib/python3.9/site-packages/nilearn/signal.py:68: DeprecationWarning: `np.float` is a deprecated alias for the builtin `float`. To silence this warning, use `float` by itself. Doing this will not modify any behavior and is safe. If you specifically wanted the numpy scalar type, use `np.float64` here.\n",
      "Deprecated in NumPy 1.20; for more details and guidance: https://numpy.org/devdocs/release/1.20.0-notes.html#deprecations\n",
      "  std[std < np.finfo(np.float).eps] = 1.  # avoid numerical problems\n",
      "/home/hannahcraddock/anaconda3/envs/hannah_env/lib/python3.9/site-packages/nilearn/signal.py:68: DeprecationWarning: `np.float` is a deprecated alias for the builtin `float`. To silence this warning, use `float` by itself. Doing this will not modify any behavior and is safe. If you specifically wanted the numpy scalar type, use `np.float64` here.\n",
      "Deprecated in NumPy 1.20; for more details and guidance: https://numpy.org/devdocs/release/1.20.0-notes.html#deprecations\n",
      "  std[std < np.finfo(np.float).eps] = 1.  # avoid numerical problems\n",
      "/home/hannahcraddock/anaconda3/envs/hannah_env/lib/python3.9/site-packages/nilearn/signal.py:68: DeprecationWarning: `np.float` is a deprecated alias for the builtin `float`. To silence this warning, use `float` by itself. Doing this will not modify any behavior and is safe. If you specifically wanted the numpy scalar type, use `np.float64` here.\n",
      "Deprecated in NumPy 1.20; for more details and guidance: https://numpy.org/devdocs/release/1.20.0-notes.html#deprecations\n",
      "  std[std < np.finfo(np.float).eps] = 1.  # avoid numerical problems\n",
      "/home/hannahcraddock/anaconda3/envs/hannah_env/lib/python3.9/site-packages/nilearn/signal.py:68: DeprecationWarning: `np.float` is a deprecated alias for the builtin `float`. To silence this warning, use `float` by itself. Doing this will not modify any behavior and is safe. If you specifically wanted the numpy scalar type, use `np.float64` here.\n",
      "Deprecated in NumPy 1.20; for more details and guidance: https://numpy.org/devdocs/release/1.20.0-notes.html#deprecations\n",
      "  std[std < np.finfo(np.float).eps] = 1.  # avoid numerical problems\n",
      "/home/hannahcraddock/anaconda3/envs/hannah_env/lib/python3.9/site-packages/nilearn/signal.py:68: DeprecationWarning: `np.float` is a deprecated alias for the builtin `float`. To silence this warning, use `float` by itself. Doing this will not modify any behavior and is safe. If you specifically wanted the numpy scalar type, use `np.float64` here.\n",
      "Deprecated in NumPy 1.20; for more details and guidance: https://numpy.org/devdocs/release/1.20.0-notes.html#deprecations\n",
      "  std[std < np.finfo(np.float).eps] = 1.  # avoid numerical problems\n",
      "/home/hannahcraddock/anaconda3/envs/hannah_env/lib/python3.9/site-packages/nilearn/signal.py:68: DeprecationWarning: `np.float` is a deprecated alias for the builtin `float`. To silence this warning, use `float` by itself. Doing this will not modify any behavior and is safe. If you specifically wanted the numpy scalar type, use `np.float64` here.\n",
      "Deprecated in NumPy 1.20; for more details and guidance: https://numpy.org/devdocs/release/1.20.0-notes.html#deprecations\n",
      "  std[std < np.finfo(np.float).eps] = 1.  # avoid numerical problems\n"
     ]
    },
    {
     "name": "stderr",
     "output_type": "stream",
     "text": [
      "/home/hannahcraddock/anaconda3/envs/hannah_env/lib/python3.9/site-packages/nilearn/signal.py:68: DeprecationWarning: `np.float` is a deprecated alias for the builtin `float`. To silence this warning, use `float` by itself. Doing this will not modify any behavior and is safe. If you specifically wanted the numpy scalar type, use `np.float64` here.\n",
      "Deprecated in NumPy 1.20; for more details and guidance: https://numpy.org/devdocs/release/1.20.0-notes.html#deprecations\n",
      "  std[std < np.finfo(np.float).eps] = 1.  # avoid numerical problems\n",
      "/home/hannahcraddock/anaconda3/envs/hannah_env/lib/python3.9/site-packages/nilearn/signal.py:68: DeprecationWarning: `np.float` is a deprecated alias for the builtin `float`. To silence this warning, use `float` by itself. Doing this will not modify any behavior and is safe. If you specifically wanted the numpy scalar type, use `np.float64` here.\n",
      "Deprecated in NumPy 1.20; for more details and guidance: https://numpy.org/devdocs/release/1.20.0-notes.html#deprecations\n",
      "  std[std < np.finfo(np.float).eps] = 1.  # avoid numerical problems\n",
      "/home/hannahcraddock/anaconda3/envs/hannah_env/lib/python3.9/site-packages/nilearn/signal.py:68: DeprecationWarning: `np.float` is a deprecated alias for the builtin `float`. To silence this warning, use `float` by itself. Doing this will not modify any behavior and is safe. If you specifically wanted the numpy scalar type, use `np.float64` here.\n",
      "Deprecated in NumPy 1.20; for more details and guidance: https://numpy.org/devdocs/release/1.20.0-notes.html#deprecations\n",
      "  std[std < np.finfo(np.float).eps] = 1.  # avoid numerical problems\n",
      "/home/hannahcraddock/anaconda3/envs/hannah_env/lib/python3.9/site-packages/nilearn/signal.py:68: DeprecationWarning: `np.float` is a deprecated alias for the builtin `float`. To silence this warning, use `float` by itself. Doing this will not modify any behavior and is safe. If you specifically wanted the numpy scalar type, use `np.float64` here.\n",
      "Deprecated in NumPy 1.20; for more details and guidance: https://numpy.org/devdocs/release/1.20.0-notes.html#deprecations\n",
      "  std[std < np.finfo(np.float).eps] = 1.  # avoid numerical problems\n",
      "/home/hannahcraddock/anaconda3/envs/hannah_env/lib/python3.9/site-packages/nilearn/signal.py:68: DeprecationWarning: `np.float` is a deprecated alias for the builtin `float`. To silence this warning, use `float` by itself. Doing this will not modify any behavior and is safe. If you specifically wanted the numpy scalar type, use `np.float64` here.\n",
      "Deprecated in NumPy 1.20; for more details and guidance: https://numpy.org/devdocs/release/1.20.0-notes.html#deprecations\n",
      "  std[std < np.finfo(np.float).eps] = 1.  # avoid numerical problems\n",
      "/home/hannahcraddock/anaconda3/envs/hannah_env/lib/python3.9/site-packages/nilearn/signal.py:68: DeprecationWarning: `np.float` is a deprecated alias for the builtin `float`. To silence this warning, use `float` by itself. Doing this will not modify any behavior and is safe. If you specifically wanted the numpy scalar type, use `np.float64` here.\n",
      "Deprecated in NumPy 1.20; for more details and guidance: https://numpy.org/devdocs/release/1.20.0-notes.html#deprecations\n",
      "  std[std < np.finfo(np.float).eps] = 1.  # avoid numerical problems\n",
      "/home/hannahcraddock/anaconda3/envs/hannah_env/lib/python3.9/site-packages/nilearn/signal.py:68: DeprecationWarning: `np.float` is a deprecated alias for the builtin `float`. To silence this warning, use `float` by itself. Doing this will not modify any behavior and is safe. If you specifically wanted the numpy scalar type, use `np.float64` here.\n",
      "Deprecated in NumPy 1.20; for more details and guidance: https://numpy.org/devdocs/release/1.20.0-notes.html#deprecations\n",
      "  std[std < np.finfo(np.float).eps] = 1.  # avoid numerical problems\n",
      "/home/hannahcraddock/anaconda3/envs/hannah_env/lib/python3.9/site-packages/nilearn/signal.py:68: DeprecationWarning: `np.float` is a deprecated alias for the builtin `float`. To silence this warning, use `float` by itself. Doing this will not modify any behavior and is safe. If you specifically wanted the numpy scalar type, use `np.float64` here.\n",
      "Deprecated in NumPy 1.20; for more details and guidance: https://numpy.org/devdocs/release/1.20.0-notes.html#deprecations\n",
      "  std[std < np.finfo(np.float).eps] = 1.  # avoid numerical problems\n",
      "/home/hannahcraddock/anaconda3/envs/hannah_env/lib/python3.9/site-packages/nilearn/signal.py:68: DeprecationWarning: `np.float` is a deprecated alias for the builtin `float`. To silence this warning, use `float` by itself. Doing this will not modify any behavior and is safe. If you specifically wanted the numpy scalar type, use `np.float64` here.\n",
      "Deprecated in NumPy 1.20; for more details and guidance: https://numpy.org/devdocs/release/1.20.0-notes.html#deprecations\n",
      "  std[std < np.finfo(np.float).eps] = 1.  # avoid numerical problems\n",
      "/home/hannahcraddock/anaconda3/envs/hannah_env/lib/python3.9/site-packages/nilearn/signal.py:68: DeprecationWarning: `np.float` is a deprecated alias for the builtin `float`. To silence this warning, use `float` by itself. Doing this will not modify any behavior and is safe. If you specifically wanted the numpy scalar type, use `np.float64` here.\n",
      "Deprecated in NumPy 1.20; for more details and guidance: https://numpy.org/devdocs/release/1.20.0-notes.html#deprecations\n",
      "  std[std < np.finfo(np.float).eps] = 1.  # avoid numerical problems\n",
      "/home/hannahcraddock/anaconda3/envs/hannah_env/lib/python3.9/site-packages/nilearn/signal.py:68: DeprecationWarning: `np.float` is a deprecated alias for the builtin `float`. To silence this warning, use `float` by itself. Doing this will not modify any behavior and is safe. If you specifically wanted the numpy scalar type, use `np.float64` here.\n",
      "Deprecated in NumPy 1.20; for more details and guidance: https://numpy.org/devdocs/release/1.20.0-notes.html#deprecations\n",
      "  std[std < np.finfo(np.float).eps] = 1.  # avoid numerical problems\n",
      "/home/hannahcraddock/anaconda3/envs/hannah_env/lib/python3.9/site-packages/nilearn/signal.py:68: DeprecationWarning: `np.float` is a deprecated alias for the builtin `float`. To silence this warning, use `float` by itself. Doing this will not modify any behavior and is safe. If you specifically wanted the numpy scalar type, use `np.float64` here.\n",
      "Deprecated in NumPy 1.20; for more details and guidance: https://numpy.org/devdocs/release/1.20.0-notes.html#deprecations\n",
      "  std[std < np.finfo(np.float).eps] = 1.  # avoid numerical problems\n",
      "/home/hannahcraddock/anaconda3/envs/hannah_env/lib/python3.9/site-packages/nilearn/signal.py:68: DeprecationWarning: `np.float` is a deprecated alias for the builtin `float`. To silence this warning, use `float` by itself. Doing this will not modify any behavior and is safe. If you specifically wanted the numpy scalar type, use `np.float64` here.\n",
      "Deprecated in NumPy 1.20; for more details and guidance: https://numpy.org/devdocs/release/1.20.0-notes.html#deprecations\n",
      "  std[std < np.finfo(np.float).eps] = 1.  # avoid numerical problems\n",
      "/home/hannahcraddock/anaconda3/envs/hannah_env/lib/python3.9/site-packages/nilearn/signal.py:68: DeprecationWarning: `np.float` is a deprecated alias for the builtin `float`. To silence this warning, use `float` by itself. Doing this will not modify any behavior and is safe. If you specifically wanted the numpy scalar type, use `np.float64` here.\n",
      "Deprecated in NumPy 1.20; for more details and guidance: https://numpy.org/devdocs/release/1.20.0-notes.html#deprecations\n",
      "  std[std < np.finfo(np.float).eps] = 1.  # avoid numerical problems\n",
      "/home/hannahcraddock/anaconda3/envs/hannah_env/lib/python3.9/site-packages/nilearn/signal.py:68: DeprecationWarning: `np.float` is a deprecated alias for the builtin `float`. To silence this warning, use `float` by itself. Doing this will not modify any behavior and is safe. If you specifically wanted the numpy scalar type, use `np.float64` here.\n",
      "Deprecated in NumPy 1.20; for more details and guidance: https://numpy.org/devdocs/release/1.20.0-notes.html#deprecations\n",
      "  std[std < np.finfo(np.float).eps] = 1.  # avoid numerical problems\n",
      "/home/hannahcraddock/anaconda3/envs/hannah_env/lib/python3.9/site-packages/nilearn/signal.py:68: DeprecationWarning: `np.float` is a deprecated alias for the builtin `float`. To silence this warning, use `float` by itself. Doing this will not modify any behavior and is safe. If you specifically wanted the numpy scalar type, use `np.float64` here.\n",
      "Deprecated in NumPy 1.20; for more details and guidance: https://numpy.org/devdocs/release/1.20.0-notes.html#deprecations\n",
      "  std[std < np.finfo(np.float).eps] = 1.  # avoid numerical problems\n"
     ]
    },
    {
     "name": "stderr",
     "output_type": "stream",
     "text": [
      "/home/hannahcraddock/anaconda3/envs/hannah_env/lib/python3.9/site-packages/nilearn/signal.py:68: DeprecationWarning: `np.float` is a deprecated alias for the builtin `float`. To silence this warning, use `float` by itself. Doing this will not modify any behavior and is safe. If you specifically wanted the numpy scalar type, use `np.float64` here.\n",
      "Deprecated in NumPy 1.20; for more details and guidance: https://numpy.org/devdocs/release/1.20.0-notes.html#deprecations\n",
      "  std[std < np.finfo(np.float).eps] = 1.  # avoid numerical problems\n",
      "/home/hannahcraddock/anaconda3/envs/hannah_env/lib/python3.9/site-packages/nilearn/signal.py:68: DeprecationWarning: `np.float` is a deprecated alias for the builtin `float`. To silence this warning, use `float` by itself. Doing this will not modify any behavior and is safe. If you specifically wanted the numpy scalar type, use `np.float64` here.\n",
      "Deprecated in NumPy 1.20; for more details and guidance: https://numpy.org/devdocs/release/1.20.0-notes.html#deprecations\n",
      "  std[std < np.finfo(np.float).eps] = 1.  # avoid numerical problems\n",
      "/home/hannahcraddock/anaconda3/envs/hannah_env/lib/python3.9/site-packages/nilearn/signal.py:68: DeprecationWarning: `np.float` is a deprecated alias for the builtin `float`. To silence this warning, use `float` by itself. Doing this will not modify any behavior and is safe. If you specifically wanted the numpy scalar type, use `np.float64` here.\n",
      "Deprecated in NumPy 1.20; for more details and guidance: https://numpy.org/devdocs/release/1.20.0-notes.html#deprecations\n",
      "  std[std < np.finfo(np.float).eps] = 1.  # avoid numerical problems\n",
      "/home/hannahcraddock/anaconda3/envs/hannah_env/lib/python3.9/site-packages/nilearn/signal.py:68: DeprecationWarning: `np.float` is a deprecated alias for the builtin `float`. To silence this warning, use `float` by itself. Doing this will not modify any behavior and is safe. If you specifically wanted the numpy scalar type, use `np.float64` here.\n",
      "Deprecated in NumPy 1.20; for more details and guidance: https://numpy.org/devdocs/release/1.20.0-notes.html#deprecations\n",
      "  std[std < np.finfo(np.float).eps] = 1.  # avoid numerical problems\n",
      "/home/hannahcraddock/anaconda3/envs/hannah_env/lib/python3.9/site-packages/nilearn/signal.py:68: DeprecationWarning: `np.float` is a deprecated alias for the builtin `float`. To silence this warning, use `float` by itself. Doing this will not modify any behavior and is safe. If you specifically wanted the numpy scalar type, use `np.float64` here.\n",
      "Deprecated in NumPy 1.20; for more details and guidance: https://numpy.org/devdocs/release/1.20.0-notes.html#deprecations\n",
      "  std[std < np.finfo(np.float).eps] = 1.  # avoid numerical problems\n",
      "/home/hannahcraddock/anaconda3/envs/hannah_env/lib/python3.9/site-packages/nilearn/signal.py:68: DeprecationWarning: `np.float` is a deprecated alias for the builtin `float`. To silence this warning, use `float` by itself. Doing this will not modify any behavior and is safe. If you specifically wanted the numpy scalar type, use `np.float64` here.\n",
      "Deprecated in NumPy 1.20; for more details and guidance: https://numpy.org/devdocs/release/1.20.0-notes.html#deprecations\n",
      "  std[std < np.finfo(np.float).eps] = 1.  # avoid numerical problems\n",
      "/home/hannahcraddock/anaconda3/envs/hannah_env/lib/python3.9/site-packages/nilearn/signal.py:68: DeprecationWarning: `np.float` is a deprecated alias for the builtin `float`. To silence this warning, use `float` by itself. Doing this will not modify any behavior and is safe. If you specifically wanted the numpy scalar type, use `np.float64` here.\n",
      "Deprecated in NumPy 1.20; for more details and guidance: https://numpy.org/devdocs/release/1.20.0-notes.html#deprecations\n",
      "  std[std < np.finfo(np.float).eps] = 1.  # avoid numerical problems\n",
      "/home/hannahcraddock/anaconda3/envs/hannah_env/lib/python3.9/site-packages/nilearn/signal.py:68: DeprecationWarning: `np.float` is a deprecated alias for the builtin `float`. To silence this warning, use `float` by itself. Doing this will not modify any behavior and is safe. If you specifically wanted the numpy scalar type, use `np.float64` here.\n",
      "Deprecated in NumPy 1.20; for more details and guidance: https://numpy.org/devdocs/release/1.20.0-notes.html#deprecations\n",
      "  std[std < np.finfo(np.float).eps] = 1.  # avoid numerical problems\n",
      "/home/hannahcraddock/anaconda3/envs/hannah_env/lib/python3.9/site-packages/nilearn/signal.py:68: DeprecationWarning: `np.float` is a deprecated alias for the builtin `float`. To silence this warning, use `float` by itself. Doing this will not modify any behavior and is safe. If you specifically wanted the numpy scalar type, use `np.float64` here.\n",
      "Deprecated in NumPy 1.20; for more details and guidance: https://numpy.org/devdocs/release/1.20.0-notes.html#deprecations\n",
      "  std[std < np.finfo(np.float).eps] = 1.  # avoid numerical problems\n",
      "/home/hannahcraddock/anaconda3/envs/hannah_env/lib/python3.9/site-packages/nilearn/signal.py:68: DeprecationWarning: `np.float` is a deprecated alias for the builtin `float`. To silence this warning, use `float` by itself. Doing this will not modify any behavior and is safe. If you specifically wanted the numpy scalar type, use `np.float64` here.\n",
      "Deprecated in NumPy 1.20; for more details and guidance: https://numpy.org/devdocs/release/1.20.0-notes.html#deprecations\n",
      "  std[std < np.finfo(np.float).eps] = 1.  # avoid numerical problems\n",
      "/home/hannahcraddock/anaconda3/envs/hannah_env/lib/python3.9/site-packages/nilearn/signal.py:68: DeprecationWarning: `np.float` is a deprecated alias for the builtin `float`. To silence this warning, use `float` by itself. Doing this will not modify any behavior and is safe. If you specifically wanted the numpy scalar type, use `np.float64` here.\n",
      "Deprecated in NumPy 1.20; for more details and guidance: https://numpy.org/devdocs/release/1.20.0-notes.html#deprecations\n",
      "  std[std < np.finfo(np.float).eps] = 1.  # avoid numerical problems\n",
      "/home/hannahcraddock/anaconda3/envs/hannah_env/lib/python3.9/site-packages/nilearn/signal.py:68: DeprecationWarning: `np.float` is a deprecated alias for the builtin `float`. To silence this warning, use `float` by itself. Doing this will not modify any behavior and is safe. If you specifically wanted the numpy scalar type, use `np.float64` here.\n",
      "Deprecated in NumPy 1.20; for more details and guidance: https://numpy.org/devdocs/release/1.20.0-notes.html#deprecations\n",
      "  std[std < np.finfo(np.float).eps] = 1.  # avoid numerical problems\n",
      "/home/hannahcraddock/anaconda3/envs/hannah_env/lib/python3.9/site-packages/nilearn/signal.py:68: DeprecationWarning: `np.float` is a deprecated alias for the builtin `float`. To silence this warning, use `float` by itself. Doing this will not modify any behavior and is safe. If you specifically wanted the numpy scalar type, use `np.float64` here.\n",
      "Deprecated in NumPy 1.20; for more details and guidance: https://numpy.org/devdocs/release/1.20.0-notes.html#deprecations\n",
      "  std[std < np.finfo(np.float).eps] = 1.  # avoid numerical problems\n",
      "/home/hannahcraddock/anaconda3/envs/hannah_env/lib/python3.9/site-packages/nilearn/signal.py:68: DeprecationWarning: `np.float` is a deprecated alias for the builtin `float`. To silence this warning, use `float` by itself. Doing this will not modify any behavior and is safe. If you specifically wanted the numpy scalar type, use `np.float64` here.\n",
      "Deprecated in NumPy 1.20; for more details and guidance: https://numpy.org/devdocs/release/1.20.0-notes.html#deprecations\n",
      "  std[std < np.finfo(np.float).eps] = 1.  # avoid numerical problems\n",
      "/home/hannahcraddock/anaconda3/envs/hannah_env/lib/python3.9/site-packages/nilearn/signal.py:68: DeprecationWarning: `np.float` is a deprecated alias for the builtin `float`. To silence this warning, use `float` by itself. Doing this will not modify any behavior and is safe. If you specifically wanted the numpy scalar type, use `np.float64` here.\n",
      "Deprecated in NumPy 1.20; for more details and guidance: https://numpy.org/devdocs/release/1.20.0-notes.html#deprecations\n",
      "  std[std < np.finfo(np.float).eps] = 1.  # avoid numerical problems\n",
      "/home/hannahcraddock/anaconda3/envs/hannah_env/lib/python3.9/site-packages/nilearn/signal.py:68: DeprecationWarning: `np.float` is a deprecated alias for the builtin `float`. To silence this warning, use `float` by itself. Doing this will not modify any behavior and is safe. If you specifically wanted the numpy scalar type, use `np.float64` here.\n",
      "Deprecated in NumPy 1.20; for more details and guidance: https://numpy.org/devdocs/release/1.20.0-notes.html#deprecations\n",
      "  std[std < np.finfo(np.float).eps] = 1.  # avoid numerical problems\n"
     ]
    },
    {
     "name": "stderr",
     "output_type": "stream",
     "text": [
      "/home/hannahcraddock/anaconda3/envs/hannah_env/lib/python3.9/site-packages/nilearn/signal.py:68: DeprecationWarning: `np.float` is a deprecated alias for the builtin `float`. To silence this warning, use `float` by itself. Doing this will not modify any behavior and is safe. If you specifically wanted the numpy scalar type, use `np.float64` here.\n",
      "Deprecated in NumPy 1.20; for more details and guidance: https://numpy.org/devdocs/release/1.20.0-notes.html#deprecations\n",
      "  std[std < np.finfo(np.float).eps] = 1.  # avoid numerical problems\n",
      "/home/hannahcraddock/anaconda3/envs/hannah_env/lib/python3.9/site-packages/nilearn/signal.py:68: DeprecationWarning: `np.float` is a deprecated alias for the builtin `float`. To silence this warning, use `float` by itself. Doing this will not modify any behavior and is safe. If you specifically wanted the numpy scalar type, use `np.float64` here.\n",
      "Deprecated in NumPy 1.20; for more details and guidance: https://numpy.org/devdocs/release/1.20.0-notes.html#deprecations\n",
      "  std[std < np.finfo(np.float).eps] = 1.  # avoid numerical problems\n",
      "/home/hannahcraddock/anaconda3/envs/hannah_env/lib/python3.9/site-packages/nilearn/signal.py:68: DeprecationWarning: `np.float` is a deprecated alias for the builtin `float`. To silence this warning, use `float` by itself. Doing this will not modify any behavior and is safe. If you specifically wanted the numpy scalar type, use `np.float64` here.\n",
      "Deprecated in NumPy 1.20; for more details and guidance: https://numpy.org/devdocs/release/1.20.0-notes.html#deprecations\n",
      "  std[std < np.finfo(np.float).eps] = 1.  # avoid numerical problems\n",
      "/home/hannahcraddock/anaconda3/envs/hannah_env/lib/python3.9/site-packages/nilearn/signal.py:68: DeprecationWarning: `np.float` is a deprecated alias for the builtin `float`. To silence this warning, use `float` by itself. Doing this will not modify any behavior and is safe. If you specifically wanted the numpy scalar type, use `np.float64` here.\n",
      "Deprecated in NumPy 1.20; for more details and guidance: https://numpy.org/devdocs/release/1.20.0-notes.html#deprecations\n",
      "  std[std < np.finfo(np.float).eps] = 1.  # avoid numerical problems\n",
      "/home/hannahcraddock/anaconda3/envs/hannah_env/lib/python3.9/site-packages/nilearn/signal.py:68: DeprecationWarning: `np.float` is a deprecated alias for the builtin `float`. To silence this warning, use `float` by itself. Doing this will not modify any behavior and is safe. If you specifically wanted the numpy scalar type, use `np.float64` here.\n",
      "Deprecated in NumPy 1.20; for more details and guidance: https://numpy.org/devdocs/release/1.20.0-notes.html#deprecations\n",
      "  std[std < np.finfo(np.float).eps] = 1.  # avoid numerical problems\n",
      "/home/hannahcraddock/anaconda3/envs/hannah_env/lib/python3.9/site-packages/nilearn/signal.py:68: DeprecationWarning: `np.float` is a deprecated alias for the builtin `float`. To silence this warning, use `float` by itself. Doing this will not modify any behavior and is safe. If you specifically wanted the numpy scalar type, use `np.float64` here.\n",
      "Deprecated in NumPy 1.20; for more details and guidance: https://numpy.org/devdocs/release/1.20.0-notes.html#deprecations\n",
      "  std[std < np.finfo(np.float).eps] = 1.  # avoid numerical problems\n",
      "/home/hannahcraddock/anaconda3/envs/hannah_env/lib/python3.9/site-packages/nilearn/signal.py:68: DeprecationWarning: `np.float` is a deprecated alias for the builtin `float`. To silence this warning, use `float` by itself. Doing this will not modify any behavior and is safe. If you specifically wanted the numpy scalar type, use `np.float64` here.\n",
      "Deprecated in NumPy 1.20; for more details and guidance: https://numpy.org/devdocs/release/1.20.0-notes.html#deprecations\n",
      "  std[std < np.finfo(np.float).eps] = 1.  # avoid numerical problems\n",
      "/home/hannahcraddock/anaconda3/envs/hannah_env/lib/python3.9/site-packages/nilearn/signal.py:68: DeprecationWarning: `np.float` is a deprecated alias for the builtin `float`. To silence this warning, use `float` by itself. Doing this will not modify any behavior and is safe. If you specifically wanted the numpy scalar type, use `np.float64` here.\n",
      "Deprecated in NumPy 1.20; for more details and guidance: https://numpy.org/devdocs/release/1.20.0-notes.html#deprecations\n",
      "  std[std < np.finfo(np.float).eps] = 1.  # avoid numerical problems\n",
      "/home/hannahcraddock/anaconda3/envs/hannah_env/lib/python3.9/site-packages/nilearn/signal.py:68: DeprecationWarning: `np.float` is a deprecated alias for the builtin `float`. To silence this warning, use `float` by itself. Doing this will not modify any behavior and is safe. If you specifically wanted the numpy scalar type, use `np.float64` here.\n",
      "Deprecated in NumPy 1.20; for more details and guidance: https://numpy.org/devdocs/release/1.20.0-notes.html#deprecations\n",
      "  std[std < np.finfo(np.float).eps] = 1.  # avoid numerical problems\n",
      "/home/hannahcraddock/anaconda3/envs/hannah_env/lib/python3.9/site-packages/nilearn/signal.py:68: DeprecationWarning: `np.float` is a deprecated alias for the builtin `float`. To silence this warning, use `float` by itself. Doing this will not modify any behavior and is safe. If you specifically wanted the numpy scalar type, use `np.float64` here.\n",
      "Deprecated in NumPy 1.20; for more details and guidance: https://numpy.org/devdocs/release/1.20.0-notes.html#deprecations\n",
      "  std[std < np.finfo(np.float).eps] = 1.  # avoid numerical problems\n",
      "/home/hannahcraddock/anaconda3/envs/hannah_env/lib/python3.9/site-packages/nilearn/signal.py:68: DeprecationWarning: `np.float` is a deprecated alias for the builtin `float`. To silence this warning, use `float` by itself. Doing this will not modify any behavior and is safe. If you specifically wanted the numpy scalar type, use `np.float64` here.\n",
      "Deprecated in NumPy 1.20; for more details and guidance: https://numpy.org/devdocs/release/1.20.0-notes.html#deprecations\n",
      "  std[std < np.finfo(np.float).eps] = 1.  # avoid numerical problems\n",
      "/home/hannahcraddock/anaconda3/envs/hannah_env/lib/python3.9/site-packages/nilearn/signal.py:68: DeprecationWarning: `np.float` is a deprecated alias for the builtin `float`. To silence this warning, use `float` by itself. Doing this will not modify any behavior and is safe. If you specifically wanted the numpy scalar type, use `np.float64` here.\n",
      "Deprecated in NumPy 1.20; for more details and guidance: https://numpy.org/devdocs/release/1.20.0-notes.html#deprecations\n",
      "  std[std < np.finfo(np.float).eps] = 1.  # avoid numerical problems\n",
      "/home/hannahcraddock/anaconda3/envs/hannah_env/lib/python3.9/site-packages/nilearn/signal.py:68: DeprecationWarning: `np.float` is a deprecated alias for the builtin `float`. To silence this warning, use `float` by itself. Doing this will not modify any behavior and is safe. If you specifically wanted the numpy scalar type, use `np.float64` here.\n",
      "Deprecated in NumPy 1.20; for more details and guidance: https://numpy.org/devdocs/release/1.20.0-notes.html#deprecations\n",
      "  std[std < np.finfo(np.float).eps] = 1.  # avoid numerical problems\n",
      "/home/hannahcraddock/anaconda3/envs/hannah_env/lib/python3.9/site-packages/nilearn/signal.py:68: DeprecationWarning: `np.float` is a deprecated alias for the builtin `float`. To silence this warning, use `float` by itself. Doing this will not modify any behavior and is safe. If you specifically wanted the numpy scalar type, use `np.float64` here.\n",
      "Deprecated in NumPy 1.20; for more details and guidance: https://numpy.org/devdocs/release/1.20.0-notes.html#deprecations\n",
      "  std[std < np.finfo(np.float).eps] = 1.  # avoid numerical problems\n",
      "/home/hannahcraddock/anaconda3/envs/hannah_env/lib/python3.9/site-packages/nilearn/signal.py:68: DeprecationWarning: `np.float` is a deprecated alias for the builtin `float`. To silence this warning, use `float` by itself. Doing this will not modify any behavior and is safe. If you specifically wanted the numpy scalar type, use `np.float64` here.\n",
      "Deprecated in NumPy 1.20; for more details and guidance: https://numpy.org/devdocs/release/1.20.0-notes.html#deprecations\n",
      "  std[std < np.finfo(np.float).eps] = 1.  # avoid numerical problems\n",
      "/home/hannahcraddock/anaconda3/envs/hannah_env/lib/python3.9/site-packages/nilearn/signal.py:68: DeprecationWarning: `np.float` is a deprecated alias for the builtin `float`. To silence this warning, use `float` by itself. Doing this will not modify any behavior and is safe. If you specifically wanted the numpy scalar type, use `np.float64` here.\n",
      "Deprecated in NumPy 1.20; for more details and guidance: https://numpy.org/devdocs/release/1.20.0-notes.html#deprecations\n",
      "  std[std < np.finfo(np.float).eps] = 1.  # avoid numerical problems\n"
     ]
    },
    {
     "name": "stderr",
     "output_type": "stream",
     "text": [
      "/home/hannahcraddock/anaconda3/envs/hannah_env/lib/python3.9/site-packages/nilearn/signal.py:68: DeprecationWarning: `np.float` is a deprecated alias for the builtin `float`. To silence this warning, use `float` by itself. Doing this will not modify any behavior and is safe. If you specifically wanted the numpy scalar type, use `np.float64` here.\n",
      "Deprecated in NumPy 1.20; for more details and guidance: https://numpy.org/devdocs/release/1.20.0-notes.html#deprecations\n",
      "  std[std < np.finfo(np.float).eps] = 1.  # avoid numerical problems\n",
      "/home/hannahcraddock/anaconda3/envs/hannah_env/lib/python3.9/site-packages/nilearn/signal.py:68: DeprecationWarning: `np.float` is a deprecated alias for the builtin `float`. To silence this warning, use `float` by itself. Doing this will not modify any behavior and is safe. If you specifically wanted the numpy scalar type, use `np.float64` here.\n",
      "Deprecated in NumPy 1.20; for more details and guidance: https://numpy.org/devdocs/release/1.20.0-notes.html#deprecations\n",
      "  std[std < np.finfo(np.float).eps] = 1.  # avoid numerical problems\n",
      "/home/hannahcraddock/anaconda3/envs/hannah_env/lib/python3.9/site-packages/nilearn/signal.py:68: DeprecationWarning: `np.float` is a deprecated alias for the builtin `float`. To silence this warning, use `float` by itself. Doing this will not modify any behavior and is safe. If you specifically wanted the numpy scalar type, use `np.float64` here.\n",
      "Deprecated in NumPy 1.20; for more details and guidance: https://numpy.org/devdocs/release/1.20.0-notes.html#deprecations\n",
      "  std[std < np.finfo(np.float).eps] = 1.  # avoid numerical problems\n",
      "/home/hannahcraddock/anaconda3/envs/hannah_env/lib/python3.9/site-packages/nilearn/signal.py:68: DeprecationWarning: `np.float` is a deprecated alias for the builtin `float`. To silence this warning, use `float` by itself. Doing this will not modify any behavior and is safe. If you specifically wanted the numpy scalar type, use `np.float64` here.\n",
      "Deprecated in NumPy 1.20; for more details and guidance: https://numpy.org/devdocs/release/1.20.0-notes.html#deprecations\n",
      "  std[std < np.finfo(np.float).eps] = 1.  # avoid numerical problems\n",
      "/home/hannahcraddock/anaconda3/envs/hannah_env/lib/python3.9/site-packages/nilearn/signal.py:68: DeprecationWarning: `np.float` is a deprecated alias for the builtin `float`. To silence this warning, use `float` by itself. Doing this will not modify any behavior and is safe. If you specifically wanted the numpy scalar type, use `np.float64` here.\n",
      "Deprecated in NumPy 1.20; for more details and guidance: https://numpy.org/devdocs/release/1.20.0-notes.html#deprecations\n",
      "  std[std < np.finfo(np.float).eps] = 1.  # avoid numerical problems\n",
      "/home/hannahcraddock/anaconda3/envs/hannah_env/lib/python3.9/site-packages/nilearn/signal.py:68: DeprecationWarning: `np.float` is a deprecated alias for the builtin `float`. To silence this warning, use `float` by itself. Doing this will not modify any behavior and is safe. If you specifically wanted the numpy scalar type, use `np.float64` here.\n",
      "Deprecated in NumPy 1.20; for more details and guidance: https://numpy.org/devdocs/release/1.20.0-notes.html#deprecations\n",
      "  std[std < np.finfo(np.float).eps] = 1.  # avoid numerical problems\n",
      "/home/hannahcraddock/anaconda3/envs/hannah_env/lib/python3.9/site-packages/nilearn/signal.py:68: DeprecationWarning: `np.float` is a deprecated alias for the builtin `float`. To silence this warning, use `float` by itself. Doing this will not modify any behavior and is safe. If you specifically wanted the numpy scalar type, use `np.float64` here.\n",
      "Deprecated in NumPy 1.20; for more details and guidance: https://numpy.org/devdocs/release/1.20.0-notes.html#deprecations\n",
      "  std[std < np.finfo(np.float).eps] = 1.  # avoid numerical problems\n",
      "/home/hannahcraddock/anaconda3/envs/hannah_env/lib/python3.9/site-packages/nilearn/signal.py:68: DeprecationWarning: `np.float` is a deprecated alias for the builtin `float`. To silence this warning, use `float` by itself. Doing this will not modify any behavior and is safe. If you specifically wanted the numpy scalar type, use `np.float64` here.\n",
      "Deprecated in NumPy 1.20; for more details and guidance: https://numpy.org/devdocs/release/1.20.0-notes.html#deprecations\n",
      "  std[std < np.finfo(np.float).eps] = 1.  # avoid numerical problems\n",
      "/home/hannahcraddock/anaconda3/envs/hannah_env/lib/python3.9/site-packages/nilearn/signal.py:68: DeprecationWarning: `np.float` is a deprecated alias for the builtin `float`. To silence this warning, use `float` by itself. Doing this will not modify any behavior and is safe. If you specifically wanted the numpy scalar type, use `np.float64` here.\n",
      "Deprecated in NumPy 1.20; for more details and guidance: https://numpy.org/devdocs/release/1.20.0-notes.html#deprecations\n",
      "  std[std < np.finfo(np.float).eps] = 1.  # avoid numerical problems\n",
      "/home/hannahcraddock/anaconda3/envs/hannah_env/lib/python3.9/site-packages/nilearn/signal.py:68: DeprecationWarning: `np.float` is a deprecated alias for the builtin `float`. To silence this warning, use `float` by itself. Doing this will not modify any behavior and is safe. If you specifically wanted the numpy scalar type, use `np.float64` here.\n",
      "Deprecated in NumPy 1.20; for more details and guidance: https://numpy.org/devdocs/release/1.20.0-notes.html#deprecations\n",
      "  std[std < np.finfo(np.float).eps] = 1.  # avoid numerical problems\n",
      "/home/hannahcraddock/anaconda3/envs/hannah_env/lib/python3.9/site-packages/nilearn/signal.py:68: DeprecationWarning: `np.float` is a deprecated alias for the builtin `float`. To silence this warning, use `float` by itself. Doing this will not modify any behavior and is safe. If you specifically wanted the numpy scalar type, use `np.float64` here.\n",
      "Deprecated in NumPy 1.20; for more details and guidance: https://numpy.org/devdocs/release/1.20.0-notes.html#deprecations\n",
      "  std[std < np.finfo(np.float).eps] = 1.  # avoid numerical problems\n",
      "/home/hannahcraddock/anaconda3/envs/hannah_env/lib/python3.9/site-packages/nilearn/signal.py:68: DeprecationWarning: `np.float` is a deprecated alias for the builtin `float`. To silence this warning, use `float` by itself. Doing this will not modify any behavior and is safe. If you specifically wanted the numpy scalar type, use `np.float64` here.\n",
      "Deprecated in NumPy 1.20; for more details and guidance: https://numpy.org/devdocs/release/1.20.0-notes.html#deprecations\n",
      "  std[std < np.finfo(np.float).eps] = 1.  # avoid numerical problems\n",
      "/home/hannahcraddock/anaconda3/envs/hannah_env/lib/python3.9/site-packages/nilearn/signal.py:68: DeprecationWarning: `np.float` is a deprecated alias for the builtin `float`. To silence this warning, use `float` by itself. Doing this will not modify any behavior and is safe. If you specifically wanted the numpy scalar type, use `np.float64` here.\n",
      "Deprecated in NumPy 1.20; for more details and guidance: https://numpy.org/devdocs/release/1.20.0-notes.html#deprecations\n",
      "  std[std < np.finfo(np.float).eps] = 1.  # avoid numerical problems\n",
      "/home/hannahcraddock/anaconda3/envs/hannah_env/lib/python3.9/site-packages/nilearn/signal.py:68: DeprecationWarning: `np.float` is a deprecated alias for the builtin `float`. To silence this warning, use `float` by itself. Doing this will not modify any behavior and is safe. If you specifically wanted the numpy scalar type, use `np.float64` here.\n",
      "Deprecated in NumPy 1.20; for more details and guidance: https://numpy.org/devdocs/release/1.20.0-notes.html#deprecations\n",
      "  std[std < np.finfo(np.float).eps] = 1.  # avoid numerical problems\n",
      "/home/hannahcraddock/anaconda3/envs/hannah_env/lib/python3.9/site-packages/nilearn/signal.py:68: DeprecationWarning: `np.float` is a deprecated alias for the builtin `float`. To silence this warning, use `float` by itself. Doing this will not modify any behavior and is safe. If you specifically wanted the numpy scalar type, use `np.float64` here.\n",
      "Deprecated in NumPy 1.20; for more details and guidance: https://numpy.org/devdocs/release/1.20.0-notes.html#deprecations\n",
      "  std[std < np.finfo(np.float).eps] = 1.  # avoid numerical problems\n",
      "/home/hannahcraddock/anaconda3/envs/hannah_env/lib/python3.9/site-packages/nilearn/signal.py:68: DeprecationWarning: `np.float` is a deprecated alias for the builtin `float`. To silence this warning, use `float` by itself. Doing this will not modify any behavior and is safe. If you specifically wanted the numpy scalar type, use `np.float64` here.\n",
      "Deprecated in NumPy 1.20; for more details and guidance: https://numpy.org/devdocs/release/1.20.0-notes.html#deprecations\n",
      "  std[std < np.finfo(np.float).eps] = 1.  # avoid numerical problems\n"
     ]
    },
    {
     "name": "stderr",
     "output_type": "stream",
     "text": [
      "/home/hannahcraddock/anaconda3/envs/hannah_env/lib/python3.9/site-packages/nilearn/signal.py:68: DeprecationWarning: `np.float` is a deprecated alias for the builtin `float`. To silence this warning, use `float` by itself. Doing this will not modify any behavior and is safe. If you specifically wanted the numpy scalar type, use `np.float64` here.\n",
      "Deprecated in NumPy 1.20; for more details and guidance: https://numpy.org/devdocs/release/1.20.0-notes.html#deprecations\n",
      "  std[std < np.finfo(np.float).eps] = 1.  # avoid numerical problems\n",
      "/home/hannahcraddock/anaconda3/envs/hannah_env/lib/python3.9/site-packages/nilearn/signal.py:68: DeprecationWarning: `np.float` is a deprecated alias for the builtin `float`. To silence this warning, use `float` by itself. Doing this will not modify any behavior and is safe. If you specifically wanted the numpy scalar type, use `np.float64` here.\n",
      "Deprecated in NumPy 1.20; for more details and guidance: https://numpy.org/devdocs/release/1.20.0-notes.html#deprecations\n",
      "  std[std < np.finfo(np.float).eps] = 1.  # avoid numerical problems\n",
      "/home/hannahcraddock/anaconda3/envs/hannah_env/lib/python3.9/site-packages/nilearn/signal.py:68: DeprecationWarning: `np.float` is a deprecated alias for the builtin `float`. To silence this warning, use `float` by itself. Doing this will not modify any behavior and is safe. If you specifically wanted the numpy scalar type, use `np.float64` here.\n",
      "Deprecated in NumPy 1.20; for more details and guidance: https://numpy.org/devdocs/release/1.20.0-notes.html#deprecations\n",
      "  std[std < np.finfo(np.float).eps] = 1.  # avoid numerical problems\n",
      "/home/hannahcraddock/anaconda3/envs/hannah_env/lib/python3.9/site-packages/nilearn/signal.py:68: DeprecationWarning: `np.float` is a deprecated alias for the builtin `float`. To silence this warning, use `float` by itself. Doing this will not modify any behavior and is safe. If you specifically wanted the numpy scalar type, use `np.float64` here.\n",
      "Deprecated in NumPy 1.20; for more details and guidance: https://numpy.org/devdocs/release/1.20.0-notes.html#deprecations\n",
      "  std[std < np.finfo(np.float).eps] = 1.  # avoid numerical problems\n",
      "/home/hannahcraddock/anaconda3/envs/hannah_env/lib/python3.9/site-packages/nilearn/signal.py:68: DeprecationWarning: `np.float` is a deprecated alias for the builtin `float`. To silence this warning, use `float` by itself. Doing this will not modify any behavior and is safe. If you specifically wanted the numpy scalar type, use `np.float64` here.\n",
      "Deprecated in NumPy 1.20; for more details and guidance: https://numpy.org/devdocs/release/1.20.0-notes.html#deprecations\n",
      "  std[std < np.finfo(np.float).eps] = 1.  # avoid numerical problems\n",
      "/home/hannahcraddock/anaconda3/envs/hannah_env/lib/python3.9/site-packages/nilearn/signal.py:68: DeprecationWarning: `np.float` is a deprecated alias for the builtin `float`. To silence this warning, use `float` by itself. Doing this will not modify any behavior and is safe. If you specifically wanted the numpy scalar type, use `np.float64` here.\n",
      "Deprecated in NumPy 1.20; for more details and guidance: https://numpy.org/devdocs/release/1.20.0-notes.html#deprecations\n",
      "  std[std < np.finfo(np.float).eps] = 1.  # avoid numerical problems\n",
      "/home/hannahcraddock/anaconda3/envs/hannah_env/lib/python3.9/site-packages/nilearn/signal.py:68: DeprecationWarning: `np.float` is a deprecated alias for the builtin `float`. To silence this warning, use `float` by itself. Doing this will not modify any behavior and is safe. If you specifically wanted the numpy scalar type, use `np.float64` here.\n",
      "Deprecated in NumPy 1.20; for more details and guidance: https://numpy.org/devdocs/release/1.20.0-notes.html#deprecations\n",
      "  std[std < np.finfo(np.float).eps] = 1.  # avoid numerical problems\n",
      "/home/hannahcraddock/anaconda3/envs/hannah_env/lib/python3.9/site-packages/nilearn/signal.py:68: DeprecationWarning: `np.float` is a deprecated alias for the builtin `float`. To silence this warning, use `float` by itself. Doing this will not modify any behavior and is safe. If you specifically wanted the numpy scalar type, use `np.float64` here.\n",
      "Deprecated in NumPy 1.20; for more details and guidance: https://numpy.org/devdocs/release/1.20.0-notes.html#deprecations\n",
      "  std[std < np.finfo(np.float).eps] = 1.  # avoid numerical problems\n",
      "/home/hannahcraddock/anaconda3/envs/hannah_env/lib/python3.9/site-packages/nilearn/signal.py:68: DeprecationWarning: `np.float` is a deprecated alias for the builtin `float`. To silence this warning, use `float` by itself. Doing this will not modify any behavior and is safe. If you specifically wanted the numpy scalar type, use `np.float64` here.\n",
      "Deprecated in NumPy 1.20; for more details and guidance: https://numpy.org/devdocs/release/1.20.0-notes.html#deprecations\n",
      "  std[std < np.finfo(np.float).eps] = 1.  # avoid numerical problems\n",
      "/home/hannahcraddock/anaconda3/envs/hannah_env/lib/python3.9/site-packages/nilearn/signal.py:68: DeprecationWarning: `np.float` is a deprecated alias for the builtin `float`. To silence this warning, use `float` by itself. Doing this will not modify any behavior and is safe. If you specifically wanted the numpy scalar type, use `np.float64` here.\n",
      "Deprecated in NumPy 1.20; for more details and guidance: https://numpy.org/devdocs/release/1.20.0-notes.html#deprecations\n",
      "  std[std < np.finfo(np.float).eps] = 1.  # avoid numerical problems\n",
      "/home/hannahcraddock/anaconda3/envs/hannah_env/lib/python3.9/site-packages/nilearn/signal.py:68: DeprecationWarning: `np.float` is a deprecated alias for the builtin `float`. To silence this warning, use `float` by itself. Doing this will not modify any behavior and is safe. If you specifically wanted the numpy scalar type, use `np.float64` here.\n",
      "Deprecated in NumPy 1.20; for more details and guidance: https://numpy.org/devdocs/release/1.20.0-notes.html#deprecations\n",
      "  std[std < np.finfo(np.float).eps] = 1.  # avoid numerical problems\n",
      "/home/hannahcraddock/anaconda3/envs/hannah_env/lib/python3.9/site-packages/nilearn/signal.py:68: DeprecationWarning: `np.float` is a deprecated alias for the builtin `float`. To silence this warning, use `float` by itself. Doing this will not modify any behavior and is safe. If you specifically wanted the numpy scalar type, use `np.float64` here.\n",
      "Deprecated in NumPy 1.20; for more details and guidance: https://numpy.org/devdocs/release/1.20.0-notes.html#deprecations\n",
      "  std[std < np.finfo(np.float).eps] = 1.  # avoid numerical problems\n",
      "/home/hannahcraddock/anaconda3/envs/hannah_env/lib/python3.9/site-packages/nilearn/signal.py:68: DeprecationWarning: `np.float` is a deprecated alias for the builtin `float`. To silence this warning, use `float` by itself. Doing this will not modify any behavior and is safe. If you specifically wanted the numpy scalar type, use `np.float64` here.\n",
      "Deprecated in NumPy 1.20; for more details and guidance: https://numpy.org/devdocs/release/1.20.0-notes.html#deprecations\n",
      "  std[std < np.finfo(np.float).eps] = 1.  # avoid numerical problems\n",
      "/home/hannahcraddock/anaconda3/envs/hannah_env/lib/python3.9/site-packages/nilearn/signal.py:68: DeprecationWarning: `np.float` is a deprecated alias for the builtin `float`. To silence this warning, use `float` by itself. Doing this will not modify any behavior and is safe. If you specifically wanted the numpy scalar type, use `np.float64` here.\n",
      "Deprecated in NumPy 1.20; for more details and guidance: https://numpy.org/devdocs/release/1.20.0-notes.html#deprecations\n",
      "  std[std < np.finfo(np.float).eps] = 1.  # avoid numerical problems\n",
      "/home/hannahcraddock/anaconda3/envs/hannah_env/lib/python3.9/site-packages/nilearn/signal.py:68: DeprecationWarning: `np.float` is a deprecated alias for the builtin `float`. To silence this warning, use `float` by itself. Doing this will not modify any behavior and is safe. If you specifically wanted the numpy scalar type, use `np.float64` here.\n",
      "Deprecated in NumPy 1.20; for more details and guidance: https://numpy.org/devdocs/release/1.20.0-notes.html#deprecations\n",
      "  std[std < np.finfo(np.float).eps] = 1.  # avoid numerical problems\n",
      "/home/hannahcraddock/anaconda3/envs/hannah_env/lib/python3.9/site-packages/nilearn/signal.py:68: DeprecationWarning: `np.float` is a deprecated alias for the builtin `float`. To silence this warning, use `float` by itself. Doing this will not modify any behavior and is safe. If you specifically wanted the numpy scalar type, use `np.float64` here.\n",
      "Deprecated in NumPy 1.20; for more details and guidance: https://numpy.org/devdocs/release/1.20.0-notes.html#deprecations\n",
      "  std[std < np.finfo(np.float).eps] = 1.  # avoid numerical problems\n"
     ]
    },
    {
     "name": "stderr",
     "output_type": "stream",
     "text": [
      "/home/hannahcraddock/anaconda3/envs/hannah_env/lib/python3.9/site-packages/nilearn/signal.py:68: DeprecationWarning: `np.float` is a deprecated alias for the builtin `float`. To silence this warning, use `float` by itself. Doing this will not modify any behavior and is safe. If you specifically wanted the numpy scalar type, use `np.float64` here.\n",
      "Deprecated in NumPy 1.20; for more details and guidance: https://numpy.org/devdocs/release/1.20.0-notes.html#deprecations\n",
      "  std[std < np.finfo(np.float).eps] = 1.  # avoid numerical problems\n",
      "/home/hannahcraddock/anaconda3/envs/hannah_env/lib/python3.9/site-packages/nilearn/signal.py:68: DeprecationWarning: `np.float` is a deprecated alias for the builtin `float`. To silence this warning, use `float` by itself. Doing this will not modify any behavior and is safe. If you specifically wanted the numpy scalar type, use `np.float64` here.\n",
      "Deprecated in NumPy 1.20; for more details and guidance: https://numpy.org/devdocs/release/1.20.0-notes.html#deprecations\n",
      "  std[std < np.finfo(np.float).eps] = 1.  # avoid numerical problems\n",
      "/home/hannahcraddock/anaconda3/envs/hannah_env/lib/python3.9/site-packages/nilearn/signal.py:68: DeprecationWarning: `np.float` is a deprecated alias for the builtin `float`. To silence this warning, use `float` by itself. Doing this will not modify any behavior and is safe. If you specifically wanted the numpy scalar type, use `np.float64` here.\n",
      "Deprecated in NumPy 1.20; for more details and guidance: https://numpy.org/devdocs/release/1.20.0-notes.html#deprecations\n",
      "  std[std < np.finfo(np.float).eps] = 1.  # avoid numerical problems\n",
      "/home/hannahcraddock/anaconda3/envs/hannah_env/lib/python3.9/site-packages/nilearn/signal.py:68: DeprecationWarning: `np.float` is a deprecated alias for the builtin `float`. To silence this warning, use `float` by itself. Doing this will not modify any behavior and is safe. If you specifically wanted the numpy scalar type, use `np.float64` here.\n",
      "Deprecated in NumPy 1.20; for more details and guidance: https://numpy.org/devdocs/release/1.20.0-notes.html#deprecations\n",
      "  std[std < np.finfo(np.float).eps] = 1.  # avoid numerical problems\n",
      "/home/hannahcraddock/anaconda3/envs/hannah_env/lib/python3.9/site-packages/nilearn/signal.py:68: DeprecationWarning: `np.float` is a deprecated alias for the builtin `float`. To silence this warning, use `float` by itself. Doing this will not modify any behavior and is safe. If you specifically wanted the numpy scalar type, use `np.float64` here.\n",
      "Deprecated in NumPy 1.20; for more details and guidance: https://numpy.org/devdocs/release/1.20.0-notes.html#deprecations\n",
      "  std[std < np.finfo(np.float).eps] = 1.  # avoid numerical problems\n",
      "/home/hannahcraddock/anaconda3/envs/hannah_env/lib/python3.9/site-packages/nilearn/signal.py:68: DeprecationWarning: `np.float` is a deprecated alias for the builtin `float`. To silence this warning, use `float` by itself. Doing this will not modify any behavior and is safe. If you specifically wanted the numpy scalar type, use `np.float64` here.\n",
      "Deprecated in NumPy 1.20; for more details and guidance: https://numpy.org/devdocs/release/1.20.0-notes.html#deprecations\n",
      "  std[std < np.finfo(np.float).eps] = 1.  # avoid numerical problems\n",
      "/home/hannahcraddock/anaconda3/envs/hannah_env/lib/python3.9/site-packages/nilearn/signal.py:68: DeprecationWarning: `np.float` is a deprecated alias for the builtin `float`. To silence this warning, use `float` by itself. Doing this will not modify any behavior and is safe. If you specifically wanted the numpy scalar type, use `np.float64` here.\n",
      "Deprecated in NumPy 1.20; for more details and guidance: https://numpy.org/devdocs/release/1.20.0-notes.html#deprecations\n",
      "  std[std < np.finfo(np.float).eps] = 1.  # avoid numerical problems\n",
      "/home/hannahcraddock/anaconda3/envs/hannah_env/lib/python3.9/site-packages/nilearn/signal.py:68: DeprecationWarning: `np.float` is a deprecated alias for the builtin `float`. To silence this warning, use `float` by itself. Doing this will not modify any behavior and is safe. If you specifically wanted the numpy scalar type, use `np.float64` here.\n",
      "Deprecated in NumPy 1.20; for more details and guidance: https://numpy.org/devdocs/release/1.20.0-notes.html#deprecations\n",
      "  std[std < np.finfo(np.float).eps] = 1.  # avoid numerical problems\n",
      "/home/hannahcraddock/anaconda3/envs/hannah_env/lib/python3.9/site-packages/nilearn/signal.py:68: DeprecationWarning: `np.float` is a deprecated alias for the builtin `float`. To silence this warning, use `float` by itself. Doing this will not modify any behavior and is safe. If you specifically wanted the numpy scalar type, use `np.float64` here.\n",
      "Deprecated in NumPy 1.20; for more details and guidance: https://numpy.org/devdocs/release/1.20.0-notes.html#deprecations\n",
      "  std[std < np.finfo(np.float).eps] = 1.  # avoid numerical problems\n",
      "/home/hannahcraddock/anaconda3/envs/hannah_env/lib/python3.9/site-packages/nilearn/signal.py:68: DeprecationWarning: `np.float` is a deprecated alias for the builtin `float`. To silence this warning, use `float` by itself. Doing this will not modify any behavior and is safe. If you specifically wanted the numpy scalar type, use `np.float64` here.\n",
      "Deprecated in NumPy 1.20; for more details and guidance: https://numpy.org/devdocs/release/1.20.0-notes.html#deprecations\n",
      "  std[std < np.finfo(np.float).eps] = 1.  # avoid numerical problems\n",
      "/home/hannahcraddock/anaconda3/envs/hannah_env/lib/python3.9/site-packages/nilearn/signal.py:68: DeprecationWarning: `np.float` is a deprecated alias for the builtin `float`. To silence this warning, use `float` by itself. Doing this will not modify any behavior and is safe. If you specifically wanted the numpy scalar type, use `np.float64` here.\n",
      "Deprecated in NumPy 1.20; for more details and guidance: https://numpy.org/devdocs/release/1.20.0-notes.html#deprecations\n",
      "  std[std < np.finfo(np.float).eps] = 1.  # avoid numerical problems\n",
      "/home/hannahcraddock/anaconda3/envs/hannah_env/lib/python3.9/site-packages/nilearn/signal.py:68: DeprecationWarning: `np.float` is a deprecated alias for the builtin `float`. To silence this warning, use `float` by itself. Doing this will not modify any behavior and is safe. If you specifically wanted the numpy scalar type, use `np.float64` here.\n",
      "Deprecated in NumPy 1.20; for more details and guidance: https://numpy.org/devdocs/release/1.20.0-notes.html#deprecations\n",
      "  std[std < np.finfo(np.float).eps] = 1.  # avoid numerical problems\n",
      "/home/hannahcraddock/anaconda3/envs/hannah_env/lib/python3.9/site-packages/nilearn/signal.py:68: DeprecationWarning: `np.float` is a deprecated alias for the builtin `float`. To silence this warning, use `float` by itself. Doing this will not modify any behavior and is safe. If you specifically wanted the numpy scalar type, use `np.float64` here.\n",
      "Deprecated in NumPy 1.20; for more details and guidance: https://numpy.org/devdocs/release/1.20.0-notes.html#deprecations\n",
      "  std[std < np.finfo(np.float).eps] = 1.  # avoid numerical problems\n",
      "/home/hannahcraddock/anaconda3/envs/hannah_env/lib/python3.9/site-packages/nilearn/signal.py:68: DeprecationWarning: `np.float` is a deprecated alias for the builtin `float`. To silence this warning, use `float` by itself. Doing this will not modify any behavior and is safe. If you specifically wanted the numpy scalar type, use `np.float64` here.\n",
      "Deprecated in NumPy 1.20; for more details and guidance: https://numpy.org/devdocs/release/1.20.0-notes.html#deprecations\n",
      "  std[std < np.finfo(np.float).eps] = 1.  # avoid numerical problems\n",
      "/home/hannahcraddock/anaconda3/envs/hannah_env/lib/python3.9/site-packages/nilearn/signal.py:68: DeprecationWarning: `np.float` is a deprecated alias for the builtin `float`. To silence this warning, use `float` by itself. Doing this will not modify any behavior and is safe. If you specifically wanted the numpy scalar type, use `np.float64` here.\n",
      "Deprecated in NumPy 1.20; for more details and guidance: https://numpy.org/devdocs/release/1.20.0-notes.html#deprecations\n",
      "  std[std < np.finfo(np.float).eps] = 1.  # avoid numerical problems\n",
      "/home/hannahcraddock/anaconda3/envs/hannah_env/lib/python3.9/site-packages/nilearn/signal.py:68: DeprecationWarning: `np.float` is a deprecated alias for the builtin `float`. To silence this warning, use `float` by itself. Doing this will not modify any behavior and is safe. If you specifically wanted the numpy scalar type, use `np.float64` here.\n",
      "Deprecated in NumPy 1.20; for more details and guidance: https://numpy.org/devdocs/release/1.20.0-notes.html#deprecations\n",
      "  std[std < np.finfo(np.float).eps] = 1.  # avoid numerical problems\n"
     ]
    },
    {
     "name": "stderr",
     "output_type": "stream",
     "text": [
      "/home/hannahcraddock/anaconda3/envs/hannah_env/lib/python3.9/site-packages/nilearn/signal.py:68: DeprecationWarning: `np.float` is a deprecated alias for the builtin `float`. To silence this warning, use `float` by itself. Doing this will not modify any behavior and is safe. If you specifically wanted the numpy scalar type, use `np.float64` here.\n",
      "Deprecated in NumPy 1.20; for more details and guidance: https://numpy.org/devdocs/release/1.20.0-notes.html#deprecations\n",
      "  std[std < np.finfo(np.float).eps] = 1.  # avoid numerical problems\n",
      "/home/hannahcraddock/anaconda3/envs/hannah_env/lib/python3.9/site-packages/nilearn/signal.py:68: DeprecationWarning: `np.float` is a deprecated alias for the builtin `float`. To silence this warning, use `float` by itself. Doing this will not modify any behavior and is safe. If you specifically wanted the numpy scalar type, use `np.float64` here.\n",
      "Deprecated in NumPy 1.20; for more details and guidance: https://numpy.org/devdocs/release/1.20.0-notes.html#deprecations\n",
      "  std[std < np.finfo(np.float).eps] = 1.  # avoid numerical problems\n",
      "/home/hannahcraddock/anaconda3/envs/hannah_env/lib/python3.9/site-packages/nilearn/signal.py:68: DeprecationWarning: `np.float` is a deprecated alias for the builtin `float`. To silence this warning, use `float` by itself. Doing this will not modify any behavior and is safe. If you specifically wanted the numpy scalar type, use `np.float64` here.\n",
      "Deprecated in NumPy 1.20; for more details and guidance: https://numpy.org/devdocs/release/1.20.0-notes.html#deprecations\n",
      "  std[std < np.finfo(np.float).eps] = 1.  # avoid numerical problems\n",
      "/home/hannahcraddock/anaconda3/envs/hannah_env/lib/python3.9/site-packages/nilearn/signal.py:68: DeprecationWarning: `np.float` is a deprecated alias for the builtin `float`. To silence this warning, use `float` by itself. Doing this will not modify any behavior and is safe. If you specifically wanted the numpy scalar type, use `np.float64` here.\n",
      "Deprecated in NumPy 1.20; for more details and guidance: https://numpy.org/devdocs/release/1.20.0-notes.html#deprecations\n",
      "  std[std < np.finfo(np.float).eps] = 1.  # avoid numerical problems\n",
      "/home/hannahcraddock/anaconda3/envs/hannah_env/lib/python3.9/site-packages/nilearn/signal.py:68: DeprecationWarning: `np.float` is a deprecated alias for the builtin `float`. To silence this warning, use `float` by itself. Doing this will not modify any behavior and is safe. If you specifically wanted the numpy scalar type, use `np.float64` here.\n",
      "Deprecated in NumPy 1.20; for more details and guidance: https://numpy.org/devdocs/release/1.20.0-notes.html#deprecations\n",
      "  std[std < np.finfo(np.float).eps] = 1.  # avoid numerical problems\n",
      "/home/hannahcraddock/anaconda3/envs/hannah_env/lib/python3.9/site-packages/nilearn/signal.py:68: DeprecationWarning: `np.float` is a deprecated alias for the builtin `float`. To silence this warning, use `float` by itself. Doing this will not modify any behavior and is safe. If you specifically wanted the numpy scalar type, use `np.float64` here.\n",
      "Deprecated in NumPy 1.20; for more details and guidance: https://numpy.org/devdocs/release/1.20.0-notes.html#deprecations\n",
      "  std[std < np.finfo(np.float).eps] = 1.  # avoid numerical problems\n",
      "/home/hannahcraddock/anaconda3/envs/hannah_env/lib/python3.9/site-packages/nilearn/signal.py:68: DeprecationWarning: `np.float` is a deprecated alias for the builtin `float`. To silence this warning, use `float` by itself. Doing this will not modify any behavior and is safe. If you specifically wanted the numpy scalar type, use `np.float64` here.\n",
      "Deprecated in NumPy 1.20; for more details and guidance: https://numpy.org/devdocs/release/1.20.0-notes.html#deprecations\n",
      "  std[std < np.finfo(np.float).eps] = 1.  # avoid numerical problems\n",
      "/home/hannahcraddock/anaconda3/envs/hannah_env/lib/python3.9/site-packages/nilearn/signal.py:68: DeprecationWarning: `np.float` is a deprecated alias for the builtin `float`. To silence this warning, use `float` by itself. Doing this will not modify any behavior and is safe. If you specifically wanted the numpy scalar type, use `np.float64` here.\n",
      "Deprecated in NumPy 1.20; for more details and guidance: https://numpy.org/devdocs/release/1.20.0-notes.html#deprecations\n",
      "  std[std < np.finfo(np.float).eps] = 1.  # avoid numerical problems\n",
      "/home/hannahcraddock/anaconda3/envs/hannah_env/lib/python3.9/site-packages/nilearn/signal.py:68: DeprecationWarning: `np.float` is a deprecated alias for the builtin `float`. To silence this warning, use `float` by itself. Doing this will not modify any behavior and is safe. If you specifically wanted the numpy scalar type, use `np.float64` here.\n",
      "Deprecated in NumPy 1.20; for more details and guidance: https://numpy.org/devdocs/release/1.20.0-notes.html#deprecations\n",
      "  std[std < np.finfo(np.float).eps] = 1.  # avoid numerical problems\n",
      "/home/hannahcraddock/anaconda3/envs/hannah_env/lib/python3.9/site-packages/nilearn/signal.py:68: DeprecationWarning: `np.float` is a deprecated alias for the builtin `float`. To silence this warning, use `float` by itself. Doing this will not modify any behavior and is safe. If you specifically wanted the numpy scalar type, use `np.float64` here.\n",
      "Deprecated in NumPy 1.20; for more details and guidance: https://numpy.org/devdocs/release/1.20.0-notes.html#deprecations\n",
      "  std[std < np.finfo(np.float).eps] = 1.  # avoid numerical problems\n",
      "/home/hannahcraddock/anaconda3/envs/hannah_env/lib/python3.9/site-packages/nilearn/signal.py:68: DeprecationWarning: `np.float` is a deprecated alias for the builtin `float`. To silence this warning, use `float` by itself. Doing this will not modify any behavior and is safe. If you specifically wanted the numpy scalar type, use `np.float64` here.\n",
      "Deprecated in NumPy 1.20; for more details and guidance: https://numpy.org/devdocs/release/1.20.0-notes.html#deprecations\n",
      "  std[std < np.finfo(np.float).eps] = 1.  # avoid numerical problems\n",
      "/home/hannahcraddock/anaconda3/envs/hannah_env/lib/python3.9/site-packages/nilearn/signal.py:68: DeprecationWarning: `np.float` is a deprecated alias for the builtin `float`. To silence this warning, use `float` by itself. Doing this will not modify any behavior and is safe. If you specifically wanted the numpy scalar type, use `np.float64` here.\n",
      "Deprecated in NumPy 1.20; for more details and guidance: https://numpy.org/devdocs/release/1.20.0-notes.html#deprecations\n",
      "  std[std < np.finfo(np.float).eps] = 1.  # avoid numerical problems\n",
      "/home/hannahcraddock/anaconda3/envs/hannah_env/lib/python3.9/site-packages/nilearn/signal.py:68: DeprecationWarning: `np.float` is a deprecated alias for the builtin `float`. To silence this warning, use `float` by itself. Doing this will not modify any behavior and is safe. If you specifically wanted the numpy scalar type, use `np.float64` here.\n",
      "Deprecated in NumPy 1.20; for more details and guidance: https://numpy.org/devdocs/release/1.20.0-notes.html#deprecations\n",
      "  std[std < np.finfo(np.float).eps] = 1.  # avoid numerical problems\n",
      "/home/hannahcraddock/anaconda3/envs/hannah_env/lib/python3.9/site-packages/nilearn/signal.py:68: DeprecationWarning: `np.float` is a deprecated alias for the builtin `float`. To silence this warning, use `float` by itself. Doing this will not modify any behavior and is safe. If you specifically wanted the numpy scalar type, use `np.float64` here.\n",
      "Deprecated in NumPy 1.20; for more details and guidance: https://numpy.org/devdocs/release/1.20.0-notes.html#deprecations\n",
      "  std[std < np.finfo(np.float).eps] = 1.  # avoid numerical problems\n",
      "/home/hannahcraddock/anaconda3/envs/hannah_env/lib/python3.9/site-packages/nilearn/signal.py:68: DeprecationWarning: `np.float` is a deprecated alias for the builtin `float`. To silence this warning, use `float` by itself. Doing this will not modify any behavior and is safe. If you specifically wanted the numpy scalar type, use `np.float64` here.\n",
      "Deprecated in NumPy 1.20; for more details and guidance: https://numpy.org/devdocs/release/1.20.0-notes.html#deprecations\n",
      "  std[std < np.finfo(np.float).eps] = 1.  # avoid numerical problems\n",
      "/home/hannahcraddock/anaconda3/envs/hannah_env/lib/python3.9/site-packages/nilearn/signal.py:68: DeprecationWarning: `np.float` is a deprecated alias for the builtin `float`. To silence this warning, use `float` by itself. Doing this will not modify any behavior and is safe. If you specifically wanted the numpy scalar type, use `np.float64` here.\n",
      "Deprecated in NumPy 1.20; for more details and guidance: https://numpy.org/devdocs/release/1.20.0-notes.html#deprecations\n",
      "  std[std < np.finfo(np.float).eps] = 1.  # avoid numerical problems\n"
     ]
    },
    {
     "name": "stderr",
     "output_type": "stream",
     "text": [
      "/home/hannahcraddock/anaconda3/envs/hannah_env/lib/python3.9/site-packages/nilearn/signal.py:68: DeprecationWarning: `np.float` is a deprecated alias for the builtin `float`. To silence this warning, use `float` by itself. Doing this will not modify any behavior and is safe. If you specifically wanted the numpy scalar type, use `np.float64` here.\n",
      "Deprecated in NumPy 1.20; for more details and guidance: https://numpy.org/devdocs/release/1.20.0-notes.html#deprecations\n",
      "  std[std < np.finfo(np.float).eps] = 1.  # avoid numerical problems\n",
      "/home/hannahcraddock/anaconda3/envs/hannah_env/lib/python3.9/site-packages/nilearn/signal.py:68: DeprecationWarning: `np.float` is a deprecated alias for the builtin `float`. To silence this warning, use `float` by itself. Doing this will not modify any behavior and is safe. If you specifically wanted the numpy scalar type, use `np.float64` here.\n",
      "Deprecated in NumPy 1.20; for more details and guidance: https://numpy.org/devdocs/release/1.20.0-notes.html#deprecations\n",
      "  std[std < np.finfo(np.float).eps] = 1.  # avoid numerical problems\n",
      "/home/hannahcraddock/anaconda3/envs/hannah_env/lib/python3.9/site-packages/nilearn/signal.py:68: DeprecationWarning: `np.float` is a deprecated alias for the builtin `float`. To silence this warning, use `float` by itself. Doing this will not modify any behavior and is safe. If you specifically wanted the numpy scalar type, use `np.float64` here.\n",
      "Deprecated in NumPy 1.20; for more details and guidance: https://numpy.org/devdocs/release/1.20.0-notes.html#deprecations\n",
      "  std[std < np.finfo(np.float).eps] = 1.  # avoid numerical problems\n",
      "/home/hannahcraddock/anaconda3/envs/hannah_env/lib/python3.9/site-packages/nilearn/signal.py:68: DeprecationWarning: `np.float` is a deprecated alias for the builtin `float`. To silence this warning, use `float` by itself. Doing this will not modify any behavior and is safe. If you specifically wanted the numpy scalar type, use `np.float64` here.\n",
      "Deprecated in NumPy 1.20; for more details and guidance: https://numpy.org/devdocs/release/1.20.0-notes.html#deprecations\n",
      "  std[std < np.finfo(np.float).eps] = 1.  # avoid numerical problems\n",
      "/home/hannahcraddock/anaconda3/envs/hannah_env/lib/python3.9/site-packages/nilearn/signal.py:68: DeprecationWarning: `np.float` is a deprecated alias for the builtin `float`. To silence this warning, use `float` by itself. Doing this will not modify any behavior and is safe. If you specifically wanted the numpy scalar type, use `np.float64` here.\n",
      "Deprecated in NumPy 1.20; for more details and guidance: https://numpy.org/devdocs/release/1.20.0-notes.html#deprecations\n",
      "  std[std < np.finfo(np.float).eps] = 1.  # avoid numerical problems\n",
      "/home/hannahcraddock/anaconda3/envs/hannah_env/lib/python3.9/site-packages/nilearn/signal.py:68: DeprecationWarning: `np.float` is a deprecated alias for the builtin `float`. To silence this warning, use `float` by itself. Doing this will not modify any behavior and is safe. If you specifically wanted the numpy scalar type, use `np.float64` here.\n",
      "Deprecated in NumPy 1.20; for more details and guidance: https://numpy.org/devdocs/release/1.20.0-notes.html#deprecations\n",
      "  std[std < np.finfo(np.float).eps] = 1.  # avoid numerical problems\n",
      "/home/hannahcraddock/anaconda3/envs/hannah_env/lib/python3.9/site-packages/nilearn/signal.py:68: DeprecationWarning: `np.float` is a deprecated alias for the builtin `float`. To silence this warning, use `float` by itself. Doing this will not modify any behavior and is safe. If you specifically wanted the numpy scalar type, use `np.float64` here.\n",
      "Deprecated in NumPy 1.20; for more details and guidance: https://numpy.org/devdocs/release/1.20.0-notes.html#deprecations\n",
      "  std[std < np.finfo(np.float).eps] = 1.  # avoid numerical problems\n",
      "/home/hannahcraddock/anaconda3/envs/hannah_env/lib/python3.9/site-packages/nilearn/signal.py:68: DeprecationWarning: `np.float` is a deprecated alias for the builtin `float`. To silence this warning, use `float` by itself. Doing this will not modify any behavior and is safe. If you specifically wanted the numpy scalar type, use `np.float64` here.\n",
      "Deprecated in NumPy 1.20; for more details and guidance: https://numpy.org/devdocs/release/1.20.0-notes.html#deprecations\n",
      "  std[std < np.finfo(np.float).eps] = 1.  # avoid numerical problems\n",
      "/home/hannahcraddock/anaconda3/envs/hannah_env/lib/python3.9/site-packages/nilearn/signal.py:68: DeprecationWarning: `np.float` is a deprecated alias for the builtin `float`. To silence this warning, use `float` by itself. Doing this will not modify any behavior and is safe. If you specifically wanted the numpy scalar type, use `np.float64` here.\n",
      "Deprecated in NumPy 1.20; for more details and guidance: https://numpy.org/devdocs/release/1.20.0-notes.html#deprecations\n",
      "  std[std < np.finfo(np.float).eps] = 1.  # avoid numerical problems\n",
      "/home/hannahcraddock/anaconda3/envs/hannah_env/lib/python3.9/site-packages/nilearn/signal.py:68: DeprecationWarning: `np.float` is a deprecated alias for the builtin `float`. To silence this warning, use `float` by itself. Doing this will not modify any behavior and is safe. If you specifically wanted the numpy scalar type, use `np.float64` here.\n",
      "Deprecated in NumPy 1.20; for more details and guidance: https://numpy.org/devdocs/release/1.20.0-notes.html#deprecations\n",
      "  std[std < np.finfo(np.float).eps] = 1.  # avoid numerical problems\n",
      "/home/hannahcraddock/anaconda3/envs/hannah_env/lib/python3.9/site-packages/nilearn/signal.py:68: DeprecationWarning: `np.float` is a deprecated alias for the builtin `float`. To silence this warning, use `float` by itself. Doing this will not modify any behavior and is safe. If you specifically wanted the numpy scalar type, use `np.float64` here.\n",
      "Deprecated in NumPy 1.20; for more details and guidance: https://numpy.org/devdocs/release/1.20.0-notes.html#deprecations\n",
      "  std[std < np.finfo(np.float).eps] = 1.  # avoid numerical problems\n",
      "/home/hannahcraddock/anaconda3/envs/hannah_env/lib/python3.9/site-packages/nilearn/signal.py:68: DeprecationWarning: `np.float` is a deprecated alias for the builtin `float`. To silence this warning, use `float` by itself. Doing this will not modify any behavior and is safe. If you specifically wanted the numpy scalar type, use `np.float64` here.\n",
      "Deprecated in NumPy 1.20; for more details and guidance: https://numpy.org/devdocs/release/1.20.0-notes.html#deprecations\n",
      "  std[std < np.finfo(np.float).eps] = 1.  # avoid numerical problems\n",
      "/home/hannahcraddock/anaconda3/envs/hannah_env/lib/python3.9/site-packages/nilearn/signal.py:68: DeprecationWarning: `np.float` is a deprecated alias for the builtin `float`. To silence this warning, use `float` by itself. Doing this will not modify any behavior and is safe. If you specifically wanted the numpy scalar type, use `np.float64` here.\n",
      "Deprecated in NumPy 1.20; for more details and guidance: https://numpy.org/devdocs/release/1.20.0-notes.html#deprecations\n",
      "  std[std < np.finfo(np.float).eps] = 1.  # avoid numerical problems\n",
      "/home/hannahcraddock/anaconda3/envs/hannah_env/lib/python3.9/site-packages/nilearn/signal.py:68: DeprecationWarning: `np.float` is a deprecated alias for the builtin `float`. To silence this warning, use `float` by itself. Doing this will not modify any behavior and is safe. If you specifically wanted the numpy scalar type, use `np.float64` here.\n",
      "Deprecated in NumPy 1.20; for more details and guidance: https://numpy.org/devdocs/release/1.20.0-notes.html#deprecations\n",
      "  std[std < np.finfo(np.float).eps] = 1.  # avoid numerical problems\n",
      "/home/hannahcraddock/anaconda3/envs/hannah_env/lib/python3.9/site-packages/nilearn/signal.py:68: DeprecationWarning: `np.float` is a deprecated alias for the builtin `float`. To silence this warning, use `float` by itself. Doing this will not modify any behavior and is safe. If you specifically wanted the numpy scalar type, use `np.float64` here.\n",
      "Deprecated in NumPy 1.20; for more details and guidance: https://numpy.org/devdocs/release/1.20.0-notes.html#deprecations\n",
      "  std[std < np.finfo(np.float).eps] = 1.  # avoid numerical problems\n",
      "/home/hannahcraddock/anaconda3/envs/hannah_env/lib/python3.9/site-packages/nilearn/signal.py:68: DeprecationWarning: `np.float` is a deprecated alias for the builtin `float`. To silence this warning, use `float` by itself. Doing this will not modify any behavior and is safe. If you specifically wanted the numpy scalar type, use `np.float64` here.\n",
      "Deprecated in NumPy 1.20; for more details and guidance: https://numpy.org/devdocs/release/1.20.0-notes.html#deprecations\n",
      "  std[std < np.finfo(np.float).eps] = 1.  # avoid numerical problems\n"
     ]
    },
    {
     "name": "stderr",
     "output_type": "stream",
     "text": [
      "/home/hannahcraddock/anaconda3/envs/hannah_env/lib/python3.9/site-packages/nilearn/signal.py:68: DeprecationWarning: `np.float` is a deprecated alias for the builtin `float`. To silence this warning, use `float` by itself. Doing this will not modify any behavior and is safe. If you specifically wanted the numpy scalar type, use `np.float64` here.\n",
      "Deprecated in NumPy 1.20; for more details and guidance: https://numpy.org/devdocs/release/1.20.0-notes.html#deprecations\n",
      "  std[std < np.finfo(np.float).eps] = 1.  # avoid numerical problems\n",
      "/home/hannahcraddock/anaconda3/envs/hannah_env/lib/python3.9/site-packages/nilearn/signal.py:68: DeprecationWarning: `np.float` is a deprecated alias for the builtin `float`. To silence this warning, use `float` by itself. Doing this will not modify any behavior and is safe. If you specifically wanted the numpy scalar type, use `np.float64` here.\n",
      "Deprecated in NumPy 1.20; for more details and guidance: https://numpy.org/devdocs/release/1.20.0-notes.html#deprecations\n",
      "  std[std < np.finfo(np.float).eps] = 1.  # avoid numerical problems\n",
      "/home/hannahcraddock/anaconda3/envs/hannah_env/lib/python3.9/site-packages/nilearn/signal.py:68: DeprecationWarning: `np.float` is a deprecated alias for the builtin `float`. To silence this warning, use `float` by itself. Doing this will not modify any behavior and is safe. If you specifically wanted the numpy scalar type, use `np.float64` here.\n",
      "Deprecated in NumPy 1.20; for more details and guidance: https://numpy.org/devdocs/release/1.20.0-notes.html#deprecations\n",
      "  std[std < np.finfo(np.float).eps] = 1.  # avoid numerical problems\n",
      "/home/hannahcraddock/anaconda3/envs/hannah_env/lib/python3.9/site-packages/nilearn/signal.py:68: DeprecationWarning: `np.float` is a deprecated alias for the builtin `float`. To silence this warning, use `float` by itself. Doing this will not modify any behavior and is safe. If you specifically wanted the numpy scalar type, use `np.float64` here.\n",
      "Deprecated in NumPy 1.20; for more details and guidance: https://numpy.org/devdocs/release/1.20.0-notes.html#deprecations\n",
      "  std[std < np.finfo(np.float).eps] = 1.  # avoid numerical problems\n",
      "/home/hannahcraddock/anaconda3/envs/hannah_env/lib/python3.9/site-packages/nilearn/signal.py:68: DeprecationWarning: `np.float` is a deprecated alias for the builtin `float`. To silence this warning, use `float` by itself. Doing this will not modify any behavior and is safe. If you specifically wanted the numpy scalar type, use `np.float64` here.\n",
      "Deprecated in NumPy 1.20; for more details and guidance: https://numpy.org/devdocs/release/1.20.0-notes.html#deprecations\n",
      "  std[std < np.finfo(np.float).eps] = 1.  # avoid numerical problems\n",
      "/home/hannahcraddock/anaconda3/envs/hannah_env/lib/python3.9/site-packages/nilearn/signal.py:68: DeprecationWarning: `np.float` is a deprecated alias for the builtin `float`. To silence this warning, use `float` by itself. Doing this will not modify any behavior and is safe. If you specifically wanted the numpy scalar type, use `np.float64` here.\n",
      "Deprecated in NumPy 1.20; for more details and guidance: https://numpy.org/devdocs/release/1.20.0-notes.html#deprecations\n",
      "  std[std < np.finfo(np.float).eps] = 1.  # avoid numerical problems\n",
      "/home/hannahcraddock/anaconda3/envs/hannah_env/lib/python3.9/site-packages/nilearn/signal.py:68: DeprecationWarning: `np.float` is a deprecated alias for the builtin `float`. To silence this warning, use `float` by itself. Doing this will not modify any behavior and is safe. If you specifically wanted the numpy scalar type, use `np.float64` here.\n",
      "Deprecated in NumPy 1.20; for more details and guidance: https://numpy.org/devdocs/release/1.20.0-notes.html#deprecations\n",
      "  std[std < np.finfo(np.float).eps] = 1.  # avoid numerical problems\n",
      "/home/hannahcraddock/anaconda3/envs/hannah_env/lib/python3.9/site-packages/nilearn/signal.py:68: DeprecationWarning: `np.float` is a deprecated alias for the builtin `float`. To silence this warning, use `float` by itself. Doing this will not modify any behavior and is safe. If you specifically wanted the numpy scalar type, use `np.float64` here.\n",
      "Deprecated in NumPy 1.20; for more details and guidance: https://numpy.org/devdocs/release/1.20.0-notes.html#deprecations\n",
      "  std[std < np.finfo(np.float).eps] = 1.  # avoid numerical problems\n",
      "/home/hannahcraddock/anaconda3/envs/hannah_env/lib/python3.9/site-packages/nilearn/signal.py:68: DeprecationWarning: `np.float` is a deprecated alias for the builtin `float`. To silence this warning, use `float` by itself. Doing this will not modify any behavior and is safe. If you specifically wanted the numpy scalar type, use `np.float64` here.\n",
      "Deprecated in NumPy 1.20; for more details and guidance: https://numpy.org/devdocs/release/1.20.0-notes.html#deprecations\n",
      "  std[std < np.finfo(np.float).eps] = 1.  # avoid numerical problems\n",
      "/home/hannahcraddock/anaconda3/envs/hannah_env/lib/python3.9/site-packages/nilearn/signal.py:68: DeprecationWarning: `np.float` is a deprecated alias for the builtin `float`. To silence this warning, use `float` by itself. Doing this will not modify any behavior and is safe. If you specifically wanted the numpy scalar type, use `np.float64` here.\n",
      "Deprecated in NumPy 1.20; for more details and guidance: https://numpy.org/devdocs/release/1.20.0-notes.html#deprecations\n",
      "  std[std < np.finfo(np.float).eps] = 1.  # avoid numerical problems\n",
      "/home/hannahcraddock/anaconda3/envs/hannah_env/lib/python3.9/site-packages/nilearn/signal.py:68: DeprecationWarning: `np.float` is a deprecated alias for the builtin `float`. To silence this warning, use `float` by itself. Doing this will not modify any behavior and is safe. If you specifically wanted the numpy scalar type, use `np.float64` here.\n",
      "Deprecated in NumPy 1.20; for more details and guidance: https://numpy.org/devdocs/release/1.20.0-notes.html#deprecations\n",
      "  std[std < np.finfo(np.float).eps] = 1.  # avoid numerical problems\n",
      "/home/hannahcraddock/anaconda3/envs/hannah_env/lib/python3.9/site-packages/nilearn/signal.py:68: DeprecationWarning: `np.float` is a deprecated alias for the builtin `float`. To silence this warning, use `float` by itself. Doing this will not modify any behavior and is safe. If you specifically wanted the numpy scalar type, use `np.float64` here.\n",
      "Deprecated in NumPy 1.20; for more details and guidance: https://numpy.org/devdocs/release/1.20.0-notes.html#deprecations\n",
      "  std[std < np.finfo(np.float).eps] = 1.  # avoid numerical problems\n",
      "/home/hannahcraddock/anaconda3/envs/hannah_env/lib/python3.9/site-packages/nilearn/signal.py:68: DeprecationWarning: `np.float` is a deprecated alias for the builtin `float`. To silence this warning, use `float` by itself. Doing this will not modify any behavior and is safe. If you specifically wanted the numpy scalar type, use `np.float64` here.\n",
      "Deprecated in NumPy 1.20; for more details and guidance: https://numpy.org/devdocs/release/1.20.0-notes.html#deprecations\n",
      "  std[std < np.finfo(np.float).eps] = 1.  # avoid numerical problems\n",
      "/home/hannahcraddock/anaconda3/envs/hannah_env/lib/python3.9/site-packages/nilearn/signal.py:68: DeprecationWarning: `np.float` is a deprecated alias for the builtin `float`. To silence this warning, use `float` by itself. Doing this will not modify any behavior and is safe. If you specifically wanted the numpy scalar type, use `np.float64` here.\n",
      "Deprecated in NumPy 1.20; for more details and guidance: https://numpy.org/devdocs/release/1.20.0-notes.html#deprecations\n",
      "  std[std < np.finfo(np.float).eps] = 1.  # avoid numerical problems\n",
      "/home/hannahcraddock/anaconda3/envs/hannah_env/lib/python3.9/site-packages/nilearn/signal.py:68: DeprecationWarning: `np.float` is a deprecated alias for the builtin `float`. To silence this warning, use `float` by itself. Doing this will not modify any behavior and is safe. If you specifically wanted the numpy scalar type, use `np.float64` here.\n",
      "Deprecated in NumPy 1.20; for more details and guidance: https://numpy.org/devdocs/release/1.20.0-notes.html#deprecations\n",
      "  std[std < np.finfo(np.float).eps] = 1.  # avoid numerical problems\n",
      "/home/hannahcraddock/anaconda3/envs/hannah_env/lib/python3.9/site-packages/nilearn/signal.py:68: DeprecationWarning: `np.float` is a deprecated alias for the builtin `float`. To silence this warning, use `float` by itself. Doing this will not modify any behavior and is safe. If you specifically wanted the numpy scalar type, use `np.float64` here.\n",
      "Deprecated in NumPy 1.20; for more details and guidance: https://numpy.org/devdocs/release/1.20.0-notes.html#deprecations\n",
      "  std[std < np.finfo(np.float).eps] = 1.  # avoid numerical problems\n"
     ]
    },
    {
     "name": "stderr",
     "output_type": "stream",
     "text": [
      "/home/hannahcraddock/anaconda3/envs/hannah_env/lib/python3.9/site-packages/nilearn/signal.py:68: DeprecationWarning: `np.float` is a deprecated alias for the builtin `float`. To silence this warning, use `float` by itself. Doing this will not modify any behavior and is safe. If you specifically wanted the numpy scalar type, use `np.float64` here.\n",
      "Deprecated in NumPy 1.20; for more details and guidance: https://numpy.org/devdocs/release/1.20.0-notes.html#deprecations\n",
      "  std[std < np.finfo(np.float).eps] = 1.  # avoid numerical problems\n",
      "/home/hannahcraddock/anaconda3/envs/hannah_env/lib/python3.9/site-packages/nilearn/signal.py:68: DeprecationWarning: `np.float` is a deprecated alias for the builtin `float`. To silence this warning, use `float` by itself. Doing this will not modify any behavior and is safe. If you specifically wanted the numpy scalar type, use `np.float64` here.\n",
      "Deprecated in NumPy 1.20; for more details and guidance: https://numpy.org/devdocs/release/1.20.0-notes.html#deprecations\n",
      "  std[std < np.finfo(np.float).eps] = 1.  # avoid numerical problems\n",
      "/home/hannahcraddock/anaconda3/envs/hannah_env/lib/python3.9/site-packages/nilearn/signal.py:68: DeprecationWarning: `np.float` is a deprecated alias for the builtin `float`. To silence this warning, use `float` by itself. Doing this will not modify any behavior and is safe. If you specifically wanted the numpy scalar type, use `np.float64` here.\n",
      "Deprecated in NumPy 1.20; for more details and guidance: https://numpy.org/devdocs/release/1.20.0-notes.html#deprecations\n",
      "  std[std < np.finfo(np.float).eps] = 1.  # avoid numerical problems\n",
      "/home/hannahcraddock/anaconda3/envs/hannah_env/lib/python3.9/site-packages/nilearn/signal.py:68: DeprecationWarning: `np.float` is a deprecated alias for the builtin `float`. To silence this warning, use `float` by itself. Doing this will not modify any behavior and is safe. If you specifically wanted the numpy scalar type, use `np.float64` here.\n",
      "Deprecated in NumPy 1.20; for more details and guidance: https://numpy.org/devdocs/release/1.20.0-notes.html#deprecations\n",
      "  std[std < np.finfo(np.float).eps] = 1.  # avoid numerical problems\n",
      "/home/hannahcraddock/anaconda3/envs/hannah_env/lib/python3.9/site-packages/nilearn/signal.py:68: DeprecationWarning: `np.float` is a deprecated alias for the builtin `float`. To silence this warning, use `float` by itself. Doing this will not modify any behavior and is safe. If you specifically wanted the numpy scalar type, use `np.float64` here.\n",
      "Deprecated in NumPy 1.20; for more details and guidance: https://numpy.org/devdocs/release/1.20.0-notes.html#deprecations\n",
      "  std[std < np.finfo(np.float).eps] = 1.  # avoid numerical problems\n",
      "/home/hannahcraddock/anaconda3/envs/hannah_env/lib/python3.9/site-packages/nilearn/signal.py:68: DeprecationWarning: `np.float` is a deprecated alias for the builtin `float`. To silence this warning, use `float` by itself. Doing this will not modify any behavior and is safe. If you specifically wanted the numpy scalar type, use `np.float64` here.\n",
      "Deprecated in NumPy 1.20; for more details and guidance: https://numpy.org/devdocs/release/1.20.0-notes.html#deprecations\n",
      "  std[std < np.finfo(np.float).eps] = 1.  # avoid numerical problems\n",
      "/home/hannahcraddock/anaconda3/envs/hannah_env/lib/python3.9/site-packages/nilearn/signal.py:68: DeprecationWarning: `np.float` is a deprecated alias for the builtin `float`. To silence this warning, use `float` by itself. Doing this will not modify any behavior and is safe. If you specifically wanted the numpy scalar type, use `np.float64` here.\n",
      "Deprecated in NumPy 1.20; for more details and guidance: https://numpy.org/devdocs/release/1.20.0-notes.html#deprecations\n",
      "  std[std < np.finfo(np.float).eps] = 1.  # avoid numerical problems\n",
      "/home/hannahcraddock/anaconda3/envs/hannah_env/lib/python3.9/site-packages/nilearn/signal.py:68: DeprecationWarning: `np.float` is a deprecated alias for the builtin `float`. To silence this warning, use `float` by itself. Doing this will not modify any behavior and is safe. If you specifically wanted the numpy scalar type, use `np.float64` here.\n",
      "Deprecated in NumPy 1.20; for more details and guidance: https://numpy.org/devdocs/release/1.20.0-notes.html#deprecations\n",
      "  std[std < np.finfo(np.float).eps] = 1.  # avoid numerical problems\n",
      "/home/hannahcraddock/anaconda3/envs/hannah_env/lib/python3.9/site-packages/nilearn/signal.py:68: DeprecationWarning: `np.float` is a deprecated alias for the builtin `float`. To silence this warning, use `float` by itself. Doing this will not modify any behavior and is safe. If you specifically wanted the numpy scalar type, use `np.float64` here.\n",
      "Deprecated in NumPy 1.20; for more details and guidance: https://numpy.org/devdocs/release/1.20.0-notes.html#deprecations\n",
      "  std[std < np.finfo(np.float).eps] = 1.  # avoid numerical problems\n",
      "/home/hannahcraddock/anaconda3/envs/hannah_env/lib/python3.9/site-packages/nilearn/signal.py:68: DeprecationWarning: `np.float` is a deprecated alias for the builtin `float`. To silence this warning, use `float` by itself. Doing this will not modify any behavior and is safe. If you specifically wanted the numpy scalar type, use `np.float64` here.\n",
      "Deprecated in NumPy 1.20; for more details and guidance: https://numpy.org/devdocs/release/1.20.0-notes.html#deprecations\n",
      "  std[std < np.finfo(np.float).eps] = 1.  # avoid numerical problems\n",
      "/home/hannahcraddock/anaconda3/envs/hannah_env/lib/python3.9/site-packages/nilearn/signal.py:68: DeprecationWarning: `np.float` is a deprecated alias for the builtin `float`. To silence this warning, use `float` by itself. Doing this will not modify any behavior and is safe. If you specifically wanted the numpy scalar type, use `np.float64` here.\n",
      "Deprecated in NumPy 1.20; for more details and guidance: https://numpy.org/devdocs/release/1.20.0-notes.html#deprecations\n",
      "  std[std < np.finfo(np.float).eps] = 1.  # avoid numerical problems\n",
      "/home/hannahcraddock/anaconda3/envs/hannah_env/lib/python3.9/site-packages/nilearn/signal.py:68: DeprecationWarning: `np.float` is a deprecated alias for the builtin `float`. To silence this warning, use `float` by itself. Doing this will not modify any behavior and is safe. If you specifically wanted the numpy scalar type, use `np.float64` here.\n",
      "Deprecated in NumPy 1.20; for more details and guidance: https://numpy.org/devdocs/release/1.20.0-notes.html#deprecations\n",
      "  std[std < np.finfo(np.float).eps] = 1.  # avoid numerical problems\n",
      "/home/hannahcraddock/anaconda3/envs/hannah_env/lib/python3.9/site-packages/nilearn/signal.py:68: DeprecationWarning: `np.float` is a deprecated alias for the builtin `float`. To silence this warning, use `float` by itself. Doing this will not modify any behavior and is safe. If you specifically wanted the numpy scalar type, use `np.float64` here.\n",
      "Deprecated in NumPy 1.20; for more details and guidance: https://numpy.org/devdocs/release/1.20.0-notes.html#deprecations\n",
      "  std[std < np.finfo(np.float).eps] = 1.  # avoid numerical problems\n",
      "/home/hannahcraddock/anaconda3/envs/hannah_env/lib/python3.9/site-packages/nilearn/signal.py:68: DeprecationWarning: `np.float` is a deprecated alias for the builtin `float`. To silence this warning, use `float` by itself. Doing this will not modify any behavior and is safe. If you specifically wanted the numpy scalar type, use `np.float64` here.\n",
      "Deprecated in NumPy 1.20; for more details and guidance: https://numpy.org/devdocs/release/1.20.0-notes.html#deprecations\n",
      "  std[std < np.finfo(np.float).eps] = 1.  # avoid numerical problems\n",
      "/home/hannahcraddock/anaconda3/envs/hannah_env/lib/python3.9/site-packages/nilearn/signal.py:68: DeprecationWarning: `np.float` is a deprecated alias for the builtin `float`. To silence this warning, use `float` by itself. Doing this will not modify any behavior and is safe. If you specifically wanted the numpy scalar type, use `np.float64` here.\n",
      "Deprecated in NumPy 1.20; for more details and guidance: https://numpy.org/devdocs/release/1.20.0-notes.html#deprecations\n",
      "  std[std < np.finfo(np.float).eps] = 1.  # avoid numerical problems\n",
      "/home/hannahcraddock/anaconda3/envs/hannah_env/lib/python3.9/site-packages/nilearn/signal.py:68: DeprecationWarning: `np.float` is a deprecated alias for the builtin `float`. To silence this warning, use `float` by itself. Doing this will not modify any behavior and is safe. If you specifically wanted the numpy scalar type, use `np.float64` here.\n",
      "Deprecated in NumPy 1.20; for more details and guidance: https://numpy.org/devdocs/release/1.20.0-notes.html#deprecations\n",
      "  std[std < np.finfo(np.float).eps] = 1.  # avoid numerical problems\n"
     ]
    },
    {
     "name": "stderr",
     "output_type": "stream",
     "text": [
      "/home/hannahcraddock/anaconda3/envs/hannah_env/lib/python3.9/site-packages/nilearn/signal.py:68: DeprecationWarning: `np.float` is a deprecated alias for the builtin `float`. To silence this warning, use `float` by itself. Doing this will not modify any behavior and is safe. If you specifically wanted the numpy scalar type, use `np.float64` here.\n",
      "Deprecated in NumPy 1.20; for more details and guidance: https://numpy.org/devdocs/release/1.20.0-notes.html#deprecations\n",
      "  std[std < np.finfo(np.float).eps] = 1.  # avoid numerical problems\n",
      "/home/hannahcraddock/anaconda3/envs/hannah_env/lib/python3.9/site-packages/nilearn/signal.py:68: DeprecationWarning: `np.float` is a deprecated alias for the builtin `float`. To silence this warning, use `float` by itself. Doing this will not modify any behavior and is safe. If you specifically wanted the numpy scalar type, use `np.float64` here.\n",
      "Deprecated in NumPy 1.20; for more details and guidance: https://numpy.org/devdocs/release/1.20.0-notes.html#deprecations\n",
      "  std[std < np.finfo(np.float).eps] = 1.  # avoid numerical problems\n",
      "/home/hannahcraddock/anaconda3/envs/hannah_env/lib/python3.9/site-packages/nilearn/signal.py:68: DeprecationWarning: `np.float` is a deprecated alias for the builtin `float`. To silence this warning, use `float` by itself. Doing this will not modify any behavior and is safe. If you specifically wanted the numpy scalar type, use `np.float64` here.\n",
      "Deprecated in NumPy 1.20; for more details and guidance: https://numpy.org/devdocs/release/1.20.0-notes.html#deprecations\n",
      "  std[std < np.finfo(np.float).eps] = 1.  # avoid numerical problems\n",
      "/home/hannahcraddock/anaconda3/envs/hannah_env/lib/python3.9/site-packages/nilearn/signal.py:68: DeprecationWarning: `np.float` is a deprecated alias for the builtin `float`. To silence this warning, use `float` by itself. Doing this will not modify any behavior and is safe. If you specifically wanted the numpy scalar type, use `np.float64` here.\n",
      "Deprecated in NumPy 1.20; for more details and guidance: https://numpy.org/devdocs/release/1.20.0-notes.html#deprecations\n",
      "  std[std < np.finfo(np.float).eps] = 1.  # avoid numerical problems\n",
      "/home/hannahcraddock/anaconda3/envs/hannah_env/lib/python3.9/site-packages/nilearn/signal.py:68: DeprecationWarning: `np.float` is a deprecated alias for the builtin `float`. To silence this warning, use `float` by itself. Doing this will not modify any behavior and is safe. If you specifically wanted the numpy scalar type, use `np.float64` here.\n",
      "Deprecated in NumPy 1.20; for more details and guidance: https://numpy.org/devdocs/release/1.20.0-notes.html#deprecations\n",
      "  std[std < np.finfo(np.float).eps] = 1.  # avoid numerical problems\n",
      "/home/hannahcraddock/anaconda3/envs/hannah_env/lib/python3.9/site-packages/nilearn/signal.py:68: DeprecationWarning: `np.float` is a deprecated alias for the builtin `float`. To silence this warning, use `float` by itself. Doing this will not modify any behavior and is safe. If you specifically wanted the numpy scalar type, use `np.float64` here.\n",
      "Deprecated in NumPy 1.20; for more details and guidance: https://numpy.org/devdocs/release/1.20.0-notes.html#deprecations\n",
      "  std[std < np.finfo(np.float).eps] = 1.  # avoid numerical problems\n",
      "/home/hannahcraddock/anaconda3/envs/hannah_env/lib/python3.9/site-packages/nilearn/signal.py:68: DeprecationWarning: `np.float` is a deprecated alias for the builtin `float`. To silence this warning, use `float` by itself. Doing this will not modify any behavior and is safe. If you specifically wanted the numpy scalar type, use `np.float64` here.\n",
      "Deprecated in NumPy 1.20; for more details and guidance: https://numpy.org/devdocs/release/1.20.0-notes.html#deprecations\n",
      "  std[std < np.finfo(np.float).eps] = 1.  # avoid numerical problems\n",
      "/home/hannahcraddock/anaconda3/envs/hannah_env/lib/python3.9/site-packages/nilearn/signal.py:68: DeprecationWarning: `np.float` is a deprecated alias for the builtin `float`. To silence this warning, use `float` by itself. Doing this will not modify any behavior and is safe. If you specifically wanted the numpy scalar type, use `np.float64` here.\n",
      "Deprecated in NumPy 1.20; for more details and guidance: https://numpy.org/devdocs/release/1.20.0-notes.html#deprecations\n",
      "  std[std < np.finfo(np.float).eps] = 1.  # avoid numerical problems\n",
      "/home/hannahcraddock/anaconda3/envs/hannah_env/lib/python3.9/site-packages/nilearn/signal.py:68: DeprecationWarning: `np.float` is a deprecated alias for the builtin `float`. To silence this warning, use `float` by itself. Doing this will not modify any behavior and is safe. If you specifically wanted the numpy scalar type, use `np.float64` here.\n",
      "Deprecated in NumPy 1.20; for more details and guidance: https://numpy.org/devdocs/release/1.20.0-notes.html#deprecations\n",
      "  std[std < np.finfo(np.float).eps] = 1.  # avoid numerical problems\n",
      "/home/hannahcraddock/anaconda3/envs/hannah_env/lib/python3.9/site-packages/nilearn/signal.py:68: DeprecationWarning: `np.float` is a deprecated alias for the builtin `float`. To silence this warning, use `float` by itself. Doing this will not modify any behavior and is safe. If you specifically wanted the numpy scalar type, use `np.float64` here.\n",
      "Deprecated in NumPy 1.20; for more details and guidance: https://numpy.org/devdocs/release/1.20.0-notes.html#deprecations\n",
      "  std[std < np.finfo(np.float).eps] = 1.  # avoid numerical problems\n",
      "/home/hannahcraddock/anaconda3/envs/hannah_env/lib/python3.9/site-packages/nilearn/signal.py:68: DeprecationWarning: `np.float` is a deprecated alias for the builtin `float`. To silence this warning, use `float` by itself. Doing this will not modify any behavior and is safe. If you specifically wanted the numpy scalar type, use `np.float64` here.\n",
      "Deprecated in NumPy 1.20; for more details and guidance: https://numpy.org/devdocs/release/1.20.0-notes.html#deprecations\n",
      "  std[std < np.finfo(np.float).eps] = 1.  # avoid numerical problems\n",
      "/home/hannahcraddock/anaconda3/envs/hannah_env/lib/python3.9/site-packages/nilearn/signal.py:68: DeprecationWarning: `np.float` is a deprecated alias for the builtin `float`. To silence this warning, use `float` by itself. Doing this will not modify any behavior and is safe. If you specifically wanted the numpy scalar type, use `np.float64` here.\n",
      "Deprecated in NumPy 1.20; for more details and guidance: https://numpy.org/devdocs/release/1.20.0-notes.html#deprecations\n",
      "  std[std < np.finfo(np.float).eps] = 1.  # avoid numerical problems\n",
      "/home/hannahcraddock/anaconda3/envs/hannah_env/lib/python3.9/site-packages/nilearn/signal.py:68: DeprecationWarning: `np.float` is a deprecated alias for the builtin `float`. To silence this warning, use `float` by itself. Doing this will not modify any behavior and is safe. If you specifically wanted the numpy scalar type, use `np.float64` here.\n",
      "Deprecated in NumPy 1.20; for more details and guidance: https://numpy.org/devdocs/release/1.20.0-notes.html#deprecations\n",
      "  std[std < np.finfo(np.float).eps] = 1.  # avoid numerical problems\n",
      "/home/hannahcraddock/anaconda3/envs/hannah_env/lib/python3.9/site-packages/nilearn/signal.py:68: DeprecationWarning: `np.float` is a deprecated alias for the builtin `float`. To silence this warning, use `float` by itself. Doing this will not modify any behavior and is safe. If you specifically wanted the numpy scalar type, use `np.float64` here.\n",
      "Deprecated in NumPy 1.20; for more details and guidance: https://numpy.org/devdocs/release/1.20.0-notes.html#deprecations\n",
      "  std[std < np.finfo(np.float).eps] = 1.  # avoid numerical problems\n",
      "/home/hannahcraddock/anaconda3/envs/hannah_env/lib/python3.9/site-packages/nilearn/signal.py:68: DeprecationWarning: `np.float` is a deprecated alias for the builtin `float`. To silence this warning, use `float` by itself. Doing this will not modify any behavior and is safe. If you specifically wanted the numpy scalar type, use `np.float64` here.\n",
      "Deprecated in NumPy 1.20; for more details and guidance: https://numpy.org/devdocs/release/1.20.0-notes.html#deprecations\n",
      "  std[std < np.finfo(np.float).eps] = 1.  # avoid numerical problems\n",
      "/home/hannahcraddock/anaconda3/envs/hannah_env/lib/python3.9/site-packages/nilearn/signal.py:68: DeprecationWarning: `np.float` is a deprecated alias for the builtin `float`. To silence this warning, use `float` by itself. Doing this will not modify any behavior and is safe. If you specifically wanted the numpy scalar type, use `np.float64` here.\n",
      "Deprecated in NumPy 1.20; for more details and guidance: https://numpy.org/devdocs/release/1.20.0-notes.html#deprecations\n",
      "  std[std < np.finfo(np.float).eps] = 1.  # avoid numerical problems\n"
     ]
    },
    {
     "name": "stderr",
     "output_type": "stream",
     "text": [
      "/home/hannahcraddock/anaconda3/envs/hannah_env/lib/python3.9/site-packages/nilearn/signal.py:68: DeprecationWarning: `np.float` is a deprecated alias for the builtin `float`. To silence this warning, use `float` by itself. Doing this will not modify any behavior and is safe. If you specifically wanted the numpy scalar type, use `np.float64` here.\n",
      "Deprecated in NumPy 1.20; for more details and guidance: https://numpy.org/devdocs/release/1.20.0-notes.html#deprecations\n",
      "  std[std < np.finfo(np.float).eps] = 1.  # avoid numerical problems\n",
      "/home/hannahcraddock/anaconda3/envs/hannah_env/lib/python3.9/site-packages/nilearn/signal.py:68: DeprecationWarning: `np.float` is a deprecated alias for the builtin `float`. To silence this warning, use `float` by itself. Doing this will not modify any behavior and is safe. If you specifically wanted the numpy scalar type, use `np.float64` here.\n",
      "Deprecated in NumPy 1.20; for more details and guidance: https://numpy.org/devdocs/release/1.20.0-notes.html#deprecations\n",
      "  std[std < np.finfo(np.float).eps] = 1.  # avoid numerical problems\n",
      "/home/hannahcraddock/anaconda3/envs/hannah_env/lib/python3.9/site-packages/nilearn/signal.py:68: DeprecationWarning: `np.float` is a deprecated alias for the builtin `float`. To silence this warning, use `float` by itself. Doing this will not modify any behavior and is safe. If you specifically wanted the numpy scalar type, use `np.float64` here.\n",
      "Deprecated in NumPy 1.20; for more details and guidance: https://numpy.org/devdocs/release/1.20.0-notes.html#deprecations\n",
      "  std[std < np.finfo(np.float).eps] = 1.  # avoid numerical problems\n",
      "/home/hannahcraddock/anaconda3/envs/hannah_env/lib/python3.9/site-packages/nilearn/signal.py:68: DeprecationWarning: `np.float` is a deprecated alias for the builtin `float`. To silence this warning, use `float` by itself. Doing this will not modify any behavior and is safe. If you specifically wanted the numpy scalar type, use `np.float64` here.\n",
      "Deprecated in NumPy 1.20; for more details and guidance: https://numpy.org/devdocs/release/1.20.0-notes.html#deprecations\n",
      "  std[std < np.finfo(np.float).eps] = 1.  # avoid numerical problems\n",
      "/home/hannahcraddock/anaconda3/envs/hannah_env/lib/python3.9/site-packages/nilearn/signal.py:68: DeprecationWarning: `np.float` is a deprecated alias for the builtin `float`. To silence this warning, use `float` by itself. Doing this will not modify any behavior and is safe. If you specifically wanted the numpy scalar type, use `np.float64` here.\n",
      "Deprecated in NumPy 1.20; for more details and guidance: https://numpy.org/devdocs/release/1.20.0-notes.html#deprecations\n",
      "  std[std < np.finfo(np.float).eps] = 1.  # avoid numerical problems\n",
      "/home/hannahcraddock/anaconda3/envs/hannah_env/lib/python3.9/site-packages/nilearn/signal.py:68: DeprecationWarning: `np.float` is a deprecated alias for the builtin `float`. To silence this warning, use `float` by itself. Doing this will not modify any behavior and is safe. If you specifically wanted the numpy scalar type, use `np.float64` here.\n",
      "Deprecated in NumPy 1.20; for more details and guidance: https://numpy.org/devdocs/release/1.20.0-notes.html#deprecations\n",
      "  std[std < np.finfo(np.float).eps] = 1.  # avoid numerical problems\n",
      "/home/hannahcraddock/anaconda3/envs/hannah_env/lib/python3.9/site-packages/nilearn/signal.py:68: DeprecationWarning: `np.float` is a deprecated alias for the builtin `float`. To silence this warning, use `float` by itself. Doing this will not modify any behavior and is safe. If you specifically wanted the numpy scalar type, use `np.float64` here.\n",
      "Deprecated in NumPy 1.20; for more details and guidance: https://numpy.org/devdocs/release/1.20.0-notes.html#deprecations\n",
      "  std[std < np.finfo(np.float).eps] = 1.  # avoid numerical problems\n",
      "/home/hannahcraddock/anaconda3/envs/hannah_env/lib/python3.9/site-packages/nilearn/signal.py:68: DeprecationWarning: `np.float` is a deprecated alias for the builtin `float`. To silence this warning, use `float` by itself. Doing this will not modify any behavior and is safe. If you specifically wanted the numpy scalar type, use `np.float64` here.\n",
      "Deprecated in NumPy 1.20; for more details and guidance: https://numpy.org/devdocs/release/1.20.0-notes.html#deprecations\n",
      "  std[std < np.finfo(np.float).eps] = 1.  # avoid numerical problems\n",
      "/home/hannahcraddock/anaconda3/envs/hannah_env/lib/python3.9/site-packages/nilearn/signal.py:68: DeprecationWarning: `np.float` is a deprecated alias for the builtin `float`. To silence this warning, use `float` by itself. Doing this will not modify any behavior and is safe. If you specifically wanted the numpy scalar type, use `np.float64` here.\n",
      "Deprecated in NumPy 1.20; for more details and guidance: https://numpy.org/devdocs/release/1.20.0-notes.html#deprecations\n",
      "  std[std < np.finfo(np.float).eps] = 1.  # avoid numerical problems\n",
      "/home/hannahcraddock/anaconda3/envs/hannah_env/lib/python3.9/site-packages/nilearn/signal.py:68: DeprecationWarning: `np.float` is a deprecated alias for the builtin `float`. To silence this warning, use `float` by itself. Doing this will not modify any behavior and is safe. If you specifically wanted the numpy scalar type, use `np.float64` here.\n",
      "Deprecated in NumPy 1.20; for more details and guidance: https://numpy.org/devdocs/release/1.20.0-notes.html#deprecations\n",
      "  std[std < np.finfo(np.float).eps] = 1.  # avoid numerical problems\n",
      "/home/hannahcraddock/anaconda3/envs/hannah_env/lib/python3.9/site-packages/nilearn/signal.py:68: DeprecationWarning: `np.float` is a deprecated alias for the builtin `float`. To silence this warning, use `float` by itself. Doing this will not modify any behavior and is safe. If you specifically wanted the numpy scalar type, use `np.float64` here.\n",
      "Deprecated in NumPy 1.20; for more details and guidance: https://numpy.org/devdocs/release/1.20.0-notes.html#deprecations\n",
      "  std[std < np.finfo(np.float).eps] = 1.  # avoid numerical problems\n",
      "/home/hannahcraddock/anaconda3/envs/hannah_env/lib/python3.9/site-packages/nilearn/signal.py:68: DeprecationWarning: `np.float` is a deprecated alias for the builtin `float`. To silence this warning, use `float` by itself. Doing this will not modify any behavior and is safe. If you specifically wanted the numpy scalar type, use `np.float64` here.\n",
      "Deprecated in NumPy 1.20; for more details and guidance: https://numpy.org/devdocs/release/1.20.0-notes.html#deprecations\n",
      "  std[std < np.finfo(np.float).eps] = 1.  # avoid numerical problems\n",
      "/home/hannahcraddock/anaconda3/envs/hannah_env/lib/python3.9/site-packages/nilearn/signal.py:68: DeprecationWarning: `np.float` is a deprecated alias for the builtin `float`. To silence this warning, use `float` by itself. Doing this will not modify any behavior and is safe. If you specifically wanted the numpy scalar type, use `np.float64` here.\n",
      "Deprecated in NumPy 1.20; for more details and guidance: https://numpy.org/devdocs/release/1.20.0-notes.html#deprecations\n",
      "  std[std < np.finfo(np.float).eps] = 1.  # avoid numerical problems\n",
      "/home/hannahcraddock/anaconda3/envs/hannah_env/lib/python3.9/site-packages/nilearn/signal.py:68: DeprecationWarning: `np.float` is a deprecated alias for the builtin `float`. To silence this warning, use `float` by itself. Doing this will not modify any behavior and is safe. If you specifically wanted the numpy scalar type, use `np.float64` here.\n",
      "Deprecated in NumPy 1.20; for more details and guidance: https://numpy.org/devdocs/release/1.20.0-notes.html#deprecations\n",
      "  std[std < np.finfo(np.float).eps] = 1.  # avoid numerical problems\n",
      "/home/hannahcraddock/anaconda3/envs/hannah_env/lib/python3.9/site-packages/nilearn/signal.py:68: DeprecationWarning: `np.float` is a deprecated alias for the builtin `float`. To silence this warning, use `float` by itself. Doing this will not modify any behavior and is safe. If you specifically wanted the numpy scalar type, use `np.float64` here.\n",
      "Deprecated in NumPy 1.20; for more details and guidance: https://numpy.org/devdocs/release/1.20.0-notes.html#deprecations\n",
      "  std[std < np.finfo(np.float).eps] = 1.  # avoid numerical problems\n",
      "/home/hannahcraddock/anaconda3/envs/hannah_env/lib/python3.9/site-packages/nilearn/signal.py:68: DeprecationWarning: `np.float` is a deprecated alias for the builtin `float`. To silence this warning, use `float` by itself. Doing this will not modify any behavior and is safe. If you specifically wanted the numpy scalar type, use `np.float64` here.\n",
      "Deprecated in NumPy 1.20; for more details and guidance: https://numpy.org/devdocs/release/1.20.0-notes.html#deprecations\n",
      "  std[std < np.finfo(np.float).eps] = 1.  # avoid numerical problems\n"
     ]
    },
    {
     "name": "stderr",
     "output_type": "stream",
     "text": [
      "/home/hannahcraddock/anaconda3/envs/hannah_env/lib/python3.9/site-packages/nilearn/signal.py:68: DeprecationWarning: `np.float` is a deprecated alias for the builtin `float`. To silence this warning, use `float` by itself. Doing this will not modify any behavior and is safe. If you specifically wanted the numpy scalar type, use `np.float64` here.\n",
      "Deprecated in NumPy 1.20; for more details and guidance: https://numpy.org/devdocs/release/1.20.0-notes.html#deprecations\n",
      "  std[std < np.finfo(np.float).eps] = 1.  # avoid numerical problems\n",
      "/home/hannahcraddock/anaconda3/envs/hannah_env/lib/python3.9/site-packages/nilearn/signal.py:68: DeprecationWarning: `np.float` is a deprecated alias for the builtin `float`. To silence this warning, use `float` by itself. Doing this will not modify any behavior and is safe. If you specifically wanted the numpy scalar type, use `np.float64` here.\n",
      "Deprecated in NumPy 1.20; for more details and guidance: https://numpy.org/devdocs/release/1.20.0-notes.html#deprecations\n",
      "  std[std < np.finfo(np.float).eps] = 1.  # avoid numerical problems\n",
      "/home/hannahcraddock/anaconda3/envs/hannah_env/lib/python3.9/site-packages/nilearn/signal.py:68: DeprecationWarning: `np.float` is a deprecated alias for the builtin `float`. To silence this warning, use `float` by itself. Doing this will not modify any behavior and is safe. If you specifically wanted the numpy scalar type, use `np.float64` here.\n",
      "Deprecated in NumPy 1.20; for more details and guidance: https://numpy.org/devdocs/release/1.20.0-notes.html#deprecations\n",
      "  std[std < np.finfo(np.float).eps] = 1.  # avoid numerical problems\n",
      "/home/hannahcraddock/anaconda3/envs/hannah_env/lib/python3.9/site-packages/nilearn/signal.py:68: DeprecationWarning: `np.float` is a deprecated alias for the builtin `float`. To silence this warning, use `float` by itself. Doing this will not modify any behavior and is safe. If you specifically wanted the numpy scalar type, use `np.float64` here.\n",
      "Deprecated in NumPy 1.20; for more details and guidance: https://numpy.org/devdocs/release/1.20.0-notes.html#deprecations\n",
      "  std[std < np.finfo(np.float).eps] = 1.  # avoid numerical problems\n",
      "/home/hannahcraddock/anaconda3/envs/hannah_env/lib/python3.9/site-packages/nilearn/signal.py:68: DeprecationWarning: `np.float` is a deprecated alias for the builtin `float`. To silence this warning, use `float` by itself. Doing this will not modify any behavior and is safe. If you specifically wanted the numpy scalar type, use `np.float64` here.\n",
      "Deprecated in NumPy 1.20; for more details and guidance: https://numpy.org/devdocs/release/1.20.0-notes.html#deprecations\n",
      "  std[std < np.finfo(np.float).eps] = 1.  # avoid numerical problems\n",
      "/home/hannahcraddock/anaconda3/envs/hannah_env/lib/python3.9/site-packages/nilearn/signal.py:68: DeprecationWarning: `np.float` is a deprecated alias for the builtin `float`. To silence this warning, use `float` by itself. Doing this will not modify any behavior and is safe. If you specifically wanted the numpy scalar type, use `np.float64` here.\n",
      "Deprecated in NumPy 1.20; for more details and guidance: https://numpy.org/devdocs/release/1.20.0-notes.html#deprecations\n",
      "  std[std < np.finfo(np.float).eps] = 1.  # avoid numerical problems\n",
      "/home/hannahcraddock/anaconda3/envs/hannah_env/lib/python3.9/site-packages/nilearn/signal.py:68: DeprecationWarning: `np.float` is a deprecated alias for the builtin `float`. To silence this warning, use `float` by itself. Doing this will not modify any behavior and is safe. If you specifically wanted the numpy scalar type, use `np.float64` here.\n",
      "Deprecated in NumPy 1.20; for more details and guidance: https://numpy.org/devdocs/release/1.20.0-notes.html#deprecations\n",
      "  std[std < np.finfo(np.float).eps] = 1.  # avoid numerical problems\n",
      "/home/hannahcraddock/anaconda3/envs/hannah_env/lib/python3.9/site-packages/nilearn/signal.py:68: DeprecationWarning: `np.float` is a deprecated alias for the builtin `float`. To silence this warning, use `float` by itself. Doing this will not modify any behavior and is safe. If you specifically wanted the numpy scalar type, use `np.float64` here.\n",
      "Deprecated in NumPy 1.20; for more details and guidance: https://numpy.org/devdocs/release/1.20.0-notes.html#deprecations\n",
      "  std[std < np.finfo(np.float).eps] = 1.  # avoid numerical problems\n",
      "/home/hannahcraddock/anaconda3/envs/hannah_env/lib/python3.9/site-packages/nilearn/signal.py:68: DeprecationWarning: `np.float` is a deprecated alias for the builtin `float`. To silence this warning, use `float` by itself. Doing this will not modify any behavior and is safe. If you specifically wanted the numpy scalar type, use `np.float64` here.\n",
      "Deprecated in NumPy 1.20; for more details and guidance: https://numpy.org/devdocs/release/1.20.0-notes.html#deprecations\n",
      "  std[std < np.finfo(np.float).eps] = 1.  # avoid numerical problems\n",
      "/home/hannahcraddock/anaconda3/envs/hannah_env/lib/python3.9/site-packages/nilearn/signal.py:68: DeprecationWarning: `np.float` is a deprecated alias for the builtin `float`. To silence this warning, use `float` by itself. Doing this will not modify any behavior and is safe. If you specifically wanted the numpy scalar type, use `np.float64` here.\n",
      "Deprecated in NumPy 1.20; for more details and guidance: https://numpy.org/devdocs/release/1.20.0-notes.html#deprecations\n",
      "  std[std < np.finfo(np.float).eps] = 1.  # avoid numerical problems\n",
      "/home/hannahcraddock/anaconda3/envs/hannah_env/lib/python3.9/site-packages/nilearn/signal.py:68: DeprecationWarning: `np.float` is a deprecated alias for the builtin `float`. To silence this warning, use `float` by itself. Doing this will not modify any behavior and is safe. If you specifically wanted the numpy scalar type, use `np.float64` here.\n",
      "Deprecated in NumPy 1.20; for more details and guidance: https://numpy.org/devdocs/release/1.20.0-notes.html#deprecations\n",
      "  std[std < np.finfo(np.float).eps] = 1.  # avoid numerical problems\n",
      "/home/hannahcraddock/anaconda3/envs/hannah_env/lib/python3.9/site-packages/nilearn/signal.py:68: DeprecationWarning: `np.float` is a deprecated alias for the builtin `float`. To silence this warning, use `float` by itself. Doing this will not modify any behavior and is safe. If you specifically wanted the numpy scalar type, use `np.float64` here.\n",
      "Deprecated in NumPy 1.20; for more details and guidance: https://numpy.org/devdocs/release/1.20.0-notes.html#deprecations\n",
      "  std[std < np.finfo(np.float).eps] = 1.  # avoid numerical problems\n",
      "/home/hannahcraddock/anaconda3/envs/hannah_env/lib/python3.9/site-packages/nilearn/signal.py:68: DeprecationWarning: `np.float` is a deprecated alias for the builtin `float`. To silence this warning, use `float` by itself. Doing this will not modify any behavior and is safe. If you specifically wanted the numpy scalar type, use `np.float64` here.\n",
      "Deprecated in NumPy 1.20; for more details and guidance: https://numpy.org/devdocs/release/1.20.0-notes.html#deprecations\n",
      "  std[std < np.finfo(np.float).eps] = 1.  # avoid numerical problems\n",
      "/home/hannahcraddock/anaconda3/envs/hannah_env/lib/python3.9/site-packages/nilearn/signal.py:68: DeprecationWarning: `np.float` is a deprecated alias for the builtin `float`. To silence this warning, use `float` by itself. Doing this will not modify any behavior and is safe. If you specifically wanted the numpy scalar type, use `np.float64` here.\n",
      "Deprecated in NumPy 1.20; for more details and guidance: https://numpy.org/devdocs/release/1.20.0-notes.html#deprecations\n",
      "  std[std < np.finfo(np.float).eps] = 1.  # avoid numerical problems\n",
      "/home/hannahcraddock/anaconda3/envs/hannah_env/lib/python3.9/site-packages/nilearn/signal.py:68: DeprecationWarning: `np.float` is a deprecated alias for the builtin `float`. To silence this warning, use `float` by itself. Doing this will not modify any behavior and is safe. If you specifically wanted the numpy scalar type, use `np.float64` here.\n",
      "Deprecated in NumPy 1.20; for more details and guidance: https://numpy.org/devdocs/release/1.20.0-notes.html#deprecations\n",
      "  std[std < np.finfo(np.float).eps] = 1.  # avoid numerical problems\n",
      "/home/hannahcraddock/anaconda3/envs/hannah_env/lib/python3.9/site-packages/nilearn/signal.py:68: DeprecationWarning: `np.float` is a deprecated alias for the builtin `float`. To silence this warning, use `float` by itself. Doing this will not modify any behavior and is safe. If you specifically wanted the numpy scalar type, use `np.float64` here.\n",
      "Deprecated in NumPy 1.20; for more details and guidance: https://numpy.org/devdocs/release/1.20.0-notes.html#deprecations\n",
      "  std[std < np.finfo(np.float).eps] = 1.  # avoid numerical problems\n"
     ]
    },
    {
     "name": "stderr",
     "output_type": "stream",
     "text": [
      "/home/hannahcraddock/anaconda3/envs/hannah_env/lib/python3.9/site-packages/nilearn/signal.py:68: DeprecationWarning: `np.float` is a deprecated alias for the builtin `float`. To silence this warning, use `float` by itself. Doing this will not modify any behavior and is safe. If you specifically wanted the numpy scalar type, use `np.float64` here.\n",
      "Deprecated in NumPy 1.20; for more details and guidance: https://numpy.org/devdocs/release/1.20.0-notes.html#deprecations\n",
      "  std[std < np.finfo(np.float).eps] = 1.  # avoid numerical problems\n",
      "/home/hannahcraddock/anaconda3/envs/hannah_env/lib/python3.9/site-packages/nilearn/signal.py:68: DeprecationWarning: `np.float` is a deprecated alias for the builtin `float`. To silence this warning, use `float` by itself. Doing this will not modify any behavior and is safe. If you specifically wanted the numpy scalar type, use `np.float64` here.\n",
      "Deprecated in NumPy 1.20; for more details and guidance: https://numpy.org/devdocs/release/1.20.0-notes.html#deprecations\n",
      "  std[std < np.finfo(np.float).eps] = 1.  # avoid numerical problems\n",
      "/home/hannahcraddock/anaconda3/envs/hannah_env/lib/python3.9/site-packages/nilearn/signal.py:68: DeprecationWarning: `np.float` is a deprecated alias for the builtin `float`. To silence this warning, use `float` by itself. Doing this will not modify any behavior and is safe. If you specifically wanted the numpy scalar type, use `np.float64` here.\n",
      "Deprecated in NumPy 1.20; for more details and guidance: https://numpy.org/devdocs/release/1.20.0-notes.html#deprecations\n",
      "  std[std < np.finfo(np.float).eps] = 1.  # avoid numerical problems\n",
      "/home/hannahcraddock/anaconda3/envs/hannah_env/lib/python3.9/site-packages/nilearn/signal.py:68: DeprecationWarning: `np.float` is a deprecated alias for the builtin `float`. To silence this warning, use `float` by itself. Doing this will not modify any behavior and is safe. If you specifically wanted the numpy scalar type, use `np.float64` here.\n",
      "Deprecated in NumPy 1.20; for more details and guidance: https://numpy.org/devdocs/release/1.20.0-notes.html#deprecations\n",
      "  std[std < np.finfo(np.float).eps] = 1.  # avoid numerical problems\n",
      "/home/hannahcraddock/anaconda3/envs/hannah_env/lib/python3.9/site-packages/nilearn/signal.py:68: DeprecationWarning: `np.float` is a deprecated alias for the builtin `float`. To silence this warning, use `float` by itself. Doing this will not modify any behavior and is safe. If you specifically wanted the numpy scalar type, use `np.float64` here.\n",
      "Deprecated in NumPy 1.20; for more details and guidance: https://numpy.org/devdocs/release/1.20.0-notes.html#deprecations\n",
      "  std[std < np.finfo(np.float).eps] = 1.  # avoid numerical problems\n",
      "/home/hannahcraddock/anaconda3/envs/hannah_env/lib/python3.9/site-packages/nilearn/signal.py:68: DeprecationWarning: `np.float` is a deprecated alias for the builtin `float`. To silence this warning, use `float` by itself. Doing this will not modify any behavior and is safe. If you specifically wanted the numpy scalar type, use `np.float64` here.\n",
      "Deprecated in NumPy 1.20; for more details and guidance: https://numpy.org/devdocs/release/1.20.0-notes.html#deprecations\n",
      "  std[std < np.finfo(np.float).eps] = 1.  # avoid numerical problems\n",
      "/home/hannahcraddock/anaconda3/envs/hannah_env/lib/python3.9/site-packages/nilearn/signal.py:68: DeprecationWarning: `np.float` is a deprecated alias for the builtin `float`. To silence this warning, use `float` by itself. Doing this will not modify any behavior and is safe. If you specifically wanted the numpy scalar type, use `np.float64` here.\n",
      "Deprecated in NumPy 1.20; for more details and guidance: https://numpy.org/devdocs/release/1.20.0-notes.html#deprecations\n",
      "  std[std < np.finfo(np.float).eps] = 1.  # avoid numerical problems\n",
      "/home/hannahcraddock/anaconda3/envs/hannah_env/lib/python3.9/site-packages/nilearn/signal.py:68: DeprecationWarning: `np.float` is a deprecated alias for the builtin `float`. To silence this warning, use `float` by itself. Doing this will not modify any behavior and is safe. If you specifically wanted the numpy scalar type, use `np.float64` here.\n",
      "Deprecated in NumPy 1.20; for more details and guidance: https://numpy.org/devdocs/release/1.20.0-notes.html#deprecations\n",
      "  std[std < np.finfo(np.float).eps] = 1.  # avoid numerical problems\n",
      "/home/hannahcraddock/anaconda3/envs/hannah_env/lib/python3.9/site-packages/nilearn/signal.py:68: DeprecationWarning: `np.float` is a deprecated alias for the builtin `float`. To silence this warning, use `float` by itself. Doing this will not modify any behavior and is safe. If you specifically wanted the numpy scalar type, use `np.float64` here.\n",
      "Deprecated in NumPy 1.20; for more details and guidance: https://numpy.org/devdocs/release/1.20.0-notes.html#deprecations\n",
      "  std[std < np.finfo(np.float).eps] = 1.  # avoid numerical problems\n",
      "/home/hannahcraddock/anaconda3/envs/hannah_env/lib/python3.9/site-packages/nilearn/signal.py:68: DeprecationWarning: `np.float` is a deprecated alias for the builtin `float`. To silence this warning, use `float` by itself. Doing this will not modify any behavior and is safe. If you specifically wanted the numpy scalar type, use `np.float64` here.\n",
      "Deprecated in NumPy 1.20; for more details and guidance: https://numpy.org/devdocs/release/1.20.0-notes.html#deprecations\n",
      "  std[std < np.finfo(np.float).eps] = 1.  # avoid numerical problems\n",
      "/home/hannahcraddock/anaconda3/envs/hannah_env/lib/python3.9/site-packages/nilearn/signal.py:68: DeprecationWarning: `np.float` is a deprecated alias for the builtin `float`. To silence this warning, use `float` by itself. Doing this will not modify any behavior and is safe. If you specifically wanted the numpy scalar type, use `np.float64` here.\n",
      "Deprecated in NumPy 1.20; for more details and guidance: https://numpy.org/devdocs/release/1.20.0-notes.html#deprecations\n",
      "  std[std < np.finfo(np.float).eps] = 1.  # avoid numerical problems\n",
      "/home/hannahcraddock/anaconda3/envs/hannah_env/lib/python3.9/site-packages/nilearn/signal.py:68: DeprecationWarning: `np.float` is a deprecated alias for the builtin `float`. To silence this warning, use `float` by itself. Doing this will not modify any behavior and is safe. If you specifically wanted the numpy scalar type, use `np.float64` here.\n",
      "Deprecated in NumPy 1.20; for more details and guidance: https://numpy.org/devdocs/release/1.20.0-notes.html#deprecations\n",
      "  std[std < np.finfo(np.float).eps] = 1.  # avoid numerical problems\n",
      "/home/hannahcraddock/anaconda3/envs/hannah_env/lib/python3.9/site-packages/nilearn/signal.py:68: DeprecationWarning: `np.float` is a deprecated alias for the builtin `float`. To silence this warning, use `float` by itself. Doing this will not modify any behavior and is safe. If you specifically wanted the numpy scalar type, use `np.float64` here.\n",
      "Deprecated in NumPy 1.20; for more details and guidance: https://numpy.org/devdocs/release/1.20.0-notes.html#deprecations\n",
      "  std[std < np.finfo(np.float).eps] = 1.  # avoid numerical problems\n",
      "/home/hannahcraddock/anaconda3/envs/hannah_env/lib/python3.9/site-packages/nilearn/signal.py:68: DeprecationWarning: `np.float` is a deprecated alias for the builtin `float`. To silence this warning, use `float` by itself. Doing this will not modify any behavior and is safe. If you specifically wanted the numpy scalar type, use `np.float64` here.\n",
      "Deprecated in NumPy 1.20; for more details and guidance: https://numpy.org/devdocs/release/1.20.0-notes.html#deprecations\n",
      "  std[std < np.finfo(np.float).eps] = 1.  # avoid numerical problems\n",
      "/home/hannahcraddock/anaconda3/envs/hannah_env/lib/python3.9/site-packages/nilearn/signal.py:68: DeprecationWarning: `np.float` is a deprecated alias for the builtin `float`. To silence this warning, use `float` by itself. Doing this will not modify any behavior and is safe. If you specifically wanted the numpy scalar type, use `np.float64` here.\n",
      "Deprecated in NumPy 1.20; for more details and guidance: https://numpy.org/devdocs/release/1.20.0-notes.html#deprecations\n",
      "  std[std < np.finfo(np.float).eps] = 1.  # avoid numerical problems\n",
      "/home/hannahcraddock/anaconda3/envs/hannah_env/lib/python3.9/site-packages/nilearn/signal.py:68: DeprecationWarning: `np.float` is a deprecated alias for the builtin `float`. To silence this warning, use `float` by itself. Doing this will not modify any behavior and is safe. If you specifically wanted the numpy scalar type, use `np.float64` here.\n",
      "Deprecated in NumPy 1.20; for more details and guidance: https://numpy.org/devdocs/release/1.20.0-notes.html#deprecations\n",
      "  std[std < np.finfo(np.float).eps] = 1.  # avoid numerical problems\n"
     ]
    },
    {
     "name": "stderr",
     "output_type": "stream",
     "text": [
      "/home/hannahcraddock/anaconda3/envs/hannah_env/lib/python3.9/site-packages/nilearn/signal.py:68: DeprecationWarning: `np.float` is a deprecated alias for the builtin `float`. To silence this warning, use `float` by itself. Doing this will not modify any behavior and is safe. If you specifically wanted the numpy scalar type, use `np.float64` here.\n",
      "Deprecated in NumPy 1.20; for more details and guidance: https://numpy.org/devdocs/release/1.20.0-notes.html#deprecations\n",
      "  std[std < np.finfo(np.float).eps] = 1.  # avoid numerical problems\n",
      "/home/hannahcraddock/anaconda3/envs/hannah_env/lib/python3.9/site-packages/nilearn/signal.py:68: DeprecationWarning: `np.float` is a deprecated alias for the builtin `float`. To silence this warning, use `float` by itself. Doing this will not modify any behavior and is safe. If you specifically wanted the numpy scalar type, use `np.float64` here.\n",
      "Deprecated in NumPy 1.20; for more details and guidance: https://numpy.org/devdocs/release/1.20.0-notes.html#deprecations\n",
      "  std[std < np.finfo(np.float).eps] = 1.  # avoid numerical problems\n",
      "/home/hannahcraddock/anaconda3/envs/hannah_env/lib/python3.9/site-packages/nilearn/signal.py:68: DeprecationWarning: `np.float` is a deprecated alias for the builtin `float`. To silence this warning, use `float` by itself. Doing this will not modify any behavior and is safe. If you specifically wanted the numpy scalar type, use `np.float64` here.\n",
      "Deprecated in NumPy 1.20; for more details and guidance: https://numpy.org/devdocs/release/1.20.0-notes.html#deprecations\n",
      "  std[std < np.finfo(np.float).eps] = 1.  # avoid numerical problems\n",
      "/home/hannahcraddock/anaconda3/envs/hannah_env/lib/python3.9/site-packages/nilearn/signal.py:68: DeprecationWarning: `np.float` is a deprecated alias for the builtin `float`. To silence this warning, use `float` by itself. Doing this will not modify any behavior and is safe. If you specifically wanted the numpy scalar type, use `np.float64` here.\n",
      "Deprecated in NumPy 1.20; for more details and guidance: https://numpy.org/devdocs/release/1.20.0-notes.html#deprecations\n",
      "  std[std < np.finfo(np.float).eps] = 1.  # avoid numerical problems\n",
      "/home/hannahcraddock/anaconda3/envs/hannah_env/lib/python3.9/site-packages/nilearn/signal.py:68: DeprecationWarning: `np.float` is a deprecated alias for the builtin `float`. To silence this warning, use `float` by itself. Doing this will not modify any behavior and is safe. If you specifically wanted the numpy scalar type, use `np.float64` here.\n",
      "Deprecated in NumPy 1.20; for more details and guidance: https://numpy.org/devdocs/release/1.20.0-notes.html#deprecations\n",
      "  std[std < np.finfo(np.float).eps] = 1.  # avoid numerical problems\n",
      "/home/hannahcraddock/anaconda3/envs/hannah_env/lib/python3.9/site-packages/nilearn/signal.py:68: DeprecationWarning: `np.float` is a deprecated alias for the builtin `float`. To silence this warning, use `float` by itself. Doing this will not modify any behavior and is safe. If you specifically wanted the numpy scalar type, use `np.float64` here.\n",
      "Deprecated in NumPy 1.20; for more details and guidance: https://numpy.org/devdocs/release/1.20.0-notes.html#deprecations\n",
      "  std[std < np.finfo(np.float).eps] = 1.  # avoid numerical problems\n",
      "/home/hannahcraddock/anaconda3/envs/hannah_env/lib/python3.9/site-packages/nilearn/signal.py:68: DeprecationWarning: `np.float` is a deprecated alias for the builtin `float`. To silence this warning, use `float` by itself. Doing this will not modify any behavior and is safe. If you specifically wanted the numpy scalar type, use `np.float64` here.\n",
      "Deprecated in NumPy 1.20; for more details and guidance: https://numpy.org/devdocs/release/1.20.0-notes.html#deprecations\n",
      "  std[std < np.finfo(np.float).eps] = 1.  # avoid numerical problems\n",
      "/home/hannahcraddock/anaconda3/envs/hannah_env/lib/python3.9/site-packages/nilearn/signal.py:68: DeprecationWarning: `np.float` is a deprecated alias for the builtin `float`. To silence this warning, use `float` by itself. Doing this will not modify any behavior and is safe. If you specifically wanted the numpy scalar type, use `np.float64` here.\n",
      "Deprecated in NumPy 1.20; for more details and guidance: https://numpy.org/devdocs/release/1.20.0-notes.html#deprecations\n",
      "  std[std < np.finfo(np.float).eps] = 1.  # avoid numerical problems\n",
      "/home/hannahcraddock/anaconda3/envs/hannah_env/lib/python3.9/site-packages/nilearn/signal.py:68: DeprecationWarning: `np.float` is a deprecated alias for the builtin `float`. To silence this warning, use `float` by itself. Doing this will not modify any behavior and is safe. If you specifically wanted the numpy scalar type, use `np.float64` here.\n",
      "Deprecated in NumPy 1.20; for more details and guidance: https://numpy.org/devdocs/release/1.20.0-notes.html#deprecations\n",
      "  std[std < np.finfo(np.float).eps] = 1.  # avoid numerical problems\n",
      "/home/hannahcraddock/anaconda3/envs/hannah_env/lib/python3.9/site-packages/nilearn/signal.py:68: DeprecationWarning: `np.float` is a deprecated alias for the builtin `float`. To silence this warning, use `float` by itself. Doing this will not modify any behavior and is safe. If you specifically wanted the numpy scalar type, use `np.float64` here.\n",
      "Deprecated in NumPy 1.20; for more details and guidance: https://numpy.org/devdocs/release/1.20.0-notes.html#deprecations\n",
      "  std[std < np.finfo(np.float).eps] = 1.  # avoid numerical problems\n",
      "/home/hannahcraddock/anaconda3/envs/hannah_env/lib/python3.9/site-packages/nilearn/signal.py:68: DeprecationWarning: `np.float` is a deprecated alias for the builtin `float`. To silence this warning, use `float` by itself. Doing this will not modify any behavior and is safe. If you specifically wanted the numpy scalar type, use `np.float64` here.\n",
      "Deprecated in NumPy 1.20; for more details and guidance: https://numpy.org/devdocs/release/1.20.0-notes.html#deprecations\n",
      "  std[std < np.finfo(np.float).eps] = 1.  # avoid numerical problems\n",
      "/home/hannahcraddock/anaconda3/envs/hannah_env/lib/python3.9/site-packages/nilearn/signal.py:68: DeprecationWarning: `np.float` is a deprecated alias for the builtin `float`. To silence this warning, use `float` by itself. Doing this will not modify any behavior and is safe. If you specifically wanted the numpy scalar type, use `np.float64` here.\n",
      "Deprecated in NumPy 1.20; for more details and guidance: https://numpy.org/devdocs/release/1.20.0-notes.html#deprecations\n",
      "  std[std < np.finfo(np.float).eps] = 1.  # avoid numerical problems\n",
      "/home/hannahcraddock/anaconda3/envs/hannah_env/lib/python3.9/site-packages/nilearn/signal.py:68: DeprecationWarning: `np.float` is a deprecated alias for the builtin `float`. To silence this warning, use `float` by itself. Doing this will not modify any behavior and is safe. If you specifically wanted the numpy scalar type, use `np.float64` here.\n",
      "Deprecated in NumPy 1.20; for more details and guidance: https://numpy.org/devdocs/release/1.20.0-notes.html#deprecations\n",
      "  std[std < np.finfo(np.float).eps] = 1.  # avoid numerical problems\n",
      "/home/hannahcraddock/anaconda3/envs/hannah_env/lib/python3.9/site-packages/nilearn/signal.py:68: DeprecationWarning: `np.float` is a deprecated alias for the builtin `float`. To silence this warning, use `float` by itself. Doing this will not modify any behavior and is safe. If you specifically wanted the numpy scalar type, use `np.float64` here.\n",
      "Deprecated in NumPy 1.20; for more details and guidance: https://numpy.org/devdocs/release/1.20.0-notes.html#deprecations\n",
      "  std[std < np.finfo(np.float).eps] = 1.  # avoid numerical problems\n",
      "/home/hannahcraddock/anaconda3/envs/hannah_env/lib/python3.9/site-packages/nilearn/signal.py:68: DeprecationWarning: `np.float` is a deprecated alias for the builtin `float`. To silence this warning, use `float` by itself. Doing this will not modify any behavior and is safe. If you specifically wanted the numpy scalar type, use `np.float64` here.\n",
      "Deprecated in NumPy 1.20; for more details and guidance: https://numpy.org/devdocs/release/1.20.0-notes.html#deprecations\n",
      "  std[std < np.finfo(np.float).eps] = 1.  # avoid numerical problems\n",
      "/home/hannahcraddock/anaconda3/envs/hannah_env/lib/python3.9/site-packages/nilearn/signal.py:68: DeprecationWarning: `np.float` is a deprecated alias for the builtin `float`. To silence this warning, use `float` by itself. Doing this will not modify any behavior and is safe. If you specifically wanted the numpy scalar type, use `np.float64` here.\n",
      "Deprecated in NumPy 1.20; for more details and guidance: https://numpy.org/devdocs/release/1.20.0-notes.html#deprecations\n",
      "  std[std < np.finfo(np.float).eps] = 1.  # avoid numerical problems\n"
     ]
    },
    {
     "name": "stderr",
     "output_type": "stream",
     "text": [
      "/home/hannahcraddock/anaconda3/envs/hannah_env/lib/python3.9/site-packages/nilearn/signal.py:68: DeprecationWarning: `np.float` is a deprecated alias for the builtin `float`. To silence this warning, use `float` by itself. Doing this will not modify any behavior and is safe. If you specifically wanted the numpy scalar type, use `np.float64` here.\n",
      "Deprecated in NumPy 1.20; for more details and guidance: https://numpy.org/devdocs/release/1.20.0-notes.html#deprecations\n",
      "  std[std < np.finfo(np.float).eps] = 1.  # avoid numerical problems\n",
      "/home/hannahcraddock/anaconda3/envs/hannah_env/lib/python3.9/site-packages/nilearn/signal.py:68: DeprecationWarning: `np.float` is a deprecated alias for the builtin `float`. To silence this warning, use `float` by itself. Doing this will not modify any behavior and is safe. If you specifically wanted the numpy scalar type, use `np.float64` here.\n",
      "Deprecated in NumPy 1.20; for more details and guidance: https://numpy.org/devdocs/release/1.20.0-notes.html#deprecations\n",
      "  std[std < np.finfo(np.float).eps] = 1.  # avoid numerical problems\n",
      "/home/hannahcraddock/anaconda3/envs/hannah_env/lib/python3.9/site-packages/nilearn/signal.py:68: DeprecationWarning: `np.float` is a deprecated alias for the builtin `float`. To silence this warning, use `float` by itself. Doing this will not modify any behavior and is safe. If you specifically wanted the numpy scalar type, use `np.float64` here.\n",
      "Deprecated in NumPy 1.20; for more details and guidance: https://numpy.org/devdocs/release/1.20.0-notes.html#deprecations\n",
      "  std[std < np.finfo(np.float).eps] = 1.  # avoid numerical problems\n",
      "/home/hannahcraddock/anaconda3/envs/hannah_env/lib/python3.9/site-packages/nilearn/signal.py:68: DeprecationWarning: `np.float` is a deprecated alias for the builtin `float`. To silence this warning, use `float` by itself. Doing this will not modify any behavior and is safe. If you specifically wanted the numpy scalar type, use `np.float64` here.\n",
      "Deprecated in NumPy 1.20; for more details and guidance: https://numpy.org/devdocs/release/1.20.0-notes.html#deprecations\n",
      "  std[std < np.finfo(np.float).eps] = 1.  # avoid numerical problems\n",
      "/home/hannahcraddock/anaconda3/envs/hannah_env/lib/python3.9/site-packages/nilearn/signal.py:68: DeprecationWarning: `np.float` is a deprecated alias for the builtin `float`. To silence this warning, use `float` by itself. Doing this will not modify any behavior and is safe. If you specifically wanted the numpy scalar type, use `np.float64` here.\n",
      "Deprecated in NumPy 1.20; for more details and guidance: https://numpy.org/devdocs/release/1.20.0-notes.html#deprecations\n",
      "  std[std < np.finfo(np.float).eps] = 1.  # avoid numerical problems\n",
      "/home/hannahcraddock/anaconda3/envs/hannah_env/lib/python3.9/site-packages/nilearn/signal.py:68: DeprecationWarning: `np.float` is a deprecated alias for the builtin `float`. To silence this warning, use `float` by itself. Doing this will not modify any behavior and is safe. If you specifically wanted the numpy scalar type, use `np.float64` here.\n",
      "Deprecated in NumPy 1.20; for more details and guidance: https://numpy.org/devdocs/release/1.20.0-notes.html#deprecations\n",
      "  std[std < np.finfo(np.float).eps] = 1.  # avoid numerical problems\n",
      "/home/hannahcraddock/anaconda3/envs/hannah_env/lib/python3.9/site-packages/nilearn/signal.py:68: DeprecationWarning: `np.float` is a deprecated alias for the builtin `float`. To silence this warning, use `float` by itself. Doing this will not modify any behavior and is safe. If you specifically wanted the numpy scalar type, use `np.float64` here.\n",
      "Deprecated in NumPy 1.20; for more details and guidance: https://numpy.org/devdocs/release/1.20.0-notes.html#deprecations\n",
      "  std[std < np.finfo(np.float).eps] = 1.  # avoid numerical problems\n",
      "/home/hannahcraddock/anaconda3/envs/hannah_env/lib/python3.9/site-packages/nilearn/signal.py:68: DeprecationWarning: `np.float` is a deprecated alias for the builtin `float`. To silence this warning, use `float` by itself. Doing this will not modify any behavior and is safe. If you specifically wanted the numpy scalar type, use `np.float64` here.\n",
      "Deprecated in NumPy 1.20; for more details and guidance: https://numpy.org/devdocs/release/1.20.0-notes.html#deprecations\n",
      "  std[std < np.finfo(np.float).eps] = 1.  # avoid numerical problems\n",
      "/home/hannahcraddock/anaconda3/envs/hannah_env/lib/python3.9/site-packages/nilearn/signal.py:68: DeprecationWarning: `np.float` is a deprecated alias for the builtin `float`. To silence this warning, use `float` by itself. Doing this will not modify any behavior and is safe. If you specifically wanted the numpy scalar type, use `np.float64` here.\n",
      "Deprecated in NumPy 1.20; for more details and guidance: https://numpy.org/devdocs/release/1.20.0-notes.html#deprecations\n",
      "  std[std < np.finfo(np.float).eps] = 1.  # avoid numerical problems\n",
      "/home/hannahcraddock/anaconda3/envs/hannah_env/lib/python3.9/site-packages/nilearn/signal.py:68: DeprecationWarning: `np.float` is a deprecated alias for the builtin `float`. To silence this warning, use `float` by itself. Doing this will not modify any behavior and is safe. If you specifically wanted the numpy scalar type, use `np.float64` here.\n",
      "Deprecated in NumPy 1.20; for more details and guidance: https://numpy.org/devdocs/release/1.20.0-notes.html#deprecations\n",
      "  std[std < np.finfo(np.float).eps] = 1.  # avoid numerical problems\n",
      "/home/hannahcraddock/anaconda3/envs/hannah_env/lib/python3.9/site-packages/nilearn/signal.py:68: DeprecationWarning: `np.float` is a deprecated alias for the builtin `float`. To silence this warning, use `float` by itself. Doing this will not modify any behavior and is safe. If you specifically wanted the numpy scalar type, use `np.float64` here.\n",
      "Deprecated in NumPy 1.20; for more details and guidance: https://numpy.org/devdocs/release/1.20.0-notes.html#deprecations\n",
      "  std[std < np.finfo(np.float).eps] = 1.  # avoid numerical problems\n",
      "/home/hannahcraddock/anaconda3/envs/hannah_env/lib/python3.9/site-packages/nilearn/signal.py:68: DeprecationWarning: `np.float` is a deprecated alias for the builtin `float`. To silence this warning, use `float` by itself. Doing this will not modify any behavior and is safe. If you specifically wanted the numpy scalar type, use `np.float64` here.\n",
      "Deprecated in NumPy 1.20; for more details and guidance: https://numpy.org/devdocs/release/1.20.0-notes.html#deprecations\n",
      "  std[std < np.finfo(np.float).eps] = 1.  # avoid numerical problems\n",
      "/home/hannahcraddock/anaconda3/envs/hannah_env/lib/python3.9/site-packages/nilearn/signal.py:68: DeprecationWarning: `np.float` is a deprecated alias for the builtin `float`. To silence this warning, use `float` by itself. Doing this will not modify any behavior and is safe. If you specifically wanted the numpy scalar type, use `np.float64` here.\n",
      "Deprecated in NumPy 1.20; for more details and guidance: https://numpy.org/devdocs/release/1.20.0-notes.html#deprecations\n",
      "  std[std < np.finfo(np.float).eps] = 1.  # avoid numerical problems\n",
      "/home/hannahcraddock/anaconda3/envs/hannah_env/lib/python3.9/site-packages/nilearn/signal.py:68: DeprecationWarning: `np.float` is a deprecated alias for the builtin `float`. To silence this warning, use `float` by itself. Doing this will not modify any behavior and is safe. If you specifically wanted the numpy scalar type, use `np.float64` here.\n",
      "Deprecated in NumPy 1.20; for more details and guidance: https://numpy.org/devdocs/release/1.20.0-notes.html#deprecations\n",
      "  std[std < np.finfo(np.float).eps] = 1.  # avoid numerical problems\n",
      "/home/hannahcraddock/anaconda3/envs/hannah_env/lib/python3.9/site-packages/nilearn/signal.py:68: DeprecationWarning: `np.float` is a deprecated alias for the builtin `float`. To silence this warning, use `float` by itself. Doing this will not modify any behavior and is safe. If you specifically wanted the numpy scalar type, use `np.float64` here.\n",
      "Deprecated in NumPy 1.20; for more details and guidance: https://numpy.org/devdocs/release/1.20.0-notes.html#deprecations\n",
      "  std[std < np.finfo(np.float).eps] = 1.  # avoid numerical problems\n",
      "/home/hannahcraddock/anaconda3/envs/hannah_env/lib/python3.9/site-packages/nilearn/signal.py:68: DeprecationWarning: `np.float` is a deprecated alias for the builtin `float`. To silence this warning, use `float` by itself. Doing this will not modify any behavior and is safe. If you specifically wanted the numpy scalar type, use `np.float64` here.\n",
      "Deprecated in NumPy 1.20; for more details and guidance: https://numpy.org/devdocs/release/1.20.0-notes.html#deprecations\n",
      "  std[std < np.finfo(np.float).eps] = 1.  # avoid numerical problems\n"
     ]
    },
    {
     "name": "stderr",
     "output_type": "stream",
     "text": [
      "/home/hannahcraddock/anaconda3/envs/hannah_env/lib/python3.9/site-packages/nilearn/signal.py:68: DeprecationWarning: `np.float` is a deprecated alias for the builtin `float`. To silence this warning, use `float` by itself. Doing this will not modify any behavior and is safe. If you specifically wanted the numpy scalar type, use `np.float64` here.\n",
      "Deprecated in NumPy 1.20; for more details and guidance: https://numpy.org/devdocs/release/1.20.0-notes.html#deprecations\n",
      "  std[std < np.finfo(np.float).eps] = 1.  # avoid numerical problems\n",
      "/home/hannahcraddock/anaconda3/envs/hannah_env/lib/python3.9/site-packages/nilearn/signal.py:68: DeprecationWarning: `np.float` is a deprecated alias for the builtin `float`. To silence this warning, use `float` by itself. Doing this will not modify any behavior and is safe. If you specifically wanted the numpy scalar type, use `np.float64` here.\n",
      "Deprecated in NumPy 1.20; for more details and guidance: https://numpy.org/devdocs/release/1.20.0-notes.html#deprecations\n",
      "  std[std < np.finfo(np.float).eps] = 1.  # avoid numerical problems\n",
      "/home/hannahcraddock/anaconda3/envs/hannah_env/lib/python3.9/site-packages/nilearn/signal.py:68: DeprecationWarning: `np.float` is a deprecated alias for the builtin `float`. To silence this warning, use `float` by itself. Doing this will not modify any behavior and is safe. If you specifically wanted the numpy scalar type, use `np.float64` here.\n",
      "Deprecated in NumPy 1.20; for more details and guidance: https://numpy.org/devdocs/release/1.20.0-notes.html#deprecations\n",
      "  std[std < np.finfo(np.float).eps] = 1.  # avoid numerical problems\n",
      "/home/hannahcraddock/anaconda3/envs/hannah_env/lib/python3.9/site-packages/nilearn/signal.py:68: DeprecationWarning: `np.float` is a deprecated alias for the builtin `float`. To silence this warning, use `float` by itself. Doing this will not modify any behavior and is safe. If you specifically wanted the numpy scalar type, use `np.float64` here.\n",
      "Deprecated in NumPy 1.20; for more details and guidance: https://numpy.org/devdocs/release/1.20.0-notes.html#deprecations\n",
      "  std[std < np.finfo(np.float).eps] = 1.  # avoid numerical problems\n",
      "/home/hannahcraddock/anaconda3/envs/hannah_env/lib/python3.9/site-packages/nilearn/signal.py:68: DeprecationWarning: `np.float` is a deprecated alias for the builtin `float`. To silence this warning, use `float` by itself. Doing this will not modify any behavior and is safe. If you specifically wanted the numpy scalar type, use `np.float64` here.\n",
      "Deprecated in NumPy 1.20; for more details and guidance: https://numpy.org/devdocs/release/1.20.0-notes.html#deprecations\n",
      "  std[std < np.finfo(np.float).eps] = 1.  # avoid numerical problems\n",
      "/home/hannahcraddock/anaconda3/envs/hannah_env/lib/python3.9/site-packages/nilearn/signal.py:68: DeprecationWarning: `np.float` is a deprecated alias for the builtin `float`. To silence this warning, use `float` by itself. Doing this will not modify any behavior and is safe. If you specifically wanted the numpy scalar type, use `np.float64` here.\n",
      "Deprecated in NumPy 1.20; for more details and guidance: https://numpy.org/devdocs/release/1.20.0-notes.html#deprecations\n",
      "  std[std < np.finfo(np.float).eps] = 1.  # avoid numerical problems\n",
      "/home/hannahcraddock/anaconda3/envs/hannah_env/lib/python3.9/site-packages/nilearn/signal.py:68: DeprecationWarning: `np.float` is a deprecated alias for the builtin `float`. To silence this warning, use `float` by itself. Doing this will not modify any behavior and is safe. If you specifically wanted the numpy scalar type, use `np.float64` here.\n",
      "Deprecated in NumPy 1.20; for more details and guidance: https://numpy.org/devdocs/release/1.20.0-notes.html#deprecations\n",
      "  std[std < np.finfo(np.float).eps] = 1.  # avoid numerical problems\n",
      "/home/hannahcraddock/anaconda3/envs/hannah_env/lib/python3.9/site-packages/nilearn/signal.py:68: DeprecationWarning: `np.float` is a deprecated alias for the builtin `float`. To silence this warning, use `float` by itself. Doing this will not modify any behavior and is safe. If you specifically wanted the numpy scalar type, use `np.float64` here.\n",
      "Deprecated in NumPy 1.20; for more details and guidance: https://numpy.org/devdocs/release/1.20.0-notes.html#deprecations\n",
      "  std[std < np.finfo(np.float).eps] = 1.  # avoid numerical problems\n",
      "/home/hannahcraddock/anaconda3/envs/hannah_env/lib/python3.9/site-packages/nilearn/signal.py:68: DeprecationWarning: `np.float` is a deprecated alias for the builtin `float`. To silence this warning, use `float` by itself. Doing this will not modify any behavior and is safe. If you specifically wanted the numpy scalar type, use `np.float64` here.\n",
      "Deprecated in NumPy 1.20; for more details and guidance: https://numpy.org/devdocs/release/1.20.0-notes.html#deprecations\n",
      "  std[std < np.finfo(np.float).eps] = 1.  # avoid numerical problems\n",
      "/home/hannahcraddock/anaconda3/envs/hannah_env/lib/python3.9/site-packages/nilearn/signal.py:68: DeprecationWarning: `np.float` is a deprecated alias for the builtin `float`. To silence this warning, use `float` by itself. Doing this will not modify any behavior and is safe. If you specifically wanted the numpy scalar type, use `np.float64` here.\n",
      "Deprecated in NumPy 1.20; for more details and guidance: https://numpy.org/devdocs/release/1.20.0-notes.html#deprecations\n",
      "  std[std < np.finfo(np.float).eps] = 1.  # avoid numerical problems\n",
      "/home/hannahcraddock/anaconda3/envs/hannah_env/lib/python3.9/site-packages/nilearn/signal.py:68: DeprecationWarning: `np.float` is a deprecated alias for the builtin `float`. To silence this warning, use `float` by itself. Doing this will not modify any behavior and is safe. If you specifically wanted the numpy scalar type, use `np.float64` here.\n",
      "Deprecated in NumPy 1.20; for more details and guidance: https://numpy.org/devdocs/release/1.20.0-notes.html#deprecations\n",
      "  std[std < np.finfo(np.float).eps] = 1.  # avoid numerical problems\n",
      "/home/hannahcraddock/anaconda3/envs/hannah_env/lib/python3.9/site-packages/nilearn/signal.py:68: DeprecationWarning: `np.float` is a deprecated alias for the builtin `float`. To silence this warning, use `float` by itself. Doing this will not modify any behavior and is safe. If you specifically wanted the numpy scalar type, use `np.float64` here.\n",
      "Deprecated in NumPy 1.20; for more details and guidance: https://numpy.org/devdocs/release/1.20.0-notes.html#deprecations\n",
      "  std[std < np.finfo(np.float).eps] = 1.  # avoid numerical problems\n",
      "/home/hannahcraddock/anaconda3/envs/hannah_env/lib/python3.9/site-packages/nilearn/signal.py:68: DeprecationWarning: `np.float` is a deprecated alias for the builtin `float`. To silence this warning, use `float` by itself. Doing this will not modify any behavior and is safe. If you specifically wanted the numpy scalar type, use `np.float64` here.\n",
      "Deprecated in NumPy 1.20; for more details and guidance: https://numpy.org/devdocs/release/1.20.0-notes.html#deprecations\n",
      "  std[std < np.finfo(np.float).eps] = 1.  # avoid numerical problems\n",
      "/home/hannahcraddock/anaconda3/envs/hannah_env/lib/python3.9/site-packages/nilearn/signal.py:68: DeprecationWarning: `np.float` is a deprecated alias for the builtin `float`. To silence this warning, use `float` by itself. Doing this will not modify any behavior and is safe. If you specifically wanted the numpy scalar type, use `np.float64` here.\n",
      "Deprecated in NumPy 1.20; for more details and guidance: https://numpy.org/devdocs/release/1.20.0-notes.html#deprecations\n",
      "  std[std < np.finfo(np.float).eps] = 1.  # avoid numerical problems\n",
      "/home/hannahcraddock/anaconda3/envs/hannah_env/lib/python3.9/site-packages/nilearn/signal.py:68: DeprecationWarning: `np.float` is a deprecated alias for the builtin `float`. To silence this warning, use `float` by itself. Doing this will not modify any behavior and is safe. If you specifically wanted the numpy scalar type, use `np.float64` here.\n",
      "Deprecated in NumPy 1.20; for more details and guidance: https://numpy.org/devdocs/release/1.20.0-notes.html#deprecations\n",
      "  std[std < np.finfo(np.float).eps] = 1.  # avoid numerical problems\n",
      "/home/hannahcraddock/anaconda3/envs/hannah_env/lib/python3.9/site-packages/nilearn/signal.py:68: DeprecationWarning: `np.float` is a deprecated alias for the builtin `float`. To silence this warning, use `float` by itself. Doing this will not modify any behavior and is safe. If you specifically wanted the numpy scalar type, use `np.float64` here.\n",
      "Deprecated in NumPy 1.20; for more details and guidance: https://numpy.org/devdocs/release/1.20.0-notes.html#deprecations\n",
      "  std[std < np.finfo(np.float).eps] = 1.  # avoid numerical problems\n"
     ]
    },
    {
     "name": "stderr",
     "output_type": "stream",
     "text": [
      "/home/hannahcraddock/anaconda3/envs/hannah_env/lib/python3.9/site-packages/nilearn/signal.py:68: DeprecationWarning: `np.float` is a deprecated alias for the builtin `float`. To silence this warning, use `float` by itself. Doing this will not modify any behavior and is safe. If you specifically wanted the numpy scalar type, use `np.float64` here.\n",
      "Deprecated in NumPy 1.20; for more details and guidance: https://numpy.org/devdocs/release/1.20.0-notes.html#deprecations\n",
      "  std[std < np.finfo(np.float).eps] = 1.  # avoid numerical problems\n",
      "/home/hannahcraddock/anaconda3/envs/hannah_env/lib/python3.9/site-packages/nilearn/signal.py:68: DeprecationWarning: `np.float` is a deprecated alias for the builtin `float`. To silence this warning, use `float` by itself. Doing this will not modify any behavior and is safe. If you specifically wanted the numpy scalar type, use `np.float64` here.\n",
      "Deprecated in NumPy 1.20; for more details and guidance: https://numpy.org/devdocs/release/1.20.0-notes.html#deprecations\n",
      "  std[std < np.finfo(np.float).eps] = 1.  # avoid numerical problems\n",
      "/home/hannahcraddock/anaconda3/envs/hannah_env/lib/python3.9/site-packages/nilearn/signal.py:68: DeprecationWarning: `np.float` is a deprecated alias for the builtin `float`. To silence this warning, use `float` by itself. Doing this will not modify any behavior and is safe. If you specifically wanted the numpy scalar type, use `np.float64` here.\n",
      "Deprecated in NumPy 1.20; for more details and guidance: https://numpy.org/devdocs/release/1.20.0-notes.html#deprecations\n",
      "  std[std < np.finfo(np.float).eps] = 1.  # avoid numerical problems\n",
      "/home/hannahcraddock/anaconda3/envs/hannah_env/lib/python3.9/site-packages/nilearn/signal.py:68: DeprecationWarning: `np.float` is a deprecated alias for the builtin `float`. To silence this warning, use `float` by itself. Doing this will not modify any behavior and is safe. If you specifically wanted the numpy scalar type, use `np.float64` here.\n",
      "Deprecated in NumPy 1.20; for more details and guidance: https://numpy.org/devdocs/release/1.20.0-notes.html#deprecations\n",
      "  std[std < np.finfo(np.float).eps] = 1.  # avoid numerical problems\n",
      "/home/hannahcraddock/anaconda3/envs/hannah_env/lib/python3.9/site-packages/nilearn/signal.py:68: DeprecationWarning: `np.float` is a deprecated alias for the builtin `float`. To silence this warning, use `float` by itself. Doing this will not modify any behavior and is safe. If you specifically wanted the numpy scalar type, use `np.float64` here.\n",
      "Deprecated in NumPy 1.20; for more details and guidance: https://numpy.org/devdocs/release/1.20.0-notes.html#deprecations\n",
      "  std[std < np.finfo(np.float).eps] = 1.  # avoid numerical problems\n",
      "/home/hannahcraddock/anaconda3/envs/hannah_env/lib/python3.9/site-packages/nilearn/signal.py:68: DeprecationWarning: `np.float` is a deprecated alias for the builtin `float`. To silence this warning, use `float` by itself. Doing this will not modify any behavior and is safe. If you specifically wanted the numpy scalar type, use `np.float64` here.\n",
      "Deprecated in NumPy 1.20; for more details and guidance: https://numpy.org/devdocs/release/1.20.0-notes.html#deprecations\n",
      "  std[std < np.finfo(np.float).eps] = 1.  # avoid numerical problems\n",
      "/home/hannahcraddock/anaconda3/envs/hannah_env/lib/python3.9/site-packages/nilearn/signal.py:68: DeprecationWarning: `np.float` is a deprecated alias for the builtin `float`. To silence this warning, use `float` by itself. Doing this will not modify any behavior and is safe. If you specifically wanted the numpy scalar type, use `np.float64` here.\n",
      "Deprecated in NumPy 1.20; for more details and guidance: https://numpy.org/devdocs/release/1.20.0-notes.html#deprecations\n",
      "  std[std < np.finfo(np.float).eps] = 1.  # avoid numerical problems\n",
      "/home/hannahcraddock/anaconda3/envs/hannah_env/lib/python3.9/site-packages/nilearn/signal.py:68: DeprecationWarning: `np.float` is a deprecated alias for the builtin `float`. To silence this warning, use `float` by itself. Doing this will not modify any behavior and is safe. If you specifically wanted the numpy scalar type, use `np.float64` here.\n",
      "Deprecated in NumPy 1.20; for more details and guidance: https://numpy.org/devdocs/release/1.20.0-notes.html#deprecations\n",
      "  std[std < np.finfo(np.float).eps] = 1.  # avoid numerical problems\n",
      "/home/hannahcraddock/anaconda3/envs/hannah_env/lib/python3.9/site-packages/nilearn/signal.py:68: DeprecationWarning: `np.float` is a deprecated alias for the builtin `float`. To silence this warning, use `float` by itself. Doing this will not modify any behavior and is safe. If you specifically wanted the numpy scalar type, use `np.float64` here.\n",
      "Deprecated in NumPy 1.20; for more details and guidance: https://numpy.org/devdocs/release/1.20.0-notes.html#deprecations\n",
      "  std[std < np.finfo(np.float).eps] = 1.  # avoid numerical problems\n",
      "/home/hannahcraddock/anaconda3/envs/hannah_env/lib/python3.9/site-packages/nilearn/signal.py:68: DeprecationWarning: `np.float` is a deprecated alias for the builtin `float`. To silence this warning, use `float` by itself. Doing this will not modify any behavior and is safe. If you specifically wanted the numpy scalar type, use `np.float64` here.\n",
      "Deprecated in NumPy 1.20; for more details and guidance: https://numpy.org/devdocs/release/1.20.0-notes.html#deprecations\n",
      "  std[std < np.finfo(np.float).eps] = 1.  # avoid numerical problems\n",
      "/home/hannahcraddock/anaconda3/envs/hannah_env/lib/python3.9/site-packages/nilearn/signal.py:68: DeprecationWarning: `np.float` is a deprecated alias for the builtin `float`. To silence this warning, use `float` by itself. Doing this will not modify any behavior and is safe. If you specifically wanted the numpy scalar type, use `np.float64` here.\n",
      "Deprecated in NumPy 1.20; for more details and guidance: https://numpy.org/devdocs/release/1.20.0-notes.html#deprecations\n",
      "  std[std < np.finfo(np.float).eps] = 1.  # avoid numerical problems\n",
      "/home/hannahcraddock/anaconda3/envs/hannah_env/lib/python3.9/site-packages/nilearn/signal.py:68: DeprecationWarning: `np.float` is a deprecated alias for the builtin `float`. To silence this warning, use `float` by itself. Doing this will not modify any behavior and is safe. If you specifically wanted the numpy scalar type, use `np.float64` here.\n",
      "Deprecated in NumPy 1.20; for more details and guidance: https://numpy.org/devdocs/release/1.20.0-notes.html#deprecations\n",
      "  std[std < np.finfo(np.float).eps] = 1.  # avoid numerical problems\n",
      "/home/hannahcraddock/anaconda3/envs/hannah_env/lib/python3.9/site-packages/nilearn/signal.py:68: DeprecationWarning: `np.float` is a deprecated alias for the builtin `float`. To silence this warning, use `float` by itself. Doing this will not modify any behavior and is safe. If you specifically wanted the numpy scalar type, use `np.float64` here.\n",
      "Deprecated in NumPy 1.20; for more details and guidance: https://numpy.org/devdocs/release/1.20.0-notes.html#deprecations\n",
      "  std[std < np.finfo(np.float).eps] = 1.  # avoid numerical problems\n",
      "/home/hannahcraddock/anaconda3/envs/hannah_env/lib/python3.9/site-packages/nilearn/signal.py:68: DeprecationWarning: `np.float` is a deprecated alias for the builtin `float`. To silence this warning, use `float` by itself. Doing this will not modify any behavior and is safe. If you specifically wanted the numpy scalar type, use `np.float64` here.\n",
      "Deprecated in NumPy 1.20; for more details and guidance: https://numpy.org/devdocs/release/1.20.0-notes.html#deprecations\n",
      "  std[std < np.finfo(np.float).eps] = 1.  # avoid numerical problems\n",
      "/home/hannahcraddock/anaconda3/envs/hannah_env/lib/python3.9/site-packages/nilearn/signal.py:68: DeprecationWarning: `np.float` is a deprecated alias for the builtin `float`. To silence this warning, use `float` by itself. Doing this will not modify any behavior and is safe. If you specifically wanted the numpy scalar type, use `np.float64` here.\n",
      "Deprecated in NumPy 1.20; for more details and guidance: https://numpy.org/devdocs/release/1.20.0-notes.html#deprecations\n",
      "  std[std < np.finfo(np.float).eps] = 1.  # avoid numerical problems\n",
      "/home/hannahcraddock/anaconda3/envs/hannah_env/lib/python3.9/site-packages/nilearn/signal.py:68: DeprecationWarning: `np.float` is a deprecated alias for the builtin `float`. To silence this warning, use `float` by itself. Doing this will not modify any behavior and is safe. If you specifically wanted the numpy scalar type, use `np.float64` here.\n",
      "Deprecated in NumPy 1.20; for more details and guidance: https://numpy.org/devdocs/release/1.20.0-notes.html#deprecations\n",
      "  std[std < np.finfo(np.float).eps] = 1.  # avoid numerical problems\n"
     ]
    },
    {
     "name": "stderr",
     "output_type": "stream",
     "text": [
      "/home/hannahcraddock/anaconda3/envs/hannah_env/lib/python3.9/site-packages/nilearn/signal.py:68: DeprecationWarning: `np.float` is a deprecated alias for the builtin `float`. To silence this warning, use `float` by itself. Doing this will not modify any behavior and is safe. If you specifically wanted the numpy scalar type, use `np.float64` here.\n",
      "Deprecated in NumPy 1.20; for more details and guidance: https://numpy.org/devdocs/release/1.20.0-notes.html#deprecations\n",
      "  std[std < np.finfo(np.float).eps] = 1.  # avoid numerical problems\n",
      "/home/hannahcraddock/anaconda3/envs/hannah_env/lib/python3.9/site-packages/nilearn/signal.py:68: DeprecationWarning: `np.float` is a deprecated alias for the builtin `float`. To silence this warning, use `float` by itself. Doing this will not modify any behavior and is safe. If you specifically wanted the numpy scalar type, use `np.float64` here.\n",
      "Deprecated in NumPy 1.20; for more details and guidance: https://numpy.org/devdocs/release/1.20.0-notes.html#deprecations\n",
      "  std[std < np.finfo(np.float).eps] = 1.  # avoid numerical problems\n",
      "/home/hannahcraddock/anaconda3/envs/hannah_env/lib/python3.9/site-packages/nilearn/signal.py:68: DeprecationWarning: `np.float` is a deprecated alias for the builtin `float`. To silence this warning, use `float` by itself. Doing this will not modify any behavior and is safe. If you specifically wanted the numpy scalar type, use `np.float64` here.\n",
      "Deprecated in NumPy 1.20; for more details and guidance: https://numpy.org/devdocs/release/1.20.0-notes.html#deprecations\n",
      "  std[std < np.finfo(np.float).eps] = 1.  # avoid numerical problems\n",
      "/home/hannahcraddock/anaconda3/envs/hannah_env/lib/python3.9/site-packages/nilearn/signal.py:68: DeprecationWarning: `np.float` is a deprecated alias for the builtin `float`. To silence this warning, use `float` by itself. Doing this will not modify any behavior and is safe. If you specifically wanted the numpy scalar type, use `np.float64` here.\n",
      "Deprecated in NumPy 1.20; for more details and guidance: https://numpy.org/devdocs/release/1.20.0-notes.html#deprecations\n",
      "  std[std < np.finfo(np.float).eps] = 1.  # avoid numerical problems\n",
      "/home/hannahcraddock/anaconda3/envs/hannah_env/lib/python3.9/site-packages/nilearn/signal.py:68: DeprecationWarning: `np.float` is a deprecated alias for the builtin `float`. To silence this warning, use `float` by itself. Doing this will not modify any behavior and is safe. If you specifically wanted the numpy scalar type, use `np.float64` here.\n",
      "Deprecated in NumPy 1.20; for more details and guidance: https://numpy.org/devdocs/release/1.20.0-notes.html#deprecations\n",
      "  std[std < np.finfo(np.float).eps] = 1.  # avoid numerical problems\n",
      "/home/hannahcraddock/anaconda3/envs/hannah_env/lib/python3.9/site-packages/nilearn/signal.py:68: DeprecationWarning: `np.float` is a deprecated alias for the builtin `float`. To silence this warning, use `float` by itself. Doing this will not modify any behavior and is safe. If you specifically wanted the numpy scalar type, use `np.float64` here.\n",
      "Deprecated in NumPy 1.20; for more details and guidance: https://numpy.org/devdocs/release/1.20.0-notes.html#deprecations\n",
      "  std[std < np.finfo(np.float).eps] = 1.  # avoid numerical problems\n",
      "/home/hannahcraddock/anaconda3/envs/hannah_env/lib/python3.9/site-packages/nilearn/signal.py:68: DeprecationWarning: `np.float` is a deprecated alias for the builtin `float`. To silence this warning, use `float` by itself. Doing this will not modify any behavior and is safe. If you specifically wanted the numpy scalar type, use `np.float64` here.\n",
      "Deprecated in NumPy 1.20; for more details and guidance: https://numpy.org/devdocs/release/1.20.0-notes.html#deprecations\n",
      "  std[std < np.finfo(np.float).eps] = 1.  # avoid numerical problems\n",
      "/home/hannahcraddock/anaconda3/envs/hannah_env/lib/python3.9/site-packages/nilearn/signal.py:68: DeprecationWarning: `np.float` is a deprecated alias for the builtin `float`. To silence this warning, use `float` by itself. Doing this will not modify any behavior and is safe. If you specifically wanted the numpy scalar type, use `np.float64` here.\n",
      "Deprecated in NumPy 1.20; for more details and guidance: https://numpy.org/devdocs/release/1.20.0-notes.html#deprecations\n",
      "  std[std < np.finfo(np.float).eps] = 1.  # avoid numerical problems\n",
      "/home/hannahcraddock/anaconda3/envs/hannah_env/lib/python3.9/site-packages/nilearn/signal.py:68: DeprecationWarning: `np.float` is a deprecated alias for the builtin `float`. To silence this warning, use `float` by itself. Doing this will not modify any behavior and is safe. If you specifically wanted the numpy scalar type, use `np.float64` here.\n",
      "Deprecated in NumPy 1.20; for more details and guidance: https://numpy.org/devdocs/release/1.20.0-notes.html#deprecations\n",
      "  std[std < np.finfo(np.float).eps] = 1.  # avoid numerical problems\n",
      "/home/hannahcraddock/anaconda3/envs/hannah_env/lib/python3.9/site-packages/nilearn/signal.py:68: DeprecationWarning: `np.float` is a deprecated alias for the builtin `float`. To silence this warning, use `float` by itself. Doing this will not modify any behavior and is safe. If you specifically wanted the numpy scalar type, use `np.float64` here.\n",
      "Deprecated in NumPy 1.20; for more details and guidance: https://numpy.org/devdocs/release/1.20.0-notes.html#deprecations\n",
      "  std[std < np.finfo(np.float).eps] = 1.  # avoid numerical problems\n",
      "/home/hannahcraddock/anaconda3/envs/hannah_env/lib/python3.9/site-packages/nilearn/signal.py:68: DeprecationWarning: `np.float` is a deprecated alias for the builtin `float`. To silence this warning, use `float` by itself. Doing this will not modify any behavior and is safe. If you specifically wanted the numpy scalar type, use `np.float64` here.\n",
      "Deprecated in NumPy 1.20; for more details and guidance: https://numpy.org/devdocs/release/1.20.0-notes.html#deprecations\n",
      "  std[std < np.finfo(np.float).eps] = 1.  # avoid numerical problems\n",
      "/home/hannahcraddock/anaconda3/envs/hannah_env/lib/python3.9/site-packages/nilearn/signal.py:68: DeprecationWarning: `np.float` is a deprecated alias for the builtin `float`. To silence this warning, use `float` by itself. Doing this will not modify any behavior and is safe. If you specifically wanted the numpy scalar type, use `np.float64` here.\n",
      "Deprecated in NumPy 1.20; for more details and guidance: https://numpy.org/devdocs/release/1.20.0-notes.html#deprecations\n",
      "  std[std < np.finfo(np.float).eps] = 1.  # avoid numerical problems\n",
      "/home/hannahcraddock/anaconda3/envs/hannah_env/lib/python3.9/site-packages/nilearn/signal.py:68: DeprecationWarning: `np.float` is a deprecated alias for the builtin `float`. To silence this warning, use `float` by itself. Doing this will not modify any behavior and is safe. If you specifically wanted the numpy scalar type, use `np.float64` here.\n",
      "Deprecated in NumPy 1.20; for more details and guidance: https://numpy.org/devdocs/release/1.20.0-notes.html#deprecations\n",
      "  std[std < np.finfo(np.float).eps] = 1.  # avoid numerical problems\n",
      "/home/hannahcraddock/anaconda3/envs/hannah_env/lib/python3.9/site-packages/nilearn/signal.py:68: DeprecationWarning: `np.float` is a deprecated alias for the builtin `float`. To silence this warning, use `float` by itself. Doing this will not modify any behavior and is safe. If you specifically wanted the numpy scalar type, use `np.float64` here.\n",
      "Deprecated in NumPy 1.20; for more details and guidance: https://numpy.org/devdocs/release/1.20.0-notes.html#deprecations\n",
      "  std[std < np.finfo(np.float).eps] = 1.  # avoid numerical problems\n",
      "/home/hannahcraddock/anaconda3/envs/hannah_env/lib/python3.9/site-packages/nilearn/signal.py:68: DeprecationWarning: `np.float` is a deprecated alias for the builtin `float`. To silence this warning, use `float` by itself. Doing this will not modify any behavior and is safe. If you specifically wanted the numpy scalar type, use `np.float64` here.\n",
      "Deprecated in NumPy 1.20; for more details and guidance: https://numpy.org/devdocs/release/1.20.0-notes.html#deprecations\n",
      "  std[std < np.finfo(np.float).eps] = 1.  # avoid numerical problems\n",
      "/home/hannahcraddock/anaconda3/envs/hannah_env/lib/python3.9/site-packages/nilearn/signal.py:68: DeprecationWarning: `np.float` is a deprecated alias for the builtin `float`. To silence this warning, use `float` by itself. Doing this will not modify any behavior and is safe. If you specifically wanted the numpy scalar type, use `np.float64` here.\n",
      "Deprecated in NumPy 1.20; for more details and guidance: https://numpy.org/devdocs/release/1.20.0-notes.html#deprecations\n",
      "  std[std < np.finfo(np.float).eps] = 1.  # avoid numerical problems\n"
     ]
    },
    {
     "name": "stderr",
     "output_type": "stream",
     "text": [
      "/home/hannahcraddock/anaconda3/envs/hannah_env/lib/python3.9/site-packages/nilearn/signal.py:68: DeprecationWarning: `np.float` is a deprecated alias for the builtin `float`. To silence this warning, use `float` by itself. Doing this will not modify any behavior and is safe. If you specifically wanted the numpy scalar type, use `np.float64` here.\n",
      "Deprecated in NumPy 1.20; for more details and guidance: https://numpy.org/devdocs/release/1.20.0-notes.html#deprecations\n",
      "  std[std < np.finfo(np.float).eps] = 1.  # avoid numerical problems\n",
      "/home/hannahcraddock/anaconda3/envs/hannah_env/lib/python3.9/site-packages/nilearn/signal.py:68: DeprecationWarning: `np.float` is a deprecated alias for the builtin `float`. To silence this warning, use `float` by itself. Doing this will not modify any behavior and is safe. If you specifically wanted the numpy scalar type, use `np.float64` here.\n",
      "Deprecated in NumPy 1.20; for more details and guidance: https://numpy.org/devdocs/release/1.20.0-notes.html#deprecations\n",
      "  std[std < np.finfo(np.float).eps] = 1.  # avoid numerical problems\n",
      "/home/hannahcraddock/anaconda3/envs/hannah_env/lib/python3.9/site-packages/nilearn/signal.py:68: DeprecationWarning: `np.float` is a deprecated alias for the builtin `float`. To silence this warning, use `float` by itself. Doing this will not modify any behavior and is safe. If you specifically wanted the numpy scalar type, use `np.float64` here.\n",
      "Deprecated in NumPy 1.20; for more details and guidance: https://numpy.org/devdocs/release/1.20.0-notes.html#deprecations\n",
      "  std[std < np.finfo(np.float).eps] = 1.  # avoid numerical problems\n"
     ]
    }
   ],
   "source": [
    "#Adjacency matrix \n",
    "root_pth = '/camcan/schaefer_parc/'\n",
    "adj_mat = get_rsfmri_adj_matrix(root_pth)\n",
    "#plot_corr_matrix(adj_mat)"
   ]
  },
  {
   "cell_type": "code",
   "execution_count": 13,
   "metadata": {},
   "outputs": [
    {
     "name": "stderr",
     "output_type": "stream",
     "text": [
      "/home/hannahcraddock/anaconda3/envs/hannah_env/lib/python3.9/site-packages/ipykernel/ipkernel.py:283: DeprecationWarning: `should_run_async` will not call `transform_cell` automatically in the future. Please pass the result to `transformed_cell` argument and any exception that happen during thetransform in `preprocessing_exc_tuple` in IPython 7.17 and above.\n",
      "  and should_run_async(code)\n"
     ]
    },
    {
     "data": {
      "text/plain": [
       "array([[1.        , 0.66113026, 0.56330449, ..., 0.39713195, 0.41305163,\n",
       "        0.35602538],\n",
       "       [0.66113026, 1.        , 0.49029797, ..., 0.43243607, 0.4270859 ,\n",
       "        0.37998365],\n",
       "       [0.56330449, 0.49029797, 1.        , ..., 0.28180731, 0.30937766,\n",
       "        0.26962756],\n",
       "       ...,\n",
       "       [0.39713195, 0.43243607, 0.28180731, ..., 1.        , 0.51323441,\n",
       "        0.51935542],\n",
       "       [0.41305163, 0.4270859 , 0.30937766, ..., 0.51323441, 1.        ,\n",
       "        0.65621766],\n",
       "       [0.35602538, 0.37998365, 0.26962756, ..., 0.51935542, 0.65621766,\n",
       "        1.        ]])"
      ]
     },
     "execution_count": 13,
     "metadata": {},
     "output_type": "execute_result"
    }
   ],
   "source": [
    "adj_mat"
   ]
  },
  {
   "cell_type": "code",
   "execution_count": 15,
   "metadata": {},
   "outputs": [
    {
     "data": {
      "text/plain": [
       "-0.029650910855963202"
      ]
     },
     "execution_count": 15,
     "metadata": {},
     "output_type": "execute_result"
    }
   ],
   "source": [
    "np.min(adj_mat)"
   ]
  },
  {
   "cell_type": "code",
   "execution_count": 2,
   "metadata": {},
   "outputs": [
    {
     "name": "stderr",
     "output_type": "stream",
     "text": [
      "/home/hannahcraddock/anaconda3/envs/hannah_env/lib/python3.9/site-packages/ipykernel/ipkernel.py:283: DeprecationWarning: `should_run_async` will not call `transform_cell` automatically in the future. Please pass the result to `transformed_cell` argument and any exception that happen during thetransform in `preprocessing_exc_tuple` in IPython 7.17 and above.\n",
      "  and should_run_async(code)\n"
     ]
    },
    {
     "name": "stdout",
     "output_type": "stream",
     "text": [
      "(644, 193, 400)\n",
      "644\n"
     ]
    }
   ],
   "source": [
    "#fmri\n",
    "root_pth = '/camcan/schaefer_parc/'\n",
    "fmri_movie, subj_list = get_fmri_data(root_pth, 'Movie')\n",
    "print(np.array(fmri_movie).shape) #(193, 400)\n",
    "print(len(subj_list)) #644 subjects"
   ]
  },
  {
   "cell_type": "code",
   "execution_count": 3,
   "metadata": {},
   "outputs": [
    {
     "name": "stdout",
     "output_type": "stream",
     "text": [
      "N subjects = 644\n"
     ]
    }
   ],
   "source": [
    "#Params\n",
    "TR = 2.47\n",
    "n_subjects = np.array(fmri_movie).shape[0]\n",
    "print(f'N subjects = {n_subjects}')\n",
    "n_regions = np.array(fmri_movie).shape[2] "
   ]
  },
  {
   "cell_type": "code",
   "execution_count": 23,
   "metadata": {},
   "outputs": [
    {
     "name": "stdout",
     "output_type": "stream",
     "text": [
      "Number of blocks = 32\n",
      "Total time = 192\n"
     ]
    }
   ],
   "source": [
    "#Specify block duration\n",
    "block_duration = 6 #16 8#Factor of 192 \n",
    "total_time = fmri_movie.shape[1]\n",
    "n_blocks = total_time // block_duration\n",
    "n_labels = n_blocks\n",
    "print(f'Number of blocks = {n_blocks}')\n",
    "total_time = block_duration*n_blocks #Rounded number \n",
    "print(f'Total time = {total_time}')"
   ]
  },
  {
   "cell_type": "code",
   "execution_count": 24,
   "metadata": {},
   "outputs": [
    {
     "name": "stdout",
     "output_type": "stream",
     "text": [
      "(644, 193, 400)\n"
     ]
    }
   ],
   "source": [
    "print(np.array(fmri_movie).shape) "
   ]
  },
  {
   "cell_type": "code",
   "execution_count": 25,
   "metadata": {},
   "outputs": [],
   "source": [
    "fmri_movie_copy = fmri_movie.copy()"
   ]
  },
  {
   "cell_type": "markdown",
   "metadata": {},
   "source": [
    "##### Inspect data"
   ]
  },
  {
   "cell_type": "code",
   "execution_count": 7,
   "metadata": {},
   "outputs": [
    {
     "data": {
      "text/plain": [
       "(193,)"
      ]
     },
     "execution_count": 7,
     "metadata": {},
     "output_type": "execute_result"
    }
   ],
   "source": [
    "#Original \n",
    "subj1_roi1 = np.array(fmri_movie)[1,:,1]\n",
    "subj1_roi1.shape"
   ]
  },
  {
   "cell_type": "code",
   "execution_count": 8,
   "metadata": {},
   "outputs": [],
   "source": [
    "idx = range(0, len(subj1_roi1))"
   ]
  },
  {
   "cell_type": "code",
   "execution_count": 9,
   "metadata": {},
   "outputs": [
    {
     "data": {
      "text/plain": [
       "[<matplotlib.lines.Line2D at 0x7fea58201370>]"
      ]
     },
     "execution_count": 9,
     "metadata": {},
     "output_type": "execute_result"
    },
    {
     "data": {
      "image/png": "[encoded data removed]",
      "text/plain": [
       "<Figure size 432x288 with 1 Axes>"
      ]
     },
     "metadata": {
      "needs_background": "light"
     },
     "output_type": "display_data"
    }
   ],
   "source": [
    "plt.plot(idx, subj1_roi1)"
   ]
  },
  {
   "cell_type": "code",
   "execution_count": 32,
   "metadata": {},
   "outputs": [
    {
     "data": {
      "text/plain": [
       "(1, 193)"
      ]
     },
     "execution_count": 32,
     "metadata": {},
     "output_type": "execute_result"
    }
   ],
   "source": [
    "np.expand_dims(subj1_roi1, axis = 0)"
   ]
  },
  {
   "cell_type": "code",
   "execution_count": 190,
   "metadata": {},
   "outputs": [
    {
     "name": "stderr",
     "output_type": "stream",
     "text": [
      "/home/hannahcraddock/anaconda3/envs/hannah_env/lib/python3.9/site-packages/ipykernel/ipkernel.py:283: DeprecationWarning: `should_run_async` will not call `transform_cell` automatically in the future. Please pass the result to `transformed_cell` argument and any exception that happen during thetransform in `preprocessing_exc_tuple` in IPython 7.17 and above.\n",
      "  and should_run_async(code)\n"
     ]
    },
    {
     "data": {
      "text/plain": [
       "(193, 1)"
      ]
     },
     "execution_count": 190,
     "metadata": {},
     "output_type": "execute_result"
    }
   ],
   "source": [
    "frmi_roi1 = np.expand_dims(subj1_roi1, axis = 0).T\n",
    "frmi_roi1.shape"
   ]
  },
  {
   "cell_type": "code",
   "execution_count": 181,
   "metadata": {},
   "outputs": [
    {
     "name": "stderr",
     "output_type": "stream",
     "text": [
      "/home/hannahcraddock/anaconda3/envs/hannah_env/lib/python3.9/site-packages/ipykernel/ipkernel.py:283: DeprecationWarning: `should_run_async` will not call `transform_cell` automatically in the future. Please pass the result to `transformed_cell` argument and any exception that happen during thetransform in `preprocessing_exc_tuple` in IPython 7.17 and above.\n",
      "  and should_run_async(code)\n"
     ]
    }
   ],
   "source": [
    "#Normalise\n",
    "scaler = preprocessing.StandardScaler()\n",
    "fmri_data_roi1 = scaler.fit_transform(frmi_roi1)\n",
    "#plt.plot(idx, fmri_data_roi1[0,:])"
   ]
  },
  {
   "cell_type": "code",
   "execution_count": 185,
   "metadata": {},
   "outputs": [
    {
     "name": "stderr",
     "output_type": "stream",
     "text": [
      "/home/hannahcraddock/anaconda3/envs/hannah_env/lib/python3.9/site-packages/ipykernel/ipkernel.py:283: DeprecationWarning: `should_run_async` will not call `transform_cell` automatically in the future. Please pass the result to `transformed_cell` argument and any exception that happen during thetransform in `preprocessing_exc_tuple` in IPython 7.17 and above.\n",
      "  and should_run_async(code)\n"
     ]
    },
    {
     "data": {
      "text/plain": [
       "array([[ 0.13348658],\n",
       "       [ 1.12776914],\n",
       "       [ 1.58932345],\n",
       "       [ 0.98757761],\n",
       "       [ 0.51523949],\n",
       "       [-0.21375741],\n",
       "       [-0.35394895],\n",
       "       [ 0.5583753 ],\n",
       "       [ 0.90130571],\n",
       "       [ 0.54543456],\n",
       "       [ 0.63170619],\n",
       "       [ 0.72876218],\n",
       "       [ 0.10760509],\n",
       "       [ 0.59504088],\n",
       "       [-0.18787592],\n",
       "       [-0.88667748],\n",
       "       [-0.52002224],\n",
       "       [ 0.44190833],\n",
       "       [-0.21375741],\n",
       "       [-1.00098752],\n",
       "       [-0.45531851],\n",
       "       [ 0.26720788],\n",
       "       [-0.55021731],\n",
       "       [-0.98589012],\n",
       "       [-0.70334986],\n",
       "       [-1.17353132],\n",
       "       [-1.4603849 ],\n",
       "       [-1.44313057],\n",
       "       [-0.00670496],\n",
       "       [ 0.53249381],\n",
       "       [ 0.39014535],\n",
       "       [ 0.89267855],\n",
       "       [ 0.54759121],\n",
       "       [-0.47904308],\n",
       "       [-0.52002224],\n",
       "       [ 0.26073764],\n",
       "       [ 0.83875864],\n",
       "       [ 0.71366451],\n",
       "       [ 0.93150078],\n",
       "       [ 0.39877252],\n",
       "       [-0.09513378],\n",
       "       [ 0.8797378 ],\n",
       "       [ 0.39445893],\n",
       "       [ 0.09897793],\n",
       "       [ 0.06878285],\n",
       "       [ 0.95738227],\n",
       "       [ 0.28014862],\n",
       "       [ 0.16152499],\n",
       "       [ 0.70503734],\n",
       "       [ 1.04365417],\n",
       "       [ 1.05443826],\n",
       "       [-0.06493844],\n",
       "       [ 0.27583504],\n",
       "       [ 0.53249381],\n",
       "       [ 0.74170292],\n",
       "       [-0.25473657],\n",
       "       [-0.30865647],\n",
       "       [ 0.47426033],\n",
       "       [ 0.57131605],\n",
       "       [ 0.11191867],\n",
       "       [ 0.3168142 ],\n",
       "       [-0.0584682 ],\n",
       "       [ 0.27152146],\n",
       "       [ 0.76111391],\n",
       "       [ 0.50229847],\n",
       "       [-0.19650308],\n",
       "       [ 0.43112424],\n",
       "       [ 0.57778629],\n",
       "       [-0.24395248],\n",
       "       [ 0.096821  ],\n",
       "       [ 0.64249028],\n",
       "       [ 0.50876898],\n",
       "       [ 0.74385958],\n",
       "       [-0.32806746],\n",
       "       [ 0.35779336],\n",
       "       [-0.12964243],\n",
       "       [ 0.24779689],\n",
       "       [ 0.15505449],\n",
       "       [-0.68825219],\n",
       "       [-1.33529077],\n",
       "       [-0.24610941],\n",
       "       [ 0.5907273 ],\n",
       "       [ 1.27443119],\n",
       "       [ 1.12345556],\n",
       "       [ 0.48504415],\n",
       "       [-0.06925202],\n",
       "       [ 0.00623579],\n",
       "       [ 1.01130217],\n",
       "       [-0.01533212],\n",
       "       [ 0.13780016],\n",
       "       [ 0.71366451],\n",
       "       [ 0.98326403],\n",
       "       [ 1.03287008],\n",
       "       [ 0.9336577 ],\n",
       "       [ 1.79637563],\n",
       "       [ 1.12776914],\n",
       "       [-0.40786885],\n",
       "       [ 0.46347624],\n",
       "       [ 0.70288042],\n",
       "       [ 1.01561575],\n",
       "       [ 0.77621157],\n",
       "       [ 1.03934059],\n",
       "       [ 0.95738227],\n",
       "       [ 0.34269569],\n",
       "       [ 0.51523949],\n",
       "       [-1.12608166],\n",
       "       [ 2.77556053],\n",
       "       [ 0.12485941],\n",
       "       [-0.03258671],\n",
       "       [-0.06062486],\n",
       "       [ 0.27152146],\n",
       "       [-0.20513025],\n",
       "       [-0.78099459],\n",
       "       [ 0.14211374],\n",
       "       [ 0.56700247],\n",
       "       [-0.21807099],\n",
       "       [-0.97294938],\n",
       "       [-2.19369538],\n",
       "       [-1.41940574],\n",
       "       [-0.80687608],\n",
       "       [ 0.12485941],\n",
       "       [-0.96000863],\n",
       "       [-1.41940574],\n",
       "       [ 0.77621157],\n",
       "       [-0.06493844],\n",
       "       [-1.56606805],\n",
       "       [-2.34035742],\n",
       "       [-3.44679337],\n",
       "       [-3.01112056],\n",
       "       [-3.64090481],\n",
       "       [-3.6128664 ],\n",
       "       [-3.17935078],\n",
       "       [-2.50858737],\n",
       "       [-2.21526329],\n",
       "       [-1.16059058],\n",
       "       [ 0.95738227],\n",
       "       [ 0.21975848],\n",
       "       [-0.94706762],\n",
       "       [-0.60845079],\n",
       "       [-0.46394568],\n",
       "       [-0.09297686],\n",
       "       [ 0.34916619],\n",
       "       [ 0.39230201],\n",
       "       [ 0.39014535],\n",
       "       [ 0.21760155],\n",
       "       [ 0.52602331],\n",
       "       [ 0.48073057],\n",
       "       [ 0.24348304],\n",
       "       [ 0.6058247 ],\n",
       "       [ 0.13348658],\n",
       "       [-0.25905015],\n",
       "       [ 0.5044554 ],\n",
       "       [ 0.52170972],\n",
       "       [-0.68178195],\n",
       "       [-1.24039197],\n",
       "       [ 0.23916946],\n",
       "       [ 0.47426033],\n",
       "       [-0.40571219],\n",
       "       [-1.24254863],\n",
       "       [-0.07140895],\n",
       "       [-0.00886188],\n",
       "       [ 0.19387699],\n",
       "       [-1.10020017],\n",
       "       [-0.80040558],\n",
       "       [-0.23101174],\n",
       "       [ 0.33406852],\n",
       "       [ 1.07816282],\n",
       "       [ 1.349919  ],\n",
       "       [-0.47257284],\n",
       "       [-0.19865974],\n",
       "       [-0.46610233],\n",
       "       [ 1.74245573],\n",
       "       [ 0.22407206],\n",
       "       [-0.36473303],\n",
       "       [ 0.10329151],\n",
       "       [ 0.37504768],\n",
       "       [ 1.64755666],\n",
       "       [ 1.02424292],\n",
       "       [ 0.61445186],\n",
       "       [-0.59766697],\n",
       "       [-0.0584682 ],\n",
       "       [-0.19434616],\n",
       "       [ 0.94228487],\n",
       "       [ 0.14211374],\n",
       "       [-0.47688642],\n",
       "       [ 1.12345556],\n",
       "       [ 1.46638597],\n",
       "       [ 0.14427067],\n",
       "       [ 0.43975141],\n",
       "       [ 0.35132285],\n",
       "       [-2.07722841],\n",
       "       [-1.46685541],\n",
       "       [-2.89896744]])"
      ]
     },
     "execution_count": 185,
     "metadata": {},
     "output_type": "execute_result"
    }
   ],
   "source": [
    "fmri_data_roi1"
   ]
  },
  {
   "cell_type": "code",
   "execution_count": 186,
   "metadata": {},
   "outputs": [
    {
     "data": {
      "text/plain": [
       "[<matplotlib.lines.Line2D at 0x7f2e9404bcd0>]"
      ]
     },
     "execution_count": 186,
     "metadata": {},
     "output_type": "execute_result"
    },
    {
     "data": {
      "image/png": "[encoded data removed]",
      "text/plain": [
       "<Figure size 432x288 with 1 Axes>"
      ]
     },
     "metadata": {
      "needs_background": "light"
     },
     "output_type": "display_data"
    }
   ],
   "source": [
    "plt.plot(idx, fmri_data_roi1)"
   ]
  },
  {
   "cell_type": "code",
   "execution_count": 166,
   "metadata": {},
   "outputs": [],
   "source": [
    "#### Detrend data\n",
    "fmri_filtered = nilearn.signal.clean(np.array(fmri_movie_copy)[1,:,:], sessions=None, detrend=True, \n",
    "                                       standardize='psc', confounds=None, low_pass=0.1, \n",
    "                                       high_pass=0.01, t_r=0.392, ensure_finite=False)"
   ]
  },
  {
   "cell_type": "code",
   "execution_count": 165,
   "metadata": {},
   "outputs": [
    {
     "data": {
      "text/plain": [
       "(193, 400)"
      ]
     },
     "execution_count": 165,
     "metadata": {},
     "output_type": "execute_result"
    }
   ],
   "source": [
    "np.array(fmri_movie_copy)[1,:,:].shape"
   ]
  },
  {
   "cell_type": "code",
   "execution_count": 175,
   "metadata": {},
   "outputs": [
    {
     "data": {
      "text/plain": [
       "(1, 193, 1, 1)"
      ]
     },
     "execution_count": 175,
     "metadata": {},
     "output_type": "execute_result"
    }
   ],
   "source": [
    "subj1_roi1 = np.expand_dims(subj1_roi1, axis = 0)\n",
    "subj1_roi1.shape"
   ]
  },
  {
   "cell_type": "code",
   "execution_count": 195,
   "metadata": {},
   "outputs": [],
   "source": [
    "TR = 2.47"
   ]
  },
  {
   "cell_type": "code",
   "execution_count": 196,
   "metadata": {},
   "outputs": [
    {
     "name": "stderr",
     "output_type": "stream",
     "text": [
      "/home/hannahcraddock/anaconda3/envs/hannah_env/lib/python3.9/site-packages/nilearn/signal.py:204: DeprecationWarning: `np.float` is a deprecated alias for the builtin `float`. To silence this warning, use `float` by itself. Doing this will not modify any behavior and is safe. If you specifically wanted the numpy scalar type, use `np.float64` here.\n",
      "Deprecated in NumPy 1.20; for more details and guidance: https://numpy.org/devdocs/release/1.20.0-notes.html#deprecations\n",
      "  if not std < np.finfo(np.float).eps:\n"
     ]
    }
   ],
   "source": [
    "#Filter\n",
    "fmri_roi1_filtered = nilearn.signal.clean(frmi_roi1, sessions=None, detrend=True, \n",
    "                                       standardize='zscore', confounds=None, low_pass=0.1, \n",
    "                                       high_pass=0.01, t_r= TR, ensure_finite=False)"
   ]
  },
  {
   "cell_type": "code",
   "execution_count": 197,
   "metadata": {},
   "outputs": [
    {
     "data": {
      "text/plain": [
       "[<matplotlib.lines.Line2D at 0x7f2e5e4ef9d0>]"
      ]
     },
     "execution_count": 197,
     "metadata": {},
     "output_type": "execute_result"
    },
    {
     "data": {
      "image/png": "[encoded data removed]",
      "text/plain": [
       "<Figure size 432x288 with 1 Axes>"
      ]
     },
     "metadata": {
      "needs_background": "light"
     },
     "output_type": "display_data"
    }
   ],
   "source": [
    "#Filter\n",
    "plt.plot(idx, fmri_roi1_filtered)"
   ]
  },
  {
   "cell_type": "markdown",
   "metadata": {},
   "source": [
    "#### 2. Data loader"
   ]
  },
  {
   "cell_type": "markdown",
   "metadata": {},
   "source": [
    "#i. First working iteration do:\n",
    "- 10 blocks of 19 duration. (drop last 6 secs)\n",
    "- Or do all blocks have to be the same size? "
   ]
  },
  {
   "cell_type": "code",
   "execution_count": null,
   "metadata": {},
   "outputs": [],
   "source": [
    "#Params\n",
    "total_time = np.array(fmri_movie).shape[1]\n",
    "block_duration = 19 #10 blocks #Just need label encoder :) \n",
    "\n",
    "params = {'batch_size': 2,\n",
    "          'shuffle': True,\n",
    "          'num_workers': 1}\n",
    "\n",
    "#target_name = (list(task_contrasts.values()))\n",
    "#print(target_name)\n",
    "Nlabels = total_time/block_duration #DO THEY HAVE TO BE SAME SIZE? # len(target_name) + 1 #Will be number of blocks \n",
    "\n",
    "fmri_train_dataset = HCP_taskfmri_matrix_datasets(fmri_movie, sub100_trial_labels, target_name, block_dura= block_duration, isTrain='train')\n",
    "                \n",
    "train_loader = DataLoader(fmri_train_dataset, collate_fn=fmri_samples_collate_fn, **params)\n",
    "data, label = next(iter(train_loader))\n",
    "print(data.shape,label.shape)"
   ]
  },
  {
   "cell_type": "code",
   "execution_count": null,
   "metadata": {},
   "outputs": [],
   "source": [
    "torch.Size([20, 400, 19]) torch.Size([20]) #Size it should be \n",
    "#torch.Size([20, 360, 17]) torch.Size([20]) #Tutorials"
   ]
  },
  {
   "cell_type": "code",
   "execution_count": 52,
   "metadata": {},
   "outputs": [
    {
     "data": {
      "text/plain": [
       "10.0"
      ]
     },
     "execution_count": 52,
     "metadata": {},
     "output_type": "execute_result"
    }
   ],
   "source": [
    "190/19"
   ]
  },
  {
   "cell_type": "code",
   "execution_count": 133,
   "metadata": {},
   "outputs": [
    {
     "data": {
      "text/plain": [
       "24"
      ]
     },
     "execution_count": 133,
     "metadata": {},
     "output_type": "execute_result"
    }
   ],
   "source": [
    "block_duration = 8 #Factor of 192 #190 19 #38 blocks of duration 5 secs \n",
    "num_blocks = total_time // block_duration\n",
    "num_blocks #19.2  seconds "
   ]
  },
  {
   "cell_type": "code",
   "execution_count": 134,
   "metadata": {},
   "outputs": [
    {
     "data": {
      "text/plain": [
       "192"
      ]
     },
     "execution_count": 134,
     "metadata": {},
     "output_type": "execute_result"
    }
   ],
   "source": [
    "total_time = block_duration*num_blocks\n",
    "total_time"
   ]
  },
  {
   "cell_type": "code",
   "execution_count": 119,
   "metadata": {},
   "outputs": [
    {
     "data": {
      "text/plain": [
       "tensor([[ 0],\n",
       "        [ 1],\n",
       "        [ 2],\n",
       "        [ 3],\n",
       "        [ 4],\n",
       "        [ 5],\n",
       "        [ 6],\n",
       "        [ 7],\n",
       "        [ 8],\n",
       "        [ 9],\n",
       "        [10],\n",
       "        [11],\n",
       "        [12],\n",
       "        [13],\n",
       "        [14],\n",
       "        [15],\n",
       "        [16],\n",
       "        [17],\n",
       "        [18],\n",
       "        [19],\n",
       "        [20],\n",
       "        [21],\n",
       "        [22],\n",
       "        [23]])"
      ]
     },
     "execution_count": 119,
     "metadata": {},
     "output_type": "execute_result"
    }
   ],
   "source": [
    "labels = np.arange(0, num_blocks) \n",
    "tensor_y = torch.stack([torch.LongTensor([labels[ii]]) for ii in range(len(labels))])\n",
    "tensor_y"
   ]
  },
  {
   "cell_type": "code",
   "execution_count": 150,
   "metadata": {},
   "outputs": [
    {
     "data": {
      "text/plain": [
       "torch.Size([24, 1])"
      ]
     },
     "execution_count": 150,
     "metadata": {},
     "output_type": "execute_result"
    }
   ],
   "source": [
    "tensor_y.shape"
   ]
  },
  {
   "cell_type": "code",
   "execution_count": 120,
   "metadata": {},
   "outputs": [
    {
     "data": {
      "text/plain": [
       "array([ 0,  0,  0,  0,  0,  0,  0,  0,  1,  1,  1,  1,  1,  1,  1,  1,  2,\n",
       "        2,  2,  2,  2,  2,  2,  2,  3,  3,  3,  3,  3,  3,  3,  3,  4,  4,\n",
       "        4,  4,  4,  4,  4,  4,  5,  5,  5,  5,  5,  5,  5,  5,  6,  6,  6,\n",
       "        6,  6,  6,  6,  6,  7,  7,  7,  7,  7,  7,  7,  7,  8,  8,  8,  8,\n",
       "        8,  8,  8,  8,  9,  9,  9,  9,  9,  9,  9,  9, 10, 10, 10, 10, 10,\n",
       "       10, 10, 10, 11, 11, 11, 11, 11, 11, 11, 11, 12, 12, 12, 12, 12, 12,\n",
       "       12, 12, 13, 13, 13, 13, 13, 13, 13, 13, 14, 14, 14, 14, 14, 14, 14,\n",
       "       14, 15, 15, 15, 15, 15, 15, 15, 15, 16, 16, 16, 16, 16, 16, 16, 16,\n",
       "       17, 17, 17, 17, 17, 17, 17, 17, 18, 18, 18, 18, 18, 18, 18, 18, 19,\n",
       "       19, 19, 19, 19, 19, 19, 19, 20, 20, 20, 20, 20, 20, 20, 20, 21, 21,\n",
       "       21, 21, 21, 21, 21, 21, 22, 22, 22, 22, 22, 22, 22, 22, 23, 23, 23,\n",
       "       23, 23, 23, 23, 23])"
      ]
     },
     "execution_count": 120,
     "metadata": {},
     "output_type": "execute_result"
    }
   ],
   "source": [
    "label_data = np.repeat(labels, block_duration)\n",
    "label_data"
   ]
  },
  {
   "cell_type": "code",
   "execution_count": 124,
   "metadata": {},
   "outputs": [],
   "source": [
    "block_change = np.diff(label_data)\n",
    "idx_block_change = np.where(block_change)[0] + 1"
   ]
  },
  {
   "cell_type": "code",
   "execution_count": 125,
   "metadata": {},
   "outputs": [
    {
     "data": {
      "text/plain": [
       "array([  8,  16,  24,  32,  40,  48,  56,  64,  72,  80,  88,  96, 104,\n",
       "       112, 120, 128, 136, 144, 152, 160, 168, 176, 184])"
      ]
     },
     "execution_count": 125,
     "metadata": {},
     "output_type": "execute_result"
    }
   ],
   "source": [
    "idx_block_change"
   ]
  },
  {
   "cell_type": "code",
   "execution_count": 126,
   "metadata": {},
   "outputs": [],
   "source": [
    "blocks_labels = np.array(np.split(label_data, idx_block_change))"
   ]
  },
  {
   "cell_type": "code",
   "execution_count": 127,
   "metadata": {},
   "outputs": [
    {
     "data": {
      "text/plain": [
       "(24, 8)"
      ]
     },
     "execution_count": 127,
     "metadata": {},
     "output_type": "execute_result"
    }
   ],
   "source": [
    "blocks_labels.shape"
   ]
  },
  {
   "cell_type": "code",
   "execution_count": 128,
   "metadata": {},
   "outputs": [
    {
     "data": {
      "text/plain": [
       "array([[ 0,  0,  0,  0,  0,  0,  0,  0],\n",
       "       [ 1,  1,  1,  1,  1,  1,  1,  1],\n",
       "       [ 2,  2,  2,  2,  2,  2,  2,  2],\n",
       "       [ 3,  3,  3,  3,  3,  3,  3,  3],\n",
       "       [ 4,  4,  4,  4,  4,  4,  4,  4],\n",
       "       [ 5,  5,  5,  5,  5,  5,  5,  5],\n",
       "       [ 6,  6,  6,  6,  6,  6,  6,  6],\n",
       "       [ 7,  7,  7,  7,  7,  7,  7,  7],\n",
       "       [ 8,  8,  8,  8,  8,  8,  8,  8],\n",
       "       [ 9,  9,  9,  9,  9,  9,  9,  9],\n",
       "       [10, 10, 10, 10, 10, 10, 10, 10],\n",
       "       [11, 11, 11, 11, 11, 11, 11, 11],\n",
       "       [12, 12, 12, 12, 12, 12, 12, 12],\n",
       "       [13, 13, 13, 13, 13, 13, 13, 13],\n",
       "       [14, 14, 14, 14, 14, 14, 14, 14],\n",
       "       [15, 15, 15, 15, 15, 15, 15, 15],\n",
       "       [16, 16, 16, 16, 16, 16, 16, 16],\n",
       "       [17, 17, 17, 17, 17, 17, 17, 17],\n",
       "       [18, 18, 18, 18, 18, 18, 18, 18],\n",
       "       [19, 19, 19, 19, 19, 19, 19, 19],\n",
       "       [20, 20, 20, 20, 20, 20, 20, 20],\n",
       "       [21, 21, 21, 21, 21, 21, 21, 21],\n",
       "       [22, 22, 22, 22, 22, 22, 22, 22],\n",
       "       [23, 23, 23, 23, 23, 23, 23, 23]])"
      ]
     },
     "execution_count": 128,
     "metadata": {},
     "output_type": "execute_result"
    }
   ],
   "source": [
    "blocks_labels"
   ]
  },
  {
   "cell_type": "markdown",
   "metadata": {},
   "source": [
    "#### fmri blocks"
   ]
  },
  {
   "cell_type": "code",
   "execution_count": 129,
   "metadata": {},
   "outputs": [
    {
     "data": {
      "text/plain": [
       "(192, 400)"
      ]
     },
     "execution_count": 129,
     "metadata": {},
     "output_type": "execute_result"
    }
   ],
   "source": [
    "fmri_idx = fmri_movie[1]\n",
    "fmri_idx = fmri_idx[:total_time, :]\n",
    "fmri_idx.shape"
   ]
  },
  {
   "cell_type": "code",
   "execution_count": null,
   "metadata": {},
   "outputs": [],
   "source": [
    "fmri_blocks = np.array(np.array_split(fmri_idx, idx_block_change, axis=0))"
   ]
  },
  {
   "cell_type": "code",
   "execution_count": 131,
   "metadata": {},
   "outputs": [
    {
     "data": {
      "text/plain": [
       "(24, 8, 400)"
      ]
     },
     "execution_count": 131,
     "metadata": {},
     "output_type": "execute_result"
    }
   ],
   "source": [
    "fmri_blocks.shape"
   ]
  },
  {
   "cell_type": "code",
   "execution_count": 136,
   "metadata": {},
   "outputs": [
    {
     "data": {
      "text/plain": [
       "array([[453.811111, 474.580645, 383.830189, ..., 420.545455, 504.779661,\n",
       "        486.12963 ],\n",
       "       [455.944444, 478.298387, 385.      , ..., 421.590909, 509.423729,\n",
       "        488.37037 ],\n",
       "       [458.633333, 480.024194, 385.754717, ..., 426.742424, 514.220339,\n",
       "        489.925926],\n",
       "       ...,\n",
       "       [450.544444, 473.282258, 382.518868, ..., 422.454545, 513.101695,\n",
       "        488.62963 ],\n",
       "       [449.377778, 472.758065, 380.311321, ..., 422.530303, 510.457627,\n",
       "        491.537037],\n",
       "       [451.9     , 476.169355, 381.59434 , ..., 423.606061, 511.152542,\n",
       "        490.685185]])"
      ]
     },
     "execution_count": 136,
     "metadata": {},
     "output_type": "execute_result"
    }
   ],
   "source": [
    "fmri_blocks[0]"
   ]
  },
  {
   "cell_type": "markdown",
   "metadata": {},
   "source": [
    "##### Isolate individual block"
   ]
  },
  {
   "cell_type": "code",
   "execution_count": 199,
   "metadata": {},
   "outputs": [],
   "source": [
    "#Normalise each trial\n",
    "fmri_data = []\n",
    "\n",
    "for t in np.arange(0,fmri_blocks.shape[0]):\n",
    "    fmri_block_t = fmri_blocks[t][:,:] #ti == block, all time points up to num used, All ROIs    \n",
    "    #Filter #Normalise \n",
    "    fmri_block_t = nilearn.signal.clean(fmri_block_t.T, sessions= None, detrend=True, \n",
    "                                       standardize='zscore', confounds=None, low_pass= 0.1, \n",
    "                                       high_pass= 0.01, t_r= TR, ensure_finite=False)\n",
    "    #scaler = preprocessing.StandardScaler()\n",
    "    #fmri_block_t = scaler.fit_transform(fmri_block_t)\n",
    "    fmri_data.append(fmri_block_t)\n",
    "fmri_data = np.array(fmri_data)\n",
    "#fmri_data = np.array(np.vstack(fmri_data_block_new)).astype('float32', casting='same_kind')"
   ]
  },
  {
   "cell_type": "code",
   "execution_count": 200,
   "metadata": {},
   "outputs": [
    {
     "data": {
      "text/plain": [
       "(24, 400, 8)"
      ]
     },
     "execution_count": 200,
     "metadata": {},
     "output_type": "execute_result"
    }
   ],
   "source": [
    "fmri_data.shape"
   ]
  },
  {
   "cell_type": "code",
   "execution_count": 204,
   "metadata": {},
   "outputs": [
    {
     "data": {
      "text/plain": [
       "torch.Size([24, 400, 8])"
      ]
     },
     "execution_count": 204,
     "metadata": {},
     "output_type": "execute_result"
    }
   ],
   "source": [
    "torch.FloatTensor(fmri_data).shape"
   ]
  },
  {
   "cell_type": "code",
   "execution_count": 147,
   "metadata": {},
   "outputs": [
    {
     "name": "stderr",
     "output_type": "stream",
     "text": [
      "/home/hannahcraddock/anaconda3/envs/hannah_env/lib/python3.9/site-packages/ipykernel/ipkernel.py:283: DeprecationWarning: `should_run_async` will not call `transform_cell` automatically in the future. Please pass the result to `transformed_cell` argument and any exception that happen during thetransform in `preprocessing_exc_tuple` in IPython 7.17 and above.\n",
      "  and should_run_async(code)\n"
     ]
    },
    {
     "data": {
      "text/plain": [
       "(24, 8, 400)"
      ]
     },
     "execution_count": 147,
     "metadata": {},
     "output_type": "execute_result"
    }
   ],
   "source": [
    "fmri_data.shape"
   ]
  },
  {
   "cell_type": "code",
   "execution_count": 137,
   "metadata": {},
   "outputs": [
    {
     "data": {
      "text/plain": [
       "(8, 400)"
      ]
     },
     "execution_count": 137,
     "metadata": {},
     "output_type": "execute_result"
    }
   ],
   "source": [
    "fmri_blockX = fmri_blocks[1][:, :]\n",
    "fmri_blockX.shape"
   ]
  },
  {
   "cell_type": "code",
   "execution_count": 113,
   "metadata": {},
   "outputs": [
    {
     "data": {
      "text/plain": [
       "38.0"
      ]
     },
     "execution_count": 113,
     "metadata": {},
     "output_type": "execute_result"
    }
   ],
   "source": [
    "190/5"
   ]
  },
  {
   "cell_type": "code",
   "execution_count": 149,
   "metadata": {},
   "outputs": [
    {
     "data": {
      "text/plain": [
       "(24, 8, 400)"
      ]
     },
     "execution_count": 149,
     "metadata": {},
     "output_type": "execute_result"
    }
   ],
   "source": [
    "fmri_data.shape"
   ]
  },
  {
   "cell_type": "code",
   "execution_count": 153,
   "metadata": {},
   "outputs": [
    {
     "data": {
      "text/plain": [
       "(400, 8)"
      ]
     },
     "execution_count": 153,
     "metadata": {},
     "output_type": "execute_result"
    }
   ],
   "source": [
    "fmri_data[1].T.shape"
   ]
  },
  {
   "cell_type": "code",
   "execution_count": 154,
   "metadata": {},
   "outputs": [
    {
     "data": {
      "text/plain": [
       "192"
      ]
     },
     "execution_count": 154,
     "metadata": {},
     "output_type": "execute_result"
    }
   ],
   "source": [
    "len(label_data)"
   ]
  },
  {
   "cell_type": "code",
   "execution_count": 155,
   "metadata": {},
   "outputs": [
    {
     "data": {
      "text/plain": [
       "torch.Size([24, 400, 8])"
      ]
     },
     "execution_count": 155,
     "metadata": {},
     "output_type": "execute_result"
    }
   ],
   "source": [
    "tensorX = torch.stack([torch.FloatTensor(fmri_data[i].transpose()) for i in range(fmri_data.shape[0])])\n",
    "tensorX.shape"
   ]
  },
  {
   "cell_type": "markdown",
   "metadata": {},
   "source": [
    "#### Loop"
   ]
  },
  {
   "cell_type": "code",
   "execution_count": null,
   "metadata": {},
   "outputs": [],
   "source": [
    "#Normalise each trial\n",
    "fmri_data_block_new = []\n",
    "\n",
    "for t in arange(0,fmri_blocks.shape[0]):\n",
    "    print('t')\n",
    "    fmri_block_t = fmri_blocks[t][:,:] #ti == block, all time points up to num used, All ROIs    \n",
    "    #Normalise \n",
    "    scaler = preprocessing.StandardScaler()\n",
    "    fmri_block_t = scaler.fit_transform(fmri_block_t)\n",
    "    fmri_data_block_new.append(fmri_block_X)\n",
    "fmri_data = np.array(np.vstack(fmri_data_block_new)).astype('float32', casting='same_kind')"
   ]
  },
  {
   "cell_type": "code",
   "execution_count": null,
   "metadata": {},
   "outputs": [],
   "source": []
  },
  {
   "cell_type": "code",
   "execution_count": null,
   "metadata": {},
   "outputs": [],
   "source": []
  },
  {
   "cell_type": "code",
   "execution_count": null,
   "metadata": {},
   "outputs": [],
   "source": [
    "#Params\n",
    "params = {'batch_size': 2,\n",
    "          'shuffle': True,\n",
    "          'num_workers': 1}\n",
    "\n",
    "#target_name = (list(task_contrasts.values()))\n",
    "#print(target_name)\n",
    "Nlabels = len(target_name) + 1 #Will be number of blocks \n",
    "\n",
    "fmri_train_dataset = HCP_taskfmri_matrix_datasets(sub100_tc_matrix, sub100_trial_labels, target_name, block_dura=17, isTrain='train')\n",
    "                \n",
    "train_loader = DataLoader(fmri_train_dataset, collate_fn=fmri_samples_collate_fn, **params)\n",
    "data,label = next(iter(train_loader))\n",
    "print(data.shape,label.shape)"
   ]
  },
  {
   "cell_type": "markdown",
   "metadata": {},
   "source": [
    "### ii. Train & Test sets"
   ]
  },
  {
   "cell_type": "code",
   "execution_count": 26,
   "metadata": {},
   "outputs": [
    {
     "name": "stdout",
     "output_type": "stream",
     "text": [
      "Training on 515 subjects, Testing on 129 subjects\n"
     ]
    }
   ],
   "source": [
    "#Split into train and test \n",
    "params = {'batch_size': 2, \n",
    "          'shuffle': True,\n",
    "          'num_workers': 2}\n",
    "\n",
    "test_size = 0.2\n",
    "randomseed= 12345\n",
    "rs = np.random.RandomState(randomseed)\n",
    "#Training/Test indices\n",
    "train_idx, test_idx = train_test_split(range(n_subjects), test_size = test_size, random_state=rs, shuffle=True)\n",
    "print('Training on %d subjects, Testing on %d subjects' % (len(train_idx), len(test_idx)))"
   ]
  },
  {
   "cell_type": "code",
   "execution_count": 27,
   "metadata": {},
   "outputs": [],
   "source": [
    "#Train set\n",
    "fmri_data_train = [fmri_movie[i] for i in train_idx] #Training subjects \n",
    "fmri_train = Fmri_dataset(fmri_data_train, TR, block_duration)\n",
    "train_loader = DataLoader(fmri_train, collate_fn = fmri_samples_collate_fn, **params)\n",
    "\n",
    "#Test set\n",
    "fmri_data_test = [fmri_movie[i] for i in test_idx]\n",
    "fmri_test = Fmri_dataset(fmri_data_test, TR, block_duration)\n",
    "test_loader = DataLoader(fmri_test, collate_fn=fmri_samples_collate_fn, **params)"
   ]
  },
  {
   "cell_type": "code",
   "execution_count": 20,
   "metadata": {},
   "outputs": [
    {
     "data": {
      "text/plain": [
       "(515, 193, 400)"
      ]
     },
     "execution_count": 20,
     "metadata": {},
     "output_type": "execute_result"
    }
   ],
   "source": [
    "np.array(fmri_data_train).shape"
   ]
  },
  {
   "cell_type": "markdown",
   "metadata": {},
   "source": [
    "### Part 2: Train Models"
   ]
  },
  {
   "cell_type": "markdown",
   "metadata": {},
   "source": [
    "### 1. FCN"
   ]
  },
  {
   "cell_type": "markdown",
   "metadata": {},
   "source": [
    "##### Block duration = 8*TR"
   ]
  },
  {
   "cell_type": "code",
   "execution_count": 11,
   "metadata": {},
   "outputs": [
    {
     "name": "stdout",
     "output_type": "stream",
     "text": [
      "cpu\n",
      "FCN(\n",
      "  (linear): Linear(in_features=400, out_features=128, bias=True)\n",
      "  (hidden2label): Sequential(\n",
      "    (0): Linear(in_features=128, out_features=32, bias=True)\n",
      "    (1): ReLU(inplace=True)\n",
      "    (2): Dropout(p=0.5, inplace=False)\n",
      "    (3): Linear(in_features=32, out_features=24, bias=True)\n",
      "  )\n",
      ")\n",
      "56248 paramters to be trained in the model\n",
      "\n"
     ]
    },
    {
     "name": "stderr",
     "output_type": "stream",
     "text": [
      "/home/hannahcraddock/anaconda3/envs/hannah_env/lib/python3.9/site-packages/nilearn/signal.py:204: DeprecationWarning: `np.float` is a deprecated alias for the builtin `float`. To silence this warning, use `float` by itself. Doing this will not modify any behavior and is safe. If you specifically wanted the numpy scalar type, use `np.float64` here.\n",
      "Deprecated in NumPy 1.20; for more details and guidance: https://numpy.org/devdocs/release/1.20.0-notes.html#deprecations\n",
      "  if not std < np.finfo(np.float).eps:\n",
      "/home/hannahcraddock/anaconda3/envs/hannah_env/lib/python3.9/site-packages/nilearn/signal.py:204: DeprecationWarning: `np.float` is a deprecated alias for the builtin `float`. To silence this warning, use `float` by itself. Doing this will not modify any behavior and is safe. If you specifically wanted the numpy scalar type, use `np.float64` here.\n",
      "Deprecated in NumPy 1.20; for more details and guidance: https://numpy.org/devdocs/release/1.20.0-notes.html#deprecations\n",
      "  if not std < np.finfo(np.float).eps:\n"
     ]
    },
    {
     "name": "stdout",
     "output_type": "stream",
     "text": [
      "\n",
      "Epoch 0: \n",
      "Time Usage:15.016051 | Training Loss 0.066392 | Acc 0.040453\n"
     ]
    },
    {
     "name": "stderr",
     "output_type": "stream",
     "text": [
      "/home/hannahcraddock/anaconda3/envs/hannah_env/lib/python3.9/site-packages/nilearn/signal.py:204: DeprecationWarning: `np.float` is a deprecated alias for the builtin `float`. To silence this warning, use `float` by itself. Doing this will not modify any behavior and is safe. If you specifically wanted the numpy scalar type, use `np.float64` here.\n",
      "Deprecated in NumPy 1.20; for more details and guidance: https://numpy.org/devdocs/release/1.20.0-notes.html#deprecations\n",
      "  if not std < np.finfo(np.float).eps:\n",
      "/home/hannahcraddock/anaconda3/envs/hannah_env/lib/python3.9/site-packages/nilearn/signal.py:204: DeprecationWarning: `np.float` is a deprecated alias for the builtin `float`. To silence this warning, use `float` by itself. Doing this will not modify any behavior and is safe. If you specifically wanted the numpy scalar type, use `np.float64` here.\n",
      "Deprecated in NumPy 1.20; for more details and guidance: https://numpy.org/devdocs/release/1.20.0-notes.html#deprecations\n",
      "  if not std < np.finfo(np.float).eps:\n"
     ]
    },
    {
     "name": "stdout",
     "output_type": "stream",
     "text": [
      "Test Loss 0.066739 | Acc 0.041667\n",
      "Model updated: Best-Acc = 0.041667\n"
     ]
    },
    {
     "name": "stderr",
     "output_type": "stream",
     "text": [
      "/home/hannahcraddock/anaconda3/envs/hannah_env/lib/python3.9/site-packages/nilearn/signal.py:204: DeprecationWarning: `np.float` is a deprecated alias for the builtin `float`. To silence this warning, use `float` by itself. Doing this will not modify any behavior and is safe. If you specifically wanted the numpy scalar type, use `np.float64` here.\n",
      "Deprecated in NumPy 1.20; for more details and guidance: https://numpy.org/devdocs/release/1.20.0-notes.html#deprecations\n",
      "  if not std < np.finfo(np.float).eps:\n",
      "/home/hannahcraddock/anaconda3/envs/hannah_env/lib/python3.9/site-packages/nilearn/signal.py:204: DeprecationWarning: `np.float` is a deprecated alias for the builtin `float`. To silence this warning, use `float` by itself. Doing this will not modify any behavior and is safe. If you specifically wanted the numpy scalar type, use `np.float64` here.\n",
      "Deprecated in NumPy 1.20; for more details and guidance: https://numpy.org/devdocs/release/1.20.0-notes.html#deprecations\n",
      "  if not std < np.finfo(np.float).eps:\n"
     ]
    },
    {
     "name": "stdout",
     "output_type": "stream",
     "text": [
      "\n",
      "Epoch 1: \n",
      "Time Usage:15.029435 | Training Loss 0.066353 | Acc 0.042395\n"
     ]
    },
    {
     "name": "stderr",
     "output_type": "stream",
     "text": [
      "/home/hannahcraddock/anaconda3/envs/hannah_env/lib/python3.9/site-packages/nilearn/signal.py:204: DeprecationWarning: `np.float` is a deprecated alias for the builtin `float`. To silence this warning, use `float` by itself. Doing this will not modify any behavior and is safe. If you specifically wanted the numpy scalar type, use `np.float64` here.\n",
      "Deprecated in NumPy 1.20; for more details and guidance: https://numpy.org/devdocs/release/1.20.0-notes.html#deprecations\n",
      "  if not std < np.finfo(np.float).eps:\n",
      "/home/hannahcraddock/anaconda3/envs/hannah_env/lib/python3.9/site-packages/nilearn/signal.py:204: DeprecationWarning: `np.float` is a deprecated alias for the builtin `float`. To silence this warning, use `float` by itself. Doing this will not modify any behavior and is safe. If you specifically wanted the numpy scalar type, use `np.float64` here.\n",
      "Deprecated in NumPy 1.20; for more details and guidance: https://numpy.org/devdocs/release/1.20.0-notes.html#deprecations\n",
      "  if not std < np.finfo(np.float).eps:\n"
     ]
    },
    {
     "name": "stdout",
     "output_type": "stream",
     "text": [
      "Test Loss 0.066723 | Acc 0.041667\n"
     ]
    },
    {
     "name": "stderr",
     "output_type": "stream",
     "text": [
      "/home/hannahcraddock/anaconda3/envs/hannah_env/lib/python3.9/site-packages/nilearn/signal.py:204: DeprecationWarning: `np.float` is a deprecated alias for the builtin `float`. To silence this warning, use `float` by itself. Doing this will not modify any behavior and is safe. If you specifically wanted the numpy scalar type, use `np.float64` here.\n",
      "Deprecated in NumPy 1.20; for more details and guidance: https://numpy.org/devdocs/release/1.20.0-notes.html#deprecations\n",
      "  if not std < np.finfo(np.float).eps:\n",
      "/home/hannahcraddock/anaconda3/envs/hannah_env/lib/python3.9/site-packages/nilearn/signal.py:204: DeprecationWarning: `np.float` is a deprecated alias for the builtin `float`. To silence this warning, use `float` by itself. Doing this will not modify any behavior and is safe. If you specifically wanted the numpy scalar type, use `np.float64` here.\n",
      "Deprecated in NumPy 1.20; for more details and guidance: https://numpy.org/devdocs/release/1.20.0-notes.html#deprecations\n",
      "  if not std < np.finfo(np.float).eps:\n"
     ]
    },
    {
     "name": "stdout",
     "output_type": "stream",
     "text": [
      "\n",
      "Epoch 2: \n",
      "Time Usage:14.820525 | Training Loss 0.066342 | Acc 0.042718\n"
     ]
    },
    {
     "name": "stderr",
     "output_type": "stream",
     "text": [
      "/home/hannahcraddock/anaconda3/envs/hannah_env/lib/python3.9/site-packages/nilearn/signal.py:204: DeprecationWarning: `np.float` is a deprecated alias for the builtin `float`. To silence this warning, use `float` by itself. Doing this will not modify any behavior and is safe. If you specifically wanted the numpy scalar type, use `np.float64` here.\n",
      "Deprecated in NumPy 1.20; for more details and guidance: https://numpy.org/devdocs/release/1.20.0-notes.html#deprecations\n",
      "  if not std < np.finfo(np.float).eps:\n",
      "/home/hannahcraddock/anaconda3/envs/hannah_env/lib/python3.9/site-packages/nilearn/signal.py:204: DeprecationWarning: `np.float` is a deprecated alias for the builtin `float`. To silence this warning, use `float` by itself. Doing this will not modify any behavior and is safe. If you specifically wanted the numpy scalar type, use `np.float64` here.\n",
      "Deprecated in NumPy 1.20; for more details and guidance: https://numpy.org/devdocs/release/1.20.0-notes.html#deprecations\n",
      "  if not std < np.finfo(np.float).eps:\n"
     ]
    },
    {
     "name": "stdout",
     "output_type": "stream",
     "text": [
      "Test Loss 0.066723 | Acc 0.042313\n",
      "Model updated: Best-Acc = 0.042313\n"
     ]
    },
    {
     "name": "stderr",
     "output_type": "stream",
     "text": [
      "/home/hannahcraddock/anaconda3/envs/hannah_env/lib/python3.9/site-packages/nilearn/signal.py:204: DeprecationWarning: `np.float` is a deprecated alias for the builtin `float`. To silence this warning, use `float` by itself. Doing this will not modify any behavior and is safe. If you specifically wanted the numpy scalar type, use `np.float64` here.\n",
      "Deprecated in NumPy 1.20; for more details and guidance: https://numpy.org/devdocs/release/1.20.0-notes.html#deprecations\n",
      "  if not std < np.finfo(np.float).eps:\n",
      "/home/hannahcraddock/anaconda3/envs/hannah_env/lib/python3.9/site-packages/nilearn/signal.py:204: DeprecationWarning: `np.float` is a deprecated alias for the builtin `float`. To silence this warning, use `float` by itself. Doing this will not modify any behavior and is safe. If you specifically wanted the numpy scalar type, use `np.float64` here.\n",
      "Deprecated in NumPy 1.20; for more details and guidance: https://numpy.org/devdocs/release/1.20.0-notes.html#deprecations\n",
      "  if not std < np.finfo(np.float).eps:\n"
     ]
    },
    {
     "name": "stdout",
     "output_type": "stream",
     "text": [
      "\n",
      "Epoch 3: \n",
      "Time Usage:15.228267 | Training Loss 0.066338 | Acc 0.042233\n"
     ]
    },
    {
     "name": "stderr",
     "output_type": "stream",
     "text": [
      "/home/hannahcraddock/anaconda3/envs/hannah_env/lib/python3.9/site-packages/nilearn/signal.py:204: DeprecationWarning: `np.float` is a deprecated alias for the builtin `float`. To silence this warning, use `float` by itself. Doing this will not modify any behavior and is safe. If you specifically wanted the numpy scalar type, use `np.float64` here.\n",
      "Deprecated in NumPy 1.20; for more details and guidance: https://numpy.org/devdocs/release/1.20.0-notes.html#deprecations\n",
      "  if not std < np.finfo(np.float).eps:\n",
      "/home/hannahcraddock/anaconda3/envs/hannah_env/lib/python3.9/site-packages/nilearn/signal.py:204: DeprecationWarning: `np.float` is a deprecated alias for the builtin `float`. To silence this warning, use `float` by itself. Doing this will not modify any behavior and is safe. If you specifically wanted the numpy scalar type, use `np.float64` here.\n",
      "Deprecated in NumPy 1.20; for more details and guidance: https://numpy.org/devdocs/release/1.20.0-notes.html#deprecations\n",
      "  if not std < np.finfo(np.float).eps:\n"
     ]
    },
    {
     "name": "stdout",
     "output_type": "stream",
     "text": [
      "Test Loss 0.066723 | Acc 0.041667\n"
     ]
    },
    {
     "name": "stderr",
     "output_type": "stream",
     "text": [
      "/home/hannahcraddock/anaconda3/envs/hannah_env/lib/python3.9/site-packages/nilearn/signal.py:204: DeprecationWarning: `np.float` is a deprecated alias for the builtin `float`. To silence this warning, use `float` by itself. Doing this will not modify any behavior and is safe. If you specifically wanted the numpy scalar type, use `np.float64` here.\n",
      "Deprecated in NumPy 1.20; for more details and guidance: https://numpy.org/devdocs/release/1.20.0-notes.html#deprecations\n",
      "  if not std < np.finfo(np.float).eps:\n",
      "/home/hannahcraddock/anaconda3/envs/hannah_env/lib/python3.9/site-packages/nilearn/signal.py:204: DeprecationWarning: `np.float` is a deprecated alias for the builtin `float`. To silence this warning, use `float` by itself. Doing this will not modify any behavior and is safe. If you specifically wanted the numpy scalar type, use `np.float64` here.\n",
      "Deprecated in NumPy 1.20; for more details and guidance: https://numpy.org/devdocs/release/1.20.0-notes.html#deprecations\n",
      "  if not std < np.finfo(np.float).eps:\n"
     ]
    },
    {
     "name": "stdout",
     "output_type": "stream",
     "text": [
      "\n",
      "Epoch 4: \n",
      "Time Usage:14.902706 | Training Loss 0.066341 | Acc 0.041181\n"
     ]
    },
    {
     "name": "stderr",
     "output_type": "stream",
     "text": [
      "/home/hannahcraddock/anaconda3/envs/hannah_env/lib/python3.9/site-packages/nilearn/signal.py:204: DeprecationWarning: `np.float` is a deprecated alias for the builtin `float`. To silence this warning, use `float` by itself. Doing this will not modify any behavior and is safe. If you specifically wanted the numpy scalar type, use `np.float64` here.\n",
      "Deprecated in NumPy 1.20; for more details and guidance: https://numpy.org/devdocs/release/1.20.0-notes.html#deprecations\n",
      "  if not std < np.finfo(np.float).eps:\n",
      "/home/hannahcraddock/anaconda3/envs/hannah_env/lib/python3.9/site-packages/nilearn/signal.py:204: DeprecationWarning: `np.float` is a deprecated alias for the builtin `float`. To silence this warning, use `float` by itself. Doing this will not modify any behavior and is safe. If you specifically wanted the numpy scalar type, use `np.float64` here.\n",
      "Deprecated in NumPy 1.20; for more details and guidance: https://numpy.org/devdocs/release/1.20.0-notes.html#deprecations\n",
      "  if not std < np.finfo(np.float).eps:\n"
     ]
    },
    {
     "name": "stdout",
     "output_type": "stream",
     "text": [
      "Test Loss 0.066723 | Acc 0.041667\n"
     ]
    },
    {
     "name": "stderr",
     "output_type": "stream",
     "text": [
      "/home/hannahcraddock/anaconda3/envs/hannah_env/lib/python3.9/site-packages/nilearn/signal.py:204: DeprecationWarning: `np.float` is a deprecated alias for the builtin `float`. To silence this warning, use `float` by itself. Doing this will not modify any behavior and is safe. If you specifically wanted the numpy scalar type, use `np.float64` here.\n",
      "Deprecated in NumPy 1.20; for more details and guidance: https://numpy.org/devdocs/release/1.20.0-notes.html#deprecations\n",
      "  if not std < np.finfo(np.float).eps:\n",
      "/home/hannahcraddock/anaconda3/envs/hannah_env/lib/python3.9/site-packages/nilearn/signal.py:204: DeprecationWarning: `np.float` is a deprecated alias for the builtin `float`. To silence this warning, use `float` by itself. Doing this will not modify any behavior and is safe. If you specifically wanted the numpy scalar type, use `np.float64` here.\n",
      "Deprecated in NumPy 1.20; for more details and guidance: https://numpy.org/devdocs/release/1.20.0-notes.html#deprecations\n",
      "  if not std < np.finfo(np.float).eps:\n"
     ]
    },
    {
     "name": "stdout",
     "output_type": "stream",
     "text": [
      "\n",
      "Epoch 5: \n",
      "Time Usage:14.879913 | Training Loss 0.066339 | Acc 0.042638\n"
     ]
    },
    {
     "name": "stderr",
     "output_type": "stream",
     "text": [
      "/home/hannahcraddock/anaconda3/envs/hannah_env/lib/python3.9/site-packages/nilearn/signal.py:204: DeprecationWarning: `np.float` is a deprecated alias for the builtin `float`. To silence this warning, use `float` by itself. Doing this will not modify any behavior and is safe. If you specifically wanted the numpy scalar type, use `np.float64` here.\n",
      "Deprecated in NumPy 1.20; for more details and guidance: https://numpy.org/devdocs/release/1.20.0-notes.html#deprecations\n",
      "  if not std < np.finfo(np.float).eps:\n",
      "/home/hannahcraddock/anaconda3/envs/hannah_env/lib/python3.9/site-packages/nilearn/signal.py:204: DeprecationWarning: `np.float` is a deprecated alias for the builtin `float`. To silence this warning, use `float` by itself. Doing this will not modify any behavior and is safe. If you specifically wanted the numpy scalar type, use `np.float64` here.\n",
      "Deprecated in NumPy 1.20; for more details and guidance: https://numpy.org/devdocs/release/1.20.0-notes.html#deprecations\n",
      "  if not std < np.finfo(np.float).eps:\n"
     ]
    },
    {
     "name": "stdout",
     "output_type": "stream",
     "text": [
      "Test Loss 0.066723 | Acc 0.041667\n"
     ]
    },
    {
     "name": "stderr",
     "output_type": "stream",
     "text": [
      "/home/hannahcraddock/anaconda3/envs/hannah_env/lib/python3.9/site-packages/nilearn/signal.py:204: DeprecationWarning: `np.float` is a deprecated alias for the builtin `float`. To silence this warning, use `float` by itself. Doing this will not modify any behavior and is safe. If you specifically wanted the numpy scalar type, use `np.float64` here.\n",
      "Deprecated in NumPy 1.20; for more details and guidance: https://numpy.org/devdocs/release/1.20.0-notes.html#deprecations\n",
      "  if not std < np.finfo(np.float).eps:\n",
      "/home/hannahcraddock/anaconda3/envs/hannah_env/lib/python3.9/site-packages/nilearn/signal.py:204: DeprecationWarning: `np.float` is a deprecated alias for the builtin `float`. To silence this warning, use `float` by itself. Doing this will not modify any behavior and is safe. If you specifically wanted the numpy scalar type, use `np.float64` here.\n",
      "Deprecated in NumPy 1.20; for more details and guidance: https://numpy.org/devdocs/release/1.20.0-notes.html#deprecations\n",
      "  if not std < np.finfo(np.float).eps:\n"
     ]
    },
    {
     "name": "stdout",
     "output_type": "stream",
     "text": [
      "\n",
      "Epoch 6: \n",
      "Time Usage:15.070377 | Training Loss 0.066341 | Acc 0.042880\n"
     ]
    },
    {
     "name": "stderr",
     "output_type": "stream",
     "text": [
      "/home/hannahcraddock/anaconda3/envs/hannah_env/lib/python3.9/site-packages/nilearn/signal.py:204: DeprecationWarning: `np.float` is a deprecated alias for the builtin `float`. To silence this warning, use `float` by itself. Doing this will not modify any behavior and is safe. If you specifically wanted the numpy scalar type, use `np.float64` here.\n",
      "Deprecated in NumPy 1.20; for more details and guidance: https://numpy.org/devdocs/release/1.20.0-notes.html#deprecations\n",
      "  if not std < np.finfo(np.float).eps:\n",
      "/home/hannahcraddock/anaconda3/envs/hannah_env/lib/python3.9/site-packages/nilearn/signal.py:204: DeprecationWarning: `np.float` is a deprecated alias for the builtin `float`. To silence this warning, use `float` by itself. Doing this will not modify any behavior and is safe. If you specifically wanted the numpy scalar type, use `np.float64` here.\n",
      "Deprecated in NumPy 1.20; for more details and guidance: https://numpy.org/devdocs/release/1.20.0-notes.html#deprecations\n",
      "  if not std < np.finfo(np.float).eps:\n"
     ]
    },
    {
     "name": "stdout",
     "output_type": "stream",
     "text": [
      "Test Loss 0.066723 | Acc 0.041021\n"
     ]
    },
    {
     "name": "stderr",
     "output_type": "stream",
     "text": [
      "/home/hannahcraddock/anaconda3/envs/hannah_env/lib/python3.9/site-packages/nilearn/signal.py:204: DeprecationWarning: `np.float` is a deprecated alias for the builtin `float`. To silence this warning, use `float` by itself. Doing this will not modify any behavior and is safe. If you specifically wanted the numpy scalar type, use `np.float64` here.\n",
      "Deprecated in NumPy 1.20; for more details and guidance: https://numpy.org/devdocs/release/1.20.0-notes.html#deprecations\n",
      "  if not std < np.finfo(np.float).eps:\n",
      "/home/hannahcraddock/anaconda3/envs/hannah_env/lib/python3.9/site-packages/nilearn/signal.py:204: DeprecationWarning: `np.float` is a deprecated alias for the builtin `float`. To silence this warning, use `float` by itself. Doing this will not modify any behavior and is safe. If you specifically wanted the numpy scalar type, use `np.float64` here.\n",
      "Deprecated in NumPy 1.20; for more details and guidance: https://numpy.org/devdocs/release/1.20.0-notes.html#deprecations\n",
      "  if not std < np.finfo(np.float).eps:\n"
     ]
    },
    {
     "name": "stdout",
     "output_type": "stream",
     "text": [
      "\n",
      "Epoch 7: \n",
      "Time Usage:15.363606 | Training Loss 0.066345 | Acc 0.039482\n"
     ]
    },
    {
     "name": "stderr",
     "output_type": "stream",
     "text": [
      "/home/hannahcraddock/anaconda3/envs/hannah_env/lib/python3.9/site-packages/nilearn/signal.py:204: DeprecationWarning: `np.float` is a deprecated alias for the builtin `float`. To silence this warning, use `float` by itself. Doing this will not modify any behavior and is safe. If you specifically wanted the numpy scalar type, use `np.float64` here.\n",
      "Deprecated in NumPy 1.20; for more details and guidance: https://numpy.org/devdocs/release/1.20.0-notes.html#deprecations\n",
      "  if not std < np.finfo(np.float).eps:\n",
      "/home/hannahcraddock/anaconda3/envs/hannah_env/lib/python3.9/site-packages/nilearn/signal.py:204: DeprecationWarning: `np.float` is a deprecated alias for the builtin `float`. To silence this warning, use `float` by itself. Doing this will not modify any behavior and is safe. If you specifically wanted the numpy scalar type, use `np.float64` here.\n",
      "Deprecated in NumPy 1.20; for more details and guidance: https://numpy.org/devdocs/release/1.20.0-notes.html#deprecations\n",
      "  if not std < np.finfo(np.float).eps:\n"
     ]
    },
    {
     "name": "stdout",
     "output_type": "stream",
     "text": [
      "Test Loss 0.066723 | Acc 0.041344\n"
     ]
    },
    {
     "name": "stderr",
     "output_type": "stream",
     "text": [
      "/home/hannahcraddock/anaconda3/envs/hannah_env/lib/python3.9/site-packages/nilearn/signal.py:204: DeprecationWarning: `np.float` is a deprecated alias for the builtin `float`. To silence this warning, use `float` by itself. Doing this will not modify any behavior and is safe. If you specifically wanted the numpy scalar type, use `np.float64` here.\n",
      "Deprecated in NumPy 1.20; for more details and guidance: https://numpy.org/devdocs/release/1.20.0-notes.html#deprecations\n",
      "  if not std < np.finfo(np.float).eps:\n",
      "/home/hannahcraddock/anaconda3/envs/hannah_env/lib/python3.9/site-packages/nilearn/signal.py:204: DeprecationWarning: `np.float` is a deprecated alias for the builtin `float`. To silence this warning, use `float` by itself. Doing this will not modify any behavior and is safe. If you specifically wanted the numpy scalar type, use `np.float64` here.\n",
      "Deprecated in NumPy 1.20; for more details and guidance: https://numpy.org/devdocs/release/1.20.0-notes.html#deprecations\n",
      "  if not std < np.finfo(np.float).eps:\n"
     ]
    },
    {
     "name": "stdout",
     "output_type": "stream",
     "text": [
      "\n",
      "Epoch 8: \n",
      "Time Usage:15.301696 | Training Loss 0.066342 | Acc 0.039725\n"
     ]
    },
    {
     "name": "stderr",
     "output_type": "stream",
     "text": [
      "/home/hannahcraddock/anaconda3/envs/hannah_env/lib/python3.9/site-packages/nilearn/signal.py:204: DeprecationWarning: `np.float` is a deprecated alias for the builtin `float`. To silence this warning, use `float` by itself. Doing this will not modify any behavior and is safe. If you specifically wanted the numpy scalar type, use `np.float64` here.\n",
      "Deprecated in NumPy 1.20; for more details and guidance: https://numpy.org/devdocs/release/1.20.0-notes.html#deprecations\n",
      "  if not std < np.finfo(np.float).eps:\n",
      "/home/hannahcraddock/anaconda3/envs/hannah_env/lib/python3.9/site-packages/nilearn/signal.py:204: DeprecationWarning: `np.float` is a deprecated alias for the builtin `float`. To silence this warning, use `float` by itself. Doing this will not modify any behavior and is safe. If you specifically wanted the numpy scalar type, use `np.float64` here.\n",
      "Deprecated in NumPy 1.20; for more details and guidance: https://numpy.org/devdocs/release/1.20.0-notes.html#deprecations\n",
      "  if not std < np.finfo(np.float).eps:\n"
     ]
    },
    {
     "name": "stdout",
     "output_type": "stream",
     "text": [
      "Test Loss 0.066723 | Acc 0.042313\n"
     ]
    },
    {
     "name": "stderr",
     "output_type": "stream",
     "text": [
      "/home/hannahcraddock/anaconda3/envs/hannah_env/lib/python3.9/site-packages/nilearn/signal.py:204: DeprecationWarning: `np.float` is a deprecated alias for the builtin `float`. To silence this warning, use `float` by itself. Doing this will not modify any behavior and is safe. If you specifically wanted the numpy scalar type, use `np.float64` here.\n",
      "Deprecated in NumPy 1.20; for more details and guidance: https://numpy.org/devdocs/release/1.20.0-notes.html#deprecations\n",
      "  if not std < np.finfo(np.float).eps:\n",
      "/home/hannahcraddock/anaconda3/envs/hannah_env/lib/python3.9/site-packages/nilearn/signal.py:204: DeprecationWarning: `np.float` is a deprecated alias for the builtin `float`. To silence this warning, use `float` by itself. Doing this will not modify any behavior and is safe. If you specifically wanted the numpy scalar type, use `np.float64` here.\n",
      "Deprecated in NumPy 1.20; for more details and guidance: https://numpy.org/devdocs/release/1.20.0-notes.html#deprecations\n",
      "  if not std < np.finfo(np.float).eps:\n"
     ]
    },
    {
     "name": "stdout",
     "output_type": "stream",
     "text": [
      "\n",
      "Epoch 9: \n",
      "Time Usage:15.252363 | Training Loss 0.066339 | Acc 0.042557\n"
     ]
    },
    {
     "name": "stderr",
     "output_type": "stream",
     "text": [
      "/home/hannahcraddock/anaconda3/envs/hannah_env/lib/python3.9/site-packages/nilearn/signal.py:204: DeprecationWarning: `np.float` is a deprecated alias for the builtin `float`. To silence this warning, use `float` by itself. Doing this will not modify any behavior and is safe. If you specifically wanted the numpy scalar type, use `np.float64` here.\n",
      "Deprecated in NumPy 1.20; for more details and guidance: https://numpy.org/devdocs/release/1.20.0-notes.html#deprecations\n",
      "  if not std < np.finfo(np.float).eps:\n",
      "/home/hannahcraddock/anaconda3/envs/hannah_env/lib/python3.9/site-packages/nilearn/signal.py:204: DeprecationWarning: `np.float` is a deprecated alias for the builtin `float`. To silence this warning, use `float` by itself. Doing this will not modify any behavior and is safe. If you specifically wanted the numpy scalar type, use `np.float64` here.\n",
      "Deprecated in NumPy 1.20; for more details and guidance: https://numpy.org/devdocs/release/1.20.0-notes.html#deprecations\n",
      "  if not std < np.finfo(np.float).eps:\n"
     ]
    },
    {
     "name": "stdout",
     "output_type": "stream",
     "text": [
      "Test Loss 0.066723 | Acc 0.041667\n",
      "best testing accuarcy: 0.042312661498708014\n"
     ]
    },
    {
     "data": {
      "image/png": "[encoded data removed]",
      "text/plain": [
       "<Figure size 720x288 with 2 Axes>"
      ]
     },
     "metadata": {
      "needs_background": "light"
     },
     "output_type": "display_data"
    },
    {
     "data": {
      "text/plain": [
       "0.042312661498708014"
      ]
     },
     "execution_count": 11,
     "metadata": {},
     "output_type": "execute_result"
    }
   ],
   "source": [
    "#CPU\n",
    "device = torch.device(\"cpu\")\n",
    "print(device)\n",
    "\n",
    "#Define model \n",
    "model = FCN(n_regions, n_labels) #time points == x, regions == rows \n",
    "model = model.to(device)\n",
    "print(model)\n",
    "print(\"{} paramters to be trained in the model\\n\".format(count_parameters(model)))\n",
    "optimizer = optim.Adam(model.parameters(), lr=0.001, weight_decay=5e-4)\n",
    "loss_func = nn.CrossEntropyLoss()\n",
    "num_epochs=10\n",
    "adj_mat = 'a'\n",
    "\n",
    "model_fit_evaluate(model, adj_mat, device, train_loader, test_loader, optimizer, loss_func, num_epochs)"
   ]
  },
  {
   "cell_type": "markdown",
   "metadata": {},
   "source": [
    "##### Block duration = 16*TR"
   ]
  },
  {
   "cell_type": "code",
   "execution_count": 21,
   "metadata": {},
   "outputs": [
    {
     "name": "stdout",
     "output_type": "stream",
     "text": [
      "Block duration = 16\n",
      "cpu\n",
      "FCN(\n",
      "  (linear): Linear(in_features=400, out_features=128, bias=True)\n",
      "  (hidden2label): Sequential(\n",
      "    (0): Linear(in_features=128, out_features=32, bias=True)\n",
      "    (1): ReLU(inplace=True)\n",
      "    (2): Dropout(p=0.5, inplace=False)\n",
      "    (3): Linear(in_features=32, out_features=12, bias=True)\n",
      "  )\n",
      ")\n",
      "55852 paramters to be trained in the model\n",
      "\n"
     ]
    },
    {
     "name": "stderr",
     "output_type": "stream",
     "text": [
      "/home/hannahcraddock/anaconda3/envs/hannah_env/lib/python3.9/site-packages/nilearn/signal.py:204: DeprecationWarning: `np.float` is a deprecated alias for the builtin `float`. To silence this warning, use `float` by itself. Doing this will not modify any behavior and is safe. If you specifically wanted the numpy scalar type, use `np.float64` here.\n",
      "Deprecated in NumPy 1.20; for more details and guidance: https://numpy.org/devdocs/release/1.20.0-notes.html#deprecations\n",
      "  if not std < np.finfo(np.float).eps:\n",
      "/home/hannahcraddock/anaconda3/envs/hannah_env/lib/python3.9/site-packages/nilearn/signal.py:204: DeprecationWarning: `np.float` is a deprecated alias for the builtin `float`. To silence this warning, use `float` by itself. Doing this will not modify any behavior and is safe. If you specifically wanted the numpy scalar type, use `np.float64` here.\n",
      "Deprecated in NumPy 1.20; for more details and guidance: https://numpy.org/devdocs/release/1.20.0-notes.html#deprecations\n",
      "  if not std < np.finfo(np.float).eps:\n"
     ]
    },
    {
     "name": "stdout",
     "output_type": "stream",
     "text": [
      "\n",
      "Epoch 0: \n",
      "Time Usage:12.326520 | Training Loss 0.103915 | Acc 0.085275\n"
     ]
    },
    {
     "name": "stderr",
     "output_type": "stream",
     "text": [
      "/home/hannahcraddock/anaconda3/envs/hannah_env/lib/python3.9/site-packages/nilearn/signal.py:204: DeprecationWarning: `np.float` is a deprecated alias for the builtin `float`. To silence this warning, use `float` by itself. Doing this will not modify any behavior and is safe. If you specifically wanted the numpy scalar type, use `np.float64` here.\n",
      "Deprecated in NumPy 1.20; for more details and guidance: https://numpy.org/devdocs/release/1.20.0-notes.html#deprecations\n",
      "  if not std < np.finfo(np.float).eps:\n",
      "/home/hannahcraddock/anaconda3/envs/hannah_env/lib/python3.9/site-packages/nilearn/signal.py:204: DeprecationWarning: `np.float` is a deprecated alias for the builtin `float`. To silence this warning, use `float` by itself. Doing this will not modify any behavior and is safe. If you specifically wanted the numpy scalar type, use `np.float64` here.\n",
      "Deprecated in NumPy 1.20; for more details and guidance: https://numpy.org/devdocs/release/1.20.0-notes.html#deprecations\n",
      "  if not std < np.finfo(np.float).eps:\n"
     ]
    },
    {
     "name": "stdout",
     "output_type": "stream",
     "text": [
      "Test Loss 0.104349 | Acc 0.083333\n",
      "Model updated: Best-Acc = 0.083333\n"
     ]
    },
    {
     "name": "stderr",
     "output_type": "stream",
     "text": [
      "/home/hannahcraddock/anaconda3/envs/hannah_env/lib/python3.9/site-packages/nilearn/signal.py:204: DeprecationWarning: `np.float` is a deprecated alias for the builtin `float`. To silence this warning, use `float` by itself. Doing this will not modify any behavior and is safe. If you specifically wanted the numpy scalar type, use `np.float64` here.\n",
      "Deprecated in NumPy 1.20; for more details and guidance: https://numpy.org/devdocs/release/1.20.0-notes.html#deprecations\n",
      "  if not std < np.finfo(np.float).eps:\n",
      "/home/hannahcraddock/anaconda3/envs/hannah_env/lib/python3.9/site-packages/nilearn/signal.py:204: DeprecationWarning: `np.float` is a deprecated alias for the builtin `float`. To silence this warning, use `float` by itself. Doing this will not modify any behavior and is safe. If you specifically wanted the numpy scalar type, use `np.float64` here.\n",
      "Deprecated in NumPy 1.20; for more details and guidance: https://numpy.org/devdocs/release/1.20.0-notes.html#deprecations\n",
      "  if not std < np.finfo(np.float).eps:\n"
     ]
    },
    {
     "name": "stdout",
     "output_type": "stream",
     "text": [
      "\n",
      "Epoch 1: \n",
      "Time Usage:12.216325 | Training Loss 0.103784 | Acc 0.083981\n"
     ]
    },
    {
     "name": "stderr",
     "output_type": "stream",
     "text": [
      "/home/hannahcraddock/anaconda3/envs/hannah_env/lib/python3.9/site-packages/nilearn/signal.py:204: DeprecationWarning: `np.float` is a deprecated alias for the builtin `float`. To silence this warning, use `float` by itself. Doing this will not modify any behavior and is safe. If you specifically wanted the numpy scalar type, use `np.float64` here.\n",
      "Deprecated in NumPy 1.20; for more details and guidance: https://numpy.org/devdocs/release/1.20.0-notes.html#deprecations\n",
      "  if not std < np.finfo(np.float).eps:\n",
      "/home/hannahcraddock/anaconda3/envs/hannah_env/lib/python3.9/site-packages/nilearn/signal.py:204: DeprecationWarning: `np.float` is a deprecated alias for the builtin `float`. To silence this warning, use `float` by itself. Doing this will not modify any behavior and is safe. If you specifically wanted the numpy scalar type, use `np.float64` here.\n",
      "Deprecated in NumPy 1.20; for more details and guidance: https://numpy.org/devdocs/release/1.20.0-notes.html#deprecations\n",
      "  if not std < np.finfo(np.float).eps:\n"
     ]
    },
    {
     "name": "stdout",
     "output_type": "stream",
     "text": [
      "Test Loss 0.104343 | Acc 0.083979\n",
      "Model updated: Best-Acc = 0.083979\n"
     ]
    },
    {
     "name": "stderr",
     "output_type": "stream",
     "text": [
      "/home/hannahcraddock/anaconda3/envs/hannah_env/lib/python3.9/site-packages/nilearn/signal.py:204: DeprecationWarning: `np.float` is a deprecated alias for the builtin `float`. To silence this warning, use `float` by itself. Doing this will not modify any behavior and is safe. If you specifically wanted the numpy scalar type, use `np.float64` here.\n",
      "Deprecated in NumPy 1.20; for more details and guidance: https://numpy.org/devdocs/release/1.20.0-notes.html#deprecations\n",
      "  if not std < np.finfo(np.float).eps:\n",
      "/home/hannahcraddock/anaconda3/envs/hannah_env/lib/python3.9/site-packages/nilearn/signal.py:204: DeprecationWarning: `np.float` is a deprecated alias for the builtin `float`. To silence this warning, use `float` by itself. Doing this will not modify any behavior and is safe. If you specifically wanted the numpy scalar type, use `np.float64` here.\n",
      "Deprecated in NumPy 1.20; for more details and guidance: https://numpy.org/devdocs/release/1.20.0-notes.html#deprecations\n",
      "  if not std < np.finfo(np.float).eps:\n"
     ]
    },
    {
     "name": "stdout",
     "output_type": "stream",
     "text": [
      "\n",
      "Epoch 2: \n",
      "Time Usage:12.162204 | Training Loss 0.103745 | Acc 0.081392\n"
     ]
    },
    {
     "name": "stderr",
     "output_type": "stream",
     "text": [
      "/home/hannahcraddock/anaconda3/envs/hannah_env/lib/python3.9/site-packages/nilearn/signal.py:204: DeprecationWarning: `np.float` is a deprecated alias for the builtin `float`. To silence this warning, use `float` by itself. Doing this will not modify any behavior and is safe. If you specifically wanted the numpy scalar type, use `np.float64` here.\n",
      "Deprecated in NumPy 1.20; for more details and guidance: https://numpy.org/devdocs/release/1.20.0-notes.html#deprecations\n",
      "  if not std < np.finfo(np.float).eps:\n",
      "/home/hannahcraddock/anaconda3/envs/hannah_env/lib/python3.9/site-packages/nilearn/signal.py:204: DeprecationWarning: `np.float` is a deprecated alias for the builtin `float`. To silence this warning, use `float` by itself. Doing this will not modify any behavior and is safe. If you specifically wanted the numpy scalar type, use `np.float64` here.\n",
      "Deprecated in NumPy 1.20; for more details and guidance: https://numpy.org/devdocs/release/1.20.0-notes.html#deprecations\n",
      "  if not std < np.finfo(np.float).eps:\n"
     ]
    },
    {
     "name": "stdout",
     "output_type": "stream",
     "text": [
      "Test Loss 0.104340 | Acc 0.083333\n"
     ]
    },
    {
     "name": "stderr",
     "output_type": "stream",
     "text": [
      "/home/hannahcraddock/anaconda3/envs/hannah_env/lib/python3.9/site-packages/nilearn/signal.py:204: DeprecationWarning: `np.float` is a deprecated alias for the builtin `float`. To silence this warning, use `float` by itself. Doing this will not modify any behavior and is safe. If you specifically wanted the numpy scalar type, use `np.float64` here.\n",
      "Deprecated in NumPy 1.20; for more details and guidance: https://numpy.org/devdocs/release/1.20.0-notes.html#deprecations\n",
      "  if not std < np.finfo(np.float).eps:\n",
      "/home/hannahcraddock/anaconda3/envs/hannah_env/lib/python3.9/site-packages/nilearn/signal.py:204: DeprecationWarning: `np.float` is a deprecated alias for the builtin `float`. To silence this warning, use `float` by itself. Doing this will not modify any behavior and is safe. If you specifically wanted the numpy scalar type, use `np.float64` here.\n",
      "Deprecated in NumPy 1.20; for more details and guidance: https://numpy.org/devdocs/release/1.20.0-notes.html#deprecations\n",
      "  if not std < np.finfo(np.float).eps:\n"
     ]
    },
    {
     "name": "stdout",
     "output_type": "stream",
     "text": [
      "\n",
      "Epoch 3: \n",
      "Time Usage:12.199829 | Training Loss 0.103747 | Acc 0.087217\n"
     ]
    },
    {
     "name": "stderr",
     "output_type": "stream",
     "text": [
      "/home/hannahcraddock/anaconda3/envs/hannah_env/lib/python3.9/site-packages/nilearn/signal.py:204: DeprecationWarning: `np.float` is a deprecated alias for the builtin `float`. To silence this warning, use `float` by itself. Doing this will not modify any behavior and is safe. If you specifically wanted the numpy scalar type, use `np.float64` here.\n",
      "Deprecated in NumPy 1.20; for more details and guidance: https://numpy.org/devdocs/release/1.20.0-notes.html#deprecations\n",
      "  if not std < np.finfo(np.float).eps:\n",
      "/home/hannahcraddock/anaconda3/envs/hannah_env/lib/python3.9/site-packages/nilearn/signal.py:204: DeprecationWarning: `np.float` is a deprecated alias for the builtin `float`. To silence this warning, use `float` by itself. Doing this will not modify any behavior and is safe. If you specifically wanted the numpy scalar type, use `np.float64` here.\n",
      "Deprecated in NumPy 1.20; for more details and guidance: https://numpy.org/devdocs/release/1.20.0-notes.html#deprecations\n",
      "  if not std < np.finfo(np.float).eps:\n"
     ]
    },
    {
     "name": "stdout",
     "output_type": "stream",
     "text": [
      "Test Loss 0.104345 | Acc 0.083979\n"
     ]
    },
    {
     "name": "stderr",
     "output_type": "stream",
     "text": [
      "/home/hannahcraddock/anaconda3/envs/hannah_env/lib/python3.9/site-packages/nilearn/signal.py:204: DeprecationWarning: `np.float` is a deprecated alias for the builtin `float`. To silence this warning, use `float` by itself. Doing this will not modify any behavior and is safe. If you specifically wanted the numpy scalar type, use `np.float64` here.\n",
      "Deprecated in NumPy 1.20; for more details and guidance: https://numpy.org/devdocs/release/1.20.0-notes.html#deprecations\n",
      "  if not std < np.finfo(np.float).eps:\n",
      "/home/hannahcraddock/anaconda3/envs/hannah_env/lib/python3.9/site-packages/nilearn/signal.py:204: DeprecationWarning: `np.float` is a deprecated alias for the builtin `float`. To silence this warning, use `float` by itself. Doing this will not modify any behavior and is safe. If you specifically wanted the numpy scalar type, use `np.float64` here.\n",
      "Deprecated in NumPy 1.20; for more details and guidance: https://numpy.org/devdocs/release/1.20.0-notes.html#deprecations\n",
      "  if not std < np.finfo(np.float).eps:\n"
     ]
    },
    {
     "name": "stdout",
     "output_type": "stream",
     "text": [
      "\n",
      "Epoch 4: \n",
      "Time Usage:12.321897 | Training Loss 0.103754 | Acc 0.083495\n"
     ]
    },
    {
     "name": "stderr",
     "output_type": "stream",
     "text": [
      "/home/hannahcraddock/anaconda3/envs/hannah_env/lib/python3.9/site-packages/nilearn/signal.py:204: DeprecationWarning: `np.float` is a deprecated alias for the builtin `float`. To silence this warning, use `float` by itself. Doing this will not modify any behavior and is safe. If you specifically wanted the numpy scalar type, use `np.float64` here.\n",
      "Deprecated in NumPy 1.20; for more details and guidance: https://numpy.org/devdocs/release/1.20.0-notes.html#deprecations\n",
      "  if not std < np.finfo(np.float).eps:\n",
      "/home/hannahcraddock/anaconda3/envs/hannah_env/lib/python3.9/site-packages/nilearn/signal.py:204: DeprecationWarning: `np.float` is a deprecated alias for the builtin `float`. To silence this warning, use `float` by itself. Doing this will not modify any behavior and is safe. If you specifically wanted the numpy scalar type, use `np.float64` here.\n",
      "Deprecated in NumPy 1.20; for more details and guidance: https://numpy.org/devdocs/release/1.20.0-notes.html#deprecations\n",
      "  if not std < np.finfo(np.float).eps:\n"
     ]
    },
    {
     "name": "stdout",
     "output_type": "stream",
     "text": [
      "Test Loss 0.104364 | Acc 0.083333\n"
     ]
    },
    {
     "name": "stderr",
     "output_type": "stream",
     "text": [
      "/home/hannahcraddock/anaconda3/envs/hannah_env/lib/python3.9/site-packages/nilearn/signal.py:204: DeprecationWarning: `np.float` is a deprecated alias for the builtin `float`. To silence this warning, use `float` by itself. Doing this will not modify any behavior and is safe. If you specifically wanted the numpy scalar type, use `np.float64` here.\n",
      "Deprecated in NumPy 1.20; for more details and guidance: https://numpy.org/devdocs/release/1.20.0-notes.html#deprecations\n",
      "  if not std < np.finfo(np.float).eps:\n",
      "/home/hannahcraddock/anaconda3/envs/hannah_env/lib/python3.9/site-packages/nilearn/signal.py:204: DeprecationWarning: `np.float` is a deprecated alias for the builtin `float`. To silence this warning, use `float` by itself. Doing this will not modify any behavior and is safe. If you specifically wanted the numpy scalar type, use `np.float64` here.\n",
      "Deprecated in NumPy 1.20; for more details and guidance: https://numpy.org/devdocs/release/1.20.0-notes.html#deprecations\n",
      "  if not std < np.finfo(np.float).eps:\n"
     ]
    },
    {
     "name": "stdout",
     "output_type": "stream",
     "text": [
      "\n",
      "Epoch 5: \n",
      "Time Usage:12.209468 | Training Loss 0.103754 | Acc 0.081715\n"
     ]
    },
    {
     "name": "stderr",
     "output_type": "stream",
     "text": [
      "/home/hannahcraddock/anaconda3/envs/hannah_env/lib/python3.9/site-packages/nilearn/signal.py:204: DeprecationWarning: `np.float` is a deprecated alias for the builtin `float`. To silence this warning, use `float` by itself. Doing this will not modify any behavior and is safe. If you specifically wanted the numpy scalar type, use `np.float64` here.\n",
      "Deprecated in NumPy 1.20; for more details and guidance: https://numpy.org/devdocs/release/1.20.0-notes.html#deprecations\n",
      "  if not std < np.finfo(np.float).eps:\n",
      "/home/hannahcraddock/anaconda3/envs/hannah_env/lib/python3.9/site-packages/nilearn/signal.py:204: DeprecationWarning: `np.float` is a deprecated alias for the builtin `float`. To silence this warning, use `float` by itself. Doing this will not modify any behavior and is safe. If you specifically wanted the numpy scalar type, use `np.float64` here.\n",
      "Deprecated in NumPy 1.20; for more details and guidance: https://numpy.org/devdocs/release/1.20.0-notes.html#deprecations\n",
      "  if not std < np.finfo(np.float).eps:\n"
     ]
    },
    {
     "name": "stdout",
     "output_type": "stream",
     "text": [
      "Test Loss 0.104351 | Acc 0.083333\n"
     ]
    },
    {
     "name": "stderr",
     "output_type": "stream",
     "text": [
      "/home/hannahcraddock/anaconda3/envs/hannah_env/lib/python3.9/site-packages/nilearn/signal.py:204: DeprecationWarning: `np.float` is a deprecated alias for the builtin `float`. To silence this warning, use `float` by itself. Doing this will not modify any behavior and is safe. If you specifically wanted the numpy scalar type, use `np.float64` here.\n",
      "Deprecated in NumPy 1.20; for more details and guidance: https://numpy.org/devdocs/release/1.20.0-notes.html#deprecations\n",
      "  if not std < np.finfo(np.float).eps:\n",
      "/home/hannahcraddock/anaconda3/envs/hannah_env/lib/python3.9/site-packages/nilearn/signal.py:204: DeprecationWarning: `np.float` is a deprecated alias for the builtin `float`. To silence this warning, use `float` by itself. Doing this will not modify any behavior and is safe. If you specifically wanted the numpy scalar type, use `np.float64` here.\n",
      "Deprecated in NumPy 1.20; for more details and guidance: https://numpy.org/devdocs/release/1.20.0-notes.html#deprecations\n",
      "  if not std < np.finfo(np.float).eps:\n"
     ]
    },
    {
     "name": "stdout",
     "output_type": "stream",
     "text": [
      "\n",
      "Epoch 6: \n",
      "Time Usage:12.284020 | Training Loss 0.103768 | Acc 0.079612\n"
     ]
    },
    {
     "name": "stderr",
     "output_type": "stream",
     "text": [
      "/home/hannahcraddock/anaconda3/envs/hannah_env/lib/python3.9/site-packages/nilearn/signal.py:204: DeprecationWarning: `np.float` is a deprecated alias for the builtin `float`. To silence this warning, use `float` by itself. Doing this will not modify any behavior and is safe. If you specifically wanted the numpy scalar type, use `np.float64` here.\n",
      "Deprecated in NumPy 1.20; for more details and guidance: https://numpy.org/devdocs/release/1.20.0-notes.html#deprecations\n",
      "  if not std < np.finfo(np.float).eps:\n",
      "/home/hannahcraddock/anaconda3/envs/hannah_env/lib/python3.9/site-packages/nilearn/signal.py:204: DeprecationWarning: `np.float` is a deprecated alias for the builtin `float`. To silence this warning, use `float` by itself. Doing this will not modify any behavior and is safe. If you specifically wanted the numpy scalar type, use `np.float64` here.\n",
      "Deprecated in NumPy 1.20; for more details and guidance: https://numpy.org/devdocs/release/1.20.0-notes.html#deprecations\n",
      "  if not std < np.finfo(np.float).eps:\n"
     ]
    },
    {
     "name": "stdout",
     "output_type": "stream",
     "text": [
      "Test Loss 0.104341 | Acc 0.083333\n"
     ]
    },
    {
     "name": "stderr",
     "output_type": "stream",
     "text": [
      "/home/hannahcraddock/anaconda3/envs/hannah_env/lib/python3.9/site-packages/nilearn/signal.py:204: DeprecationWarning: `np.float` is a deprecated alias for the builtin `float`. To silence this warning, use `float` by itself. Doing this will not modify any behavior and is safe. If you specifically wanted the numpy scalar type, use `np.float64` here.\n",
      "Deprecated in NumPy 1.20; for more details and guidance: https://numpy.org/devdocs/release/1.20.0-notes.html#deprecations\n",
      "  if not std < np.finfo(np.float).eps:\n",
      "/home/hannahcraddock/anaconda3/envs/hannah_env/lib/python3.9/site-packages/nilearn/signal.py:204: DeprecationWarning: `np.float` is a deprecated alias for the builtin `float`. To silence this warning, use `float` by itself. Doing this will not modify any behavior and is safe. If you specifically wanted the numpy scalar type, use `np.float64` here.\n",
      "Deprecated in NumPy 1.20; for more details and guidance: https://numpy.org/devdocs/release/1.20.0-notes.html#deprecations\n",
      "  if not std < np.finfo(np.float).eps:\n"
     ]
    },
    {
     "name": "stdout",
     "output_type": "stream",
     "text": [
      "\n",
      "Epoch 7: \n",
      "Time Usage:12.532544 | Training Loss 0.103753 | Acc 0.082848\n"
     ]
    },
    {
     "name": "stderr",
     "output_type": "stream",
     "text": [
      "/home/hannahcraddock/anaconda3/envs/hannah_env/lib/python3.9/site-packages/nilearn/signal.py:204: DeprecationWarning: `np.float` is a deprecated alias for the builtin `float`. To silence this warning, use `float` by itself. Doing this will not modify any behavior and is safe. If you specifically wanted the numpy scalar type, use `np.float64` here.\n",
      "Deprecated in NumPy 1.20; for more details and guidance: https://numpy.org/devdocs/release/1.20.0-notes.html#deprecations\n",
      "  if not std < np.finfo(np.float).eps:\n",
      "/home/hannahcraddock/anaconda3/envs/hannah_env/lib/python3.9/site-packages/nilearn/signal.py:204: DeprecationWarning: `np.float` is a deprecated alias for the builtin `float`. To silence this warning, use `float` by itself. Doing this will not modify any behavior and is safe. If you specifically wanted the numpy scalar type, use `np.float64` here.\n",
      "Deprecated in NumPy 1.20; for more details and guidance: https://numpy.org/devdocs/release/1.20.0-notes.html#deprecations\n",
      "  if not std < np.finfo(np.float).eps:\n"
     ]
    },
    {
     "name": "stdout",
     "output_type": "stream",
     "text": [
      "Test Loss 0.104340 | Acc 0.083333\n"
     ]
    },
    {
     "name": "stderr",
     "output_type": "stream",
     "text": [
      "/home/hannahcraddock/anaconda3/envs/hannah_env/lib/python3.9/site-packages/nilearn/signal.py:204: DeprecationWarning: `np.float` is a deprecated alias for the builtin `float`. To silence this warning, use `float` by itself. Doing this will not modify any behavior and is safe. If you specifically wanted the numpy scalar type, use `np.float64` here.\n",
      "Deprecated in NumPy 1.20; for more details and guidance: https://numpy.org/devdocs/release/1.20.0-notes.html#deprecations\n",
      "  if not std < np.finfo(np.float).eps:\n",
      "/home/hannahcraddock/anaconda3/envs/hannah_env/lib/python3.9/site-packages/nilearn/signal.py:204: DeprecationWarning: `np.float` is a deprecated alias for the builtin `float`. To silence this warning, use `float` by itself. Doing this will not modify any behavior and is safe. If you specifically wanted the numpy scalar type, use `np.float64` here.\n",
      "Deprecated in NumPy 1.20; for more details and guidance: https://numpy.org/devdocs/release/1.20.0-notes.html#deprecations\n",
      "  if not std < np.finfo(np.float).eps:\n"
     ]
    },
    {
     "name": "stdout",
     "output_type": "stream",
     "text": [
      "\n",
      "Epoch 8: \n",
      "Time Usage:12.349947 | Training Loss 0.103746 | Acc 0.083657\n"
     ]
    },
    {
     "name": "stderr",
     "output_type": "stream",
     "text": [
      "/home/hannahcraddock/anaconda3/envs/hannah_env/lib/python3.9/site-packages/nilearn/signal.py:204: DeprecationWarning: `np.float` is a deprecated alias for the builtin `float`. To silence this warning, use `float` by itself. Doing this will not modify any behavior and is safe. If you specifically wanted the numpy scalar type, use `np.float64` here.\n",
      "Deprecated in NumPy 1.20; for more details and guidance: https://numpy.org/devdocs/release/1.20.0-notes.html#deprecations\n",
      "  if not std < np.finfo(np.float).eps:\n",
      "/home/hannahcraddock/anaconda3/envs/hannah_env/lib/python3.9/site-packages/nilearn/signal.py:204: DeprecationWarning: `np.float` is a deprecated alias for the builtin `float`. To silence this warning, use `float` by itself. Doing this will not modify any behavior and is safe. If you specifically wanted the numpy scalar type, use `np.float64` here.\n",
      "Deprecated in NumPy 1.20; for more details and guidance: https://numpy.org/devdocs/release/1.20.0-notes.html#deprecations\n",
      "  if not std < np.finfo(np.float).eps:\n"
     ]
    },
    {
     "name": "stdout",
     "output_type": "stream",
     "text": [
      "Test Loss 0.104340 | Acc 0.083333\n"
     ]
    },
    {
     "name": "stderr",
     "output_type": "stream",
     "text": [
      "/home/hannahcraddock/anaconda3/envs/hannah_env/lib/python3.9/site-packages/nilearn/signal.py:204: DeprecationWarning: `np.float` is a deprecated alias for the builtin `float`. To silence this warning, use `float` by itself. Doing this will not modify any behavior and is safe. If you specifically wanted the numpy scalar type, use `np.float64` here.\n",
      "Deprecated in NumPy 1.20; for more details and guidance: https://numpy.org/devdocs/release/1.20.0-notes.html#deprecations\n",
      "  if not std < np.finfo(np.float).eps:\n",
      "/home/hannahcraddock/anaconda3/envs/hannah_env/lib/python3.9/site-packages/nilearn/signal.py:204: DeprecationWarning: `np.float` is a deprecated alias for the builtin `float`. To silence this warning, use `float` by itself. Doing this will not modify any behavior and is safe. If you specifically wanted the numpy scalar type, use `np.float64` here.\n",
      "Deprecated in NumPy 1.20; for more details and guidance: https://numpy.org/devdocs/release/1.20.0-notes.html#deprecations\n",
      "  if not std < np.finfo(np.float).eps:\n"
     ]
    },
    {
     "name": "stdout",
     "output_type": "stream",
     "text": [
      "\n",
      "Epoch 9: \n",
      "Time Usage:12.326664 | Training Loss 0.103741 | Acc 0.082524\n"
     ]
    },
    {
     "name": "stderr",
     "output_type": "stream",
     "text": [
      "/home/hannahcraddock/anaconda3/envs/hannah_env/lib/python3.9/site-packages/nilearn/signal.py:204: DeprecationWarning: `np.float` is a deprecated alias for the builtin `float`. To silence this warning, use `float` by itself. Doing this will not modify any behavior and is safe. If you specifically wanted the numpy scalar type, use `np.float64` here.\n",
      "Deprecated in NumPy 1.20; for more details and guidance: https://numpy.org/devdocs/release/1.20.0-notes.html#deprecations\n",
      "  if not std < np.finfo(np.float).eps:\n",
      "/home/hannahcraddock/anaconda3/envs/hannah_env/lib/python3.9/site-packages/nilearn/signal.py:204: DeprecationWarning: `np.float` is a deprecated alias for the builtin `float`. To silence this warning, use `float` by itself. Doing this will not modify any behavior and is safe. If you specifically wanted the numpy scalar type, use `np.float64` here.\n",
      "Deprecated in NumPy 1.20; for more details and guidance: https://numpy.org/devdocs/release/1.20.0-notes.html#deprecations\n",
      "  if not std < np.finfo(np.float).eps:\n"
     ]
    },
    {
     "name": "stdout",
     "output_type": "stream",
     "text": [
      "Test Loss 0.104340 | Acc 0.083333\n",
      "best testing accuarcy: 0.08397932816537468\n"
     ]
    },
    {
     "data": {
      "image/png": "[encoded data removed]",
      "text/plain": [
       "<Figure size 720x288 with 2 Axes>"
      ]
     },
     "metadata": {
      "needs_background": "light"
     },
     "output_type": "display_data"
    },
    {
     "data": {
      "text/plain": [
       "0.08397932816537468"
      ]
     },
     "execution_count": 21,
     "metadata": {},
     "output_type": "execute_result"
    }
   ],
   "source": [
    "print(f'Block duration = {block_duration}')\n",
    "\n",
    "#CPU\n",
    "device = torch.device(\"cpu\")\n",
    "print(device)\n",
    "\n",
    "#Define model \n",
    "model = FCN(n_regions, n_labels) #time points == x, regions == rows \n",
    "model = model.to(device)\n",
    "print(model)\n",
    "print(\"{} paramters to be trained in the model\\n\".format(count_parameters(model)))\n",
    "optimizer = optim.Adam(model.parameters(), lr=0.001, weight_decay=5e-4)\n",
    "loss_func = nn.CrossEntropyLoss()\n",
    "num_epochs=10\n",
    "adj_mat = 'a'\n",
    "\n",
    "model_fit_evaluate(model, adj_mat, device, train_loader, test_loader, optimizer, loss_func, num_epochs)"
   ]
  },
  {
   "cell_type": "markdown",
   "metadata": {},
   "source": [
    "##### Block duration = 6*TR"
   ]
  },
  {
   "cell_type": "code",
   "execution_count": 28,
   "metadata": {},
   "outputs": [
    {
     "name": "stdout",
     "output_type": "stream",
     "text": [
      "Block duration = 6\n",
      "cpu\n",
      "FCN(\n",
      "  (linear): Linear(in_features=400, out_features=128, bias=True)\n",
      "  (hidden2label): Sequential(\n",
      "    (0): Linear(in_features=128, out_features=32, bias=True)\n",
      "    (1): ReLU(inplace=True)\n",
      "    (2): Dropout(p=0.5, inplace=False)\n",
      "    (3): Linear(in_features=32, out_features=32, bias=True)\n",
      "  )\n",
      ")\n",
      "56512 paramters to be trained in the model\n",
      "\n"
     ]
    },
    {
     "name": "stderr",
     "output_type": "stream",
     "text": [
      "/home/hannahcraddock/anaconda3/envs/hannah_env/lib/python3.9/site-packages/nilearn/signal.py:204: DeprecationWarning: `np.float` is a deprecated alias for the builtin `float`. To silence this warning, use `float` by itself. Doing this will not modify any behavior and is safe. If you specifically wanted the numpy scalar type, use `np.float64` here.\n",
      "Deprecated in NumPy 1.20; for more details and guidance: https://numpy.org/devdocs/release/1.20.0-notes.html#deprecations\n",
      "  if not std < np.finfo(np.float).eps:\n",
      "/home/hannahcraddock/anaconda3/envs/hannah_env/lib/python3.9/site-packages/nilearn/signal.py:204: DeprecationWarning: `np.float` is a deprecated alias for the builtin `float`. To silence this warning, use `float` by itself. Doing this will not modify any behavior and is safe. If you specifically wanted the numpy scalar type, use `np.float64` here.\n",
      "Deprecated in NumPy 1.20; for more details and guidance: https://numpy.org/devdocs/release/1.20.0-notes.html#deprecations\n",
      "  if not std < np.finfo(np.float).eps:\n"
     ]
    },
    {
     "name": "stdout",
     "output_type": "stream",
     "text": [
      "\n",
      "Epoch 0: \n",
      "Time Usage:16.593216 | Training Loss 0.054300 | Acc 0.030158\n"
     ]
    },
    {
     "name": "stderr",
     "output_type": "stream",
     "text": [
      "/home/hannahcraddock/anaconda3/envs/hannah_env/lib/python3.9/site-packages/nilearn/signal.py:204: DeprecationWarning: `np.float` is a deprecated alias for the builtin `float`. To silence this warning, use `float` by itself. Doing this will not modify any behavior and is safe. If you specifically wanted the numpy scalar type, use `np.float64` here.\n",
      "Deprecated in NumPy 1.20; for more details and guidance: https://numpy.org/devdocs/release/1.20.0-notes.html#deprecations\n",
      "  if not std < np.finfo(np.float).eps:\n",
      "/home/hannahcraddock/anaconda3/envs/hannah_env/lib/python3.9/site-packages/nilearn/signal.py:204: DeprecationWarning: `np.float` is a deprecated alias for the builtin `float`. To silence this warning, use `float` by itself. Doing this will not modify any behavior and is safe. If you specifically wanted the numpy scalar type, use `np.float64` here.\n",
      "Deprecated in NumPy 1.20; for more details and guidance: https://numpy.org/devdocs/release/1.20.0-notes.html#deprecations\n",
      "  if not std < np.finfo(np.float).eps:\n"
     ]
    },
    {
     "name": "stdout",
     "output_type": "stream",
     "text": [
      "Test Loss 0.054573 | Acc 0.031250\n",
      "Model updated: Best-Acc = 0.031250\n"
     ]
    },
    {
     "name": "stderr",
     "output_type": "stream",
     "text": [
      "/home/hannahcraddock/anaconda3/envs/hannah_env/lib/python3.9/site-packages/nilearn/signal.py:204: DeprecationWarning: `np.float` is a deprecated alias for the builtin `float`. To silence this warning, use `float` by itself. Doing this will not modify any behavior and is safe. If you specifically wanted the numpy scalar type, use `np.float64` here.\n",
      "Deprecated in NumPy 1.20; for more details and guidance: https://numpy.org/devdocs/release/1.20.0-notes.html#deprecations\n",
      "  if not std < np.finfo(np.float).eps:\n",
      "/home/hannahcraddock/anaconda3/envs/hannah_env/lib/python3.9/site-packages/nilearn/signal.py:204: DeprecationWarning: `np.float` is a deprecated alias for the builtin `float`. To silence this warning, use `float` by itself. Doing this will not modify any behavior and is safe. If you specifically wanted the numpy scalar type, use `np.float64` here.\n",
      "Deprecated in NumPy 1.20; for more details and guidance: https://numpy.org/devdocs/release/1.20.0-notes.html#deprecations\n",
      "  if not std < np.finfo(np.float).eps:\n"
     ]
    },
    {
     "name": "stdout",
     "output_type": "stream",
     "text": [
      "\n",
      "Epoch 1: \n",
      "Time Usage:16.681044 | Training Loss 0.054262 | Acc 0.029308\n"
     ]
    },
    {
     "name": "stderr",
     "output_type": "stream",
     "text": [
      "/home/hannahcraddock/anaconda3/envs/hannah_env/lib/python3.9/site-packages/nilearn/signal.py:204: DeprecationWarning: `np.float` is a deprecated alias for the builtin `float`. To silence this warning, use `float` by itself. Doing this will not modify any behavior and is safe. If you specifically wanted the numpy scalar type, use `np.float64` here.\n",
      "Deprecated in NumPy 1.20; for more details and guidance: https://numpy.org/devdocs/release/1.20.0-notes.html#deprecations\n",
      "  if not std < np.finfo(np.float).eps:\n",
      "/home/hannahcraddock/anaconda3/envs/hannah_env/lib/python3.9/site-packages/nilearn/signal.py:204: DeprecationWarning: `np.float` is a deprecated alias for the builtin `float`. To silence this warning, use `float` by itself. Doing this will not modify any behavior and is safe. If you specifically wanted the numpy scalar type, use `np.float64` here.\n",
      "Deprecated in NumPy 1.20; for more details and guidance: https://numpy.org/devdocs/release/1.20.0-notes.html#deprecations\n",
      "  if not std < np.finfo(np.float).eps:\n"
     ]
    },
    {
     "name": "stdout",
     "output_type": "stream",
     "text": [
      "Test Loss 0.054572 | Acc 0.031250\n"
     ]
    },
    {
     "name": "stderr",
     "output_type": "stream",
     "text": [
      "/home/hannahcraddock/anaconda3/envs/hannah_env/lib/python3.9/site-packages/nilearn/signal.py:204: DeprecationWarning: `np.float` is a deprecated alias for the builtin `float`. To silence this warning, use `float` by itself. Doing this will not modify any behavior and is safe. If you specifically wanted the numpy scalar type, use `np.float64` here.\n",
      "Deprecated in NumPy 1.20; for more details and guidance: https://numpy.org/devdocs/release/1.20.0-notes.html#deprecations\n",
      "  if not std < np.finfo(np.float).eps:\n",
      "/home/hannahcraddock/anaconda3/envs/hannah_env/lib/python3.9/site-packages/nilearn/signal.py:204: DeprecationWarning: `np.float` is a deprecated alias for the builtin `float`. To silence this warning, use `float` by itself. Doing this will not modify any behavior and is safe. If you specifically wanted the numpy scalar type, use `np.float64` here.\n",
      "Deprecated in NumPy 1.20; for more details and guidance: https://numpy.org/devdocs/release/1.20.0-notes.html#deprecations\n",
      "  if not std < np.finfo(np.float).eps:\n"
     ]
    },
    {
     "name": "stdout",
     "output_type": "stream",
     "text": [
      "\n",
      "Epoch 2: \n",
      "Time Usage:16.860685 | Training Loss 0.054257 | Acc 0.032160\n"
     ]
    },
    {
     "name": "stderr",
     "output_type": "stream",
     "text": [
      "/home/hannahcraddock/anaconda3/envs/hannah_env/lib/python3.9/site-packages/nilearn/signal.py:204: DeprecationWarning: `np.float` is a deprecated alias for the builtin `float`. To silence this warning, use `float` by itself. Doing this will not modify any behavior and is safe. If you specifically wanted the numpy scalar type, use `np.float64` here.\n",
      "Deprecated in NumPy 1.20; for more details and guidance: https://numpy.org/devdocs/release/1.20.0-notes.html#deprecations\n",
      "  if not std < np.finfo(np.float).eps:\n",
      "/home/hannahcraddock/anaconda3/envs/hannah_env/lib/python3.9/site-packages/nilearn/signal.py:204: DeprecationWarning: `np.float` is a deprecated alias for the builtin `float`. To silence this warning, use `float` by itself. Doing this will not modify any behavior and is safe. If you specifically wanted the numpy scalar type, use `np.float64` here.\n",
      "Deprecated in NumPy 1.20; for more details and guidance: https://numpy.org/devdocs/release/1.20.0-notes.html#deprecations\n",
      "  if not std < np.finfo(np.float).eps:\n"
     ]
    },
    {
     "name": "stdout",
     "output_type": "stream",
     "text": [
      "Test Loss 0.054572 | Acc 0.031492\n",
      "Model updated: Best-Acc = 0.031492\n"
     ]
    },
    {
     "name": "stderr",
     "output_type": "stream",
     "text": [
      "/home/hannahcraddock/anaconda3/envs/hannah_env/lib/python3.9/site-packages/nilearn/signal.py:204: DeprecationWarning: `np.float` is a deprecated alias for the builtin `float`. To silence this warning, use `float` by itself. Doing this will not modify any behavior and is safe. If you specifically wanted the numpy scalar type, use `np.float64` here.\n",
      "Deprecated in NumPy 1.20; for more details and guidance: https://numpy.org/devdocs/release/1.20.0-notes.html#deprecations\n",
      "  if not std < np.finfo(np.float).eps:\n",
      "/home/hannahcraddock/anaconda3/envs/hannah_env/lib/python3.9/site-packages/nilearn/signal.py:204: DeprecationWarning: `np.float` is a deprecated alias for the builtin `float`. To silence this warning, use `float` by itself. Doing this will not modify any behavior and is safe. If you specifically wanted the numpy scalar type, use `np.float64` here.\n",
      "Deprecated in NumPy 1.20; for more details and guidance: https://numpy.org/devdocs/release/1.20.0-notes.html#deprecations\n",
      "  if not std < np.finfo(np.float).eps:\n"
     ]
    },
    {
     "name": "stdout",
     "output_type": "stream",
     "text": [
      "\n",
      "Epoch 3: \n",
      "Time Usage:16.603763 | Training Loss 0.054260 | Acc 0.031978\n"
     ]
    },
    {
     "name": "stderr",
     "output_type": "stream",
     "text": [
      "/home/hannahcraddock/anaconda3/envs/hannah_env/lib/python3.9/site-packages/nilearn/signal.py:204: DeprecationWarning: `np.float` is a deprecated alias for the builtin `float`. To silence this warning, use `float` by itself. Doing this will not modify any behavior and is safe. If you specifically wanted the numpy scalar type, use `np.float64` here.\n",
      "Deprecated in NumPy 1.20; for more details and guidance: https://numpy.org/devdocs/release/1.20.0-notes.html#deprecations\n",
      "  if not std < np.finfo(np.float).eps:\n",
      "/home/hannahcraddock/anaconda3/envs/hannah_env/lib/python3.9/site-packages/nilearn/signal.py:204: DeprecationWarning: `np.float` is a deprecated alias for the builtin `float`. To silence this warning, use `float` by itself. Doing this will not modify any behavior and is safe. If you specifically wanted the numpy scalar type, use `np.float64` here.\n",
      "Deprecated in NumPy 1.20; for more details and guidance: https://numpy.org/devdocs/release/1.20.0-notes.html#deprecations\n",
      "  if not std < np.finfo(np.float).eps:\n"
     ]
    },
    {
     "name": "stdout",
     "output_type": "stream",
     "text": [
      "Test Loss 0.054572 | Acc 0.031250\n"
     ]
    },
    {
     "name": "stderr",
     "output_type": "stream",
     "text": [
      "/home/hannahcraddock/anaconda3/envs/hannah_env/lib/python3.9/site-packages/nilearn/signal.py:204: DeprecationWarning: `np.float` is a deprecated alias for the builtin `float`. To silence this warning, use `float` by itself. Doing this will not modify any behavior and is safe. If you specifically wanted the numpy scalar type, use `np.float64` here.\n",
      "Deprecated in NumPy 1.20; for more details and guidance: https://numpy.org/devdocs/release/1.20.0-notes.html#deprecations\n",
      "  if not std < np.finfo(np.float).eps:\n",
      "/home/hannahcraddock/anaconda3/envs/hannah_env/lib/python3.9/site-packages/nilearn/signal.py:204: DeprecationWarning: `np.float` is a deprecated alias for the builtin `float`. To silence this warning, use `float` by itself. Doing this will not modify any behavior and is safe. If you specifically wanted the numpy scalar type, use `np.float64` here.\n",
      "Deprecated in NumPy 1.20; for more details and guidance: https://numpy.org/devdocs/release/1.20.0-notes.html#deprecations\n",
      "  if not std < np.finfo(np.float).eps:\n"
     ]
    },
    {
     "name": "stdout",
     "output_type": "stream",
     "text": [
      "\n",
      "Epoch 4: \n",
      "Time Usage:16.700383 | Training Loss 0.054257 | Acc 0.031614\n"
     ]
    },
    {
     "name": "stderr",
     "output_type": "stream",
     "text": [
      "/home/hannahcraddock/anaconda3/envs/hannah_env/lib/python3.9/site-packages/nilearn/signal.py:204: DeprecationWarning: `np.float` is a deprecated alias for the builtin `float`. To silence this warning, use `float` by itself. Doing this will not modify any behavior and is safe. If you specifically wanted the numpy scalar type, use `np.float64` here.\n",
      "Deprecated in NumPy 1.20; for more details and guidance: https://numpy.org/devdocs/release/1.20.0-notes.html#deprecations\n",
      "  if not std < np.finfo(np.float).eps:\n",
      "/home/hannahcraddock/anaconda3/envs/hannah_env/lib/python3.9/site-packages/nilearn/signal.py:204: DeprecationWarning: `np.float` is a deprecated alias for the builtin `float`. To silence this warning, use `float` by itself. Doing this will not modify any behavior and is safe. If you specifically wanted the numpy scalar type, use `np.float64` here.\n",
      "Deprecated in NumPy 1.20; for more details and guidance: https://numpy.org/devdocs/release/1.20.0-notes.html#deprecations\n",
      "  if not std < np.finfo(np.float).eps:\n"
     ]
    },
    {
     "name": "stdout",
     "output_type": "stream",
     "text": [
      "Test Loss 0.054572 | Acc 0.031250\n"
     ]
    },
    {
     "name": "stderr",
     "output_type": "stream",
     "text": [
      "/home/hannahcraddock/anaconda3/envs/hannah_env/lib/python3.9/site-packages/nilearn/signal.py:204: DeprecationWarning: `np.float` is a deprecated alias for the builtin `float`. To silence this warning, use `float` by itself. Doing this will not modify any behavior and is safe. If you specifically wanted the numpy scalar type, use `np.float64` here.\n",
      "Deprecated in NumPy 1.20; for more details and guidance: https://numpy.org/devdocs/release/1.20.0-notes.html#deprecations\n",
      "  if not std < np.finfo(np.float).eps:\n",
      "/home/hannahcraddock/anaconda3/envs/hannah_env/lib/python3.9/site-packages/nilearn/signal.py:204: DeprecationWarning: `np.float` is a deprecated alias for the builtin `float`. To silence this warning, use `float` by itself. Doing this will not modify any behavior and is safe. If you specifically wanted the numpy scalar type, use `np.float64` here.\n",
      "Deprecated in NumPy 1.20; for more details and guidance: https://numpy.org/devdocs/release/1.20.0-notes.html#deprecations\n",
      "  if not std < np.finfo(np.float).eps:\n"
     ]
    },
    {
     "name": "stdout",
     "output_type": "stream",
     "text": [
      "\n",
      "Epoch 5: \n",
      "Time Usage:16.867655 | Training Loss 0.054257 | Acc 0.030704\n"
     ]
    },
    {
     "name": "stderr",
     "output_type": "stream",
     "text": [
      "/home/hannahcraddock/anaconda3/envs/hannah_env/lib/python3.9/site-packages/nilearn/signal.py:204: DeprecationWarning: `np.float` is a deprecated alias for the builtin `float`. To silence this warning, use `float` by itself. Doing this will not modify any behavior and is safe. If you specifically wanted the numpy scalar type, use `np.float64` here.\n",
      "Deprecated in NumPy 1.20; for more details and guidance: https://numpy.org/devdocs/release/1.20.0-notes.html#deprecations\n",
      "  if not std < np.finfo(np.float).eps:\n",
      "/home/hannahcraddock/anaconda3/envs/hannah_env/lib/python3.9/site-packages/nilearn/signal.py:204: DeprecationWarning: `np.float` is a deprecated alias for the builtin `float`. To silence this warning, use `float` by itself. Doing this will not modify any behavior and is safe. If you specifically wanted the numpy scalar type, use `np.float64` here.\n",
      "Deprecated in NumPy 1.20; for more details and guidance: https://numpy.org/devdocs/release/1.20.0-notes.html#deprecations\n",
      "  if not std < np.finfo(np.float).eps:\n"
     ]
    },
    {
     "name": "stdout",
     "output_type": "stream",
     "text": [
      "Test Loss 0.054572 | Acc 0.031250\n"
     ]
    },
    {
     "name": "stderr",
     "output_type": "stream",
     "text": [
      "/home/hannahcraddock/anaconda3/envs/hannah_env/lib/python3.9/site-packages/nilearn/signal.py:204: DeprecationWarning: `np.float` is a deprecated alias for the builtin `float`. To silence this warning, use `float` by itself. Doing this will not modify any behavior and is safe. If you specifically wanted the numpy scalar type, use `np.float64` here.\n",
      "Deprecated in NumPy 1.20; for more details and guidance: https://numpy.org/devdocs/release/1.20.0-notes.html#deprecations\n",
      "  if not std < np.finfo(np.float).eps:\n",
      "/home/hannahcraddock/anaconda3/envs/hannah_env/lib/python3.9/site-packages/nilearn/signal.py:204: DeprecationWarning: `np.float` is a deprecated alias for the builtin `float`. To silence this warning, use `float` by itself. Doing this will not modify any behavior and is safe. If you specifically wanted the numpy scalar type, use `np.float64` here.\n",
      "Deprecated in NumPy 1.20; for more details and guidance: https://numpy.org/devdocs/release/1.20.0-notes.html#deprecations\n",
      "  if not std < np.finfo(np.float).eps:\n"
     ]
    },
    {
     "name": "stdout",
     "output_type": "stream",
     "text": [
      "\n",
      "Epoch 6: \n",
      "Time Usage:16.766980 | Training Loss 0.054256 | Acc 0.031675\n"
     ]
    },
    {
     "name": "stderr",
     "output_type": "stream",
     "text": [
      "/home/hannahcraddock/anaconda3/envs/hannah_env/lib/python3.9/site-packages/nilearn/signal.py:204: DeprecationWarning: `np.float` is a deprecated alias for the builtin `float`. To silence this warning, use `float` by itself. Doing this will not modify any behavior and is safe. If you specifically wanted the numpy scalar type, use `np.float64` here.\n",
      "Deprecated in NumPy 1.20; for more details and guidance: https://numpy.org/devdocs/release/1.20.0-notes.html#deprecations\n",
      "  if not std < np.finfo(np.float).eps:\n",
      "/home/hannahcraddock/anaconda3/envs/hannah_env/lib/python3.9/site-packages/nilearn/signal.py:204: DeprecationWarning: `np.float` is a deprecated alias for the builtin `float`. To silence this warning, use `float` by itself. Doing this will not modify any behavior and is safe. If you specifically wanted the numpy scalar type, use `np.float64` here.\n",
      "Deprecated in NumPy 1.20; for more details and guidance: https://numpy.org/devdocs/release/1.20.0-notes.html#deprecations\n",
      "  if not std < np.finfo(np.float).eps:\n"
     ]
    },
    {
     "name": "stdout",
     "output_type": "stream",
     "text": [
      "Test Loss 0.054572 | Acc 0.032219\n",
      "Model updated: Best-Acc = 0.032219\n"
     ]
    },
    {
     "name": "stderr",
     "output_type": "stream",
     "text": [
      "/home/hannahcraddock/anaconda3/envs/hannah_env/lib/python3.9/site-packages/nilearn/signal.py:204: DeprecationWarning: `np.float` is a deprecated alias for the builtin `float`. To silence this warning, use `float` by itself. Doing this will not modify any behavior and is safe. If you specifically wanted the numpy scalar type, use `np.float64` here.\n",
      "Deprecated in NumPy 1.20; for more details and guidance: https://numpy.org/devdocs/release/1.20.0-notes.html#deprecations\n",
      "  if not std < np.finfo(np.float).eps:\n",
      "/home/hannahcraddock/anaconda3/envs/hannah_env/lib/python3.9/site-packages/nilearn/signal.py:204: DeprecationWarning: `np.float` is a deprecated alias for the builtin `float`. To silence this warning, use `float` by itself. Doing this will not modify any behavior and is safe. If you specifically wanted the numpy scalar type, use `np.float64` here.\n",
      "Deprecated in NumPy 1.20; for more details and guidance: https://numpy.org/devdocs/release/1.20.0-notes.html#deprecations\n",
      "  if not std < np.finfo(np.float).eps:\n"
     ]
    },
    {
     "name": "stdout",
     "output_type": "stream",
     "text": [
      "\n",
      "Epoch 7: \n",
      "Time Usage:17.184067 | Training Loss 0.054259 | Acc 0.032039\n"
     ]
    },
    {
     "name": "stderr",
     "output_type": "stream",
     "text": [
      "/home/hannahcraddock/anaconda3/envs/hannah_env/lib/python3.9/site-packages/nilearn/signal.py:204: DeprecationWarning: `np.float` is a deprecated alias for the builtin `float`. To silence this warning, use `float` by itself. Doing this will not modify any behavior and is safe. If you specifically wanted the numpy scalar type, use `np.float64` here.\n",
      "Deprecated in NumPy 1.20; for more details and guidance: https://numpy.org/devdocs/release/1.20.0-notes.html#deprecations\n",
      "  if not std < np.finfo(np.float).eps:\n",
      "/home/hannahcraddock/anaconda3/envs/hannah_env/lib/python3.9/site-packages/nilearn/signal.py:204: DeprecationWarning: `np.float` is a deprecated alias for the builtin `float`. To silence this warning, use `float` by itself. Doing this will not modify any behavior and is safe. If you specifically wanted the numpy scalar type, use `np.float64` here.\n",
      "Deprecated in NumPy 1.20; for more details and guidance: https://numpy.org/devdocs/release/1.20.0-notes.html#deprecations\n",
      "  if not std < np.finfo(np.float).eps:\n"
     ]
    },
    {
     "name": "stdout",
     "output_type": "stream",
     "text": [
      "Test Loss 0.054572 | Acc 0.031250\n"
     ]
    },
    {
     "name": "stderr",
     "output_type": "stream",
     "text": [
      "/home/hannahcraddock/anaconda3/envs/hannah_env/lib/python3.9/site-packages/nilearn/signal.py:204: DeprecationWarning: `np.float` is a deprecated alias for the builtin `float`. To silence this warning, use `float` by itself. Doing this will not modify any behavior and is safe. If you specifically wanted the numpy scalar type, use `np.float64` here.\n",
      "Deprecated in NumPy 1.20; for more details and guidance: https://numpy.org/devdocs/release/1.20.0-notes.html#deprecations\n",
      "  if not std < np.finfo(np.float).eps:\n",
      "/home/hannahcraddock/anaconda3/envs/hannah_env/lib/python3.9/site-packages/nilearn/signal.py:204: DeprecationWarning: `np.float` is a deprecated alias for the builtin `float`. To silence this warning, use `float` by itself. Doing this will not modify any behavior and is safe. If you specifically wanted the numpy scalar type, use `np.float64` here.\n",
      "Deprecated in NumPy 1.20; for more details and guidance: https://numpy.org/devdocs/release/1.20.0-notes.html#deprecations\n",
      "  if not std < np.finfo(np.float).eps:\n"
     ]
    },
    {
     "name": "stdout",
     "output_type": "stream",
     "text": [
      "\n",
      "Epoch 8: \n",
      "Time Usage:17.103139 | Training Loss 0.054259 | Acc 0.031068\n"
     ]
    },
    {
     "name": "stderr",
     "output_type": "stream",
     "text": [
      "/home/hannahcraddock/anaconda3/envs/hannah_env/lib/python3.9/site-packages/nilearn/signal.py:204: DeprecationWarning: `np.float` is a deprecated alias for the builtin `float`. To silence this warning, use `float` by itself. Doing this will not modify any behavior and is safe. If you specifically wanted the numpy scalar type, use `np.float64` here.\n",
      "Deprecated in NumPy 1.20; for more details and guidance: https://numpy.org/devdocs/release/1.20.0-notes.html#deprecations\n",
      "  if not std < np.finfo(np.float).eps:\n",
      "/home/hannahcraddock/anaconda3/envs/hannah_env/lib/python3.9/site-packages/nilearn/signal.py:204: DeprecationWarning: `np.float` is a deprecated alias for the builtin `float`. To silence this warning, use `float` by itself. Doing this will not modify any behavior and is safe. If you specifically wanted the numpy scalar type, use `np.float64` here.\n",
      "Deprecated in NumPy 1.20; for more details and guidance: https://numpy.org/devdocs/release/1.20.0-notes.html#deprecations\n",
      "  if not std < np.finfo(np.float).eps:\n"
     ]
    },
    {
     "name": "stdout",
     "output_type": "stream",
     "text": [
      "Test Loss 0.054572 | Acc 0.031008\n"
     ]
    },
    {
     "name": "stderr",
     "output_type": "stream",
     "text": [
      "/home/hannahcraddock/anaconda3/envs/hannah_env/lib/python3.9/site-packages/nilearn/signal.py:204: DeprecationWarning: `np.float` is a deprecated alias for the builtin `float`. To silence this warning, use `float` by itself. Doing this will not modify any behavior and is safe. If you specifically wanted the numpy scalar type, use `np.float64` here.\n",
      "Deprecated in NumPy 1.20; for more details and guidance: https://numpy.org/devdocs/release/1.20.0-notes.html#deprecations\n",
      "  if not std < np.finfo(np.float).eps:\n",
      "/home/hannahcraddock/anaconda3/envs/hannah_env/lib/python3.9/site-packages/nilearn/signal.py:204: DeprecationWarning: `np.float` is a deprecated alias for the builtin `float`. To silence this warning, use `float` by itself. Doing this will not modify any behavior and is safe. If you specifically wanted the numpy scalar type, use `np.float64` here.\n",
      "Deprecated in NumPy 1.20; for more details and guidance: https://numpy.org/devdocs/release/1.20.0-notes.html#deprecations\n",
      "  if not std < np.finfo(np.float).eps:\n"
     ]
    },
    {
     "name": "stdout",
     "output_type": "stream",
     "text": [
      "\n",
      "Epoch 9: \n",
      "Time Usage:17.151060 | Training Loss 0.054260 | Acc 0.031371\n"
     ]
    },
    {
     "name": "stderr",
     "output_type": "stream",
     "text": [
      "/home/hannahcraddock/anaconda3/envs/hannah_env/lib/python3.9/site-packages/nilearn/signal.py:204: DeprecationWarning: `np.float` is a deprecated alias for the builtin `float`. To silence this warning, use `float` by itself. Doing this will not modify any behavior and is safe. If you specifically wanted the numpy scalar type, use `np.float64` here.\n",
      "Deprecated in NumPy 1.20; for more details and guidance: https://numpy.org/devdocs/release/1.20.0-notes.html#deprecations\n",
      "  if not std < np.finfo(np.float).eps:\n",
      "/home/hannahcraddock/anaconda3/envs/hannah_env/lib/python3.9/site-packages/nilearn/signal.py:204: DeprecationWarning: `np.float` is a deprecated alias for the builtin `float`. To silence this warning, use `float` by itself. Doing this will not modify any behavior and is safe. If you specifically wanted the numpy scalar type, use `np.float64` here.\n",
      "Deprecated in NumPy 1.20; for more details and guidance: https://numpy.org/devdocs/release/1.20.0-notes.html#deprecations\n",
      "  if not std < np.finfo(np.float).eps:\n"
     ]
    },
    {
     "name": "stdout",
     "output_type": "stream",
     "text": [
      "Test Loss 0.054572 | Acc 0.030766\n",
      "best testing accuarcy: 0.03221899224806202\n"
     ]
    },
    {
     "data": {
      "image/png": "[encoded data removed]",
      "text/plain": [
       "<Figure size 720x288 with 2 Axes>"
      ]
     },
     "metadata": {
      "needs_background": "light"
     },
     "output_type": "display_data"
    },
    {
     "data": {
      "text/plain": [
       "0.03221899224806202"
      ]
     },
     "execution_count": 28,
     "metadata": {},
     "output_type": "execute_result"
    }
   ],
   "source": [
    "print(f'Block duration = {block_duration}')\n",
    "\n",
    "#CPU\n",
    "device = torch.device(\"cpu\")\n",
    "print(device)\n",
    "\n",
    "#Define model \n",
    "model = FCN(n_regions, n_labels) #time points == x, regions == rows \n",
    "model = model.to(device)\n",
    "print(model)\n",
    "print(\"{} paramters to be trained in the model\\n\".format(count_parameters(model)))\n",
    "optimizer = optim.Adam(model.parameters(), lr=0.001, weight_decay=5e-4)\n",
    "loss_func = nn.CrossEntropyLoss()\n",
    "num_epochs=10\n",
    "adj_mat = 'a'\n",
    "\n",
    "model_fit_evaluate(model, adj_mat, device, train_loader, test_loader, optimizer, loss_func, num_epochs)"
   ]
  },
  {
   "cell_type": "code",
   "execution_count": 22,
   "metadata": {},
   "outputs": [],
   "source": [
    "print('hi')"
   ]
  },
  {
   "cell_type": "markdown",
   "metadata": {},
   "source": [
    "### 2. GCN"
   ]
  },
  {
   "cell_type": "code",
   "execution_count": null,
   "metadata": {},
   "outputs": [],
   "source": [
    "def sparse_mx_to_torch_sparse_tensor(sparse_mx):\n",
    "    \"\"\"Convert a scipy sparse matrix to a torch sparse tensor.\"\"\"\n",
    "    sparse_mx = sparse_mx.tocoo().astype(np.float32)\n",
    "    indices = torch.from_numpy(\n",
    "        np.vstack((sparse_mx.row, sparse_mx.col)).astype(np.int64))\n",
    "    values = torch.from_numpy(sparse_mx.data)\n",
    "    shape = torch.Size(sparse_mx.shape)\n",
    "    return torch.sparse.FloatTensor(indices, values, shape)"
   ]
  },
  {
   "cell_type": "code",
   "execution_count": null,
   "metadata": {},
   "outputs": [],
   "source": [
    "\n",
    "\n",
    "t0 = time.time()\n",
    "adj_mat = sparse_mx_to_torch_sparse_tensor(adj_mat_sp)\n",
    "print(\"Converting from scipy sparse matrix:\")\n",
    "print(adj_mat_sp.indices)\n",
    "print(adj_mat_sp.data)"
   ]
  },
  {
   "cell_type": "code",
   "execution_count": null,
   "metadata": {},
   "outputs": [],
   "source": []
  }
 ],
 "metadata": {
  "kernelspec": {
   "display_name": "Python 3.9.1 64-bit ('hannah_env': conda)",
   "language": "python",
   "name": "python39164bithannahenvcondafb8771df3fc54791aabfa896654bae62"
  },
  "language_info": {
   "codemirror_mode": {
    "name": "ipython",
    "version": 3
   },
   "file_extension": ".py",
   "mimetype": "text/x-python",
   "name": "python",
   "nbconvert_exporter": "python",
   "pygments_lexer": "ipython3",
   "version": "3.9.1"
  }
 },
 "nbformat": 4,
 "nbformat_minor": 4
}
